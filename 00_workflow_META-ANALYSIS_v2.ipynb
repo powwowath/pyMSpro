{
 "cells": [
  {
   "cell_type": "markdown",
   "metadata": {},
   "source": [
    "---\n",
    "## **Single Cell Proteomics Meta-Analysis**\n",
    "### **Author**: Gerard Font\n",
    "**Date:** January 2025<br>\n",
    "**MBDS** - Master Biomedical Data Science\n",
    "\n",
    "Meta-analysis, is a statistical technique that combines and analyzes data from multiple independent studies, which has become increasingly important in the field of single-cell proteomics. By integrating data from different experiments, meta-analysis allows for the identification of robust and reproducible findings, overcoming the limitations of individual studies and providing a more comprehensive view of the biological landscape.\n",
    "\n",
    "The objectives of this thesis are as follows:\n",
    "1. Review and summarize the existing literature on single-cell proteomics and meta-analysis.\n",
    "2. Collect and curate relevant single-cell proteomic datasets from public repositories.\n",
    "3. Develop a comprehensive data analysis pipeline for meta-analysis of single-cell proteomic data.\n",
    "4. Apply the developed pipeline to integrate and analyze the collected datasets.\n",
    "5. Identify differentially expressed proteins, cellular subpopulations, and potential biomarkers.\n",
    "6. Validate the findings through comparison with independent datasets and experimental validation.\n",
    "7. Interpret the results and provide biological insights into the studied biological systems.\n",
    "\n",
    "Through this master thesis, I hope to provide a comprehensive overview of the data analysis techniques employed in single-cell proteomics meta-analysis and demonstrate their utility in uncovering novel biological insights.\n"
   ]
  },
  {
   "cell_type": "markdown",
   "metadata": {},
   "source": [
    "**Cell types**<br><br>\n",
    "The notebook and the meta-analysis are centered on examining experiments that utilize human monocytes and macrophages, specifically focusing on the M0, M1, and M2 phenotypes. These studies are crucial for understanding the functional differentiation and polarization of monocytes into macrophages, which play vital roles in immune response and inflammation. By analyzing the proteomic profiles and comparing the abundance of proteins in these different macrophage states, the research aims to uncover key regulatory mechanisms and potential biomarkers that influence macrophage behavior and their responses to various stimuli. This comprehensive approach provides valuable insights into macrophage biology and their roles in health and disease.\n",
    "\n",
    "* **M0** - Undifferentiated macrophages or monocytes\n",
    "* **M1** - Classically activated macrophages (stimulated with LPS, IFN-γ, etc)\n",
    "* **M2** - Alternatively activated macrophages (stimulated with IL-4, IL-13, etc) \n",
    "<br>"
   ]
  },
  {
   "cell_type": "markdown",
   "metadata": {},
   "source": [
    "---\n",
    "## Introduction and Data Preparation"
   ]
  },
  {
   "cell_type": "markdown",
   "metadata": {},
   "source": [
    "\n",
    "### Import required Libraries\n"
   ]
  },
  {
   "cell_type": "code",
   "execution_count": 1,
   "metadata": {},
   "outputs": [
    {
     "name": "stderr",
     "output_type": "stream",
     "text": [
      "/Users/gerardfont/Documents/Gerard/Master_BiomedicalDataScience/00_Master_THESIS/code/pyMSpro/venv/lib/python3.9/site-packages/urllib3/__init__.py:35: NotOpenSSLWarning: urllib3 v2 only supports OpenSSL 1.1.1+, currently the 'ssl' module is compiled with 'LibreSSL 2.8.3'. See: https://github.com/urllib3/urllib3/issues/3020\n",
      "  warnings.warn(\n",
      "/var/folders/nb/8pkj_syd5t57qn6g_bqjjp440000gn/T/ipykernel_80978/3056926222.py:24: DeprecationWarning: Importing display from IPython.core.display is deprecated since IPython 7.14, please import from IPython display\n",
      "  from IPython.core.display import display, HTML\n"
     ]
    }
   ],
   "source": [
    "# Import pandas\n",
    "import pandas as pd\n",
    "\n",
    "from matplotlib import pyplot as plt\n",
    "import seaborn as sns\n",
    "\n",
    "# Venn diagram\n",
    "from matplotlib_venn import venn3\n",
    "from matplotlib_venn import venn2\n",
    "\n",
    "# Core scverse libraries\n",
    "import scanpy as sc\n",
    "import anndata as ad\n",
    "import numpy as np\n",
    "\n",
    "from scipy.stats import ttest_ind\n",
    "from statsmodels.stats.multitest import multipletests\n",
    "\n",
    "# Gerard's libraries\n",
    "from src.uniprot_client import UniprotClient\n",
    "from src.stringdb_client import StringDBClient\n",
    "\n",
    "from IPython.display import Image, display\n",
    "from IPython.core.display import display, HTML\n",
    "\n",
    "import warnings \n",
    "\n",
    "import gseapy as gp\n",
    "from gseapy import barplot, dotplot\n",
    "from gseapy import enrichment_map\n",
    "\n",
    "import networkx as nx\n",
    "from pyvis.network import Network\n",
    "\n"
   ]
  },
  {
   "cell_type": "markdown",
   "metadata": {},
   "source": [
    "___\n",
    "### Configuration \n",
    "\n",
    "General configuration"
   ]
  },
  {
   "cell_type": "code",
   "execution_count": 2,
   "metadata": {},
   "outputs": [],
   "source": [
    "uniprot = UniprotClient()\n",
    "\n",
    "TRANSLATE_PROTEIN_ID = False     # True to use UniprotKB API to translate all protein ID's. False to use the already translated files stored in uniprot_out folder\n",
    "\n",
    "# Filtering thresholds\n",
    "MIN_NUM_PEPTIDE_THRESHOLD = 2   # Minimum number of peptides required to consider a protein as identified\n",
    "PSM_THRESHOLD = 5               # Minimum number of PSMs required to consider a protein as identified\n",
    "SCORE_THRESHOLD = 1.5           # Minimum score required to consider a protein as identified\n",
    "\n",
    "TOP_GENES = 25                  \n",
    "\n",
    "# Differential Expression Analysis (DEA) Thresholds\n",
    "LOG2_THRESHOLD = 0.5            # Low threshold as the data contains few cells\n",
    "PVAL_THRESHOLD = 0.05\n",
    "COMBINED_SCORE_THRESHOLD = 10\n",
    "\n",
    "warnings.filterwarnings('ignore')"
   ]
  },
  {
   "cell_type": "code",
   "execution_count": 3,
   "metadata": {},
   "outputs": [
    {
     "data": {
      "text/plain": [
       "<Figure size 640x480 with 0 Axes>"
      ]
     },
     "metadata": {},
     "output_type": "display_data"
    }
   ],
   "source": [
    "custom_theme = {\n",
    "    \"axes.facecolor\": \"white\",\n",
    "    \"axes.edgecolor\": \"gray\",\n",
    "    \"axes.spines.left\": True,\n",
    "    \"axes.spines.bottom\": True,\n",
    "    \"axes.spines.right\": False,\n",
    "    \"axes.spines.top\": False,\n",
    "    \"xtick.color\": \"gray\",\n",
    "    \"ytick.color\": \"gray\",\n",
    "    \"xtick.direction\": \"out\",\n",
    "    \"ytick.direction\": \"out\",\n",
    "    \"axes.titlesize\": 9,\n",
    "    \"axes.labelsize\": 8,\n",
    "    \"xtick.labelsize\": 8,\n",
    "    \"ytick.labelsize\": 8,\n",
    "    \"legend.frameon\": True,\n",
    "    \"legend.fontsize\": 7,\n",
    "    \"font.family\": \"sans-serif\", \n",
    "    \"font.serif\": \"Calibri\",\n",
    "    \"legend.title_fontsize\": 8\n",
    "}\n",
    "\"\"\"    \"axes.grid\": True,\n",
    "    \"grid.color\": \".97\",\n",
    "    \"grid.linestyle\": \"-\",\n",
    "\"\"\"\n",
    "\n",
    "# Apply the custom theme\n",
    "sns.set_theme(style=\"ticks\", rc=custom_theme)\n",
    "sns.despine()\n",
    "sns.set_palette([\"#4CC9F0\", \"#4361EE\", \"#3A0CA3\", \"#F72585\", \"#7209B7\", \"#3A0CA3\", \"#4361EE\", \"#4CC9F0\"])\n",
    "\n",
    "# Customize font and palette\n",
    "#sns.set_context(\"notebook\", font_scale=0.9)\n",
    "#sns.set_palette(\"colorblind\")\n",
    "#sns.set_palette(sns.color_palette(\"Paired\"))\n",
    "#sns.set_palette(sns.color_palette(\"rocket\"))\n",
    "#sns.set_palette(sns.color_palette(\"tab10\"))\n",
    "#sns.set_palette(sns.color_palette(\"tab20\"))\n",
    "#sns.set_palette(sns.color_palette(\"Spectral\"))\n",
    "#sns.set_palette(sns.color_palette(\"hls\", 8)\n",
    "\n",
    "# https://r02b.github.io/seaborn_palettes/"
   ]
  },
  {
   "cell_type": "markdown",
   "metadata": {},
   "source": [
    "---\n",
    "### Data Sources\n",
    "\n",
    "The meta-analysis will include the following data sources:\n",
    "\n",
    "* **EXPERIMENT 1:** ./data/processed/2016_Iwata_ncomms12849/**SI_THP_RAW_proteomics_data_ss.xlsx**<br>\n",
    "*Iwata, H., Goettsch, C., Sharma, A., Ricchiuto, P., Goh, W. W. bin, Halu, A., Yamada, I., Yoshida, H., Hara, T., Wei, M., Inoue, N., Fukuda, D., Mojcher, A., Mattson, P. C., Barabási, A. L., Boothby, M., Aikawa, E., Singh, S. A., & Aikawa, M. (2016). PARP9 and PARP14 cross-regulate macrophage activation via STAT1 ADP-ribosylation. Nature Communications 2016 7:1, 7(1), 1–19. https://doi.org/10.1038/ncomms12849*\n",
    "<br><br>\n",
    "* **EXPERIMENT 2:** ./data/processed/2022_Pengfei LI_35557041/**PD_Globalproteomics_2024.xlsx**<br>\n",
    "*Li, P., Ma, C., Li, J., You, S., Dang, L., Wu, J., Hao, Z., Li, J., Zhi, Y., Chen, L., & Sun, S. (2022). Proteomic characterization of four subtypes of M2 macrophages derived from human THP-1 cells. Journal of Zhejiang University. Science. B, 23(5), 407–422. https://doi.org/10.1631/jzus.B2100930*\n",
    "<br><br>\n",
    "* **EXPERIMENT 3:** ./data/processed/2021_Pengfei LI_34267761/**THP1_global_M0_M1_M2_proteins.xlsx**<br>\n",
    "*Li, P., Hao, Z., Wu, J., Ma, C., Xu, Y., Li, J., Lan, R., Zhu, B., Ren, P., Fan, D., & Sun, S. (2021). Comparative Proteomic Analysis of Polarized Human THP-1 and Mouse RAW264.7 Macrophages. Frontiers in Immunology, 12, 700009. https://doi.org/10.3389/FIMMU.2021.700009*\n",
    "<br><br>\n",
    "* **EXPERIMENT 4:** ./data/processed/2022_Huffman/**limmaCorrected_normed_prePCA_Priori_mrri02_PIF50_DART_1pFDR.csv** (metadata: ./data/processed/2022_Huffman/BMDM_pSCoPE_SampleGuide.csv)<br>\n",
    "*Huffman, R. G., Leduc, A., Wichmann, C., di Gioia, M., Borriello, F., Specht, H., Derks, J., Khan, S., Khoury, L., Emmott, E., Petelski, A. A., Perlman, D. H., Cox, J., Zanoni, I., & Slavov, N. (2023). Prioritized mass spectrometry increases the depth, sensitivity and data completeness of single-cell proteomics. Nature Methods 2023 20:5, 20(5), 714–722. https://doi.org/10.1038/s41592-023-01830-1*\n",
    "<br><br>\n"
   ]
  },
  {
   "cell_type": "code",
   "execution_count": 4,
   "metadata": {},
   "outputs": [],
   "source": [
    "# Paths to each of the data sources\n",
    "path_2016_iwata = \"./data/processed/2016_Iwata_ncomms12849/SI_THP_RAW_proteomics_data_ss.xlsx\"\n",
    "path_2022_pengfei = \"./data/processed/2022_Pengfei LI_35557041/PD_Globalproteomics_2024.xlsx\"\n",
    "path_2021_pengfei = \"./data/processed/2021_Pengfei LI_34267761/THP1_global_M0_M1_M2_proteins.xlsx\"\n",
    "path_2022_huffman = \"./data/processed/2022_Huffman/limmaCorrected_normed_prePCA_Priori_mrri02_PIF50_DART_1pFDR.csv\"\n",
    "path_2022_huffman_meta = \"./data/processed/2022_Huffman/BMDM_pSCoPE_SampleGuide.csv\" "
   ]
  },
  {
   "cell_type": "markdown",
   "metadata": {},
   "source": [
    "---\n",
    "### Meta-analysis objectives\n",
    "As part of the meta-analysis, several data analysis activities will be performed (detailed in the following table). These activities include quantitative proteomic profiling, differential expression analysis and pathway analysis. It is important to note that due to limitations in some of the data sources, not all activities may be available for every dataset. The analysis will be adapted accordingly to ensure the most comprehensive and accurate interpretation possible given the available data.\n",
    "\n",
    "✅ **Available**<br>\n",
    "🔰 **Partially available**<br>\n",
    "❌ **Not available**<br><br>\n",
    "\n",
    "<table style=\"text-align: center;\">\n",
    "  <tr style=\"background-color: #cccccc;\">\n",
    "    <th>Study</th>\n",
    "    <th>Type*</th>\n",
    "    <th>Method*</th>\n",
    "    <th>Quantitative proteomic<br>profiling</th>\n",
    "    <th>Differential Expression<br>Analysis</th>\n",
    "    <th>Pathway Analysis</th>\n",
    "  </tr>\n",
    "  <tr>\n",
    "    <td style=\"background-color: #efefef; text-align: left\"><a href=\"https://www.nature.com/articles/ncomms12849\" target=\"_blank\">Iwata, H., et al. (2016)</a></td>\n",
    "    <td style=\"background-color: #efefef;\">Bulk</td>\n",
    "    <td>DDA</td>\n",
    "    <td>✅</td>\n",
    "    <td>✅</td>\n",
    "    <td>✅</td>\n",
    "  </tr>\n",
    "  <tr>\n",
    "    <td style=\"background-color: #efefef; text-align: left\"><a href=\"https://link.springer.com/article/10.1631/jzus.B2100930\" target=\"_blank\">Li, P., et al. (2022)</a></td>\n",
    "    <td style=\"background-color: #efefef;\">Bulk</td>\n",
    "    <td>DDA</td>\n",
    "    <td>✅</td>\n",
    "    <td>✅</td>\n",
    "    <td>✅</td>\n",
    "  </tr>\n",
    "  <tr>\n",
    "    <td style=\"background-color: #efefef; text-align: left\"><a href=\"https://pubmed.ncbi.nlm.nih.gov/34267761/\" target=\"_blank\">Li, P., et al. (2021)</a></td>\n",
    "    <td style=\"background-color: #efefef;\">Bulk</td>\n",
    "    <td>DDA</td>\n",
    "    <td>✅</td>\n",
    "    <td>✅</td>\n",
    "    <td>✅</td>\n",
    "  </tr>\n",
    "\n",
    "  <tr>\n",
    "    <td style=\"background-color: #efefef; text-align: left\"><a href=\"https://www.nature.com/articles/s41592-023-01830-1\" target=\"_blank\">Huffman, R. G., et al. (2022)</a></td>\n",
    "    <td style=\"background-color: #efefef;\">Single Cell</td>\n",
    "    <td>DIA</td>\n",
    "    <td>🔰</td>\n",
    "    <td>✅</td>\n",
    "    <td>✅</td>\n",
    "  </tr>    \n",
    "</table>\n",
    "\n",
    "\\**Bulk studies present in this table used cell lines and averaged the abundances of iditified proteins*\n",
    "<br><br>\n",
    "\n",
    "**Goals:**\n",
    "1. Distinct Phenotypic Profiles: Understanding the unique protein profiles associated with each polarization state.\n",
    "2. Shared and Unique Pathways: Pinpointing common and specific pathways that characterize different macrophage phenotypes.\n",
    "<br><br><br>\n",
    "\n",
    "**1. Top 20 Up/Down represented proteins in M1 & M2 vs M0   <->  Differential Protein Expression**\n",
    "* Pairwise Comparisons: Compare M0 vs. M1, M0 vs. M2, and M1 vs. M2 to identify proteins that are upregulated or downregulated in specific polarization states.\n",
    "* Fold Change Analysis: Quantify the magnitude of changes in protein expression.\n",
    "* Statistical Significance: Assess the significance of changes using statistical tests like t-tests or ANOVA.\n",
    "\n",
    "<span style=\"color:red\">\n",
    "Ideas:<br>\n",
    "&#160;&#160;&#160;- Barplot with proteins found in M0, M1 and M2 (per study)<br>\n",
    "&#160;&#160;&#160;- 2x Dendograms with top over/down represented proteins of M1 and M2 vs M0  (per study)<br>\n",
    "&#160;&#160;&#160;- Comparison: top up/down repr. proteins found in only some of the experiments<br>\n",
    "</span>\n",
    "\n",
    "**2. Pathway Analysis (GSEA)   <->   Functional Enrichment Analysis**\n",
    "* Gene Ontology (GO) Enrichment: Identify biological processes, molecular functions, and cellular components that are enriched in differentially expressed proteins.\n",
    "* Pathway Analysis: Determine which signaling pathways are activated or inhibited in different polarization states.\n",
    "* Protein-Protein Interaction Network Analysis: Visualize the interactions between differentially expressed proteins to identify key regulatory hubs."
   ]
  },
  {
   "cell_type": "markdown",
   "metadata": {},
   "source": [
    "---\n",
    "### Load the Data"
   ]
  },
  {
   "cell_type": "code",
   "execution_count": 5,
   "metadata": {},
   "outputs": [],
   "source": [
    "# EXPERIMENT 1 -----------------------------------------------------------------------------------------------------------\n",
    "# Load the data from different sheets\n",
    "df_2016_iwata_M0 = pd.read_excel(path_2016_iwata, sheet_name=\"THP_M0\", index_col=0) # Index = Accession\n",
    "df_2016_iwata_M1 = pd.read_excel(path_2016_iwata, sheet_name=\"THP_M1\", index_col=0) \n",
    "df_2016_iwata_M2 = pd.read_excel(path_2016_iwata, sheet_name=\"THP_M2\", index_col=0) \n",
    "\n",
    "# Merge the three datasets -----------------------------------------------------------------------------------------------\n",
    "df_2016_iwata = pd.concat([df_2016_iwata_M0, df_2016_iwata_M1, df_2016_iwata_M2], keys=[\"M0\", \"M1\", \"M2\"], names=[\"Type\"])\n",
    "df_2016_iwata = df_2016_iwata.reset_index(level=0).rename(columns={\"level_0\": \"Type\"})\n",
    "\n",
    "# EXPERIMENT 2 -----------------------------------------------------------------------------------------------------------\n",
    "df_2022_pengfei = pd.read_excel(path_2022_pengfei, sheet_name=\"Proteins\", index_col=2) # Index = Accession\n",
    "\n",
    "# EXPERIMENT 3 -----------------------------------------------------------------------------------------------------------\n",
    "df_2021_pengfei = pd.read_excel(path_2021_pengfei, sheet_name=\"Proteins\", index_col=5) # Index = Accession\n",
    "\n",
    "# EXPERIMENT 4 -----------------------------------------------------------------------------------------------------------\n",
    "df_huffman = pd.read_csv(path_2022_huffman, index_col=0)\n",
    "df_huffman_meta = pd.read_csv(path_2022_huffman_meta, index_col=0)\n",
    "\n",
    "# Create an AnnData object\n",
    "data = df_huffman.T\n",
    "df_huffman_adata = ad.AnnData(data.astype(np.float32))\n",
    "\n",
    "# Adding metadata\n",
    "anno = df_huffman_meta\n",
    "ids = anno.index\n",
    "anno = anno.T\n",
    "celltypes = anno.iloc[2]\n",
    "\n",
    "# New obs with the cell type\n",
    "df_huffman_adata.obs['celltype'] = celltypes\n",
    "\n",
    "# Map the cell type to the AnnData object\n",
    "celltype_dict = dict(zip(ids, celltypes))\n",
    "df_huffman_adata.obs['celltype'] = df_huffman_adata.obs.index.map(celltype_dict)\n",
    "                              "
   ]
  },
  {
   "cell_type": "code",
   "execution_count": 6,
   "metadata": {},
   "outputs": [],
   "source": [
    "# Grouping M2x types to M2 for Experiment2 by averaging\n",
    "groupM2 = ['Abundances (Grouped): M2a', 'Abundances (Grouped): M2b', 'Abundances (Grouped): M2c', 'Abundances (Grouped): M2d']\n",
    "df_2022_pengfei[\"Abundances (Grouped): M2\"] = df_2022_pengfei[groupM2].mean(axis=1)\n",
    "\n",
    "groupM2 = ['Abundance Ratio: (M2a) / (M1)', 'Abundance Ratio: (M2b) / (M1)', 'Abundance Ratio: (M2c) / (M1)', 'Abundance Ratio: (M2d) / (M1)']\n",
    "df_2022_pengfei[\"Abundance Ratio: (M2) / (M1)\"] = df_2022_pengfei[groupM2].mean(axis=1)\n",
    "groupM2 = ['Abundance Ratio: (M2a) / (M0)', 'Abundance Ratio: (M2b) / (M0)', 'Abundance Ratio: (M2c) / (M0)', 'Abundance Ratio: (M2d) / (M0)']\n",
    "df_2022_pengfei[\"Abundance Ratio: (M2) / (M0)\"] = df_2022_pengfei[groupM2].mean(axis=1)\n",
    "\n",
    "df_2022_pengfei[\"Abundance Ratio: (M1) / (M0)\"] = df_2022_pengfei[\"Abundance Ratio: (M2) / (M0)\"] / df_2022_pengfei[\"Abundance Ratio: (M2) / (M1)\"]\n"
   ]
  },
  {
   "cell_type": "markdown",
   "metadata": {},
   "source": [
    "---\n",
    "### Dataset formats\n",
    "Each of the files/experiments prepared a specific format that require to be adapted to make it comparable with other datasetes. These are the different formats used in the meta-analysis:\n",
    "\n",
    "\n",
    "**EXPERIMENT 1: *SI_THP_RAW_proteomics_data_ss.xlsx***\n",
    "* **Accession:** This is a unique identifier assigned to a protein, often from databases like UniProt or RefSeq.\n",
    "* **Description:** A brief description of the protein's function or characteristics.\n",
    "* **Score:** A numerical value representing the confidence level of the protein identification. Higher scores indicate more reliable identifications.\n",
    "* **Coverage:** The percentage of the protein's amino acid sequence that has been covered by identified peptides.\n",
    "* **#Proteins:** The number of proteins associated with the identified peptides.\n",
    "* **#Unique Peptides:** The number of distinct peptide sequences identified.\n",
    "* **#Peptides:** The total number of peptides identified, including duplicates.\n",
    "* **#PSMs:** The number of Peptide Spectrum Matches, which represent the number of times a peptide sequence has been identified in the mass spectra.\n",
    "* **126/126 Count:** Counts at moment 0hr\n",
    "* **127/126 Count:** Counts at moment 8hr\n",
    "* **128/126 Count:** Counts at moment 12hr\n",
    "* **129/126 Count:** Counts at moment 24hr\n",
    "* **130/126 Count:** Counts at moment 48hr\n",
    "* **131/126 Count:** Counts at moment 72hr   <span style=\"color:red\"><--   We take this one as a reference (fig 3. https://pmc.ncbi.nlm.nih.gov/articles/PMC7839219/)</span>\n",
    "\n",
    "Additional information: https://www.biotech.iastate.edu/wp_biotech/wp-content/uploads/2023/07/ProteomeDiscovererInstructions.pdf\n",
    "<br><br>\n",
    "\n",
    "**EXPERIMENT 2: *PD_Globalprotomics_2024.xlsx***\n",
    "\n",
    "* **Protein FDR Confidence: Combined**: Reflects the level of confidence in the identification of each protein\n",
    "* **Master**: A unique identifier assigned to each protein group.\n",
    "* **Accession**: A database accession number (e.g., UniProt) for the protein.\n",
    "* **Description**: A textual description of the protein's function and characteristics.\n",
    "* **Sum PEP Score**: The sum of peptide-spectrum match (PSM) scores, indicating overall confidence in protein identification.\n",
    "* **# Peptides**: The number of peptides identified for the protein.\n",
    "* **# PSMs**: The total number of PSMs for the protein.\n",
    "* **# Protein Unique Peptides**: The number of peptides uniquely assigned to this protein.\n",
    "* **# Unique Peptides**: The total number of unique peptides identified.\n",
    "* **# AAs**: The number of amino acids in the protein sequence.\n",
    "* **MW [kDa]**: The molecular weight of the protein in kilodaltons.\n",
    "* **Score Sequest HT: Sequest HT**: The score assigned by the Sequest HT search engine for the protein identification.\n",
    "* **# Razor Peptides**: The number of peptides uniquely assigned to this protein group, helping to distinguish it from other similar proteins.\n",
    "* *Quantitative Proteomics Data*\n",
    "    * **Abundance Ratio**: These columns represent the relative abundance of a protein in different experimental conditions (e.g., M0, M1, M2a, M2b, M2c, M2d). The ratios are calculated by dividing the abundance of a protein in one condition by the abundance in another condition.\n",
    "    * **Abundances (Grouped)**: These columns represent the absolute or normalized abundance of a protein in each experimental group.\n",
    "    * **Abundances (Normalized)**: These columns represent the normalized abundance of a protein in each individual sample (F1-F18). Normalization is a process to account for experimental variability and ensure accurate comparison of protein abundance across samples.\n",
    "* **Modifications**: This column indicates any post-translational modifications (PTMs) identified on the protein, such as phosphorylation or acetylation.\n",
    "\n",
    "<br><br>\n",
    "**EXPERIMENT 3: *THP1_global_M0_M1_M2_proteins.xlsx***\n",
    "* **Checked:** Indicates whether the protein identification was manually checked.\n",
    "* **Protein FDR Confidence:** False Discovery Rate (FDR) confidence level for the protein identification.\n",
    "* **Combined:** Indicates whether the protein identification is based on a combination of different search engines or data sources.\n",
    "* **Master Unique Sequence ID:** A unique identifier assigned to the master protein.\n",
    "* **Protein Group IDs:** Identifiers for protein groups, which can include isoforms or related proteins.\n",
    "* **Accession:** Accession number from a protein database (e.g., UniProt).\n",
    "* **Description:** Brief description of the protein function.\n",
    "* **FASTA Title Lines:** The FASTA header line corresponding to the protein sequence.\n",
    "* **Exp. q-value: Combined:** The q-value (FDR-adjusted p-value) for the protein identification.\n",
    "* **Sum PEP Score:** The summed peptide expectation score for the protein.\n",
    "* **# Decoy Protein: Combined:** The number of decoy proteins identified in the analysis.\n",
    "* **Coverage [%]:** The percentage of the protein sequence covered by identified peptides.\n",
    "* **# Peptides:** The number of peptides identified for the protein.\n",
    "* **# PSMs:** The number of peptide spectrum matches (PSMs) identified.\n",
    "* **# Protein Unique Peptides:** The number of peptides unique to the protein.\n",
    "* **# Unique Peptides:** The number of unique peptide sequences identified.\n",
    "* **# AAs:** The number of amino acids in the protein sequence.\n",
    "* **MW [kDa]:** The molecular weight of the protein in kilodaltons.\n",
    "* **calc. pI:** The calculated isoelectric point of the protein.\n",
    "* **Score Sequest HT:** The score assigned by the Sequest HT search engine.\n",
    "* **Coverage [%] (by Search Engine): Sequest HT:** The coverage by Sequest HT.\n",
    "* **# PSMs (by Search Engine): Sequest HT:** The number of PSMs identified by Sequest HT.\n",
    "* **# Peptides (by Search Engine): Sequest HT:** The number of peptides identified by Sequest HT.\n",
    "* **# Razor Peptides:** The number of razor peptides, which are uniquely assigned to a single protein group.\n",
    "* Quantitative Data:\n",
    "    * **Abundance Ratio: (M1) / (M0):** The ratio of protein abundance between two conditions (M1 and M0).\n",
    "    * **Abundance Ratio (log2): (M1) / (M0):** The log2-transformed abundance ratio.\n",
    "    * **Abundance Ratio P-Value:** The p-value for the difference in abundance between the two conditions.\n",
    "    * **Abundance Ratio Adj. P-Value:** The adjusted p-value for the abundance ratio.\n",
    "    * **Abundance Ratio Variability [%]:** The variability in the abundance ratio.\n",
    "    * **Abundance Ratio Weight:** The weight assigned to the abundance ratio.\n",
    "    * **Abundances (Grouped): M0, M1, M2:** The grouped abundance values for each condition.\n",
    "    * **Abundances (Grouped) CV [%]:** The coefficient of variation for the grouped abundance values.\n",
    "    * **Abundances (Grouped) Count:** The number of replicates for each condition.\n",
    "    * **Abundances (Scaled):** The scaled abundance values for each sample.\n",
    "    * **Abundances (Normalized):** The normalized abundance values for each sample.\n",
    "    * **Abundance:** The absolute abundance value for each sample.\n",
    "    * **Abundances Count:** The number of replicates for each sample.\n",
    "* Sample Information:  <span style=\"color:red\"><-- TODO: Review </span>\n",
    "    * **Found in File:** The file where the protein was identified.\n",
    "    * **Found in Sample:** The sample name where the protein was identified.\n",
    "    * **Found in Sample Group:** The sample group where the protein was identified.\n",
    "    * **# Protein Groups:** The number of protein groups identified in the sample.\n",
    "    * **Modifications:** Any identified post-translational modifications on the protein.\n",
    "\n",
    "<br><br>\n",
    "**EXPERIMENT 4: *limmaCorrected_normed_prePCA_Priori_mrri02_PIF50_DART_1pFDR.csv***  and its metadata,  *BMDM_pSCoPE_SampleGuide.csv*<br>\n",
    "*Source-code: https://github.com/SlavovLab/pSCoPE*<br>\n",
    "\n",
    "* **Processed data (proteins)**: Intensity matrix where each row represents an identified protein and each column a single cell.<br>\n",
    "The final intensity matrix contains log2-transformed and normalized quantitation values for peptides or proteins across different single cell runs. Each row represents a peptide or protein, and each column represents a single cell or experimental run.\n",
    "\n",
    "* **Metadata**. The relevant fields for this meta-analysis are\n",
    "    * **id:** Cell id\n",
    "    * **celltype:** Cell type (\"LPS\" for M1 macrophage, \"untreated\" for monocyte)\n",
    "\n",
    "<br><br>\n",
    "📌 **How to interpret the intensity matrix**\n",
    "* **Quantitation Values:** The values in the intensity matrix represent the quantitation of peptides or proteins. These values are derived from the intensity of TMT Reporter Ions, which are used to label and quantify peptides in mass spectrometry experiments.\n",
    "* **Log2 Transformation:** The quantitation values are log2-transformed to stabilize variance and make the data more normally distributed. This transformation helps in comparing fold changes and reduces the impact of extreme values.\n",
    "* **Normalization:** The values are normalized to account for systematic variations between different experimental runs. This ensures that the quantitation values are comparable across different samples.\n",
    "* **Imputation:** Missing values in the data are replaced with estimated values using k-nearest neighbors imputation. This step ensures that the dataset is complete and can be used for further analysis.\n",
    "* **Batch Correction:** The data is corrected for batch effects using the ComBat function, which removes systematic biases introduced by different experimental batches.\n",
    "<br><br><br>\n",
    "Interpretation of Negative Values:<br><br>\n",
    "* **Relative Quantitation**: After log2 transformation, the values in the intensity matrix represent the relative quantitation levels of peptides or proteins. A log2-transformed value of 0 indicates that the quantitation level is equal to the reference level (e.g., the normalization channel or median value).\n",
    "* **Negative Values**: Negative values indicate that the quantitation level of a peptide or protein is lower than the reference level. For example, a log2-transformed value of -1 means that the quantitation level is half of the reference level (( \\log_2(0.5) = -1 )).\n",
    "* **Biological Significance**: In the context of single-cell proteomics, negative values can indicate lower expression levels of certain proteins in specific cells compared to the reference or median expression level. This can be important for identifying proteins that are downregulated in certain conditions or cell types.\n",
    "\n",
    "Filters:\n",
    "* Remove peptides that are more the 10% the intensity of the carrier in the single cell runs (only)"
   ]
  },
  {
   "cell_type": "markdown",
   "metadata": {},
   "source": [
    "---\n",
    "### Exploratory Data Analysis\n",
    "Initial exploration of the datasets to understand the structure of the datasets, identify missing values, outliers, patterns,...\n"
   ]
  },
  {
   "cell_type": "code",
   "execution_count": 7,
   "metadata": {},
   "outputs": [
    {
     "name": "stdout",
     "output_type": "stream",
     "text": [
      "  Iwata, H., et al. (2016): (19247, 29) -> Note that some proteins are duplicated as they are present in multiple cell types\n",
      "  Li, P., et al. (2022): (6616, 61)\n",
      "  Li, P., et al. (2021): (7349, 109)\n",
      "  Huffman, R. G., et al. (2022): (373, 1123) -> The second dimension is the number of proteins\n"
     ]
    }
   ],
   "source": [
    "# Dimensions of the datasets\n",
    "print(\"  Iwata, H., et al. (2016):\", df_2016_iwata.shape,\"-> Note that some proteins are duplicated as they are present in multiple cell types\")\n",
    "print(\"  Li, P., et al. (2022):\", df_2022_pengfei.shape)\n",
    "print(\"  Li, P., et al. (2021):\", df_2021_pengfei.shape)\n",
    "print(\"  Huffman, R. G., et al. (2022):\", df_huffman_adata.shape,\"-> The second dimension is the number of proteins\")   "
   ]
  },
  {
   "cell_type": "code",
   "execution_count": 8,
   "metadata": {},
   "outputs": [
    {
     "name": "stdout",
     "output_type": "stream",
     "text": [
      "  Unique proteins present in Iwata, H., et al. (2016): 9048\n",
      "  Unique proteins present in Li, P., et al. (2022): 6616\n",
      "  Unique proteins present in Li, P., et al. (2021): 7349\n",
      "  Unique proteins present in Huffman, R. G., et al. (2022): 1123\n"
     ]
    }
   ],
   "source": [
    "# Unique proteins found in each dataest\n",
    "print(\"  Unique proteins present in Iwata, H., et al. (2016):\", df_2016_iwata.index.nunique())\n",
    "print(\"  Unique proteins present in Li, P., et al. (2022):\", df_2022_pengfei.index.nunique())\n",
    "print(\"  Unique proteins present in Li, P., et al. (2021):\", df_2021_pengfei.index.nunique())\n",
    "print(\"  Unique proteins present in Huffman, R. G., et al. (2022):\", df_huffman_adata.var.index.nunique())"
   ]
  },
  {
   "cell_type": "code",
   "execution_count": 9,
   "metadata": {},
   "outputs": [
    {
     "data": {
      "image/png": "[encoded data removed]",
      "text/plain": [
       "<Figure size 1200x400 with 3 Axes>"
      ]
     },
     "metadata": {},
     "output_type": "display_data"
    }
   ],
   "source": [
    "# Distribution of # PSMs for each dataset for exp1, exp2, exp3. \n",
    "fig, ax = plt.subplots(1, 3, figsize=(12, 4))\n",
    "sns.histplot(df_2016_iwata[\"# PSMs\"], log_scale=True, ax=ax[0])\n",
    "sns.histplot(df_2022_pengfei[\"# PSMs\"], log_scale=True, ax=ax[1])\n",
    "sns.histplot(df_2021_pengfei[\"# PSMs\"], log_scale=True, ax=ax[2])\n",
    "ax[0].set_title(\"Distribution of #PSMs in the Iwata, H., et al. (2016) dataset\\n\")\n",
    "ax[1].set_title(\"Distribution of #PSMs in the Li, P., et al. (2022) dataset\\n\")\n",
    "ax[2].set_title(\"Distribution of #PSMs in the Li, P., et al. (2021) dataset\\n\")\n",
    "ax[0].set_xlim([0, 5000])\n",
    "ax[0].set_ylim([0, 3200])\n",
    "ax[1].set_xlim([0, 5000])\n",
    "ax[1].set_ylim([0, 3200])\n",
    "ax[2].set_xlim([0, 5000])\n",
    "ax[2].set_ylim([0, 3200])\n",
    "ax[0].set_ylabel(\"Count of Proteins\")\n",
    "ax[1].set_ylabel(\"Count of Proteins\")\n",
    "ax[2].set_ylabel(\"Count of Proteins\")\n",
    "ax[0].set_xlabel(\"log(#PSMs)\")\n",
    "ax[1].set_xlabel(\"log(#PSMs)\")\n",
    "ax[2].set_xlabel(\"log(#PSMs)\")\n",
    "plt.tight_layout()\n",
    "plt.show()\n",
    "\n"
   ]
  },
  {
   "cell_type": "code",
   "execution_count": 10,
   "metadata": {},
   "outputs": [
    {
     "name": "stdout",
     "output_type": "stream",
     "text": [
      "Null values in the datasets\n",
      "  Iwata, H., et al. (2016): 22357\n",
      "  Li, P., et al. (2022): 60369\n",
      "  Li, P., et al. (2021): 106631\n",
      "  Huffman, R. G., et al. (2022): 0\n"
     ]
    }
   ],
   "source": [
    "# check null values\n",
    "print(\"Null values in the datasets\")\n",
    "print(\"  Iwata, H., et al. (2016):\", df_2016_iwata.isnull().sum().sum())\n",
    "print(\"  Li, P., et al. (2022):\", df_2022_pengfei.isnull().sum().sum())\n",
    "print(\"  Li, P., et al. (2021):\", df_2021_pengfei.isnull().sum().sum())\n",
    "print(\"  Huffman, R. G., et al. (2022):\", np.isnan(df_huffman_adata.X).sum())\n"
   ]
  },
  {
   "cell_type": "code",
   "execution_count": 11,
   "metadata": {},
   "outputs": [
    {
     "data": {
      "image/png": "[encoded data removed]",
      "text/plain": [
       "<Figure size 1200x500 with 3 Axes>"
      ]
     },
     "metadata": {},
     "output_type": "display_data"
    }
   ],
   "source": [
    "# Boxplot of the # Peptides for each dataset\n",
    "fig, ax = plt.subplots(1, 3, figsize=(12, 5))\n",
    "sns.boxplot(data=df_2016_iwata, x=\"Type\", y=\"# Peptides\", ax=ax[0], log_scale=True)\n",
    "sns.boxplot(data=df_2022_pengfei, y=\"# Peptides\", ax=ax[1], log_scale=True)\n",
    "sns.boxplot(data=df_2021_pengfei, y=\"# Peptides\", ax=ax[2], log_scale=True)\n",
    "ax[0].set_title(\"Distribution of # Peptides in the Iwata, H., et al. (2016) dataset\")\n",
    "ax[1].set_title(\"Distribution of # Peptides in the Li, P., et al. (2022) dataset\")\n",
    "ax[2].set_title(\"Distribution of # Peptides in the Li, P., et al. (2021) dataset\")\n",
    "\n",
    "for a in ax:\n",
    "    a.axhline(y=MIN_NUM_PEPTIDE_THRESHOLD, color='r', linestyle='--')\n",
    "    a.set_ylim([0, 1000])\n",
    "    \n",
    "plt.tight_layout()\n",
    "plt.show()\n",
    "\n"
   ]
  },
  {
   "cell_type": "code",
   "execution_count": 12,
   "metadata": {},
   "outputs": [
    {
     "data": {
      "image/png": "[encoded data removed]",
      "text/plain": [
       "<Figure size 1200x500 with 3 Axes>"
      ]
     },
     "metadata": {},
     "output_type": "display_data"
    }
   ],
   "source": [
    "# same with violin plots\n",
    "fig, ax = plt.subplots(1, 3, figsize=(12, 5))\n",
    "sns.violinplot(data=df_2016_iwata, x=\"Type\", y=\"# Peptides\", ax=ax[0], log_scale=True, alpha=0.3)\n",
    "sns.violinplot(data=df_2022_pengfei, y=\"# Peptides\", ax=ax[1], log_scale=True, alpha=0.3)\n",
    "sns.violinplot(data=df_2021_pengfei, y=\"# Peptides\", ax=ax[2], log_scale=True, alpha=0.3)\n",
    "ax[0].set_title(\"Distribution of # Peptides in the Iwata, H., et al. (2016) dataset\")\n",
    "ax[1].set_title(\"Distribution of # Peptides in the Li, P., et al. (2022) dataset\")\n",
    "ax[2].set_title(\"Distribution of # Peptides in the Li, P., et al. (2021) dataset\")\n",
    "# Add a horizontal line at the threshold\n",
    "for a in ax:\n",
    "    a.axhline(y=MIN_NUM_PEPTIDE_THRESHOLD, color='r', linestyle='--')\n",
    "    a.set_ylim([0, 1000])\n",
    "\n",
    "plt.tight_layout()\n",
    "plt.show()\n",
    "\n"
   ]
  },
  {
   "cell_type": "markdown",
   "metadata": {},
   "source": [
    "Figure x. Distribution of Peptides in the three different datasets usign logaritmic scale. The red dashed line denotes a reference threshold across all plots"
   ]
  },
  {
   "cell_type": "code",
   "execution_count": 13,
   "metadata": {},
   "outputs": [
    {
     "name": "stdout",
     "output_type": "stream",
     "text": [
      "Percentage of proteins with less than 2 peptides:\n",
      "  Iwata, H., et al. (2016): 20.85%\n",
      "  Li, P., et al. (2022): 15.42%\n",
      "  Li, P., et al. (2021): 20.70%\n"
     ]
    }
   ],
   "source": [
    "print(f\"Percentage of proteins with less than {MIN_NUM_PEPTIDE_THRESHOLD} peptides:\")\n",
    "\n",
    "pct_iwata = (df_2016_iwata[\"# Peptides\"] < MIN_NUM_PEPTIDE_THRESHOLD).sum() / df_2016_iwata.shape[0] * 100\n",
    "print(f\"  Iwata, H., et al. (2016): {pct_iwata:.2f}%\")\n",
    "pct_pengfei = (df_2022_pengfei[\"# Peptides\"] < MIN_NUM_PEPTIDE_THRESHOLD).sum() / df_2022_pengfei.shape[0] * 100\n",
    "print(f\"  Li, P., et al. (2022): {pct_pengfei:.2f}%\")\n",
    "pct_pengfei = (df_2021_pengfei[\"# Peptides\"] < MIN_NUM_PEPTIDE_THRESHOLD).sum() / df_2021_pengfei.shape[0] * 100\n",
    "print(f\"  Li, P., et al. (2021): {pct_pengfei:.2f}%\")"
   ]
  },
  {
   "cell_type": "code",
   "execution_count": 14,
   "metadata": {},
   "outputs": [
    {
     "name": "stdout",
     "output_type": "stream",
     "text": [
      "              Score      Coverage    # Proteins  # Unique Peptides  \\\n",
      "count  19247.000000  19247.000000  19247.000000       19247.000000   \n",
      "mean      57.958304     19.276302      4.564919           6.064322   \n",
      "std      140.107779     16.891390      4.696807           8.228747   \n",
      "min        0.000000      0.050000      1.000000           0.000000   \n",
      "25%        5.487738      6.200000      2.000000           2.000000   \n",
      "50%       18.139427     14.090000      3.000000           4.000000   \n",
      "75%       56.796837     27.740000      6.000000           8.000000   \n",
      "max     3747.075588     95.900000    152.000000         327.000000   \n",
      "\n",
      "         # Peptides        # PSMs  126/126  126/126 Count  \\\n",
      "count  19247.000000  19247.000000  19201.0   19201.000000   \n",
      "mean       6.859355     22.705720      1.0      17.666892   \n",
      "std        9.116540     54.949409      0.0      38.584949   \n",
      "min        1.000000      1.000000      1.0       1.000000   \n",
      "25%        2.000000      2.000000      1.0       2.000000   \n",
      "50%        4.000000      7.000000      1.0       6.000000   \n",
      "75%        9.000000     22.000000      1.0      18.000000   \n",
      "max      330.000000   1564.000000      1.0    1136.000000   \n",
      "\n",
      "       126/126 Variability [%]       127/126  ...  129/126 Variability [%]  \\\n",
      "count                  15615.0  19201.000000  ...             15614.000000   \n",
      "mean                       0.0      1.036680  ...                23.288150   \n",
      "std                        0.0      0.264589  ...                18.591552   \n",
      "min                        0.0      0.102414  ...                 0.002681   \n",
      "25%                        0.0      0.907470  ...                12.489774   \n",
      "50%                        0.0      1.000070  ...                19.421346   \n",
      "75%                        0.0      1.118928  ...                30.050328   \n",
      "max                        0.0     16.087946  ...               865.694109   \n",
      "\n",
      "            130/126  130/126 Count  130/126 Variability [%]       131/126  \\\n",
      "count  19199.000000   19199.000000             15612.000000  19201.000000   \n",
      "mean       1.074788      17.659149                42.584648      1.064338   \n",
      "std        0.461418      38.551881                34.411114      0.420903   \n",
      "min        0.016272       1.000000                 0.039120      0.117215   \n",
      "25%        0.835828       2.000000                20.092616      0.866901   \n",
      "50%        0.999678       6.000000                33.560649      1.000211   \n",
      "75%        1.200886      18.000000                54.988082      1.167479   \n",
      "max       12.789521    1136.000000               762.068902     14.653407   \n",
      "\n",
      "       131/126 Count  131/126 Variability [%]         # AAs      MW [kDa]  \\\n",
      "count   19201.000000             15612.000000  19247.000000  19247.000000   \n",
      "mean       17.662309                29.395476    583.099184     65.181469   \n",
      "std        38.575057                29.149107    694.398316     77.107714   \n",
      "min         1.000000                 0.001308     16.000000      1.984061   \n",
      "25%         2.000000                11.469781    242.000000     27.065314   \n",
      "50%         6.000000                18.913168    418.000000     46.833692   \n",
      "75%        18.000000                38.433792    718.000000     80.502638   \n",
      "max      1136.000000              1204.988365  33423.000000   3711.285507   \n",
      "\n",
      "           calc. pI  \n",
      "count  19247.000000  \n",
      "mean       7.173902  \n",
      "std        1.577163  \n",
      "min        3.662598  \n",
      "25%        5.884277  \n",
      "50%        6.961426  \n",
      "75%        8.440918  \n",
      "max       12.557129  \n",
      "\n",
      "[8 rows x 27 columns]\n",
      "       Sum PEP Score   # Peptides        # PSMs  # Protein Unique Peptides  \\\n",
      "count    6616.000000  6616.000000   6616.000000                6616.000000   \n",
      "mean       66.246881    11.543077    141.425030                  10.461911   \n",
      "std        97.302143    14.548440    387.773794                  13.912079   \n",
      "min         1.400000     1.000000      1.000000                   0.000000   \n",
      "25%         9.995000     3.000000      9.000000                   2.000000   \n",
      "50%        34.045500     7.000000     46.000000                   6.000000   \n",
      "75%        85.631500    15.000000    153.250000                  14.000000   \n",
      "max      1749.817000   276.000000  12773.000000                 272.000000   \n",
      "\n",
      "       # Unique Peptides         # AAs     MW [kDa]  \\\n",
      "count        6616.000000   6616.000000  6616.000000   \n",
      "mean           10.717201    608.865024    67.941339   \n",
      "std            14.074834    714.347085    79.479251   \n",
      "min             0.000000     44.000000     5.000000   \n",
      "25%             2.000000    276.000000    30.800000   \n",
      "50%             6.000000    450.000000    50.200000   \n",
      "75%            14.000000    733.250000    82.300000   \n",
      "max           275.000000  34350.000000  3813.700000   \n",
      "\n",
      "       Score Sequest HT: Sequest HT  # Razor Peptides  \\\n",
      "count                   6616.000000       6616.000000   \n",
      "mean                     134.009362          0.355502   \n",
      "std                      425.455117          1.969605   \n",
      "min                        0.000000          0.000000   \n",
      "25%                        2.007500          0.000000   \n",
      "50%                       25.950000          0.000000   \n",
      "75%                      128.112500          0.000000   \n",
      "max                    11584.820000         41.000000   \n",
      "\n",
      "       Abundance Ratio: (M2a) / (M0)  ...  \\\n",
      "count                    5768.000000  ...   \n",
      "mean                        4.555162  ...   \n",
      "std                        18.322185  ...   \n",
      "min                         0.010000  ...   \n",
      "25%                         0.582000  ...   \n",
      "50%                         0.809000  ...   \n",
      "75%                         1.143000  ...   \n",
      "max                       100.000000  ...   \n",
      "\n",
      "       Abundances (Normalized): F13: Sample, M2c  \\\n",
      "count                               5.192000e+03   \n",
      "mean                                2.300512e+09   \n",
      "std                                 2.322779e+10   \n",
      "min                                 7.674505e+05   \n",
      "25%                                 4.575746e+07   \n",
      "50%                                 2.090551e+08   \n",
      "75%                                 9.259020e+08   \n",
      "max                                 1.334894e+12   \n",
      "\n",
      "       Abundances (Normalized): F14: Sample, M2c  \\\n",
      "count                               5.204000e+03   \n",
      "mean                                2.295207e+09   \n",
      "std                                 2.299664e+10   \n",
      "min                                 4.063528e+05   \n",
      "25%                                 4.711724e+07   \n",
      "50%                                 2.106572e+08   \n",
      "75%                                 9.174763e+08   \n",
      "max                                 1.324369e+12   \n",
      "\n",
      "       Abundances (Normalized): F15: Sample, M2c  \\\n",
      "count                               5.176000e+03   \n",
      "mean                                2.307623e+09   \n",
      "std                                 2.316976e+10   \n",
      "min                                 7.372048e+05   \n",
      "25%                                 4.746802e+07   \n",
      "50%                                 2.140081e+08   \n",
      "75%                                 9.384044e+08   \n",
      "max                                 1.334007e+12   \n",
      "\n",
      "       Abundances (Normalized): F16: Sample, M2d  \\\n",
      "count                               5.183000e+03   \n",
      "mean                                2.304507e+09   \n",
      "std                                 2.044265e+10   \n",
      "min                                 1.080687e+06   \n",
      "25%                                 4.782869e+07   \n",
      "50%                                 2.180112e+08   \n",
      "75%                                 9.695415e+08   \n",
      "max                                 1.163576e+12   \n",
      "\n",
      "       Abundances (Normalized): F17: Sample, M2d  \\\n",
      "count                               5.219000e+03   \n",
      "mean                                2.288611e+09   \n",
      "std                                 1.967278e+10   \n",
      "min                                 1.045382e+06   \n",
      "25%                                 4.987326e+07   \n",
      "50%                                 2.164676e+08   \n",
      "75%                                 9.628176e+08   \n",
      "max                                 1.107266e+12   \n",
      "\n",
      "       Abundances (Normalized): F18: Sample, M2d  Abundances (Grouped): M2  \\\n",
      "count                               5.203000e+03               5798.000000   \n",
      "mean                                2.295650e+09                107.912164   \n",
      "std                                 1.975235e+10                 48.227218   \n",
      "min                                 8.682342e+05                  2.525000   \n",
      "25%                                 4.883376e+07                 91.425000   \n",
      "50%                                 2.176011e+08                100.300000   \n",
      "75%                                 9.568293e+08                111.043750   \n",
      "max                                 1.097120e+12                600.000000   \n",
      "\n",
      "       Abundance Ratio: (M2) / (M1)  Abundance Ratio: (M2) / (M0)  \\\n",
      "count                   5829.000000                   5860.000000   \n",
      "mean                       7.881883                      5.575119   \n",
      "std                       24.829852                     20.561469   \n",
      "min                        0.010000                      0.010000   \n",
      "25%                        0.906250                      0.662000   \n",
      "50%                        1.089000                      0.879875   \n",
      "75%                        1.388250                      1.223063   \n",
      "max                      100.000000                    100.000000   \n",
      "\n",
      "       Abundance Ratio: (M1) / (M0)  \n",
      "count                   5810.000000  \n",
      "mean                       7.040488  \n",
      "std                       84.178314  \n",
      "min                        0.000120  \n",
      "25%                        0.574878  \n",
      "50%                        0.809918  \n",
      "75%                        1.126176  \n",
      "max                     4705.882353  \n",
      "\n",
      "[8 rows x 57 columns]\n",
      "       Unique Sequence ID  Exp. q-value: Combined  Sum PEP Score  \\\n",
      "count        7.349000e+03             7349.000000    7349.000000   \n",
      "mean         9.185845e+16                0.004371      57.622620   \n",
      "std          5.299273e+18                0.014367      88.750516   \n",
      "min         -9.218003e+18                0.000000       0.822000   \n",
      "25%         -4.493860e+18                0.000000       7.222000   \n",
      "50%          1.729047e+17                0.000000      26.997000   \n",
      "75%          4.690352e+18                0.000000      73.412000   \n",
      "max          9.222935e+18                0.090000    1776.197000   \n",
      "\n",
      "       # Decoy Protein: Combined  Coverage [%]   # Peptides        # PSMs  \\\n",
      "count                7349.000000   7349.000000  7349.000000   7349.000000   \n",
      "mean                   30.756429     23.479929     8.583889     96.173493   \n",
      "std                   103.401843     20.062451    11.086606    362.434236   \n",
      "min                     0.000000      0.000000     1.000000      1.000000   \n",
      "25%                     0.000000      6.000000     2.000000      6.000000   \n",
      "50%                     0.000000     18.000000     5.000000     25.000000   \n",
      "75%                     1.000000     38.000000    11.000000     80.000000   \n",
      "max                   663.000000     91.000000   236.000000  12600.000000   \n",
      "\n",
      "       # Protein Unique Peptides  # Unique Peptides         # AAs  ...  \\\n",
      "count                7349.000000        7349.000000   7349.000000  ...   \n",
      "mean                    7.399374           7.797523    617.030480  ...   \n",
      "std                    10.732792          10.777130    698.418345  ...   \n",
      "min                     0.000000           0.000000     44.000000  ...   \n",
      "25%                     1.000000           1.000000    282.000000  ...   \n",
      "50%                     4.000000           4.000000    452.000000  ...   \n",
      "75%                    10.000000          10.000000    740.000000  ...   \n",
      "max                   235.000000         236.000000  34350.000000  ...   \n",
      "\n",
      "       Abundances Count: F1: Control, M0  Abundances Count: F2: Control, M0  \\\n",
      "count                        5775.000000                        5828.000000   \n",
      "mean                            7.095931                           7.149966   \n",
      "std                             9.698421                           9.734091   \n",
      "min                             1.000000                           1.000000   \n",
      "25%                             1.000000                           2.000000   \n",
      "50%                             4.000000                           4.000000   \n",
      "75%                             9.000000                           9.000000   \n",
      "max                           213.000000                         212.000000   \n",
      "\n",
      "       Abundances Count: F3: Control, M0  Abundances Count: F4: Sample, M1  \\\n",
      "count                        5795.000000                       5591.000000   \n",
      "mean                            7.129249                          7.328027   \n",
      "std                             9.720909                         10.243340   \n",
      "min                             1.000000                          1.000000   \n",
      "25%                             1.000000                          1.000000   \n",
      "50%                             4.000000                          4.000000   \n",
      "75%                             9.000000                          9.000000   \n",
      "max                           207.000000                        196.000000   \n",
      "\n",
      "       Abundances Count: F5: Sample, M1  Abundances Count: F6: Sample, M1  \\\n",
      "count                       5612.000000                       5594.000000   \n",
      "mean                           7.287242                          7.261173   \n",
      "std                           10.133145                         10.146957   \n",
      "min                            1.000000                          1.000000   \n",
      "25%                            1.000000                          1.000000   \n",
      "50%                            4.000000                          4.000000   \n",
      "75%                            9.000000                          9.000000   \n",
      "max                          185.000000                        188.000000   \n",
      "\n",
      "       Abundances Count: F7: Sample, M2  Abundances Count: F8: Sample, M2  \\\n",
      "count                       5540.000000                       5530.000000   \n",
      "mean                           7.280505                          7.249548   \n",
      "std                           10.190247                         10.147382   \n",
      "min                            1.000000                          1.000000   \n",
      "25%                            1.000000                          1.000000   \n",
      "50%                            4.000000                          4.000000   \n",
      "75%                            9.000000                          9.000000   \n",
      "max                          199.000000                        197.000000   \n",
      "\n",
      "       Abundances Count: F9: Sample, M2  # Protein Groups  \n",
      "count                       5572.000000       7349.000000  \n",
      "mean                           7.256281          1.037964  \n",
      "std                           10.158889          0.627835  \n",
      "min                            1.000000          0.000000  \n",
      "25%                            1.000000          1.000000  \n",
      "50%                            4.000000          1.000000  \n",
      "75%                            9.000000          1.000000  \n",
      "max                          195.000000         16.000000  \n",
      "\n",
      "[8 rows x 81 columns]\n",
      "AnnData object with n_obs × n_vars = 373 × 1123\n",
      "    obs: 'celltype'\n"
     ]
    }
   ],
   "source": [
    "print(df_2016_iwata.describe())\n",
    "print(df_2022_pengfei.describe())\n",
    "print(df_2021_pengfei.describe())\n",
    "print(df_huffman_adata)"
   ]
  },
  {
   "cell_type": "code",
   "execution_count": 15,
   "metadata": {},
   "outputs": [
    {
     "data": {
      "image/png": "[encoded data removed]",
      "text/plain": [
       "<Figure size 1200x500 with 2 Axes>"
      ]
     },
     "metadata": {},
     "output_type": "display_data"
    }
   ],
   "source": [
    "# Correlation plots of similar (duplicate) columns\n",
    "fig, ax = plt.subplots(1, 2, figsize=(12, 5))\n",
    "sns.scatterplot(data=df_2021_pengfei, x=\"# Peptides (by Search Engine): Sequest HT\", y=\"# Peptides\", ax=ax[0])\n",
    "sns.scatterplot(data=df_2021_pengfei, x=\"# PSMs (by Search Engine): Sequest HT\", y=\"# PSMs\", ax=ax[1])\n",
    "plt.show()\n",
    "\n"
   ]
  },
  {
   "cell_type": "markdown",
   "metadata": {},
   "source": [
    "**Assumption:** The dataset Iwata, H., et al. (2016) has a column named \"Score\", while the other two bulk datasets have a column named \"Score Sequest HT: Sequest HT\".\n",
    "<br>\n",
    "According to the Proteome Discoverer Manual, I assume that the column \"Score\" in the Iwata, H., et al. (2016) dataset is equivalent to the Sequest Score in the other datasets.\n",
    "<br><br>\n",
    "For both columns, the formula used to compute the Score is:<br>\n",
    "> &#160;<br>\n",
    "> *protein_score = (sum_of_all_cross-correlation_factors_of_0.8_or_above) + (peptide_charge × peptide_relevance_factor)*\n",
    "> <br>&#160;<br>\n",
    "\n",
    "**Source**: *Proteome Discoverer Manual v2.2 (page 24)* "
   ]
  },
  {
   "cell_type": "markdown",
   "metadata": {},
   "source": [
    "---\n",
    "### Filtering data\n",
    "\n",
    "Low quality data must be filtered before the data analysis\n",
    "\n",
    "Criteria:\n",
    "* (Iwata 2016, Pengfei 2022 and Pengfei 2021 only):  The number of Peptide Spectrum Matches < 5. It represents the number of times a peptide sequence has been identified in the mass spectra. \n",
    "* (Iwata 2016 only): Protein not found in the initial time point.\n",
    "\n"
   ]
  },
  {
   "cell_type": "code",
   "execution_count": 16,
   "metadata": {},
   "outputs": [
    {
     "data": {
      "image/png": "[encoded data removed]",
      "text/plain": [
       "<Figure size 1000x500 with 3 Axes>"
      ]
     },
     "metadata": {},
     "output_type": "display_data"
    }
   ],
   "source": [
    "# Grid of density plots for the # PSMs for the first 3 experiments (use log scale)\n",
    "fig, ax = plt.subplots(3, 1, figsize=(10, 5))\n",
    "sns.kdeplot(df_2016_iwata[\"# PSMs\"], log_scale=True, ax=ax[0])\n",
    "sns.kdeplot(df_2022_pengfei[\"# PSMs\"], log_scale=True, ax=ax[1])\n",
    "sns.kdeplot(df_2021_pengfei[\"# PSMs\"], log_scale=True, ax=ax[2])\n",
    "ax[0].axvline(5, color='red')\n",
    "ax[1].axvline(5, color='red')\n",
    "ax[2].axvline(5, color='red')\n",
    "ax[0].set_title(\"Density plot of # PSMs in the Iwata, H., et al. (2016) dataset\")\n",
    "ax[1].set_title(\"\\n\\nDensity plot of # PSMs in the Li, P., et al. (2022) dataset\")\n",
    "ax[2].set_title(\"\\n\\nDensity plot of # PSMs in the Li, P., et al. (2021) dataset\")\n",
    "\n",
    "for a in ax:\n",
    "    a.set_xlim([0, 3000])\n",
    "    a.set_ylim([0, 1])\n",
    "\n",
    "plt.tight_layout()\n",
    "plt.show()\n"
   ]
  },
  {
   "cell_type": "markdown",
   "metadata": {},
   "source": [
    "Figure x. Distribution of Peptide-Spectrum Matches (PSMs). Comparative analysis of PSM distributions with the defined threshold represented with a red line. It shows the characteristics and quality of the datasets"
   ]
  },
  {
   "cell_type": "code",
   "execution_count": 17,
   "metadata": {},
   "outputs": [
    {
     "data": {
      "image/png": "[encoded data removed]",
      "text/plain": [
       "<Figure size 1000x500 with 3 Axes>"
      ]
     },
     "metadata": {},
     "output_type": "display_data"
    }
   ],
   "source": [
    "fig, ax = plt.subplots(3, 1, figsize=(10, 5))\n",
    "sns.kdeplot(df_2016_iwata[\"# Peptides\"], log_scale=True, ax=ax[0])\n",
    "sns.kdeplot(df_2022_pengfei[\"# Peptides\"], log_scale=True, ax=ax[1])\n",
    "sns.kdeplot(df_2021_pengfei[\"# Peptides\"], log_scale=True, ax=ax[2])\n",
    "ax[0].axvline(MIN_NUM_PEPTIDE_THRESHOLD, color='red')\n",
    "ax[1].axvline(MIN_NUM_PEPTIDE_THRESHOLD, color='red')\n",
    "ax[2].axvline(MIN_NUM_PEPTIDE_THRESHOLD, color='red')\n",
    "ax[0].set_title(\"Density plot of # Peptides in the Iwata, H., et al. (2016) dataset\")\n",
    "ax[1].set_title(\"\\n\\nDensity plot of # Peptides in the Li, P., et al. (2022) dataset\")\n",
    "ax[2].set_title(\"\\n\\nDensity plot of # Peptides in the Li, P., et al. (2021) dataset\")\n",
    "\n",
    "for a in ax:\n",
    "    a.set_xlim([0, 200])\n",
    "    a.set_ylim([0, 2])\n",
    "\n",
    "plt.tight_layout()\n",
    "plt.show()\n"
   ]
  },
  {
   "cell_type": "code",
   "execution_count": 18,
   "metadata": {},
   "outputs": [
    {
     "name": "stdout",
     "output_type": "stream",
     "text": [
      "-- Removing proteins from Iwata, H., et al. (2016) dataset with null values in the column ['126/126'] ----------\n",
      "  Proteins with null values: 46\n",
      "  This proteins MUST be removed from the dataset as they should have 1.00\n",
      "\n",
      "-- Removing proteins that have PSMs < 5 -------------------------------------------------------------------\n",
      "  Iwata, H., et al. (2016): 7379 out of 19201 proteins have been removed\n",
      "  Li, P., et al. (2022): 1146 out of 6616 proteins have been removed\n",
      "  Li, P., et al. (2021): 1541 out of 7349 proteins have been removed\n",
      "\n",
      "-- Removing proteins that have less than 2 peptides --------------------------------------------------------\n",
      "  Iwata, H., et al. (2016): 108 out of 11822 proteins have been removed\n",
      "  Li, P., et al. (2022): 213 out of 5470 proteins have been removed\n",
      "  Li, P., et al. (2021): 369 out of 5808 proteins have been removed\n",
      "\n",
      "-- Removing proteins with a score of > 1.5 ------------------------------------------------------------------\n",
      "  Iwata, H., et al. (2016): 2 out of 11714 proteins have been removed\n",
      "  Li, P., et al. (2022): 305 out of 5257 proteins have been removed\n",
      "  Li, P., et al. (2021): 34 out of 5439 proteins have been removed\n",
      "\n",
      "-- Number of proteins after filtering -----------------------------------------------------------------------\n",
      "  Iwata, H., et al. (2016): 5193\n",
      "  Li, P., et al. (2022): 4952\n",
      "  Li, P., et al. (2021): 5405\n"
     ]
    }
   ],
   "source": [
    "# Experiment 1: 2016 Iwata et al.\n",
    "# Filter out records with blank values in the column \"126/126\" (which should contain 1.00)\n",
    "print(\"-- Removing proteins from Iwata, H., et al. (2016) dataset with null values in the column ['126/126'] ----------\")\n",
    "print(\"  Proteins with null values:\", df_2016_iwata[\"126/126\"].isnull().sum())\n",
    "print(\"  This proteins MUST be removed from the dataset as they should have 1.00\")\n",
    "df_2016_iwata = df_2016_iwata[~df_2016_iwata[\"126/126\"].isnull()]\n",
    "\n",
    "# Keep proteins that has PSMs >= 5 (ref: https://pmc.ncbi.nlm.nih.gov/articles/PMC9110321/#s3)\n",
    "print(\"\\n-- Removing proteins that have PSMs < 5 -------------------------------------------------------------------\")\n",
    "print(\"  Iwata, H., et al. (2016):\", df_2016_iwata[df_2016_iwata[\"# PSMs\"] < PSM_THRESHOLD].shape[0], \"out of\",df_2016_iwata.shape[0], \"proteins have been removed\")\n",
    "df_2016_iwata = df_2016_iwata[df_2016_iwata[\"# PSMs\"] >= PSM_THRESHOLD]\n",
    "print(\"  Li, P., et al. (2022):\", df_2022_pengfei[df_2022_pengfei[\"# PSMs\"] < PSM_THRESHOLD].shape[0], \"out of\",df_2022_pengfei.shape[0], \"proteins have been removed\")\n",
    "df_2022_pengfei = df_2022_pengfei[df_2022_pengfei[\"# PSMs\"] >= PSM_THRESHOLD]\n",
    "print(\"  Li, P., et al. (2021):\", df_2021_pengfei[df_2021_pengfei[\"# PSMs\"] < PSM_THRESHOLD].shape[0], \"out of\",df_2021_pengfei.shape[0], \"proteins have been removed\")\n",
    "df_2021_pengfei = df_2021_pengfei[df_2021_pengfei[\"# PSMs\"] >= PSM_THRESHOLD]\n",
    "\n",
    "# Filter by the number of peptides\n",
    "print(\"\\n-- Removing proteins that have less than 2 peptides --------------------------------------------------------\")\n",
    "print(\"  Iwata, H., et al. (2016):\", df_2016_iwata[df_2016_iwata[\"# Peptides\"] < MIN_NUM_PEPTIDE_THRESHOLD].shape[0], \"out of\",df_2016_iwata.shape[0], \"proteins have been removed\")\n",
    "df_2016_iwata = df_2016_iwata[df_2016_iwata[\"# Peptides\"] >= MIN_NUM_PEPTIDE_THRESHOLD]\n",
    "print(\"  Li, P., et al. (2022):\", df_2022_pengfei[df_2022_pengfei[\"# Peptides\"] < MIN_NUM_PEPTIDE_THRESHOLD].shape[0], \"out of\",df_2022_pengfei.shape[0], \"proteins have been removed\")\n",
    "df_2022_pengfei = df_2022_pengfei[df_2022_pengfei[\"# Peptides\"] >= MIN_NUM_PEPTIDE_THRESHOLD]\n",
    "print(\"  Li, P., et al. (2021):\", df_2021_pengfei[df_2021_pengfei[\"# Peptides\"] < MIN_NUM_PEPTIDE_THRESHOLD].shape[0], \"out of\",df_2021_pengfei.shape[0], \"proteins have been removed\")\n",
    "df_2021_pengfei = df_2021_pengfei[df_2021_pengfei[\"# Peptides\"] >= MIN_NUM_PEPTIDE_THRESHOLD]\n",
    "\n",
    "# Filter by Score\n",
    "print(\"\\n-- Removing proteins with a score of > 1.5 ------------------------------------------------------------------\")\n",
    "print(\"  Iwata, H., et al. (2016):\", df_2016_iwata[df_2016_iwata[\"Score\"] < SCORE_THRESHOLD].shape[0], \"out of\",df_2016_iwata.shape[0], \"proteins have been removed\")\n",
    "df_2016_iwata = df_2016_iwata[df_2016_iwata[\"Score\"] >= SCORE_THRESHOLD]\n",
    "print(\"  Li, P., et al. (2022):\", df_2022_pengfei[df_2022_pengfei[\"Score Sequest HT: Sequest HT\"] < SCORE_THRESHOLD].shape[0], \"out of\",df_2022_pengfei.shape[0], \"proteins have been removed\")\n",
    "df_2022_pengfei = df_2022_pengfei[df_2022_pengfei[\"Score Sequest HT: Sequest HT\"] >= SCORE_THRESHOLD]\n",
    "print(\"  Li, P., et al. (2021):\", df_2021_pengfei[df_2021_pengfei[\"Score Sequest HT: Sequest HT\"] < SCORE_THRESHOLD].shape[0], \"out of\",df_2021_pengfei.shape[0], \"proteins have been removed\")\n",
    "df_2021_pengfei = df_2021_pengfei[df_2021_pengfei[\"Score Sequest HT: Sequest HT\"] >= SCORE_THRESHOLD]\n",
    "\n",
    "\n",
    "# Print the number of proteins after filtering\n",
    "print(\"\\n-- Number of proteins after filtering -----------------------------------------------------------------------\")\n",
    "print(\"  Iwata, H., et al. (2016):\", df_2016_iwata.index.nunique())\n",
    "print(\"  Li, P., et al. (2022):\", df_2022_pengfei.index.nunique())\n",
    "print(\"  Li, P., et al. (2021):\", df_2021_pengfei.index.nunique())\n"
   ]
  },
  {
   "cell_type": "markdown",
   "metadata": {},
   "source": [
    "---\n",
    "### Translating protein accessions to Gene Names\n",
    "\n",
    "UniProtKB REST API examples for a valid ID:\n",
    "* [UniProtKB call using \"P04075\"](https://rest.uniprot.org/uniprotkb/P04075)\n",
    "<br><br>\n",
    "\n",
    "UniProtKB REST API examples for an old ID:\n",
    "* [UniProtKB call using \"F5H6Z3\"](https://rest.uniprot.org/uniprotkb/F5H6Z3.json)\n",
    "* [Unisave call using \"F5H6Z3\"](https://rest.uniprot.org/unisave/F5H6Z3?format=txt)\n",
    "* [Uniparc call using UPI format \"UPI00020656CD\"](https://rest.uniprot.org/uniparc/UPI00020656CD)\n",
    "\n"
   ]
  },
  {
   "cell_type": "code",
   "execution_count": 19,
   "metadata": {},
   "outputs": [],
   "source": [
    "if TRANSLATE_PROTEIN_ID:\n",
    "    print(\"Translating protein IDs to gene names (Iwata, H., et al. (2016))... \")\n",
    "    gene_names = uniprot.batch_translate_protein_ids(df_2016_iwata.index)\n",
    "    df_2016_iwata['Gene'] = gene_names\n",
    "    # save the df_2016_iwata to a file\n",
    "    df_2016_iwata.to_csv(\"./data/processed/uniprot_out/df_2016_iwata.csv\")\n",
    "\n",
    "    print(\"Translating protein IDs to gene names (Li, P., et al. (2022))... \")\n",
    "    gene_names = uniprot.batch_translate_protein_ids(df_2022_pengfei.index)\n",
    "    df_2022_pengfei['Gene'] = gene_names\n",
    "    # save the df_2022_pengfei to a file\n",
    "    df_2022_pengfei.to_csv(\"./data/processed/uniprot_out/df_2022_pengfei.csv\")\n",
    "\n",
    "    print(\"Translating protein IDs to gene names (Li, P., et al. (2021))... \")\n",
    "    gene_names = uniprot.batch_translate_protein_ids(df_2021_pengfei.index)\n",
    "    df_2021_pengfei['Gene'] = gene_names\n",
    "    # save the df_2021_pengfei to a file\n",
    "    df_2021_pengfei.to_csv(\"./data/processed/uniprot_out/df_2021_pengfei.csv\")\n",
    "                           \n",
    "\n",
    "    print(\"Translating protein IDs to gene names (Huffman, R. G., et al. (2022))... \")\n",
    "    gene_names = uniprot.batch_translate_protein_ids(df_huffman_adata.var.index)\n",
    "    df_huffman_adata.var['Gene'] = gene_names\n",
    "    # save the df_huffman_adata to a file\n",
    "    df_huffman_adata.write(\"./data/processed/uniprot_out/df_huffman_adata.h5ad\")\n",
    "\n",
    "else:\n",
    "    # Load from files\n",
    "    df_2016_iwata = pd.read_csv(\"./data/processed/uniprot_out/df_2016_iwata.csv\", index_col=0)\n",
    "    df_2022_pengfei = pd.read_csv(\"./data/processed/uniprot_out/df_2022_pengfei.csv\", index_col=0)\n",
    "    df_2021_pengfei = pd.read_csv(\"./data/processed/uniprot_out/df_2021_pengfei.csv\", index_col=0)\n",
    "    df_huffman_adata = ad.read_h5ad(\"./data/processed/uniprot_out/df_huffman_adata.h5ad\")\n",
    "    \n"
   ]
  },
  {
   "cell_type": "code",
   "execution_count": 20,
   "metadata": {},
   "outputs": [
    {
     "name": "stdout",
     "output_type": "stream",
     "text": [
      "\n",
      "-- Top 25 genes in Iwata, H., et al. (2016) dataset --------------------------------------------------------------\n",
      "Gene\n",
      "EIF4G2      9\n",
      "PPP1R12A    7\n",
      "PPP1CB      7\n",
      "TMPO        7\n",
      "MBNL1       6\n",
      "USP15       6\n",
      "SPAG9       6\n",
      "AAK1        6\n",
      "LYPLAL1     6\n",
      "PEX19       6\n",
      "LYN         6\n",
      "SKP1        6\n",
      "CALU        6\n",
      "KTN1        6\n",
      "CAP1        6\n",
      "GSN         6\n",
      "PCBP2       6\n",
      "PPFIBP1     6\n",
      "HBA1        6\n",
      "CNBP        6\n",
      "DNM1L       6\n",
      "GLYR1       6\n",
      "CAMK2D      6\n",
      "NAA50       6\n",
      "VAPA        6\n",
      "Name: count, dtype: int64\n",
      "\n",
      "-- Top 25 genes in Li, P., et al. (2022) dataset -------------------------------------------------------------\n",
      "Gene\n",
      "HLA-C       2\n",
      "HLA-B       2\n",
      "AAK1        2\n",
      "HLA-A       2\n",
      "HLA-DRB1    2\n",
      "TMPO        2\n",
      "DYNC1H1     1\n",
      "F13A1       1\n",
      "MYDGF       1\n",
      "INTS5       1\n",
      "MAPK9       1\n",
      "TRIM22      1\n",
      "HGH1        1\n",
      "ARID3A      1\n",
      "NUBP1       1\n",
      "ELOA        1\n",
      "IWS1        1\n",
      "NIP7        1\n",
      "ACBD5       1\n",
      "ZNF281      1\n",
      "ITSN2       1\n",
      "COG7        1\n",
      "TIMM9       1\n",
      "S100A8      1\n",
      "NISCH       1\n",
      "Name: count, dtype: int64\n",
      "\n",
      "-- Top 25 genes in Li, P., et al. (2021) dataset -------------------------------------------------------------\n",
      "Gene\n",
      "HLA-B       35\n",
      "HLA-A       21\n",
      "HLA-C       14\n",
      "HLA-DRB1    13\n",
      "NACA         2\n",
      "GNAS         2\n",
      "SIRPB1       2\n",
      "RABGAP1L     2\n",
      "TMPO         2\n",
      "CUX1         2\n",
      "AAK1         2\n",
      "RBCK1        1\n",
      "TOR4A        1\n",
      "PYCR1        1\n",
      "GGPS1        1\n",
      "GAR1         1\n",
      "WASL         1\n",
      "DNAJB12      1\n",
      "DR1          1\n",
      "CD33         1\n",
      "STK38        1\n",
      "MRPL47       1\n",
      "KPNA5        1\n",
      "IL16         1\n",
      "ZFPL1        1\n",
      "Name: count, dtype: int64\n",
      "\n",
      "-- Top 25 genes in Huffman, R. G., et al. (2022) dataset -------------------------------------------------------------\n",
      "Gene\n",
      "Aars1     1\n",
      "Psmb10    1\n",
      "Psmd1     1\n",
      "Psmc6     1\n",
      "Psmc5     1\n",
      "Psmc3     1\n",
      "Psmc2     1\n",
      "Psmc1     1\n",
      "Psmb8     1\n",
      "Psma4     1\n",
      "Psmb7     1\n",
      "Psmb6     1\n",
      "Psmb4     1\n",
      "Psmb1     1\n",
      "Psma7     1\n",
      "Psma6     1\n",
      "Psmd2     1\n",
      "Psmd3     1\n",
      "Psmd4     1\n",
      "Psmd7     1\n",
      "Psmd8     1\n",
      "Psmd12    1\n",
      "Psmd13    1\n",
      "Psme1     1\n",
      "Psme2     1\n",
      "Name: count, dtype: int64\n"
     ]
    }
   ],
   "source": [
    "# print top genes for df_2016_iwata\n",
    "print(f\"\\n-- Top {TOP_GENES} genes in Iwata, H., et al. (2016) dataset --------------------------------------------------------------\")\n",
    "print(df_2016_iwata[\"Gene\"].value_counts().head(TOP_GENES))\n",
    "\n",
    "# print top genes for df_2022_pengfei\n",
    "print(f\"\\n-- Top {TOP_GENES} genes in Li, P., et al. (2022) dataset -------------------------------------------------------------\")\n",
    "print(df_2022_pengfei[\"Gene\"].value_counts().head(TOP_GENES))\n",
    "\n",
    "# print top genes for df_2021_pengfei\n",
    "print(f\"\\n-- Top {TOP_GENES} genes in Li, P., et al. (2021) dataset -------------------------------------------------------------\")\n",
    "print(df_2021_pengfei[\"Gene\"].value_counts().head(TOP_GENES))\n",
    "\n",
    "# print top genes for df_huffman_adata sorted by most counts\n",
    "print(f\"\\n-- Top {TOP_GENES} genes in Huffman, R. G., et al. (2022) dataset -------------------------------------------------------------\")\n",
    "print(df_huffman_adata.var[\"Gene\"].value_counts().head(TOP_GENES))"
   ]
  },
  {
   "cell_type": "markdown",
   "metadata": {},
   "source": [
    "Only few of the Genes with higher number of isoforms can be found in more than one dataset. And even in the case of being in more than one datasets, the number of appearances is very different."
   ]
  },
  {
   "cell_type": "code",
   "execution_count": 21,
   "metadata": {},
   "outputs": [],
   "source": [
    "# Upper case the gene names for Huffman, R. G., et al. (2022)\n",
    "df_huffman_adata.var[\"Gene\"] = df_huffman_adata.var[\"Gene\"].str.upper()"
   ]
  },
  {
   "cell_type": "code",
   "execution_count": 22,
   "metadata": {},
   "outputs": [
    {
     "name": "stdout",
     "output_type": "stream",
     "text": [
      "\n",
      "-- Intersection of top genes (by count(gene)) in each dataset ----------------------------------------------------------------\n",
      " The genes found in the TOP of all 4 datasets are: set()\n",
      " The genes found in the TOP of the 3 bulk datasets are: {'TMPO', 'AAK1'}\n",
      " The genes found in the TOP of the 2 bulk datasets from the same author are: {'HLA-C', 'AAK1', 'TMPO', 'HLA-DRB1', 'HLA-B', 'HLA-A'}\n"
     ]
    }
   ],
   "source": [
    "# Intersection of the top genes by the number of \"Isoforms\"\n",
    "\n",
    "print(\"\\n-- Intersection of top genes (by count(gene)) in each dataset ----------------------------------------------------------------\") \n",
    "top_genes_iwata = set(df_2016_iwata[\"Gene\"].value_counts().head(TOP_GENES).index)\n",
    "top_genes_pengfei = set(df_2022_pengfei[\"Gene\"].value_counts().head(TOP_GENES).index)\n",
    "top_genes_pengfei2 = set(df_2021_pengfei[\"Gene\"].value_counts().head(TOP_GENES).index)\n",
    "top_genes_huffman = set(df_huffman_adata.var[\"Gene\"].value_counts().head(TOP_GENES).index)\n",
    "\n",
    "print(\" The genes found in the TOP of all 4 datasets are:\", top_genes_iwata & top_genes_pengfei & top_genes_pengfei2 & top_genes_huffman)\n",
    "print(\" The genes found in the TOP of the 3 bulk datasets are:\", top_genes_iwata & top_genes_pengfei & top_genes_pengfei2)\n",
    "print(\" The genes found in the TOP of the 2 bulk datasets from the same author are:\", top_genes_pengfei & top_genes_pengfei2)\n",
    "# Single-cell data was excluded due to all the genes were found only once."
   ]
  },
  {
   "cell_type": "markdown",
   "metadata": {},
   "source": [
    "Given that relying on isoforms may not effectively highlight \"shared\" proteins across all datasets, I will conduct the same analysis focusing on protein abundance. This approach is expected to yield a higher number of common proteins, as different proteomic studies are likely to identify and quantify similar highly abundant proteins. "
   ]
  },
  {
   "cell_type": "code",
   "execution_count": 23,
   "metadata": {},
   "outputs": [
    {
     "name": "stdout",
     "output_type": "stream",
     "text": [
      "\n",
      "-- Top 25 genes in Iwata, H., et al. (2016) dataset by Abundance --------------------------------------------------\n",
      "  Iwata, H., et al. (2016) M0\n",
      "              Gene   131/126\n",
      "Accession                   \n",
      "P17252       PRKCA  3.085788\n",
      "Q8TBN0     RAB3IL1  2.730899\n",
      "F5H5M7      IFNGR1  2.535574\n",
      "P04004         VTN  2.457770\n",
      "F5H2M9        GBP1  2.442830\n",
      "H0Y3Z3        P4HB  2.324600\n",
      "P02765        AHSG  2.294278\n",
      "Q92674       CENPI  2.282612\n",
      "P06493-2      CDK1  2.194743\n",
      "Q16695        H3-4  2.185531\n",
      "Q8NI35-5      PATJ  2.150211\n",
      "P53674      CRYBB1  2.149782\n",
      "E9PD90       CKAP2  2.124382\n",
      "B7ZKQ9      SCARB1  2.063658\n",
      "Q16352         INA  2.029002\n",
      "C9JKR2         ALB  2.028277\n",
      "F5H4V4       MKI67  2.012904\n",
      "P11388       TOP2A  2.010637\n",
      "Q9NQW6        ANLN  2.002610\n",
      "P07951        TPM2  1.980914\n",
      "Q9Y6A5       TACC3  1.938522\n",
      "Q14980       NUMA1  1.905354\n",
      "P02774          GC  1.890009\n",
      "P55899       FCGRT  1.887750\n",
      "Q96D96-2     HVCN1  1.882268\n",
      "  Li, P., et al. (2022) M0\n",
      "              Gene  Abundances (Grouped): M0\n",
      "Accession                                   \n",
      "Q8TCF1      ZFAND1                     600.0\n",
      "Q86TS9      MRPL52                     600.0\n",
      "Q8TF42     UBASH3B                     600.0\n",
      "Q7Z401     DENND4A                     600.0\n",
      "P31323     PRKAR2B                     600.0\n",
      "O75717       WDHD1                     600.0\n",
      "P14859      POU2F1                     600.0\n",
      "Q9BRX5       GINS3                     600.0\n",
      "P36888        FLT3                     600.0\n",
      "P36897      TGFBR1                     600.0\n",
      "Q96ER9      CCDC51                     600.0\n",
      "P02654       APOC1                     522.2\n",
      "P61626         LYZ                     513.3\n",
      "P20742         PZP                     502.3\n",
      "Q05D32     CTDSPL2                     494.1\n",
      "Q9Y287       ITM2B                     476.5\n",
      "Q9UH92         MLX                     468.9\n",
      "Q96CD2       PPCDC                     458.3\n",
      "Q9NZI7        UBP1                     453.6\n",
      "P24158       PRTN3                     440.2\n",
      "Q9NUL3       STAU2                     440.1\n",
      "Q9P1U1      ACTR3B                     433.8\n",
      "P35251        RFC1                     430.8\n",
      "Q10589        BST2                     426.5\n",
      "O95785         WIZ                     418.5\n",
      "  Li, P., et al. (2021) M0\n",
      "             Gene  Abundances (Grouped): M0\n",
      "Accession                                  \n",
      "Q86WR0     CCDC25                     300.0\n",
      "Q9Y6A5      TACC3                     300.0\n",
      "Q96NB3     ZNF830                     300.0\n",
      "Q9UHF1      EGFL7                     300.0\n",
      "Q9Y483       MTF2                     300.0\n",
      "Q15417       CNN3                     300.0\n",
      "P50748      KNTC1                     300.0\n",
      "Q92766      RREB1                     300.0\n",
      "Q9BZ95       NSD3                     300.0\n",
      "Q9BW85       YJU2                     300.0\n",
      "Q68DK7       MSL1                     300.0\n",
      "Q8TCG1      CIP2A                     300.0\n",
      "Q9Y3B9      RRP15                     300.0\n",
      "P35226       BMI1                     300.0\n",
      "O75925      PIAS1                     300.0\n",
      "Q9BTA9        WAC                     300.0\n",
      "Q99661      KIF2C                     300.0\n",
      "Q9UJX4     ANAPC5                     300.0\n",
      "Q9NVP2      ASF1B                     300.0\n",
      "P28289      TMOD1                     300.0\n",
      "Q16254       E2F4                     300.0\n",
      "Q8TAP9     MPLKIP                     300.0\n",
      "Q9UQR1     ZNF148                     300.0\n",
      "Q16875     PFKFB3                     300.0\n",
      "Q86XI2     NCAPG2                     300.0\n",
      "  Iwata, H., et al. (2016) M1\n",
      "               Gene    131/126\n",
      "Accession                     \n",
      "P14902         IDO1  14.653407\n",
      "B4DLJ8      HLA-DRA   9.642338\n",
      "F5H2M9         GBP1   6.988559\n",
      "H0YF41     HLA-DQA1   5.886796\n",
      "Q5VYY1      ANKRD22   5.208569\n",
      "B2RDA1         SPP1   4.510155\n",
      "B4DLA9       H2BC18   4.482788\n",
      "P23381        WARS1   4.435345\n",
      "H0YA55          ALB   4.431621\n",
      "A6NC86       PINLYP   4.360200\n",
      "P54652        HSPA2   3.591906\n",
      "Q96PP8         GBP5   3.555206\n",
      "P19105       MYL12A   3.498733\n",
      "Q9UNX3      RPL26L1   3.483190\n",
      "P03956         MMP1   3.477951\n",
      "P10412         H1-4   3.401291\n",
      "P32456         GBP2   3.359365\n",
      "P47914        RPL29   3.279390\n",
      "P61769          B2M   3.215353\n",
      "Q07021        C1QBP   3.171904\n",
      "P07951         TPM2   3.113679\n",
      "O75629        CREG1   3.082817\n",
      "P04233-2       CD74   3.073898\n",
      "Q9BX68        HINT2   2.978041\n",
      "Q9NZQ7        CD274   2.975846\n",
      "  Li, P., et al. (2022) M1\n",
      "               Gene  Abundances (Grouped): M1\n",
      "Accession                                    \n",
      "O75891      ALDH1L1                     600.0\n",
      "Q07325        CXCL9                     600.0\n",
      "Q969X0       RILPL2                     600.0\n",
      "Q14774          HLX                     600.0\n",
      "O60551         NMT2                     600.0\n",
      "Q6GPH4         XAF1                     600.0\n",
      "O15528      CYP27B1                     600.0\n",
      "Q93096       PTP4A1                     600.0\n",
      "P02778       CXCL10                     594.3\n",
      "P14902         IDO1                     583.9\n",
      "P32455         GBP1                     578.6\n",
      "P01903      HLA-DRA                     573.6\n",
      "Q96PP8         GBP5                     569.2\n",
      "P04229     HLA-DRB1                     561.8\n",
      "Q5R3K3       CALHM6                     551.5\n",
      "Q96AZ6        ISG20                     551.2\n",
      "P20591          MX1                     548.0\n",
      "Q8N8V2         GBP7                     533.7\n",
      "A6NK06        ACOD1                     527.7\n",
      "P13501         CCL5                     524.8\n",
      "P09913        IFIT2                     514.8\n",
      "Q15646         OASL                     503.1\n",
      "Q9HB58        SP110                     499.9\n",
      "Q58F21         BRDT                     496.6\n",
      "Q8WXG1        RSAD2                     494.2\n",
      "  Li, P., et al. (2021) M1\n",
      "                Gene  Abundances (Grouped): M1\n",
      "Accession                                     \n",
      "Q8NC42        RNF149                     300.0\n",
      "P32418        SLC8A1                     300.0\n",
      "Q9C0B9        ZCCHC2                     300.0\n",
      "Q3LFD5         USP41                     300.0\n",
      "Q14061         COX17                     300.0\n",
      "Q30167      HLA-DRB1                     300.0\n",
      "O14862          AIM2                     300.0\n",
      "Q969X0        RILPL2                     300.0\n",
      "Q8N4C8         MINK1                     300.0\n",
      "P02795          MT2A                     300.0\n",
      "P05155      SERPING1                     300.0\n",
      "P08476         INHBA                     300.0\n",
      "A6NDU8        RIMOC1                     300.0\n",
      "Q7L1V2         MON1B                     300.0\n",
      "Q5Y7A7      HLA-DRB1                     300.0\n",
      "Q6ZN66          GBP6                     300.0\n",
      "P01912      HLA-DRB1                     300.0\n",
      "Q9H0R8     GABARAPL1                     300.0\n",
      "Q14520         HABP2                     300.0\n",
      "A7KAX9      ARHGAP32                     300.0\n",
      "P01911      HLA-DRB1                     300.0\n",
      "Q9Y2V7          COG6                     300.0\n",
      "Q9NZQ7         CD274                     300.0\n",
      "Q9UMW8         USP18                     300.0\n",
      "Q95IE3      HLA-DRB1                     300.0\n",
      "  Iwata, H., et al. (2016) M2\n",
      "              Gene   131/126\n",
      "Accession                   \n",
      "P01833        PIGR  7.797981\n",
      "P13645       KRT10  6.273160\n",
      "P15104        GLUL  5.894018\n",
      "F8VNY6          C2  5.060641\n",
      "P30043       BLVRB  4.683325\n",
      "P04264        KRT1  4.115892\n",
      "D6RFL4        CD14  3.892421\n",
      "E9PBV6        LSP1  3.671741\n",
      "Q9H3G5        CPVL  3.651801\n",
      "P55899       FCGRT  3.472000\n",
      "P02654       APOC1  3.256294\n",
      "F5H2M9        GBP1  3.228643\n",
      "H0YH67        ENAH  3.219540\n",
      "Q96C23        GALM  3.201194\n",
      "P15309        ACP3  2.883226\n",
      "P02649        APOE  2.818549\n",
      "O00534       VWA5A  2.798243\n",
      "E7ERA4       ITIH2  2.723164\n",
      "B5ME91       PDCD4  2.718878\n",
      "B4DIT7        TGM2  2.625781\n",
      "Q9H4G0-4   EPB41L1  2.619610\n",
      "Q04826       HLA-B  2.606156\n",
      "P28676         GCA  2.595084\n",
      "Q99523       SORT1  2.574805\n",
      "P45877        PPIC  2.563147\n",
      "  Li, P., et al. (2022) M2\n",
      "                Gene  Abundances (Grouped): M2\n",
      "Accession                                     \n",
      "O75923          DYSF                     600.0\n",
      "Q92968         PEX13                     600.0\n",
      "Q9Y6P5         SESN1                     600.0\n",
      "Q9BVQ7         AFG2B                     600.0\n",
      "Q8NFC6        BOD1L1                     600.0\n",
      "Q2VPB7         AP5B1                     387.1\n",
      "P28289         TMOD1                     349.1\n",
      "P25208          NFYB                     324.2\n",
      "O95251          KAT7                     319.7\n",
      "A8MUU1       FABP5P3                     300.0\n",
      "P30613          PKLR                     300.0\n",
      "Q8WZ42           TTN                     300.0\n",
      "Q9UN36         NDRG2                     300.0\n",
      "P00736           C1R                     300.0\n",
      "Q8NFY9        KBTBD8                     300.0\n",
      "Q9Y6A5         TACC3                     300.0\n",
      "P30281         CCND3                     300.0\n",
      "Q6ZWB6         KCTD8                     300.0\n",
      "Q9NZH8         IL36G                     300.0\n",
      "Q9H8M7        MINDY3                     300.0\n",
      "Q8N4L2        PIP4P2                     300.0\n",
      "Q14568     HSP90AA2P                     294.6\n",
      "P04731          MT1A                     292.9\n",
      "Q01968          OCRL                     288.2\n",
      "Q9BWH6         RPAP1                     261.8\n",
      "  Li, P., et al. (2021) M2\n",
      "               Gene  Abundances (Grouped): M2\n",
      "Accession                                    \n",
      "P24723        PRKCH                     300.0\n",
      "Q99726      SLC30A3                     300.0\n",
      "P00749         PLAU                     300.0\n",
      "Q9NRY4     ARHGAP35                     300.0\n",
      "P34931       HSPA1L                     300.0\n",
      "O15126       SCAMP1                     300.0\n",
      "Q96Q40        CDK15                     300.0\n",
      "Q9BZD2      SLC29A3                     300.0\n",
      "Q9H4L5       OSBPL3                     300.0\n",
      "P17936       IGFBP3                     300.0\n",
      "Q9HAC8        UBTD1                     300.0\n",
      "P29373       CRABP2                     287.2\n",
      "Q8N556        AFAP1                     282.2\n",
      "Q71RC2        LARP4                     270.7\n",
      "O94788      ALDH1A2                     270.7\n",
      "P21980         TGM2                     270.5\n",
      "P48594     SERPINB4                     265.9\n",
      "Q8N8S7         ENAH                     258.4\n",
      "Q7L513        FCRLA                     253.9\n",
      "O75487         GPC4                     253.7\n",
      "Q8TED4      SLC37A2                     253.3\n",
      "Q96K37      SLC35E1                     249.6\n",
      "Q9NNW5         WDR6                     248.2\n",
      "P06858          LPL                     243.0\n",
      "Q9Y625         GPC6                     242.5\n"
     ]
    }
   ],
   "source": [
    "\n",
    "# Shared (considering Abundance)\n",
    "print(f\"\\n-- Top {TOP_GENES} genes in Iwata, H., et al. (2016) dataset by Abundance --------------------------------------------------\")\n",
    "top_genes_2016_iwata_M0 = df_2016_iwata[df_2016_iwata[\"Type\"] == \"M0\"][[\"Gene\", \"131/126\"]].dropna().sort_values(by=\"131/126\", ascending=False).head(TOP_GENES)\n",
    "top_genes_2016_iwata_M1 = df_2016_iwata[df_2016_iwata[\"Type\"] == \"M1\"][[\"Gene\", \"131/126\"]].dropna().sort_values(by=\"131/126\", ascending=False).head(TOP_GENES)\n",
    "top_genes_2016_iwata_M2 = df_2016_iwata[df_2016_iwata[\"Type\"] == \"M2\"][[\"Gene\", \"131/126\"]].dropna().sort_values(by=\"131/126\", ascending=False).head(TOP_GENES)\n",
    "\n",
    "top_genes_2021_pengfei_M0 = df_2021_pengfei[[\"Gene\", \"Abundances (Grouped): M0\"]].dropna().sort_values(by=\"Abundances (Grouped): M0\", ascending=False).head(TOP_GENES)\n",
    "top_genes_2021_pengfei_M1 = df_2021_pengfei[[\"Gene\", \"Abundances (Grouped): M1\"]].dropna().sort_values(by=\"Abundances (Grouped): M1\", ascending=False).head(TOP_GENES)\n",
    "top_genes_2021_pengfei_M2 = df_2021_pengfei[[\"Gene\", \"Abundances (Grouped): M2\"]].dropna().sort_values(by=\"Abundances (Grouped): M2\", ascending=False).head(TOP_GENES)\n",
    "\n",
    "top_genes_2022_pengfei_M0 = df_2022_pengfei[[\"Gene\", \"Abundances (Grouped): M0\"]].dropna().sort_values(by=\"Abundances (Grouped): M0\", ascending=False).head(TOP_GENES)\n",
    "top_genes_2022_pengfei_M1 = df_2022_pengfei[[\"Gene\", \"Abundances (Grouped): M1\"]].dropna().sort_values(by=\"Abundances (Grouped): M1\", ascending=False).head(TOP_GENES)\n",
    "top_genes_2022_pengfei_M2 = df_2022_pengfei[[\"Gene\", \"Abundances (Grouped): M2\"]].dropna().sort_values(by=\"Abundances (Grouped): M2\", ascending=False).head(TOP_GENES)\n",
    "\n",
    "print(\"  Iwata, H., et al. (2016) M0\")\n",
    "print(top_genes_2016_iwata_M0)\n",
    "print(\"  Li, P., et al. (2022) M0\")\n",
    "print(top_genes_2022_pengfei_M0)\n",
    "print(\"  Li, P., et al. (2021) M0\")\n",
    "print(top_genes_2021_pengfei_M0)\n",
    "\n",
    "print(\"  Iwata, H., et al. (2016) M1\")\n",
    "print(top_genes_2016_iwata_M1)\n",
    "print(\"  Li, P., et al. (2022) M1\")\n",
    "print(top_genes_2022_pengfei_M1)\n",
    "print(\"  Li, P., et al. (2021) M1\")\n",
    "print(top_genes_2021_pengfei_M1)\n",
    "\n",
    "print(\"  Iwata, H., et al. (2016) M2\")\n",
    "print(top_genes_2016_iwata_M2)\n",
    "print(\"  Li, P., et al. (2022) M2\")\n",
    "print(top_genes_2022_pengfei_M2)\n",
    "print(\"  Li, P., et al. (2021) M2\")\n",
    "print(top_genes_2021_pengfei_M2)\n"
   ]
  },
  {
   "cell_type": "code",
   "execution_count": 24,
   "metadata": {},
   "outputs": [
    {
     "name": "stdout",
     "output_type": "stream",
     "text": [
      "Genes present in the top 25 genes in M0 for all datasets:\n",
      "  Iwata, H., et al. (2016): ['PRKCA' 'RAB3IL1' 'IFNGR1' 'VTN' 'GBP1' 'P4HB' 'AHSG' 'CENPI' 'CDK1'\n",
      " 'H3-4' 'PATJ' 'CRYBB1' 'CKAP2' 'SCARB1' 'INA' 'ALB' 'MKI67' 'TOP2A'\n",
      " 'ANLN' 'TPM2' 'TACC3' 'NUMA1' 'GC' 'FCGRT' 'HVCN1']\n",
      "  Li, P., et al. (2022): ['ZFAND1' 'MRPL52' 'UBASH3B' 'DENND4A' 'PRKAR2B' 'WDHD1' 'POU2F1' 'GINS3'\n",
      " 'FLT3' 'TGFBR1' 'CCDC51' 'APOC1' 'LYZ' 'PZP' 'CTDSPL2' 'ITM2B' 'MLX'\n",
      " 'PPCDC' 'UBP1' 'PRTN3' 'STAU2' 'ACTR3B' 'RFC1' 'BST2' 'WIZ']\n",
      "  Li, P., et al. (2021): ['CCDC25' 'TACC3' 'ZNF830' 'EGFL7' 'MTF2' 'CNN3' 'KNTC1' 'RREB1' 'NSD3'\n",
      " 'YJU2' 'MSL1' 'CIP2A' 'RRP15' 'BMI1' 'PIAS1' 'WAC' 'KIF2C' 'ANAPC5'\n",
      " 'ASF1B' 'TMOD1' 'E2F4' 'MPLKIP' 'ZNF148' 'PFKFB3' 'NCAPG2']\n",
      "Intersection of top genes in M0 the three bulk all datasets: []\n",
      "\n",
      "Genes present in the top 25 genes in M1 for all datasets:\n",
      "  Iwata, H., et al. (2016): ['IDO1' 'HLA-DRA' 'GBP1' 'HLA-DQA1' 'ANKRD22' 'SPP1' 'H2BC18' 'WARS1'\n",
      " 'ALB' 'PINLYP' 'HSPA2' 'GBP5' 'MYL12A' 'RPL26L1' 'MMP1' 'H1-4' 'GBP2'\n",
      " 'RPL29' 'B2M' 'C1QBP' 'TPM2' 'CREG1' 'CD74' 'HINT2' 'CD274']\n",
      "  Li, P., et al. (2022): ['ALDH1L1' 'CXCL9' 'RILPL2' 'HLX' 'NMT2' 'XAF1' 'CYP27B1' 'PTP4A1'\n",
      " 'CXCL10' 'IDO1' 'GBP1' 'HLA-DRA' 'GBP5' 'HLA-DRB1' 'CALHM6' 'ISG20' 'MX1'\n",
      " 'GBP7' 'ACOD1' 'CCL5' 'IFIT2' 'OASL' 'SP110' 'BRDT' 'RSAD2']\n",
      "  Li, P., et al. (2021): ['RNF149' 'SLC8A1' 'ZCCHC2' 'USP41' 'COX17' 'HLA-DRB1' 'AIM2' 'RILPL2'\n",
      " 'MINK1' 'MT2A' 'SERPING1' 'INHBA' 'RIMOC1' 'MON1B' 'HLA-DRB1' 'GBP6'\n",
      " 'HLA-DRB1' 'GABARAPL1' 'HABP2' 'ARHGAP32' 'HLA-DRB1' 'COG6' 'CD274'\n",
      " 'USP18' 'HLA-DRB1']\n",
      "Intersection of top genes in M1 for the three bulk datasets: []\n",
      "\n",
      "Genes present in the top 25 genes in M2 for all datasets:\n",
      "  Iwata, H., et al. (2016): ['PIGR' 'KRT10' 'GLUL' 'C2' 'BLVRB' 'KRT1' 'CD14' 'LSP1' 'CPVL' 'FCGRT'\n",
      " 'APOC1' 'GBP1' 'ENAH' 'GALM' 'ACP3' 'APOE' 'VWA5A' 'ITIH2' 'PDCD4' 'TGM2'\n",
      " 'EPB41L1' 'HLA-B' 'GCA' 'SORT1' 'PPIC']\n",
      "  Li, P., et al. (2022): ['DYSF' 'PEX13' 'SESN1' 'AFG2B' 'BOD1L1' 'AP5B1' 'TMOD1' 'NFYB' 'KAT7'\n",
      " 'FABP5P3' 'PKLR' 'TTN' 'NDRG2' 'C1R' 'KBTBD8' 'TACC3' 'CCND3' 'KCTD8'\n",
      " 'IL36G' 'MINDY3' 'PIP4P2' 'HSP90AA2P' 'MT1A' 'OCRL' 'RPAP1']\n",
      "  Li, P., et al. (2021): ['PRKCH' 'SLC30A3' 'PLAU' 'ARHGAP35' 'HSPA1L' 'SCAMP1' 'CDK15' 'SLC29A3'\n",
      " 'OSBPL3' 'IGFBP3' 'UBTD1' 'CRABP2' 'AFAP1' 'LARP4' 'ALDH1A2' 'TGM2'\n",
      " 'SERPINB4' 'ENAH' 'FCRLA' 'GPC4' 'SLC37A2' 'SLC35E1' 'WDR6' 'LPL' 'GPC6']\n",
      "Intersection of top genes in M2 for the three bulk datasets: []\n"
     ]
    }
   ],
   "source": [
    "# Shared genes in the top abundant genes by group \n",
    "\n",
    "# M0\n",
    "print(\"Genes present in the top\", TOP_GENES, \"genes in M0 for all datasets:\")\n",
    "print(\"  Iwata, H., et al. (2016):\", top_genes_2016_iwata_M0[\"Gene\"].values)\n",
    "print(\"  Li, P., et al. (2022):\", top_genes_2022_pengfei_M0[\"Gene\"].values)\n",
    "print(\"  Li, P., et al. (2021):\", top_genes_2021_pengfei_M0[\"Gene\"].values)\n",
    "\n",
    "intersection_genes = set(top_genes_2016_iwata_M0[\"Gene\"]).intersection(\n",
    "    set(top_genes_2022_pengfei_M0[\"Gene\"]),\n",
    "    set(top_genes_2021_pengfei_M0[\"Gene\"])\n",
    ")\n",
    "print(\"Intersection of top genes in M0 the three bulk all datasets:\", list(intersection_genes))\n",
    "\n",
    "# M1\n",
    "print(\"\\nGenes present in the top\", TOP_GENES, \"genes in M1 for all datasets:\")\n",
    "print(\"  Iwata, H., et al. (2016):\", top_genes_2016_iwata_M1[\"Gene\"].values)\n",
    "print(\"  Li, P., et al. (2022):\", top_genes_2022_pengfei_M1[\"Gene\"].values)\n",
    "print(\"  Li, P., et al. (2021):\", top_genes_2021_pengfei_M1[\"Gene\"].values)\n",
    "\n",
    "intersection_genes = set(top_genes_2016_iwata_M1[\"Gene\"]).intersection(\n",
    "    set(top_genes_2022_pengfei_M1[\"Gene\"]),\n",
    "    set(top_genes_2021_pengfei_M1[\"Gene\"])\n",
    ")\n",
    "print(\"Intersection of top genes in M1 for the three bulk datasets:\", list(intersection_genes))\n",
    "\n",
    "# M2\n",
    "print(\"\\nGenes present in the top\", TOP_GENES, \"genes in M2 for all datasets:\")\n",
    "print(\"  Iwata, H., et al. (2016):\", top_genes_2016_iwata_M2[\"Gene\"].values)\n",
    "print(\"  Li, P., et al. (2022):\", top_genes_2022_pengfei_M2[\"Gene\"].values)\n",
    "print(\"  Li, P., et al. (2021):\", top_genes_2021_pengfei_M2[\"Gene\"].values)\n",
    "\n",
    "intersection_genes = set(top_genes_2016_iwata_M2[\"Gene\"]).intersection(\n",
    "    set(top_genes_2022_pengfei_M2[\"Gene\"]),\n",
    "    set(top_genes_2021_pengfei_M2[\"Gene\"])\n",
    ")\n",
    "print(\"Intersection of top genes in M2 for the three bulk datasets:\", list(intersection_genes))\n"
   ]
  },
  {
   "cell_type": "markdown",
   "metadata": {},
   "source": [
    "None of the most abundant Genes (by group) are found in the three bulk datasets."
   ]
  },
  {
   "cell_type": "code",
   "execution_count": 25,
   "metadata": {},
   "outputs": [],
   "source": [
    "# Save the data into 4 files\n",
    "#df_2016_iwata.to_csv(\"./data/processed/2016_iwata_genes.csv\")\n",
    "#df_2022_pengfei.to_csv(\"./data/processed/2022_pengfei_genes.csv\")\n",
    "#df_2021_pengfei.to_csv(\"./data/processed/2021_pengfei_genes.csv\")\n",
    "#df_huffman_adata.write(\"./data/processed/2022_huffman_genes.h5ad\")"
   ]
  },
  {
   "cell_type": "code",
   "execution_count": 26,
   "metadata": {},
   "outputs": [
    {
     "name": "stdout",
     "output_type": "stream",
     "text": [
      "\n",
      "Removing Null values for Gene Name\n",
      "  Iwata, H., et al. (2016): 53\n",
      "  Li, P., et al. (2022): 1\n",
      "  Li, P., et al. (2021): 1\n",
      "  Huffman, R. G., et al. (2022): 18\n"
     ]
    }
   ],
   "source": [
    "# Remove null values \n",
    "print(\"\\nRemoving Null values for Gene Name\")\n",
    "print(\"  Iwata, H., et al. (2016):\", df_2016_iwata[\"Gene\"].isnull().sum().sum())\n",
    "print(\"  Li, P., et al. (2022):\", df_2022_pengfei[\"Gene\"].isnull().sum().sum())\n",
    "print(\"  Li, P., et al. (2021):\", df_2021_pengfei[\"Gene\"].isnull().sum().sum())\n",
    "print(\"  Huffman, R. G., et al. (2022):\", df_huffman_adata.var[df_huffman_adata.var[\"Gene\"].isnull()].shape[0])\n",
    "\n",
    "df_2016_iwata = df_2016_iwata[~df_2016_iwata[\"Gene\"].isnull()]\n",
    "df_2022_pengfei = df_2022_pengfei[~df_2022_pengfei[\"Gene\"].isnull()]\n",
    "df_2021_pengfei = df_2021_pengfei[~df_2021_pengfei[\"Gene\"].isnull()]\n",
    "df_huffman_adata = df_huffman_adata[:, ~df_huffman_adata.var[\"Gene\"].isnull()]\n"
   ]
  },
  {
   "cell_type": "code",
   "execution_count": 49,
   "metadata": {},
   "outputs": [
    {
     "data": {
      "image/png": "[encoded data removed]",
      "text/plain": [
       "<Figure size 1200x500 with 1 Axes>"
      ]
     },
     "metadata": {},
     "output_type": "display_data"
    }
   ],
   "source": [
    "# Density plot for the intensities of all the proteins identified in Huffman, R. G., et al. (2022) dataset\n",
    "df_huffman_intensity = pd.DataFrame(df_huffman_adata.X, index=df_huffman_adata.obs.index, columns=df_huffman_adata.var.index)\n",
    "df_huffman_intensity = df_huffman_intensity.T\n",
    "\n",
    "fig, ax = plt.subplots(1, 1, figsize=(12, 5))\n",
    "for col in df_huffman_intensity.columns:\n",
    "    sns.kdeplot(df_huffman_intensity[col], ax=ax, color='red', alpha=0.8)\n",
    "ax.set_title(\"Density plot of the intensities of all the proteins identified in Huffman, R. G., et al. (2022) dataset\")\n",
    "ax.set_xlabel(\"Intensity\")\n",
    "plt.show()"
   ]
  },
  {
   "cell_type": "code",
   "execution_count": 105,
   "metadata": {},
   "outputs": [
    {
     "name": "stdout",
     "output_type": "stream",
     "text": [
      "\n",
      "-- Checking missing values and outliers -----------------------------------------\n",
      "  Iwata, H., et al. (2016): 1680\n",
      "  Li, P., et al. (2022): 17555\n",
      "  Li, P., et al. (2021): 37778\n",
      "  Huffman, R. G., et al. (2022): 0\n"
     ]
    },
    {
     "data": {
      "image/png": "[encoded data removed]",
      "text/plain": [
       "<Figure size 1800x800 with 6 Axes>"
      ]
     },
     "metadata": {},
     "output_type": "display_data"
    },
    {
     "name": "stdout",
     "output_type": "stream",
     "text": [
      "\n",
      "Number of proteins with Abundance higher than 500:\n",
      "  Li, P., et al. (2022) M0: 14\n",
      "  Li, P., et al. (2022) M1: 22\n",
      "\n",
      "Max and min values for the abundance:\n",
      "  Li, P., et al. (2022) M0,  Min: 0.1  - Max:  600.0\n",
      "  Li, P., et al. (2022) M1,  Min: 1.3  - Max:  600.0\n",
      "  Li, P., et al. (2022) M2,  Min: 2.525  - Max:  600.0\n",
      "\n",
      "  Li, P., et al. (2021) M0,  Min: 1.6  - Max:  300.0\n",
      "  Li, P., et al. (2021) M1,  Min: 5.9  - Max:  300.0\n",
      "  Li, P., et al. (2021) M2,  Min: 1.7  - Max:  300.0\n"
     ]
    }
   ],
   "source": [
    "# Check missing values and outliers for df_2016_iwata\n",
    "print(\"\\n-- Checking missing values and outliers -----------------------------------------\")\n",
    "print(\"  Iwata, H., et al. (2016):\", df_2016_iwata.isnull().sum().sum())\n",
    "print(\"  Li, P., et al. (2022):\", df_2022_pengfei.isnull().sum().sum())\n",
    "print(\"  Li, P., et al. (2021):\", df_2021_pengfei.isnull().sum().sum())\n",
    "print(\"  Huffman, R. G., et al. (2022):\", np.isnan(df_huffman_adata.X).sum())\n",
    "\n",
    "# Check the distribution of the intensities for the 4 datasets\n",
    "fig, ax = plt.subplots(2, 3, figsize=(18, 8))\n",
    "sns.histplot(df_2022_pengfei[\"Abundances (Grouped): M0\"], log_scale=False, ax=ax[0,0], legend=False, bins=25, color=\"red\")\n",
    "sns.histplot(df_2021_pengfei[\"Abundances (Grouped): M0\"], log_scale=False, ax=ax[1,0], legend=False, bins=25, color=\"darkred\")\n",
    "sns.histplot(df_2022_pengfei[\"Abundances (Grouped): M1\"], log_scale=False, ax=ax[0,1], legend=False, bins=25, color=\"blue\")\n",
    "sns.histplot(df_2021_pengfei[\"Abundances (Grouped): M1\"], log_scale=False, ax=ax[1,1], legend=False, bins=25, color=\"darkblue\")\n",
    "sns.histplot(df_2022_pengfei[\"Abundances (Grouped): M2\"], log_scale=False, ax=ax[0,2], legend=False, bins=25, color=\"green\")\n",
    "sns.histplot(df_2021_pengfei[\"Abundances (Grouped): M2\"], log_scale=False, ax=ax[1,2], legend=False, bins=25, color=\"darkgreen\")\n",
    "\n",
    "# for each column, put the same scale for the x-axis and the y-axis\n",
    "for a in ax.flatten():\n",
    "    a.set_xlim([0, 400])\n",
    "    a.set_ylim([0, 2500])\n",
    "\n",
    "plt.tight_layout()\n",
    "plt.show()\n",
    "\n",
    "# Set y-axis labels\n",
    "ax[0,0].set_ylabel(\"Count of Proteins (Li, P., et al. (2022))\")\n",
    "ax[1,0].set_ylabel(\"Count of Proteins (Li, P., et al. (2021))\")\n",
    "ax[0,1].set_ylabel(\"Count of Proteins (Li, P., et al. (2022))\")\n",
    "ax[1,1].set_ylabel(\"Count of Proteins (Li, P., et al. (2021))\")\n",
    "ax[0,2].set_ylabel(\"Count of Proteins (Li, P., et al. (2022))\")\n",
    "ax[1,2].set_ylabel(\"Count of Proteins (Li, P., et al. (2021))\")\n",
    "\n",
    "# Number of counts with Abundance higher than 500\n",
    "print(\"\\nNumber of proteins with Abundance higher than 500:\")\n",
    "print(\"  Li, P., et al. (2022) M0:\", (df_2022_pengfei[\"Abundances (Grouped): M0\"] > 500).sum())\n",
    "print(\"  Li, P., et al. (2022) M1:\", (df_2022_pengfei[\"Abundances (Grouped): M1\"] > 500).sum())\n",
    "\n",
    "# Min and Max values\n",
    "print(\"\\nMax and min values for the abundance:\")\n",
    "print(\"  Li, P., et al. (2022) M0,  Min:\", df_2022_pengfei[\"Abundances (Grouped): M0\"].min(), \" - Max: \",df_2022_pengfei[\"Abundances (Grouped): M0\"].max())\n",
    "print(\"  Li, P., et al. (2022) M1,  Min:\", df_2022_pengfei[\"Abundances (Grouped): M1\"].min(), \" - Max: \",df_2022_pengfei[\"Abundances (Grouped): M1\"].max())\n",
    "print(\"  Li, P., et al. (2022) M2,  Min:\", df_2022_pengfei[\"Abundances (Grouped): M2\"].min(), \" - Max: \",df_2022_pengfei[\"Abundances (Grouped): M2\"].max())\n",
    "print(\"\\n  Li, P., et al. (2021) M0,  Min:\", df_2021_pengfei[\"Abundances (Grouped): M0\"].min(), \" - Max: \",df_2021_pengfei[\"Abundances (Grouped): M0\"].max())\n",
    "print(\"  Li, P., et al. (2021) M1,  Min:\", df_2021_pengfei[\"Abundances (Grouped): M1\"].min(), \" - Max: \",df_2021_pengfei[\"Abundances (Grouped): M1\"].max())\n",
    "print(\"  Li, P., et al. (2021) M2,  Min:\", df_2021_pengfei[\"Abundances (Grouped): M2\"].min(), \" - Max: \",df_2021_pengfei[\"Abundances (Grouped): M2\"].max())"
   ]
  },
  {
   "cell_type": "code",
   "execution_count": null,
   "metadata": {},
   "outputs": [],
   "source": [
    "# Filter out the genes with gene name starting by 'None ('\n",
    "print(\"\\n-- Removing proteins without Gene Name ---------------------------------------------------------------------\")\n",
    "print(\"  Iwata, H., et al. (2016):\", df_2016_iwata[df_2016_iwata[\"Gene\"].str.startswith(\"None (\")].shape[0], \"out of\",df_2016_iwata.shape[0], \"proteins have been removed\")\n",
    "df_2016_iwata = df_2016_iwata[~df_2016_iwata[\"Gene\"].str.startswith(\"None (\")]\n",
    "print(\"  Li, P., et al. (2022):\", df_2022_pengfei[df_2022_pengfei[\"Gene\"].str.startswith(\"None (\")].shape[0], \"out of\",df_2022_pengfei.shape[0], \"proteins have been removed\")\n",
    "df_2022_pengfei = df_2022_pengfei[~df_2022_pengfei[\"Gene\"].str.startswith(\"None (\")]\n",
    "print(\"  Li, P., et al. (2021):\", df_2021_pengfei[df_2021_pengfei[\"Gene\"].str.startswith(\"None (\")].shape[0], \"out of\",df_2021_pengfei.shape[0], \"proteins have been removed\")\n",
    "df_2021_pengfei = df_2021_pengfei[~df_2021_pengfei[\"Gene\"].str.startswith(\"None (\")]\n",
    "print(\"  Huffman, R. G., et al. (2022):\", df_huffman_adata.var[df_huffman_adata.var[\"Gene\"].str.startswith(\"None (\")].shape[0], \"out of\",df_huffman_adata.shape[1], \"proteins have been removed\")\n",
    "df_huffman_adata = df_huffman_adata[:, ~df_huffman_adata.var[\"Gene\"].str.startswith(\"None (\")]\n",
    "\n",
    "\n",
    "print(\"\\n-- Number of proteins after filtering -----------------------------------------------------------------------\")\n",
    "print(\"  Iwata, H., et al. (2016):\", df_2016_iwata[\"Gene\"].nunique())\n",
    "print(\"  Li, P., et al. (2022):\", df_2022_pengfei[\"Gene\"].nunique())\n",
    "print(\"  Li, P., et al. (2021):\", df_2021_pengfei[\"Gene\"].nunique())\n",
    "print(\"  Huffman, R. G., et al. (2022):\", df_huffman_adata.var[\"Gene\"].nunique())"
   ]
  },
  {
   "cell_type": "markdown",
   "metadata": {},
   "source": [
    "---\n",
    "## 1. Quantitative proteomic profiling of M0, M1 and M2"
   ]
  },
  {
   "cell_type": "markdown",
   "metadata": {},
   "source": [
    "**1.1 Total number of identified proteins per Dataset**"
   ]
  },
  {
   "cell_type": "code",
   "execution_count": null,
   "metadata": {},
   "outputs": [],
   "source": [
    "df_studies = pd.DataFrame({\n",
    "    \"Study\": [\"Iwata, H., et al. (2016)\", \"Li, P., et al. (2022)\", \"Li, P., et al. (2021)\", \"Huffman, R. G., et al. (2022)\"],\n",
    "    \"Unique Proteins\": [len(df_2016_iwata[\"Gene\"].unique()), len(df_2022_pengfei[\"Gene\"].unique()), len(df_2021_pengfei[\"Gene\"].unique()), len(df_huffman_adata.var[\"Gene\"].unique())],\n",
    "    \"Study type\": [\"Bulk\", \"Bulk\", \"Bulk\", \"Single-cell\"]\n",
    "})\n",
    "\n",
    "print(\"Total number of proteins identified in each dataset (includes proteins found in M0, M1 and M2):\")\n",
    "for i in range(len(df_studies)):\n",
    "    print(df_studies[\"Study\"][i], \"->\", df_studies[\"Unique Proteins\"][i], \"unique proteins\")\n",
    "\n",
    "plt.figure(figsize=(9, 5))\n",
    "sns.barplot(data=df_studies, x=\"Study\", y=\"Unique Proteins\", hue=\"Study type\")\n",
    "plt.xticks(rotation=45)\n",
    "plt.title(\"Number of unique proteins identified in each study (including M0, M1 and M2)\")\n",
    "plt.show()\n"
   ]
  },
  {
   "cell_type": "markdown",
   "metadata": {},
   "source": [
    "Note that 2022 Huffman et al. do not contain data for M2 phenotype.\n",
    "\n",
    "**Comparing the Genes instead of Proteins**"
   ]
  },
  {
   "cell_type": "code",
   "execution_count": null,
   "metadata": {},
   "outputs": [],
   "source": [
    "# Number of genes found in each dataset\n",
    "df_studies = pd.DataFrame({\n",
    "    \"Study\": [\"Iwata, H., et al. (2016)\", \"Li, P., et al. (2022)\", \"Li, P., et al. (2021)\", \"Huffman, R. G., et al. (2022)\"],\n",
    "    \"Unique Genes\": [len(df_2016_iwata[\"Gene\"].unique()), len(df_2022_pengfei[\"Gene\"].unique()), len(df_2021_pengfei[\"Gene\"].unique()), len(df_huffman_adata.var[\"Gene\"].unique())],\n",
    "    \"Study type\": [\"Bulk\", \"Bulk\", \"Bulk\", \"Single-cell\"]\n",
    "})\n",
    "\n",
    "print(\"Total number of genes identified in each dataset (includes proteins found in M0, M1 and M2):\")\n",
    "for i in range(len(df_studies)):\n",
    "    print(df_studies[\"Study\"][i], \"->\", df_studies[\"Unique Genes\"][i], \"unique genes\")\n"
   ]
  },
  {
   "cell_type": "markdown",
   "metadata": {},
   "source": [
    "**1.2 Total number of identified proteins per Dataset and cell type**"
   ]
  },
  {
   "cell_type": "code",
   "execution_count": null,
   "metadata": {},
   "outputs": [],
   "source": [
    "# Number of proteins found in each cell type (M0, M1 and M2)\n",
    "print(\"Number of proteins found in each cell type:\")\n",
    "print (\"\\nIwata, H., et al. (2016)\")\n",
    "for cell_type in df_2016_iwata[\"Type\"].unique():\n",
    "    print(\" \", cell_type, \":\", len(df_2016_iwata[df_2016_iwata[\"Type\"] == cell_type].index.unique()))\n",
    "\n",
    "print (\"\\nLi, P., et al. (2022)\")\n",
    "print(\"  M0: \", len(df_2022_pengfei[df_2022_pengfei[\"Abundances (Grouped): M0\"] > 0].index.unique()))\n",
    "print(\"  M1: \", len(df_2022_pengfei[df_2022_pengfei[\"Abundances (Grouped): M1\"] > 0].index.unique()))\n",
    "print(\"  M2: \", len(df_2022_pengfei[df_2022_pengfei[\"Abundances (Grouped): M2\"] > 0].index.unique()))\n",
    "\n",
    "print (\"\\nLi, P., et al. (2021)\")\n",
    "print(\"  M0: \", len(df_2021_pengfei[df_2021_pengfei[\"Abundances (Grouped): M0\"] > 0].index.unique()))\n",
    "print(\"  M1: \", len(df_2021_pengfei[df_2021_pengfei[\"Abundances (Grouped): M1\"] > 0].index.unique()))\n",
    "print(\"  M2: \", len(df_2021_pengfei[df_2021_pengfei[\"Abundances (Grouped): M2\"] > 0].index.unique()))\n",
    "\n",
    "print (\"\\nHuffman, R. G., et al. (2022) - Not available due to data limitations\")\n",
    "print(\"  M0: N/A\")\n",
    "print(\"  M1: N/A\")\n",
    "print(\"  M2: N/A\")\n",
    "\n"
   ]
  },
  {
   "cell_type": "markdown",
   "metadata": {},
   "source": [
    "TODO: Review pSCoPE code (are they filtering missing values?)\n",
    "In a single-cell pipeline, there is a tendency of applying \"technical drop out\""
   ]
  },
  {
   "cell_type": "markdown",
   "metadata": {},
   "source": [
    "**1.3 Quantifiable proteins among the different cell types**"
   ]
  },
  {
   "cell_type": "code",
   "execution_count": null,
   "metadata": {},
   "outputs": [],
   "source": [
    "from matplotlib_venn import venn3\n",
    "\n",
    "# Create the figure with subplots\n",
    "fig, ax = plt.subplots(1, 3, figsize=(10, 4))\n",
    "\n",
    "# Venn diagram for the first experiment\n",
    "exp1_proteinsM0 = set(df_2016_iwata[df_2016_iwata[\"Type\"] == \"M0\"].index)\n",
    "exp1_proteinsM1 = set(df_2016_iwata[df_2016_iwata[\"Type\"] == \"M1\"].index)\n",
    "exp1_proteinsM2 = set(df_2016_iwata[df_2016_iwata[\"Type\"] == \"M2\"].index)\n",
    "venn1 = venn3([exp1_proteinsM0, exp1_proteinsM1, exp1_proteinsM2], \n",
    "              set_labels=('M0', 'M1', 'M2'), \n",
    "              set_colors=('mediumaquamarine', 'slategrey', 'gold'), \n",
    "              ax=ax[0])\n",
    "ax[0].set_title(\"Proteins found by cell type\\n(Iwata, H., et al. (2016))\")\n",
    "\n",
    "# Venn diagram for the second experiment\n",
    "exp2_proteinsM0 = set(df_2022_pengfei[df_2022_pengfei[\"Abundances (Grouped): M0\"] > 0].index)\n",
    "exp2_proteinsM1 = set(df_2022_pengfei[df_2022_pengfei[\"Abundances (Grouped): M1\"] > 0].index)\n",
    "exp2_proteinsM2 = set(df_2022_pengfei[df_2022_pengfei[\"Abundances (Grouped): M2\"] > 0].index)\n",
    "venn2 = venn3([exp2_proteinsM0, exp2_proteinsM1, exp2_proteinsM2], \n",
    "              set_labels=('M0', 'M1', 'M2'), \n",
    "              set_colors=('mediumaquamarine', 'slategrey', 'gold'), \n",
    "              ax=ax[1])\n",
    "ax[1].set_title(\"Proteins found by cell type\\n(Li, P., et al. (2022))\")\n",
    "\n",
    "# Venn diagram for the third experiment\n",
    "exp3_proteinsM0 = set(df_2021_pengfei[df_2021_pengfei[\"Abundances (Grouped): M0\"] > 0].index)\n",
    "exp3_proteinsM1 = set(df_2021_pengfei[df_2021_pengfei[\"Abundances (Grouped): M1\"] > 0].index)\n",
    "exp3_proteinsM2 = set(df_2021_pengfei[df_2021_pengfei[\"Abundances (Grouped): M2\"] > 0].index)\n",
    "venn3 = venn3([exp3_proteinsM0, exp3_proteinsM1, exp3_proteinsM2], \n",
    "              set_labels=('M0', 'M1', 'M2'), \n",
    "              set_colors=('mediumaquamarine', 'slategrey', 'gold'), \n",
    "              ax=ax[2])\n",
    "ax[2].set_title(\"Proteins found by cell type\\n(Li, P., et al. (2021))\")\n",
    "\n",
    "\n",
    "# Set the font size for the set labels and subset labels for all diagrams\n",
    "for venn in [venn1, venn2, venn3]:\n",
    "    for label in venn.set_labels:\n",
    "        if label is not None:\n",
    "            label.set_fontsize(9)\n",
    "\n",
    "    for label in venn.subset_labels:\n",
    "        if label is not None:\n",
    "            label.set_fontsize(9)\n",
    "\n",
    "plt.tight_layout()\n",
    "plt.show()\n"
   ]
  },
  {
   "cell_type": "markdown",
   "metadata": {},
   "source": [
    "*Note that some of the identified proteins might have a very low abundance. These diagrams consider all proteins found regardless of the abundance. \n",
    "<br>It also includes proteins found in just some of the samples of a specific cell type.*\n",
    "\n",
    "<br>\n",
    "<u>Due to limitations on the data available for Huffman et al. 2021, it is not possible to plot its Venn diagram</u>"
   ]
  },
  {
   "cell_type": "markdown",
   "metadata": {},
   "source": [
    "**1.4 Proteins found in ALL datasets (excluding those without this information), grouped by cell type**<br><br>\n",
    "\n",
    "First, considering only bulk data."
   ]
  },
  {
   "cell_type": "code",
   "execution_count": null,
   "metadata": {},
   "outputs": [],
   "source": [
    "from matplotlib_venn import venn3\n",
    "\n",
    "commonM0_proteins = exp1_proteinsM0.intersection(exp2_proteinsM0).intersection(exp3_proteinsM0)\n",
    "commonM1_proteins = exp1_proteinsM1.intersection(exp2_proteinsM1).intersection(exp3_proteinsM1)\n",
    "commonM2_proteins = exp1_proteinsM2.intersection(exp2_proteinsM2).intersection(exp3_proteinsM2)\n",
    "\n",
    "print(\"Number of common proteins found in M0:\", len(commonM0_proteins))\n",
    "print(\"Number of common proteins found in M1:\", len(commonM1_proteins))\n",
    "print(\"Number of common proteins found in M2:\", len(commonM2_proteins))\n",
    "\n",
    "\n",
    "# Venn diagram for the common proteins\n",
    "venn = venn3([commonM0_proteins, commonM1_proteins, commonM2_proteins], set_labels=('M0', 'M1', 'M2'), set_colors=('mediumaquamarine', 'slategrey', 'gold'))\n",
    "plt.title(\"Common proteins found by cell type\")\n",
    "\n",
    "for label in venn.set_labels:\n",
    "    if label is not None:\n",
    "        label.set_fontsize(9)\n",
    "\n",
    "for label in venn.subset_labels:\n",
    "    if label is not None:\n",
    "        label.set_fontsize(9)\n",
    "plt.show()\n"
   ]
  },
  {
   "cell_type": "markdown",
   "metadata": {},
   "source": [
    "Now, data from single-cell is also included."
   ]
  },
  {
   "cell_type": "code",
   "execution_count": null,
   "metadata": {},
   "outputs": [],
   "source": [
    "exp4_proteins = set(df_huffman_adata.var.index)\n",
    "\n",
    "# As it is not possible to know the proteins found in each cell type for the experiment 5, a conservative approach is taken so that no protein is excluded\n",
    "huff_commonM0_proteins = exp1_proteinsM0.intersection(exp2_proteinsM0).intersection(exp3_proteinsM0).intersection(exp4_proteins)\n",
    "huff_commonM1_proteins = exp1_proteinsM1.intersection(exp2_proteinsM1).intersection(exp3_proteinsM1).intersection(exp4_proteins)\n",
    "\n",
    "# Print the number of common proteins\n",
    "print(\"Number of common proteins found in M0:\", len(huff_commonM0_proteins))\n",
    "print(\"Number of common proteins found in M1:\", len(huff_commonM1_proteins))"
   ]
  },
  {
   "cell_type": "markdown",
   "metadata": {},
   "source": [
    "By intersecting the proteins identified in the single cell experiment (Huffman et al. 2022), **there is no coincidence** with any protein, neither in M0 nor in M1. \n",
    "Note that single-cell data do not contain M2 cell types.\n",
    "\n",
    "The same exercise follows, but now **using the gene name instead of the protein ID**."
   ]
  },
  {
   "cell_type": "code",
   "execution_count": null,
   "metadata": {},
   "outputs": [],
   "source": [
    "common_genes = set(df_2016_iwata[\"Gene\"]).intersection(set(df_2022_pengfei[\"Gene\"])).intersection(set(df_2021_pengfei[\"Gene\"])).intersection(set(df_huffman_adata.var[\"Gene\"]))\n",
    "print(\"Number of common genes found in all datasets:\", len(common_genes))"
   ]
  },
  {
   "cell_type": "markdown",
   "metadata": {},
   "source": [
    "As the result of intersecting the gene names, **936 genes** have been identified as common in the 4 datasets"
   ]
  },
  {
   "cell_type": "markdown",
   "metadata": {},
   "source": [
    "Now gene names are used to analyse the distribution of proteins present in all the datasets by cell types"
   ]
  },
  {
   "cell_type": "code",
   "execution_count": null,
   "metadata": {},
   "outputs": [],
   "source": [
    "exp1_genesM0 = df_2016_iwata[df_2016_iwata[\"Type\"] == \"M0\"][\"Gene\"]\n",
    "exp1_genesM1 = df_2016_iwata[df_2016_iwata[\"Type\"] == \"M1\"][\"Gene\"]\n",
    "exp1_genesM2 = df_2016_iwata[df_2016_iwata[\"Type\"] == \"M2\"][\"Gene\"]\n",
    "\n",
    "exp2_genesM0 = df_2022_pengfei[df_2022_pengfei[\"Abundances (Grouped): M0\"] > 0][\"Gene\"]\n",
    "exp2_genesM1 = df_2022_pengfei[df_2022_pengfei[\"Abundances (Grouped): M1\"] > 0][\"Gene\"]\n",
    "exp2_genesM2 = df_2022_pengfei[df_2022_pengfei[\"Abundances (Grouped): M2\"] > 0][\"Gene\"]\n",
    "\n",
    "exp3_genesM0 = df_2021_pengfei[df_2021_pengfei[\"Abundances (Grouped): M0\"] > 0][\"Gene\"]\n",
    "exp3_genesM1 = df_2021_pengfei[df_2021_pengfei[\"Abundances (Grouped): M1\"] > 0][\"Gene\"]\n",
    "exp3_genesM2 = df_2021_pengfei[df_2021_pengfei[\"Abundances (Grouped): M2\"] > 0][\"Gene\"]\n",
    "\n",
    "exp4_genes = df_huffman_adata.var[\"Gene\"] "
   ]
  },
  {
   "cell_type": "code",
   "execution_count": null,
   "metadata": {},
   "outputs": [],
   "source": [
    "from matplotlib_venn import venn2\n",
    "\n",
    "commonM0_genes = set(exp1_genesM0).intersection(set(exp2_genesM0)).intersection(set(exp3_genesM0)).intersection(set(exp4_genes))\n",
    "commonM1_genes = set(exp1_genesM1).intersection(set(exp2_genesM1)).intersection(set(exp3_genesM1)).intersection(set(exp4_genes))\n",
    "\n",
    "print(\"Number of common genes found in M0:\", len(commonM0_genes))\n",
    "print(\"Number of common genes found in M1:\", len(commonM1_genes))\n",
    "print(\"Note that M2 genes are not considered as they are not available for the Huffman, R. G., et al. (2022) dataset\")\n",
    "\n",
    "# Venn diagram for the common genes\n",
    "venn = venn2([commonM0_genes, commonM1_genes], set_labels=('M0          ', '          M1'), set_colors=('mediumaquamarine', 'slategrey'))\n",
    "plt.title(\"Number of genes found in all studies by cell type\")\n",
    "\n",
    "for label in venn.set_labels:\n",
    "    if label is not None:\n",
    "        label.set_fontsize(10)\n",
    "\n",
    "for label in venn.subset_labels:\n",
    "    if label is not None:\n",
    "        label.set_fontsize(10)\n",
    "plt.show()\n"
   ]
  },
  {
   "cell_type": "markdown",
   "metadata": {},
   "source": [
    "As can be observed, there is a significant overlap in the genes expresssed across the four datasets.<br>\n",
    "Only few genes are exclusively expresed in each of the two groups.<br>\n",
    "This highlights the extensive commonality in protein expression between the different cell types."
   ]
  },
  {
   "cell_type": "markdown",
   "metadata": {},
   "source": [
    "**1.5 Comparing genes found in Bulk vs SC experiments**\n",
    "\n",
    "The objective is now to compare the proteins identified in all bulk datasets with those found in all single-cell experiments."
   ]
  },
  {
   "cell_type": "code",
   "execution_count": null,
   "metadata": {},
   "outputs": [],
   "source": [
    "from matplotlib_venn import venn2\n",
    "\n",
    "df_bulk = pd.concat([df_2016_iwata, df_2022_pengfei, df_2021_pengfei])\n",
    "df_bulk_genes = df_bulk[\"Gene\"].unique()\n",
    "df_sc = df_huffman_adata.var[\"Gene\"].unique()\n",
    "\n",
    "df_bulk_genes = [x for x in df_bulk_genes if str(x) != 'nan']\n",
    "df_sc = [x for x in df_sc if str(x) != 'nan']\n",
    "\n",
    "venn = venn2([set(df_bulk_genes), set(df_sc)], set_labels=('Bulk', 'Single-cell'), set_colors=('slategrey', 'gold'))\n",
    "plt.title(\"Genes found in Bulk vs Single-cell\")\n",
    "\n",
    "\n",
    "for label in venn.set_labels:\n",
    "    if label is not None:\n",
    "        label.set_fontsize(10)\n",
    "\n",
    "for label in venn.subset_labels:\n",
    "    if label is not None:\n",
    "        label.set_fontsize(10)\n",
    "\n",
    "plt.show()"
   ]
  },
  {
   "cell_type": "code",
   "execution_count": null,
   "metadata": {},
   "outputs": [],
   "source": [
    "df_2016_iwata2 = df_2016_iwata.copy()\n",
    "# Rename the column \"Score\" to \"Score Sequest HT: Sequest HT\"\n",
    "df_2016_iwata2 = df_2016_iwata2.rename(columns={\"Score\": \"Score Sequest HT: Sequest HT\"})\n",
    "\n",
    "# Merge df_2016_iwata, df_2022_pengfei and df_2021_pengfei\n",
    "df_bulk = pd.concat([df_2016_iwata2, df_2022_pengfei, df_2021_pengfei])\n",
    "df_bulk\n",
    "\n",
    "# pritn unique accessions (index) for the bulk data\n",
    "print(\"Unique accessions for the bulk data:\", df_bulk.index.nunique())\n",
    "print(\"Unique gene names for the bulk data:\", df_bulk[\"Gene\"].nunique())\n"
   ]
  },
  {
   "cell_type": "markdown",
   "metadata": {},
   "source": [
    "As observed in the previous diagram, most proteins identified in single-cell experiments are also present in bulk samples. However, some proteins are exclusively detected in either bulk or single-cell experiments. Here are some reasons for these discrepancies:<br>\n",
    "* **Sensitivity:** Bulk proteomics often offers higher sensitivity, enabling the identification of low-abundance proteins that single-cell proteomics (SCP) might miss due to the smaller sample size. However, SCP provides higher resolution, allowing the detection of rare proteins.\n",
    "\n",
    "* **Number of cells included in experiments:** Bulk experiments analyze a large number of cells together, while SCP examines individual cells. This difference in population size can lead to variations in the detected proteins.\n",
    "\n",
    "* **Heterogeneity:** SCP can identify proteins that are present only in specific cells within a population. In contrast, bulk experiments average the signal from many cells, potentially masking these proteins.\n",
    "\n",
    "* **Post-Translational Modifications (PTMs):** SCP can capture PTMs that may be missed in bulk experiments, as these modifications might not be uniformly distributed across the entire cell population.\n",
    "\n",
    "* **Technical variability:** The field of proteomics is rapidly evolving, with continuous improvements in methods and technologies. Variations in sample preparation and processing can significantly impact the final results, contributing to differences in protein identification between bulk and single-cell experiments."
   ]
  },
  {
   "cell_type": "markdown",
   "metadata": {},
   "source": [
    "The proteins found in single-cell datasets only:"
   ]
  },
  {
   "cell_type": "code",
   "execution_count": null,
   "metadata": {},
   "outputs": [],
   "source": [
    "print(\"Genes found in single-cells only:\", len(set(df_sc) - set(df_bulk_genes)))\n",
    "\n",
    "only_sc = set(df_sc) - set(df_bulk_genes)\n",
    "for gene in only_sc:\n",
    "    print(gene)\n"
   ]
  },
  {
   "cell_type": "markdown",
   "metadata": {},
   "source": [
    "When working with proteomics data, the method of data acquisition can significantly impact the proteins detected in the experiment. The three bulk datasets were acquired using Data-Dependent Acquisition (DDA), while the single-cell dataset was obtained through Data-Independent Acquisition (DIA).\n",
    "\n",
    "The proteins found only in the single-cell dataset might be due to DIA's full scanning approach, which captures a wider spectrum of proteins compared to DDA's selective targeting."
   ]
  },
  {
   "cell_type": "code",
   "execution_count": null,
   "metadata": {},
   "outputs": [],
   "source": [
    "# Dictionaries with the protein IDs and gene names (for single-cell data)\n",
    "sc_gene_dict = dict(zip(df_huffman_adata.var[\"Gene\"], df_huffman_adata.var.index))\n",
    "sc_prot_dict = dict(zip(df_huffman_adata.var.index, df_huffman_adata.var[\"Gene\"]))\n",
    "\n",
    "only_sc_genes = {k: sc_gene_dict[k] for k in only_sc}"
   ]
  },
  {
   "cell_type": "markdown",
   "metadata": {},
   "source": [
    "## 2. Up/Down-represented Proteins"
   ]
  },
  {
   "cell_type": "markdown",
   "metadata": {},
   "source": [
    "### 2.0 Data preparation"
   ]
  },
  {
   "cell_type": "code",
   "execution_count": null,
   "metadata": {},
   "outputs": [],
   "source": [
    "df_2021_pengfei_copy = df_2021_pengfei.copy()\n",
    "df_2022_pengfei_copy = df_2022_pengfei.copy()"
   ]
  },
  {
   "cell_type": "code",
   "execution_count": null,
   "metadata": {},
   "outputs": [],
   "source": [
    "# Take only the columns \"Gene\" and \"Abundances (Grouped): M0\", \"Abundances (Grouped): M1\" and \"Abundances (Grouped): M2\" and the index as \"Protein\" colunm\n",
    "df_2021_pengfei_copy = df_2021_pengfei_copy[[\"Gene\", \"Abundances (Grouped): M0\", \"Abundances (Grouped): M1\", \"Abundances (Grouped): M2\"]]\n",
    "\n",
    "# Rename \"Accession\" by \"Protein\" as name of the column\n",
    "df_2021_pengfei_copy = df_2021_pengfei_copy.rename(columns={\"Accession\": \"Protein\"})\n",
    "\n",
    "# Remove the rows with NaN values\n",
    "df_2021_pengfei_copy = df_2021_pengfei_copy.dropna(axis=0, how=\"all\")\n",
    "df_2021_pengfei_copy"
   ]
  },
  {
   "cell_type": "code",
   "execution_count": null,
   "metadata": {},
   "outputs": [],
   "source": [
    "df_2022_pengfei_copy = df_2022_pengfei_copy[[\"Gene\", \"Abundances (Grouped): M0\", \"Abundances (Grouped): M1\", \"Abundances (Grouped): M2\"]]\n",
    "df_2022_pengfei_copy\n",
    "\n",
    "# Rename \"Accession\" by \"Protein\" as name of the column\n",
    "df_2022_pengfei_copy = df_2022_pengfei_copy.rename(columns={\"Accession\": \"Protein\"})\n",
    "\n",
    "# Remove the rows with NaN values\n",
    "df_2022_pengfei_copy = df_2022_pengfei_copy.dropna(axis=0, how=\"all\")\n",
    "df_2022_pengfei_copy"
   ]
  },
  {
   "cell_type": "code",
   "execution_count": null,
   "metadata": {},
   "outputs": [],
   "source": [
    "df_2021_pengfei_copy[\"log2FC M1/M0\"] = np.log2(df_2021_pengfei_copy[\"Abundances (Grouped): M1\"] / df_2021_pengfei_copy[\"Abundances (Grouped): M0\"])\n",
    "df_2022_pengfei_copy[\"log2FC M1/M0\"] = np.log2(df_2022_pengfei_copy[\"Abundances (Grouped): M1\"] / df_2022_pengfei_copy[\"Abundances (Grouped): M0\"])\n",
    "\n",
    "#remove the rows with log2fc NaN values\n",
    "df_2021_pengfei_copy = df_2021_pengfei_copy.dropna(subset=[\"log2FC M1/M0\"])\n",
    "df_2022_pengfei_copy = df_2022_pengfei_copy.dropna(subset=[\"log2FC M1/M0\"])\n",
    "\n",
    "# merge the two datasets\n",
    "df_merged2 = pd.merge(df_2021_pengfei_copy, df_2022_pengfei_copy, left_index=True, right_index=True, suffixes=(\"_2021\", \"_2022\"))    \n",
    "df_merged2"
   ]
  },
  {
   "cell_type": "code",
   "execution_count": null,
   "metadata": {},
   "outputs": [],
   "source": [
    "df_2016_iwata_copy = df_2016_iwata.copy()\n",
    "\n",
    "df_m0 = df_2016_iwata_copy[df_2016_iwata_copy['Type'] == 'M0']\n",
    "df_m1 = df_2016_iwata_copy[df_2016_iwata_copy['Type'] == 'M1'] \n",
    "\n",
    "df_m0[\"131-126\"] = df_m0[\"131/126\"] - df_m0[\"126/126\"]\n",
    "df_m1[\"131-126\"] = df_m1[\"131/126\"] - df_m1[\"126/126\"]\n",
    "\n",
    "# merge the two datasets by the index\n",
    "df_merged = pd.merge(df_m0, df_m1, left_index=True, right_index=True, suffixes=(\"_M0\", \"_M1\"))\n",
    "\n",
    "# compute log2FC\n",
    "df_merged[\"log2FC M1/M0_2016\"] = np.log2(df_merged[\"131-126_M1\"] / df_merged[\"131-126_M0\"])\n",
    "\n",
    "# remove the rows with NaN values\n",
    "df_merged = df_merged.dropna(subset=[\"log2FC M1/M0_2016\"])\n",
    "\n",
    "#df_merged[\"log2FC M1/M0_2016\"]\n"
   ]
  },
  {
   "cell_type": "code",
   "execution_count": null,
   "metadata": {},
   "outputs": [],
   "source": [
    "# combine df_merged with df_merged2 by the index\n",
    "df_merged = pd.merge(df_merged, df_merged2, left_index=True, right_index=True)"
   ]
  },
  {
   "cell_type": "code",
   "execution_count": null,
   "metadata": {},
   "outputs": [],
   "source": [
    "df_merged[[\"log2FC M1/M0_2022\", \"log2FC M1/M0_2021\", \"log2FC M1/M0_2016\"]]\n"
   ]
  },
  {
   "cell_type": "code",
   "execution_count": null,
   "metadata": {},
   "outputs": [],
   "source": [
    "# normalize the log2FC values\n",
    "df_merged[\"log2FC M1/M0_2022\"] = (df_merged[\"log2FC M1/M0_2022\"] - df_merged[\"log2FC M1/M0_2022\"].mean()) / df_merged[\"log2FC M1/M0_2022\"].std()\n",
    "df_merged[\"log2FC M1/M0_2021\"] = (df_merged[\"log2FC M1/M0_2021\"] - df_merged[\"log2FC M1/M0_2021\"].mean()) / df_merged[\"log2FC M1/M0_2021\"].std()\n",
    "df_merged[\"log2FC M1/M0_2016\"] = (df_merged[\"log2FC M1/M0_2016\"] - df_merged[\"log2FC M1/M0_2016\"].mean()) / df_merged[\"log2FC M1/M0_2016\"].std()\n"
   ]
  },
  {
   "cell_type": "code",
   "execution_count": null,
   "metadata": {},
   "outputs": [],
   "source": [
    "# sort df_merged by the log2FC values\n",
    "df_merged = df_merged.sort_values(by=\"log2FC M1/M0_2022\")\n",
    "df_merged = df_merged.sort_values(by=\"log2FC M1/M0_2021\")\n",
    "df_merged = df_merged.sort_values(by=\"log2FC M1/M0_2016\")\n"
   ]
  },
  {
   "cell_type": "code",
   "execution_count": null,
   "metadata": {},
   "outputs": [],
   "source": [
    "# now the same but as scatter plot\n",
    "plt.figure(figsize=(10, 6))\n",
    "plt.scatter(df_merged.index, df_merged['log2FC M1/M0_2022'], color='#264653', label='Li, P., et al. 2022', alpha=0.5, s=8)\n",
    "plt.scatter(df_merged.index, df_merged['log2FC M1/M0_2021'], color='#e9c46a', label='Li, P., et al. 2021', alpha=0.5, s=8)\n",
    "plt.scatter(df_merged.index, df_merged['log2FC M1/M0_2016'], color='#e76f51', label='Iwata, H., et al. 2016', alpha=0.5, s=8)\n",
    "plt.xlabel('Genes sorted by log2(Fold Change)')\n",
    "plt.ylabel('log2(Fold Change)')\n",
    "plt.title('Genes by log2FC')\n",
    "plt.legend()\n",
    "# white grid\n",
    "#plt.grid(color = 'white')\n",
    "# hide x-axis values\n",
    "plt.xticks([])\n",
    "plt.show()\n"
   ]
  },
  {
   "cell_type": "code",
   "execution_count": null,
   "metadata": {},
   "outputs": [],
   "source": [
    "# Create the line plot\n",
    "plt.figure(figsize=(10, 6))\n",
    "plt.plot(df_merged.index, df_merged['log2FC M1/M0_2022'], color='#264653', label='Li, P., et al. 2022', alpha=1)\n",
    "plt.plot(df_merged.index, df_merged['log2FC M1/M0_2021'], color='#e9c46a', label='Li, P., et al. 2021', alpha=0.5)\n",
    "plt.plot(df_merged.index, df_merged['log2FC M1/M0_2016'], color='#e76f51', label='Iwata, H., et al. 2016', alpha=0.5)\n",
    "plt.xlabel('Genes sorted by log2(Fold Change)')\n",
    "plt.ylabel('log2(Fold Change)')\n",
    "plt.title('Genes by log2FC')\n",
    "plt.legend()\n",
    "# white grid\n",
    "#plt.grid(color = 'white')\n",
    "# hide x-axis values\n",
    "plt.xticks([])\n",
    "plt.show()\n"
   ]
  },
  {
   "cell_type": "markdown",
   "metadata": {},
   "source": [
    "### 2.1 Bulk datasets\n",
    "**2.1.1 PCA (Principal Component Analysis)**\n",
    "<br><br>\n",
    "Principal Component Analysis (PCA) reduces the dimensionality of data, allowing visualization of differences between groups of cells (M0 vs M1). It highlights which genes contribute most to these differences, identifying key biological drivers."
   ]
  },
  {
   "cell_type": "code",
   "execution_count": null,
   "metadata": {},
   "outputs": [],
   "source": [
    "df_2021_pengfei_copy = df_2021_pengfei.copy()\n",
    "df_2022_pengfei_copy = df_2022_pengfei.copy()\n",
    "\n",
    "try:\n",
    "    # Rename columns in df_2022_pengfei_copy\n",
    "    df_2022_pengfei_copy = df_2022_pengfei_copy.rename(columns={\n",
    "        \"Abundance Ratio: M2 / M0\": \"Abundance Ratio: (M2) / (M0)\",\n",
    "        \"Abundance Ratio: M2 / M1\": \"Abundance Ratio: (M2) / (M1)\"\n",
    "    })\n",
    "except KeyError:\n",
    "    pass\n",
    "\n",
    "# Set df_2022_pengfei_copy[\"Abundance Ratio: (M1) / (M0)\"]\n",
    "df_2022_pengfei_copy[\"Abundance Ratio: (M1) / (M0)\"] = df_2022_pengfei_copy.apply(\n",
    "    lambda row: 0 if pd.isnull(row[\"Abundance Ratio: (M2) / (M0)\"]) and pd.notnull(row[\"Abundance Ratio: (M2) / (M1)\"])\n",
    "    else 100 if pd.notnull(row[\"Abundance Ratio: (M2) / (M0)\"]) and pd.isnull(row[\"Abundance Ratio: (M2) / (M1)\"])\n",
    "    else row[\"Abundance Ratio: (M2) / (M0)\"] / row[\"Abundance Ratio: (M2) / (M1)\"] if pd.notnull(row[\"Abundance Ratio: (M2) / (M0)\"]) and pd.notnull(row[\"Abundance Ratio: (M2) / (M1)\"])\n",
    "    else \n",
    "        #remove row fro the dataframe \n",
    "        df_2022_pengfei_copy.drop(index = row.name, inplace = True),\n",
    "    axis=1\n",
    ")\n",
    "\n",
    "# Print nulls and NaN values\n",
    "print(\"Null values in the column 'Abundance Ratio: (M1) / (M0)':\", df_2022_pengfei_copy[\"Abundance Ratio: (M1) / (M0)\"].isnull().sum())\n",
    "print(\"Null values in the column 'Abundance Ratio: (M2) / (M0)':\", df_2022_pengfei_copy[\"Abundance Ratio: (M2) / (M0)\"].isnull().sum())\n",
    "print(\"Null values in the column 'Abundance Ratio: (M2) / (M1)':\", df_2022_pengfei_copy[\"Abundance Ratio: (M2) / (M1)\"].isnull().sum())\n"
   ]
  },
  {
   "cell_type": "code",
   "execution_count": null,
   "metadata": {},
   "outputs": [],
   "source": [
    "\"\"\"\n",
    "\n",
    "df_2021_pengfei_copy = df_2021_pengfei.copy()\n",
    "df_2022_pengfei_copy = df_2022_pengfei.copy()\n",
    "\n",
    "try:\n",
    "    #rename df_2022_pengfei_copy[\"Abundance Ratio: M2 / M0\"] to df_2022_pengfei_copy[\"Abundance Ratio: (M2) / (M0)\"]\n",
    "    df_2022_pengfei_copy = df_2022_pengfei_copy.rename(columns={\"Abundance Ratio: M2 / M0\": \"Abundance Ratio: (M2) / (M0)\"})\n",
    "    df_2022_pengfei_copy = df_2022_pengfei_copy.rename(columns={\"Abundance Ratio: M2 / M1\": \"Abundance Ratio: (M2) / (M1)\"})\n",
    "except KeyError:\n",
    "    pass\n",
    "\n",
    "# set df_2022_pengfei_copy[\"Abundance Ratio: (M1) / (M0)\"] as:\n",
    "# if df_2022_pengfei_copy[\"Abundance Ratio: (M2) / (M0)\"] doesn't exist and df_2022_pengfei_copy[\"Abundance Ratio: (M2) / (M1)\"] exists, then the ratio must be 0\n",
    "# if df_2022_pengfei_copy[\"Abundance Ratio: (M2) / (M0)\"] exists and df_2022_pengfei_copy[\"Abundance Ratio: (M2) / (M1)\"] doesn't, then the ratio must be 100\n",
    "# else the ratio must be the division of both ratios\n",
    "for index, row in df_2022_pengfei_copy.iterrows():\n",
    "    if row[\"Abundance Ratio: (M2) / (M0)\"].isnull().sum() > 0 and row[\"Abundance Ratio: (M2) / (M1)\"].notnull().sum() > 0:\n",
    "        df_2022_pengfei_copy.at[index, \"Abundance Ratio: (M1) / (M0)\"] = 0\n",
    "    elif row[\"Abundance Ratio: (M2) / (M0)\"].notnull().sum() > 0 and row[\"Abundance Ratio: (M2) / (M1)\"].isnull().sum() > 0:\n",
    "        df_2022_pengfei_copy.at[index, \"Abundance Ratio: (M1) / (M0)\"] = 100\n",
    "    else:\n",
    "        df_2022_pengfei_copy.at[index, \"Abundance Ratio: (M1) / (M0)\"] = row[\"Abundance Ratio: (M2) / (M0)\"] / row[\"Abundance Ratio: (M2) / (M1)\"]    \n",
    "\n",
    "\n",
    "df_2022_pengfei_copy[\"Abundance Ratio: (M1) / (M0)\"] = df_2022_pengfei_copy[\"Abundance Ratio: (M2) / (M0)\"] / df_2022_pengfei_copy[\"Abundance Ratio: (M2) / (M1)\"]\n",
    "\n",
    "# print nulls and nan values\n",
    "print(\"Null values in the column 'Abundance Ratio: (M1) / (M0)':\", df_2022_pengfei_copy[\"Abundance Ratio: (M1) / (M0)\"].isnull().sum())\n",
    "print(\"Null values in the column 'Abundance Ratio: (M2) / (M0)':\", df_2022_pengfei_copy[\"Abundance Ratio: (M2) / (M0)\"].isnull().sum())\n",
    "print(\"Null values in the column 'Abundance Ratio: (M2) / (M1)':\", df_2022_pengfei_copy[\"Abundance Ratio: (M2) / (M1)\"].isnull().sum())\n",
    "\n",
    "\n",
    "\"\"\""
   ]
  },
  {
   "cell_type": "code",
   "execution_count": null,
   "metadata": {},
   "outputs": [],
   "source": [
    "def add_abundance_ratio(df, col1, col2, desc1, desc2):\n",
    "    ratio = 0\n",
    "    \n",
    "    if df[col1].isnull().sum() > 0 and df[col2].isnull().sum() == 0:\n",
    "        df[f'Abundance Ratio: ({desc1}) / ({desc2})'] = 0\n",
    "    elif df[col1].isnull().sum() == 0 and df[col2].isnull().sum() > 0:\n",
    "        df[f'Abundance Ratio: ({desc1}) / ({desc2})'] = 100\n",
    "    else:\n",
    "        df[f'Abundance Ratio: ({desc1}) / ({desc2})'] = df[col1] / df[col2]\n",
    "\n",
    "    return ratio"
   ]
  },
  {
   "cell_type": "code",
   "execution_count": null,
   "metadata": {},
   "outputs": [],
   "source": [
    "\"\"\"\n",
    "ratios = df_m2['131/126'] / df_m1['131/126']\n",
    "ratios = ratios.dropna()\n",
    "df_2016_iwata_copy['Abundance Ratio: (M2) / (M1)'] = df_2016_iwata_copy.index.map(ratios)\n",
    "\n",
    "ratios = df_m2['131/126'] / df_m0['131/126']\n",
    "ratios = ratios.dropna()\n",
    "df_2016_iwata_copy['Abundance Ratio: (M2) / (M0)'] = df_2016_iwata_copy.index.map(ratios)\n",
    "\n",
    "ratios = df_m1['131/126'] / df_m0['131/126']\n",
    "ratios = ratios.dropna()\n",
    "df_2016_iwata_copy['Abundance Ratio: (M1) / (M0)'] = df_2016_iwata_copy.index.map(ratios)\n",
    "\n",
    "\n",
    "\n",
    "\n",
    "# For each dataset, print how many null or nan values are in the columns \"Abundance Ratio: (M1) / (M0)\", \"Abundance Ratio: (M2) / (M0)\" and \"Abundance Ratio: (M2) / (M1)\"\n",
    "print(\"Number of null values in the columns 'Abundance Ratio: (M1) / (M0)', 'Abundance Ratio: (M2) / (M0)' and 'Abundance Ratio: (M2) / (M1)'\")\n",
    "\n",
    "print(\"  Iwata, H., et al. (2016):\")\n",
    "print(\"    'Abundance Ratio: (M1) / (M0)':\", df_2016_iwata_copy[\"Abundance Ratio: (M1) / (M0)\"].isnull().sum())\n",
    "print(\"    'Abundance Ratio: (M2) / (M0)':\", df_2016_iwata_copy[\"Abundance Ratio: (M2) / (M0)\"].isnull().sum())\n",
    "print(\"    'Abundance Ratio: (M2) / (M1)':\", df_2016_iwata_copy[\"Abundance Ratio: (M2) / (M1)\"].isnull().sum())\n",
    "\n",
    "# Add the missing Abuandance Ratio column\n",
    "df_2021_pengfei_copy[\"Abundance Ratio: (M1) / (M0)\"] = df_2021_pengfei_copy[\"Abundance Ratio: (M2) / (M0)\"] / df_2021_pengfei_copy[\"Abundance Ratio: (M2) / (M1)\"]\n",
    "\n",
    "print(\"  Iwata, H., et al. (2016):\")\n",
    "print(\"    'Abundance Ratio: (M1) / (M0)':\", df_2016_iwata_copy[\"Abundance Ratio: (M1) / (M0)\"].isnull().sum())\n",
    "print(\"    'Abundance Ratio: (M2) / (M0)':\", df_2016_iwata_copy[\"Abundance Ratio: (M2) / (M0)\"].isnull().sum())\n",
    "print(\"    'Abundance Ratio: (M2) / (M1)':\", df_2016_iwata_copy[\"Abundance Ratio: (M2) / (M1)\"].isnull().sum())\n",
    "\n",
    "\n",
    "\n",
    "print(\"  Li, P., et al. (2022):\")\n",
    "print(\"    'Abundance Ratio: (M1) / (M0)':\", df_2022_pengfei_copy[\"Abundance Ratio: (M1) / (M0)\"].isnull().sum())\n",
    "print(\"    'Abundance Ratio: (M2) / (M0)':\", df_2022_pengfei_copy[\"Abundance Ratio: (M2) / (M0)\"].isnull().sum())\n",
    "print(\"    'Abundance Ratio: (M2) / (M1)':\", df_2022_pengfei_copy[\"Abundance Ratio: (M2) / (M1)\"].isnull().sum())\n",
    "print(\"  Li, P., et al. (2021):\")\n",
    "print(\"    'Abundance Ratio: (M1) / (M0)':\", df_2021_pengfei_copy[\"Abundance Ratio: (M1) / (M0)\"].isnull().sum())\n",
    "print(\"    'Abundance Ratio: (M2) / (M0)':\", df_2021_pengfei_copy[\"Abundance Ratio: (M2) / (M0)\"].isnull().sum())\n",
    "print(\"    'Abundance Ratio: (M2) / (M1)':\", df_2021_pengfei_copy[\"Abundance Ratio: (M2) / (M1)\"].isnull().sum())\n",
    "\n",
    "\n",
    "df_bulk_copy = pd.concat([df_2016_iwata_copy, df_2022_pengfei_copy, df_2021_pengfei_copy])\n",
    "\n",
    "\"\"\""
   ]
  },
  {
   "cell_type": "code",
   "execution_count": null,
   "metadata": {},
   "outputs": [],
   "source": []
  },
  {
   "cell_type": "code",
   "execution_count": null,
   "metadata": {},
   "outputs": [],
   "source": []
  },
  {
   "cell_type": "code",
   "execution_count": null,
   "metadata": {},
   "outputs": [],
   "source": []
  },
  {
   "cell_type": "markdown",
   "metadata": {},
   "source": [
    "LI P - Abundance Ratio: (M1) / (M0)<br>\n",
    "LI P - Abundance Ratio: (M2) / (M0)<br>\n",
    "LI P - Abundance Ratio: (M2) / (M1)<br>\n",
    "Iwata - Computed as (Mx[130/126] / Mx[130/126]) <br>"
   ]
  },
  {
   "cell_type": "code",
   "execution_count": null,
   "metadata": {},
   "outputs": [],
   "source": [
    "#df_2016_iwata_M0 = pd.read_excel(path_2016_iwata, sheet_name=\"THP_M0\", index_col=0) # Index = Accession\n",
    "df_2016_iwata_M0[\"131/126\"]\n"
   ]
  },
  {
   "cell_type": "code",
   "execution_count": null,
   "metadata": {},
   "outputs": [],
   "source": [
    "# Print nan values for the column \"Abundance Ratio: (M1) / (M0)\"\n",
    "print(\"Number of nan values in 'Abundance Ratio: (M2) / (M0)':\", df_bulk[\"Abundance Ratio: (M2) / (M0)\"].isnull().sum())\n",
    "print(\"Number of nan values in 'Abundance Ratio: (M2) / (M1)':\", df_bulk[\"Abundance Ratio: (M2) / (M1)\"].isnull().sum())\n",
    "print(\"Number of nan values in 'Abundance Ratio: (M1) / (M0)':\", df_bulk[\"Abundance Ratio: (M1) / (M0)\"].isnull().sum())"
   ]
  },
  {
   "cell_type": "code",
   "execution_count": null,
   "metadata": {},
   "outputs": [],
   "source": [
    "\"\"\"\n",
    "df_bulk[\"Abundance Ratio: (M1) / (M0)\"] = df_bulk[\"Abundance Ratio: (M1) / (M0)\"].fillna(df_bulk[\"Abundances (Grouped): M1\"] / df_bulk[\"Abundances (Grouped): M0\"])\n",
    "df_bulk[\"Abundance Ratio: (M2) / (M0)\"] = df_bulk[\"Abundance Ratio: (M2) / (M0)\"].fillna(df_bulk[\"Abundances (Grouped): M2\"] / df_bulk[\"Abundances (Grouped): M0\"])\n",
    "df_bulk[\"Abundance Ratio: (M2) / (M1)\"] = df_bulk[\"Abundance Ratio: (M2) / (M1)\"].fillna(df_bulk[\"Abundances (Grouped): M2\"] / df_bulk[\"Abundances (Grouped): M1\"])\n",
    "\"\"\""
   ]
  },
  {
   "cell_type": "code",
   "execution_count": null,
   "metadata": {},
   "outputs": [],
   "source": [
    "# is P63267 in df_iwata?\n",
    "print(\"P63267 in df_iwata:\", \"P63267\" in df_2016_iwata.index)\n",
    "# and P68371?\n",
    "print(\"Q9NR20 in df_iwata:\", \"Q9NR20\" in df_2016_iwata.index)"
   ]
  },
  {
   "cell_type": "code",
   "execution_count": null,
   "metadata": {},
   "outputs": [],
   "source": [
    "# Print nan values for the column \"Abundance Ratio: (M2) / (M1)\"\n",
    "print(\"Number of nan values in 'Abundance Ratio: (M2) / (M1)':\", df_bulk[\"Abundance Ratio: (M2) / (M1)\"].isnull().sum())\n",
    "# print the shape of \"Abundance Ratio: (M2) / (M1)\"\n",
    "print(\"Shape of 'Abundance Ratio: (M2) / (M1)':\", df_bulk[\"Abundance Ratio: (M2) / (M1)\"].shape)"
   ]
  },
  {
   "cell_type": "code",
   "execution_count": null,
   "metadata": {},
   "outputs": [],
   "source": [
    "\"\"\"\n",
    "df_m0 = df_bulk[df_bulk['Type'] == 'M0']\n",
    "df_m1 = df_bulk[df_bulk['Type'] == 'M1'] \n",
    "df_m2 = df_bulk[df_bulk['Type'] == 'M2']\n",
    "\n",
    "ratios = df_m2['130/126'] / df_m1['130/126']\n",
    "ratios = ratios.dropna()\n",
    "df_bulk['Abundance Ratio: (M2) / (M1)'] = df_bulk.index.map(ratios)\n",
    "\n",
    "ratios = df_m2['130/126'] / df_m0['130/126']\n",
    "ratios = ratios.dropna()\n",
    "df_bulk['Abundance Ratio: (M2) / (M0)'] = df_bulk.index.map(ratios)\n",
    "\n",
    "ratios = df_m1['130/126'] / df_m0['130/126']\n",
    "ratios = ratios.dropna()\n",
    "df_bulk['Abundance Ratio: (M1) / (M0)'] = df_bulk.index.map(ratios)\n",
    "\n",
    "\"\"\""
   ]
  },
  {
   "cell_type": "code",
   "execution_count": null,
   "metadata": {},
   "outputs": [],
   "source": [
    "# Print nan values for the column \"Abundance Ratio: (M1) / (M0)\"\n",
    "print(\"Number of nan values in 'Abundance Ratio: (M2) / (M0)':\", df_bulk[\"Abundance Ratio: (M2) / (M0)\"].isnull().sum())\n",
    "print(\"Number of nan values in 'Abundance Ratio: (M2) / (M1)':\", df_bulk[\"Abundance Ratio: (M2) / (M1)\"].isnull().sum())\n",
    "print(\"Number of nan values in 'Abundance Ratio: (M1) / (M0)':\", df_bulk[\"Abundance Ratio: (M1) / (M0)\"].isnull().sum())\n",
    "# print the shape of \"Abundance Ratio: (M1) / (M0)\"\n",
    "#print(\"Shape of 'Abundance Ratio: (M1) / (M0)':\", df_bulk[\"Abundance Ratio: (M1) / (M0)\"].shape)\n"
   ]
  },
  {
   "cell_type": "code",
   "execution_count": null,
   "metadata": {},
   "outputs": [],
   "source": [
    "# Print nan values for the column \"Abundance Ratio: (M2) / (M1)\"\n",
    "print(\"Number of nan values in 'Abundance Ratio: (M2) / (M1)':\", df_bulk[\"Abundance Ratio: (M2) / (M1)\"].isnull().sum())\n",
    "# print the shape of \"Abundance Ratio: (M2) / (M1)\"\n",
    "print(\"Shape of 'Abundance Ratio: (M2) / (M1)':\", df_bulk[\"Abundance Ratio: (M2) / (M1)\"].shape)"
   ]
  },
  {
   "cell_type": "code",
   "execution_count": null,
   "metadata": {},
   "outputs": [],
   "source": [
    "# List of columns to keep\n",
    "columns = [\"Abundance Ratio: (M1) / (M0)\", \"Abundance Ratio: (M2) / (M0)\", \"Abundance Ratio: (M2) / (M1)\", \"Gene\"]\n",
    "df_bulk = df_bulk[columns]"
   ]
  },
  {
   "cell_type": "code",
   "execution_count": null,
   "metadata": {},
   "outputs": [],
   "source": [
    "\n"
   ]
  },
  {
   "cell_type": "markdown",
   "metadata": {},
   "source": [
    "**2.1.2 UMAP (Uniform Manifold Approximation and Projection)**\n",
    "<br><br>\n",
    "Uniform Manifold Approximation and Projection (UMAP) preserves local and global data structures, capturing complex relationships and providing clear visualizations of treated and control groups. \n",
    "It also highlights key features, distinguishing between conditions and identifying significant genes.\n",
    "<br><br>\n",
    "> <br>\n",
    "> <b>Difference between PCA and UMAP:</b> While PCA captures linear relationships preserving the variance and simplifying data to principal components, UMAP captures non-linear relationships, preserving the local and global structure, making it ideal for complex data visualization.\n",
    "> <br><br>"
   ]
  },
  {
   "cell_type": "code",
   "execution_count": null,
   "metadata": {},
   "outputs": [],
   "source": []
  },
  {
   "cell_type": "markdown",
   "metadata": {},
   "source": [
    "### 2.2 Single-Cell Dataset\n",
    "Huffman, R.G., et al. (2022)<br><br>"
   ]
  },
  {
   "cell_type": "markdown",
   "metadata": {},
   "source": [
    "**2.2.1 PCA (Principal Component Analysis)**"
   ]
  },
  {
   "cell_type": "code",
   "execution_count": null,
   "metadata": {},
   "outputs": [],
   "source": [
    "# define an own color palette\n",
    "# colors = [\"#264653\", \"#2a9d8f\", \"#e9c46a\", \"#f4a261\", \"#e76f51\", \"#f4a261\", \"#e9c46a\", \"#2a9d8f\", \"#264653\"]\n",
    "# colors = [\"#cc041e\", \"#cfdbd5\"]\n",
    "# red, grey\n",
    "colors = [\"#e63946\", \"#a8dadc\"]\n",
    "# red, blue\n",
    "colors = [\"#ef3e36\", \"#17bebb\"]\n",
    "#cluster_colors = sns.color_palette([\"#1d3557\", \"#e63946\", \"#a8dadc\" ], as_cmap=True)\n",
    "\n",
    "\n",
    "sc.settings.set_figure_params(dpi=100, dpi_save=300, vector_friendly=True, fontsize=10)\n",
    "sc.tl.pca(df_huffman_adata, svd_solver=\"arpack\")\n",
    "# sc.pl.pca(df_huffman_adata, color=\"celltype\", palette=\"Set2\", annotate_var_explained=True, )\n",
    "sc.pl.pca(df_huffman_adata, color=\"celltype\", palette=colors, annotate_var_explained=True, alpha=0.8, size=250)\n"
   ]
  },
  {
   "cell_type": "code",
   "execution_count": null,
   "metadata": {},
   "outputs": [],
   "source": [
    "# Variance explained by each principal component\n",
    "plt.figure(figsize=(5, 4))\n",
    "plt.plot(df_huffman_adata.uns[\"pca\"][\"variance_ratio\"] * 100, marker=\"o\")\n",
    "plt.xlabel(\"Principal component\")\n",
    "plt.ylabel(\"Variance explained (%)\")\n",
    "plt.title(\"Variance explained by each principal component\")\n",
    "plt.grid(False)\n",
    "plt.show()\n"
   ]
  },
  {
   "cell_type": "markdown",
   "metadata": {},
   "source": [
    "The results obtained from PCA show low levels of variation, likely because the dataset contains only genes identified in both groups.<br>\n",
    "This limitation could be influencing the overall variability observed in the analysis."
   ]
  },
  {
   "cell_type": "code",
   "execution_count": null,
   "metadata": {},
   "outputs": [],
   "source": [
    "# Access the loadings\n",
    "loadings = df_huffman_adata.varm['PCs']\n",
    "loadings_df = pd.DataFrame(loadings, index=df_huffman_adata.var[\"Gene\"])\n",
    "\n",
    "pc = 0 # PC1\n",
    "\n",
    "# Get the absolute value of the loadings to identify the most significant genes\n",
    "abs_loadings = loadings_df.iloc[:, pc].abs()\n",
    "\n",
    "# Sort the genes by their loading values in descending order\n",
    "sorted_genes = abs_loadings.sort_values(ascending=False)\n",
    "\n",
    "top_genes = sorted_genes.head(10)\n",
    "print(\"Top genes contributing to PC1:\")\n",
    "print(top_genes)\n"
   ]
  },
  {
   "cell_type": "markdown",
   "metadata": {},
   "source": [
    "**2.2.2 UMAP (Uniform Manifold Approximation and Projection)**\n",
    "<br><br>"
   ]
  },
  {
   "cell_type": "code",
   "execution_count": null,
   "metadata": {},
   "outputs": [],
   "source": [
    "# UMAP preparation and plot\n",
    "sc.pp.neighbors(df_huffman_adata, n_neighbors=10, n_pcs=20)\n",
    "sc.tl.umap(df_huffman_adata)\n",
    "\n",
    "# Run clustering (Leiden algorithm)\n",
    "sc.tl.leiden(df_huffman_adata, resolution=0.5, flavor=\"igraph\", n_iterations=2, directed=False)\n",
    "\n",
    "# Visualize UMAP with clusters\n",
    "#cluster_colors = sns.color_palette([\"#ee8959\", \"#264653\", \"#e9c46a\"], as_cmap=True)\n",
    "\n",
    "# dark blue, Red, light blue,\n",
    "cluster_colors = sns.color_palette([\"#1d3557\", \"#e63946\", \"#a8dadc\" ], as_cmap=True)\n",
    "# light blue, Red, dark blue,\n",
    "cluster_colors = sns.color_palette([\"#a8dadc\", \"#e63946\", \"#1d3557\" ], as_cmap=True)\n",
    "\n",
    "# pink, purple green\n",
    "#cluster_colors = sns.color_palette([\"#f61067\", \"#5e239d\", \"#00f0b5\" ], as_cmap=True)\n",
    "# red, blue, black\n",
    "cluster_colors = sns.color_palette([\"#ef3e36\", \"#17bebb\", \"#2e282a\" ], as_cmap=True)\n",
    "\n",
    "#cluster_colors = sns.color_palette([\"#ec9a9a\", \"#e63946\", \"#1d3557\"], as_cmap=True)\n",
    "# {'Reactome_2022':'#1d3557', 'MSigDB_Hallmark_2020':'#457b9d', 'KEGG_2019_Mouse':'#a8dadc', 'GO_Molecular_Function_2023':'#ffe0b4', 'GO_Cellular_Component_2023':'#ec9a9a', 'GO_Biological_Process_2023': '#e63946', }\n",
    "\n",
    "#sc.pl.umap(df_huffman_adata, color='leiden', palette=cluster_colors, alpha=0.8, size=350)\n",
    "sc.pl.umap(df_huffman_adata, color=['celltype', 'leiden'], palette=cluster_colors, alpha=0.8, size=350)\n"
   ]
  },
  {
   "cell_type": "markdown",
   "metadata": {},
   "source": [
    "The algorithm idetifies two different clusters for the *Untreated* group.<br>\n",
    "It is important to further analyse the heteregeneity of this grup to gain insights into specific cellular functions, states, or responses."
   ]
  },
  {
   "cell_type": "code",
   "execution_count": null,
   "metadata": {},
   "outputs": [],
   "source": [
    "print(\"Number of cells per cluster:\")\n",
    "print(df_huffman_adata.obs[\"leiden\"].value_counts())\n"
   ]
  },
  {
   "cell_type": "markdown",
   "metadata": {},
   "source": [
    "**2.2.3 Differential Expression Analysis (LPS / Untreated)**"
   ]
  },
  {
   "cell_type": "code",
   "execution_count": null,
   "metadata": {},
   "outputs": [],
   "source": [
    "\n",
    "# Perform t-test for each protein for Huffman, R. G., et al. (2022) --------------------------------------------------\n",
    "p_values = []\n",
    "log2fcs = []\n",
    "\n",
    "for i in range(df_huffman_adata.X.shape[1]):\n",
    "    # perform the t-test\n",
    "    p_value = ttest_ind(df_huffman_adata.X[df_huffman_adata.obs['celltype'] == 'LPS'][:, i], df_huffman_adata.X[df_huffman_adata.obs['celltype'] == 'untreated'][:, i])[1]\n",
    "    p_values.append(p_value)\n",
    "    # Fold Change (values were log2 transformed already)\n",
    "    log2fc = df_huffman_adata.X[df_huffman_adata.obs['celltype'] == 'LPS'][:, i].mean() - df_huffman_adata.X[df_huffman_adata.obs['celltype'] == 'untreated'][:, i].mean() \n",
    "    log2fcs.append(log2fc)\n",
    "\n",
    "# Calculate the adjusted p-values after all p-values have been computed\n",
    "adj_p_values = multipletests(p_values, method='fdr_bh')[1]\n",
    "\n",
    "# Store results in AnnData\n",
    "df_huffman_adata.var['p_value'] = p_values\n",
    "df_huffman_adata.var['adj_p_value'] = adj_p_values\n",
    "df_huffman_adata.var['log2fc'] = log2fcs\n"
   ]
  },
  {
   "cell_type": "code",
   "execution_count": null,
   "metadata": {},
   "outputs": [],
   "source": [
    "# Sort the proteins by the adjusted p-value\n",
    "top_proteins = df_huffman_adata.var.sort_values('adj_p_value')\n",
    "\n",
    "# Print the 10 proteins with the lowest adjusted p-values\n",
    "top_proteins.head(10)"
   ]
  },
  {
   "cell_type": "code",
   "execution_count": null,
   "metadata": {},
   "outputs": [],
   "source": [
    "def volcano_plot(df, title, sizex=12, sizey=7):\n",
    "    df.var['neg_log10_p_value'] = -np.log10(df.var['adj_p_value'])\n",
    "\n",
    "    # Color column based on the p-value threshold and fold change\n",
    "    df.var['color'] = 'blue'\n",
    "    df.var.loc[df.var['adj_p_value'] < PVAL_THRESHOLD, 'color'] = 'grey'\n",
    "    df.var.loc[(df.var['adj_p_value'] < PVAL_THRESHOLD) & (df.var['log2fc'] > LOG2_THRESHOLD), 'color'] = 'red'\n",
    "    df.var.loc[(df.var['adj_p_value'] < PVAL_THRESHOLD) & (df.var['log2fc'] < -LOG2_THRESHOLD), 'color'] = 'red'\n",
    "\n",
    "    # Filter for significant genes with |log2fc| > LOG2_THRESHOLD and p-value < PVAL_THRESHOLD\n",
    "    significant_genes = df.var[(df.var['adj_p_value'] < PVAL_THRESHOLD) & (abs(df.var['log2fc']) > LOG2_THRESHOLD)]\n",
    "\n",
    "    # Volcano plot\n",
    "    plt.figure(figsize=(sizex, sizey))\n",
    "    #sns.scatterplot(data=df.var, x='log2fc', y='neg_log10_p_value', hue='color', palette=['gray', 'blue', 'red'], legend=False)\n",
    "    #sns.scatterplot(data=df.var, x='log2fc', y='neg_log10_p_value', hue='color', palette=['#999999', '#0077b6', '#e63946'], legend=False, edgecolor='#eeeeee')\n",
    "    #sns.scatterplot(data=df.var, x='log2fc', y='neg_log10_p_value', hue='color', palette=['#999999', '#62b6cb', '#e63946'], legend=False, edgecolor='#eeeeee')\n",
    "    sns.scatterplot(data=df.var, x='log2fc', y='neg_log10_p_value', hue='color', palette=['#444444', '#444444', '#e63946'], legend=False, edgecolor=None)\n",
    "\n",
    "    # set min and max y-axis values\n",
    "    #plt.ylim(-10, df.var['neg_log10_p_value'].max())\n",
    "\n",
    "\n",
    "    # same but without the border around the circles\n",
    "    #sns.scatterplot(data=df.var, x='log2fc', y='neg_log10_p_value', hue='color', palette=['gray', 'blue', 'red'], legend=False, edgecolor='none')\n",
    "\n",
    "    plt.xlabel(\"Log2(Fold change)\")\n",
    "    plt.ylabel(\"-Log10(p-value)\")\n",
    "    plt.title(title)\n",
    "\n",
    "    # Horizontal line at the significance threshold for -log10(PVAL_THRESHOLD)\n",
    "    plt.axhline(-np.log10(PVAL_THRESHOLD), color='#bbbbbb', linestyle='--')\n",
    "\n",
    "    # Vertical lines\n",
    "    plt.axvline(-LOG2_THRESHOLD, color='#bbbbbb', linestyle='--')\n",
    "    plt.axvline(LOG2_THRESHOLD, color='#bbbbbb', linestyle='--')\n",
    "\n",
    "    # Annotate significant genes with some space added\n",
    "    for idx, row in significant_genes.iterrows():\n",
    "        plt.text(row['log2fc'] , row['neg_log10_p_value'], row[\"Gene\"] + \"  \", fontsize=8, ha='right')\n",
    "\n",
    "    # grid off\n",
    "    plt.grid(False)\n",
    "\n",
    "    plt.tight_layout()\n",
    "    plt.show()"
   ]
  },
  {
   "cell_type": "code",
   "execution_count": null,
   "metadata": {},
   "outputs": [],
   "source": [
    "volcano_plot(df_huffman_adata, \"Differential Gene Expression in macrophage groups (LPS vs untreated). Huffman, R. G., et al. (2022)\")"
   ]
  },
  {
   "cell_type": "markdown",
   "metadata": {},
   "source": [
    "Figure X: Volcano plot for the Huffman, R. G., et al. (2022) dataset. The plot illustrates the relationship between the fold change (Log2(Fold Change)) and statistical significance (-Log10(p-value)) of differentially expressed proteins in human monocytes and macrophages (THP-1 cells) under LPS treatment versus untreated conditions. Each point represents a protein, with blue points indicating proteins that are not significantly differentially expressed and red points indicating proteins that are significantly differentially expressed (adj. p-value < 0.05). Highlighted proteins, such as IFIT1, GBP2, ISG15, and SOD2, demonstrate significant differential expression and are key drivers in the observed immune response. "
   ]
  },
  {
   "cell_type": "code",
   "execution_count": null,
   "metadata": {},
   "outputs": [],
   "source": [
    "df_huffman_adata_gene = df_huffman_adata.copy()\n",
    "df_huffman_adata_gene.var.index = df_huffman_adata_gene.var[\"Gene\"]\n",
    "\n",
    "print(\"Differential expression analysis between M0 and M1 for the Huffman, R. G., et al. (2022) dataset\")\n",
    "sc.tl.rank_genes_groups(df_huffman_adata_gene, groupby=\"celltype\", groups=[\"untreated\", \"LPS\"], method=\"t-test\")\n",
    "sc.pl.rank_genes_groups(df_huffman_adata_gene, n_genes=20, sharey=True)\n"
   ]
  },
  {
   "cell_type": "code",
   "execution_count": null,
   "metadata": {},
   "outputs": [],
   "source": [
    "# Most significant genes or M0 vs M1\n",
    "print(\"Most significant genes for M0 vs M1:\")\n",
    "print(df_huffman_adata_gene.uns[\"rank_genes_groups\"][\"names\"][\"untreated\"][:10])\n",
    "\n",
    "# Most significant genes or M1 vs M0\n",
    "print(\"Most significant genes for M1 vs M0:\")\n",
    "print(df_huffman_adata_gene.uns[\"rank_genes_groups\"][\"names\"][\"LPS\"][:10])"
   ]
  },
  {
   "cell_type": "markdown",
   "metadata": {},
   "source": [
    "**2.2.4 Heterogeneity of M0 cells (*Untreated*)**<br>\n",
    "After identifying two distinct clusters within the *Untreated* group, I conduct further analysis to understand the underlying heterogeneity of the cell population.\n",
    "<br>\n",
    "Understanding what differentiates these clusters can reveal important biological insights about cell function, state, etc..."
   ]
  },
  {
   "cell_type": "code",
   "execution_count": null,
   "metadata": {},
   "outputs": [],
   "source": [
    "# Filter data\n",
    "df_huffman_adata_M0 = df_huffman_adata[df_huffman_adata.obs[\"celltype\"] == \"untreated\"]\n",
    "\n",
    "# Compute PCA\n",
    "sc.tl.pca(df_huffman_adata_M0)\n",
    "\n",
    "# Compute neighbors\n",
    "sc.pp.neighbors(df_huffman_adata_M0)\n",
    "\n",
    "# Compute UMAP\n",
    "sc.tl.umap(df_huffman_adata_M0)\n",
    "\n",
    "# Perform clustering\n",
    "sc.tl.leiden(df_huffman_adata_M0, resolution=0.5)\n",
    "\n",
    "# Create a figure with two subplots side by side\n",
    "fig, axes = plt.subplots(1, 2, figsize=(10, 4))\n",
    "\n",
    "# Plots\n",
    "sc.pl.pca(df_huffman_adata_M0, color='leiden', ax=axes[0], show=False, palette=cluster_colors, alpha=0.8, size=350)\n",
    "sc.pl.umap(df_huffman_adata_M0, color='leiden', ax=axes[1], show=False, palette=cluster_colors, alpha=0.8, size=350)\n",
    "plt.tight_layout()\n",
    "plt.show()"
   ]
  },
  {
   "cell_type": "code",
   "execution_count": null,
   "metadata": {},
   "outputs": [],
   "source": [
    "# print the clusters of each cell\n",
    "print(\"Clusters of each cell:\")\n",
    "print(df_huffman_adata_M0.obs[\"leiden\"].value_counts())"
   ]
  },
  {
   "cell_type": "code",
   "execution_count": null,
   "metadata": {},
   "outputs": [],
   "source": [
    "# Variance explained by each principal component\n",
    "plt.figure(figsize=(5, 4))\n",
    "plt.plot(df_huffman_adata_M0.uns[\"pca\"][\"variance_ratio\"] * 100, marker=\"o\")\n",
    "plt.xlabel(\"Principal component\")\n",
    "plt.ylabel(\"Variance explained (%)\")\n",
    "plt.title(\"Variance explained by each principal component\")\n",
    "plt.show()"
   ]
  },
  {
   "cell_type": "code",
   "execution_count": null,
   "metadata": {},
   "outputs": [],
   "source": [
    "# Analyze the top genes contributing to the separation of clusters\n",
    "loadings = df_huffman_adata_M0.varm['PCs']\n",
    "loadings_df = pd.DataFrame(loadings, index=df_huffman_adata_M0.var[\"Gene\"])\n",
    "\n",
    "pc = 0 # PC1\n",
    "\n",
    "# Get the absolute value of the loadings to identify the most significant genes\n",
    "abs_loadings = loadings_df.iloc[:, pc].abs()\n",
    "\n",
    "# Sort the genes by their loading values in descending order\n",
    "sorted_genes = abs_loadings.sort_values(ascending=False)\n",
    "\n",
    "top_genes = sorted_genes.head(10)\n",
    "print(\"Top genes contributing to PC1:\")\n",
    "print(top_genes)"
   ]
  },
  {
   "cell_type": "code",
   "execution_count": null,
   "metadata": {},
   "outputs": [],
   "source": [
    "# Perform t-test \n",
    "p_values = []\n",
    "log2fcs = []\n",
    "\n",
    "for i in range(df_huffman_adata_M0.X.shape[1]):\n",
    "    # perform the t-test\n",
    "    p_value = ttest_ind(df_huffman_adata_M0.X[df_huffman_adata_M0.obs['leiden'] == '0'][:, i], df_huffman_adata_M0.X[df_huffman_adata_M0.obs['leiden'] == '1'][:, i])[1]\n",
    "    p_values.append(p_value)\n",
    "    # Fold Change (values were log2 transformed already)\n",
    "    log2fc = df_huffman_adata_M0.X[df_huffman_adata_M0.obs['leiden'] == '0'][:, i].mean() - df_huffman_adata_M0.X[df_huffman_adata_M0.obs['leiden'] == '1'][:, i].mean() \n",
    "    log2fcs.append(log2fc)\n",
    "\n",
    "# Calculate the adjusted p-values after all p-values have been computed\n",
    "adj_p_values = multipletests(p_values, method='fdr_bh')[1]\n",
    "\n",
    "# Store results in AnnData\n",
    "df_huffman_adata_M0.var['p_value'] = p_values\n",
    "df_huffman_adata_M0.var['adj_p_value'] = adj_p_values\n",
    "df_huffman_adata_M0.var['log2fc'] = log2fcs"
   ]
  },
  {
   "cell_type": "code",
   "execution_count": null,
   "metadata": {},
   "outputs": [],
   "source": [
    "volcano_plot(df_huffman_adata_M0, \"Differential Gene Expression in M0 Macrophage Subgroups. Huffman, R. G., et al. (2022)\")"
   ]
  },
  {
   "cell_type": "markdown",
   "metadata": {},
   "source": [
    "Differential Gene Expression Analysis for M0 Cell Clusters: This volcano plot illustrates the differential gene expression analysis between two clusters of M0 cells. Two of the up/down-regulated genes exceed the fold change thresholds of ±1, indicating significant changes in expression. Additionally, several genes fall below the -0.5 fold change threshold, showing substantial downregulation. These findings highlight the differences in gene expression between the two M0 cell clusters, making evident the cellular heterogeneity within the same cell type."
   ]
  },
  {
   "cell_type": "markdown",
   "metadata": {},
   "source": [
    "The most up/down regulated genes:\n",
    "\n",
    "**RMB39**<BR>\n",
    "\"Facts:<BR>\n",
    "&#160;&#160;-*RBM39 is characterized by upregulated expression in many cancers, but the precise molecular function in specific cancers may not be thorough enough.*<BR>\n",
    "&#160;&#160;-*RBM39 is indirectly involved in tumor growth and progression by regulating transcription of many tumor-related genes, protein translation, and alternative splicing.*<BR>\n",
    "&#160;&#160;-*RBM39 can be exploited as markers for more accurate diagnosis, as well as improved prognosis and monitoring of treatment response in patients with cancer.*<BR>\n",
    "&#160;&#160;-*RBM39 is identified as a target of sulfonamides, and it has played a key role in the emerging field of small molecule drug development.*\"\n",
    "\n",
    "Source: [RNA-binding protein 39: a promising therapeutic target for cancer](https://www.nature.com/articles/s41420-021-00598-7)\n",
    "<BR><BR><BR>\n",
    "**S100A11**\n",
    "<BR>\n",
    "*\"To date, a large number of studies have shown that S100A11 has biological functions such as regulating cell growth, enzyme activity, and the inflammatory response. As well, it is involved in the regulatory process of cancers, metabolic diseases, neurological diseases, vascular calcification, and inflammatory diseases. Taken together, all the evidences cited in this review indicate that S100A11 is an important molecule involved in many diverse aspects of cellular functions.\"*\n",
    "<br><BR>Source: [The Calcium Binding Protein S100A11 and Its Roles in Diseases](https://www.frontiersin.org/journals/cell-and-developmental-biology/articles/10.3389/fcell.2021.693262/full)\n"
   ]
  },
  {
   "cell_type": "code",
   "execution_count": null,
   "metadata": {},
   "outputs": [],
   "source": [
    "df_huffman_adata_M0_gene = df_huffman_adata_M0.copy()\n",
    "df_huffman_adata_M0_gene.var.index = df_huffman_adata_M0_gene.var[\"Gene\"]\n",
    "\n",
    "print(\"Differential expression analysis between M0 and M1 for the Huffman, R. G., et al. (2022) dataset\")\n",
    "#sc.tl.rank_genes_groups(df_huffman_adata_M0_gene, groupby=\"leiden\", method=\"wilcoxon\")\n",
    "sc.tl.rank_genes_groups(df_huffman_adata_M0_gene, groupby=\"leiden\", method=\"t-test\")\n",
    "sc.pl.rank_genes_groups(df_huffman_adata_M0_gene, n_genes=20, sharey=True)"
   ]
  },
  {
   "cell_type": "markdown",
   "metadata": {},
   "source": [
    "**2.2.5 Heterogeneity of M1 cells (*LPS*)**"
   ]
  },
  {
   "cell_type": "code",
   "execution_count": null,
   "metadata": {},
   "outputs": [],
   "source": [
    "# Filter data\n",
    "df_huffman_adata_M1 = df_huffman_adata[df_huffman_adata.obs[\"celltype\"] == \"LPS\"]\n",
    "\n",
    "# Compute PCA\n",
    "sc.tl.pca(df_huffman_adata_M1)\n",
    "\n",
    "# Compute neighbors\n",
    "sc.pp.neighbors(df_huffman_adata_M1)\n",
    "\n",
    "# Compute UMAP\n",
    "sc.tl.umap(df_huffman_adata_M1)\n",
    "\n",
    "# Perform clustering\n",
    "sc.tl.leiden(df_huffman_adata_M1, resolution=0.5)\n",
    "\n",
    "# Create a figure with two subplots side by side\n",
    "fig, axes = plt.subplots(1, 2, figsize=(10, 4))\n",
    "\n",
    "# Plots\n",
    "sc.pl.pca(df_huffman_adata_M1, color='leiden', ax=axes[0], show=False, palette=cluster_colors, alpha=0.8, size=350)\n",
    "sc.pl.umap(df_huffman_adata_M1, color='leiden', ax=axes[1], show=False, palette=cluster_colors, alpha=0.8, size=350)\n",
    "plt.tight_layout()\n",
    "plt.show()\n",
    "\n"
   ]
  },
  {
   "cell_type": "code",
   "execution_count": null,
   "metadata": {},
   "outputs": [],
   "source": [
    "# print the clusters of each cell\n",
    "print(\"Clusters of each cell:\")\n",
    "print(df_huffman_adata_M1.obs[\"leiden\"].value_counts())"
   ]
  },
  {
   "cell_type": "code",
   "execution_count": null,
   "metadata": {},
   "outputs": [],
   "source": [
    "# Variance explained by each principal component\n",
    "plt.figure(figsize=(5, 4))\n",
    "plt.plot(df_huffman_adata_M1.uns[\"pca\"][\"variance_ratio\"] * 100, marker=\"o\")\n",
    "plt.xlabel(\"Principal component\")\n",
    "plt.ylabel(\"Variance explained (%)\")\n",
    "plt.title(\"Variance explained by each principal component\")\n",
    "plt.show()"
   ]
  },
  {
   "cell_type": "code",
   "execution_count": null,
   "metadata": {},
   "outputs": [],
   "source": [
    "# Analyze the top genes contributing to the separation of clusters\n",
    "loadings = df_huffman_adata_M1.varm['PCs']\n",
    "loadings_df = pd.DataFrame(loadings, index=df_huffman_adata_M1.var[\"Gene\"])\n",
    "\n",
    "pc = 0 # PC1\n",
    "\n",
    "# Get the absolute value of the loadings to identify the most significant genes\n",
    "abs_loadings = loadings_df.iloc[:, pc].abs()\n",
    "\n",
    "# Sort the genes by their loading values in descending order\n",
    "sorted_genes = abs_loadings.sort_values(ascending=False)\n",
    "\n",
    "top_genes = sorted_genes.head(10)\n",
    "print(\"Top genes contributing to PC1:\")\n",
    "print(top_genes)"
   ]
  },
  {
   "cell_type": "code",
   "execution_count": null,
   "metadata": {},
   "outputs": [],
   "source": [
    "# Perform t-test \n",
    "p_values = []\n",
    "log2fcs = []\n",
    "\n",
    "for i in range(df_huffman_adata_M1.X.shape[1]):\n",
    "    # perform the t-test\n",
    "    p_value = ttest_ind(df_huffman_adata_M1.X[df_huffman_adata_M1.obs['leiden'] == '0'][:, i], df_huffman_adata_M1.X[df_huffman_adata_M1.obs['leiden'] == '1'][:, i])[1]\n",
    "    p_values.append(p_value)\n",
    "    # Fold Change (values were log2 transformed already)\n",
    "    log2fc = df_huffman_adata_M1.X[df_huffman_adata_M1.obs['leiden'] == '0'][:, i].mean() - df_huffman_adata_M1.X[df_huffman_adata_M1.obs['leiden'] == '1'][:, i].mean() \n",
    "    log2fcs.append(log2fc)\n",
    "\n",
    "# Calculate the adjusted p-values after all p-values have been computed\n",
    "adj_p_values = multipletests(p_values, method='fdr_bh')[1]\n",
    "\n",
    "# Store results in AnnData\n",
    "df_huffman_adata_M1.var['p_value'] = p_values\n",
    "df_huffman_adata_M1.var['adj_p_value'] = adj_p_values\n",
    "df_huffman_adata_M1.var['log2fc'] = log2fcs"
   ]
  },
  {
   "cell_type": "code",
   "execution_count": null,
   "metadata": {},
   "outputs": [],
   "source": [
    "volcano_plot(df_huffman_adata_M1, \"Differential Gene Expression in M1 Macrophage Subgroups. Huffman, R. G., et al. (2022)\", 10, 7)"
   ]
  },
  {
   "cell_type": "markdown",
   "metadata": {},
   "source": [
    "Differential Gene Expression Analysis (DEA) for M1 Cell Type: This figure illustrates the differential gene expression analysis for M1 macrophages. The volcano plot shows few genes exciding the fold change thresholds of ±0.5, indicating significant upregulation or downregulation in M1 cells beyond these thresholds. In contrast, comparisons with M0 cells reveal some genes surpassing the ±1 fold change threshold, highlighting the differences between these cell types. "
   ]
  },
  {
   "cell_type": "markdown",
   "metadata": {},
   "source": [
    "**Conclusion:** After analyzing the M0 cells, I proceeded to examine the M1 cells with the same steps performed before. While clusters were not identified for the M1 group when conducting the analysis with both untreated and LPS-stimulated cells, the PCA and UMAP results still revealed a tendency towards clustering, albeit with some partial overlap. This indicates that, similar to the untreated group, the LPS cells also exhibit a degree of heterogeneity. \n",
    "\n",
    "These findings highlight the intrinsic diversity within the M1 macrophage population, suggesting that even under inflammatory conditions induced by LPS, the cells display a range of responses and characteristics.\n",
    "\n",
    "---"
   ]
  },
  {
   "cell_type": "markdown",
   "metadata": {},
   "source": [
    "## 3. Functional Enrichment"
   ]
  },
  {
   "attachments": {
    "image-2.png": {
     "image/png": "[encoded data removed]"
    }
   },
   "cell_type": "markdown",
   "metadata": {},
   "source": [
    "### Introduction\n",
    "\n",
    "**Pathway Enrichement Analysis**<br><br>\n",
    "DEA can return a long list of differently expressed genes (hundreds/thousands). <br>\n",
    "PEA is a way to summarize this long list of genes.<br>\n",
    "It summarize the long list to a shorter and easily interpretable list of biological pathways.<br>\n",
    "It works with:\n",
    "* My list of Differentialy Expressed Genes\n",
    "* Background Genes (e.g. all genes of Human genome)\n",
    "* List of Gene Sets (list of genes associated to a known disease)\n",
    "\n",
    "*Source: https://www.youtube.com/watch?v=egO7Lt92gDY&ab_channel=Biostatsquid*\n",
    "\n",
    "As a result, it returns a list of overexpressed Pathways.\n",
    "<br><br><br>\n",
    "**Gene Set Enrichment Analysis** - *Functional Class Scoring (FCS) method*<br><br>\n",
    "Gene Set Enrichment Analysis (GSEA) is a computational method that determines whether an a priori defined set of genes shows statistically significant, concordant differences between two biological states (e.g. phenotypes).<br>It considers the whole list of differently expressed genes based on a ranking, the Score = Significance(FC)* -log10(p-value)<br><br>\n",
    "The resulting order represents:\n",
    "* TOP: Most Significant & Upregulated\n",
    "* Middle: Non-Significant\n",
    "* BOTTON: Most Significant & Downregulated\n",
    "\n",
    "*Source: https://www.youtube.com/watch?v=H1cUs6pql9s&t=524s&ab_channel=Biostatsquid*\n",
    "\n",
    "<br>\n",
    "\n",
    "> &#160;<br>\n",
    "> **GSEApy is a Python/Rust implementation of GSEA and wrapper for Enrichr.**<br><br>\n",
    "> *Citation:*<br>\n",
    "> &#160;&#160;&#160;*Python Implementation of GSEA method:<br>Zhuoqing Fang, Xinyuan Liu, Gary Peltz, GSEApy: a comprehensive package for performing gene set enrichment analysis in Python,\n",
    "> Bioinformatics, 2022;, btac757, https://doi.org/10.1093/bioinformatics/btac757*\n",
    "> <br>&#160;\n",
    "\n",
    "\n",
    "<br><br>\n",
    "Graphical introduction of Enrichr:<br>\n",
    "![image-2.png](attachment:image-2.png)\n"
   ]
  },
  {
   "cell_type": "markdown",
   "metadata": {},
   "source": [
    "**3.1 Gene Ontology (GO) Enrichment & Pathway Analysis**\n",
    "<br><br>\n",
    "Determine the biological functions and pathways that are overrepresented among differentially expressed proteins.<br>\n",
    "This can provide insights into the broader biological context of the observed changes and identify potential drug targets or biomarkers."
   ]
  },
  {
   "cell_type": "markdown",
   "metadata": {},
   "source": [
    "> &#160;<br>\n",
    "> * Gene Ontology (GO) Enrichment: Identify biological processes, molecular functions, and cellular components that are enriched in differentially expressed proteins.\n",
    "> * Pathway Analysis: Determine which signaling pathways are activated or inhibited in different polarization states.\n",
    "> <br><br>&#160;"
   ]
  },
  {
   "cell_type": "markdown",
   "metadata": {},
   "source": [
    "**3.2 Protein-Protein Interaction Network Analysis**<br><br>\n",
    "Construct networks to visualize the interactions between proteins and identify protein modules or hubs.<br>\n",
    "This can help understand how proteins work together to carry out cellular functions and identify key regulatory proteins"
   ]
  },
  {
   "cell_type": "markdown",
   "metadata": {},
   "source": [
    "### GSEA\n",
    "\n",
    "Overview of enriched pathways for the two classes separately to understand the broader biological processes involved in each class."
   ]
  },
  {
   "cell_type": "markdown",
   "metadata": {},
   "source": [
    "**TODO: DELETE (from here onwards...)**<BR><BR>\n",
    "\n",
    "**Prerank**<BR>\n",
    "Prerank is more suitable for comparing different conditions or classes, especially when you have a ranked list of proteins or genes. This method leverages the rank information to identify pathways that are enriched at the extremes of the ranked list.\n",
    "<BR><BR>\n",
    "When to use Prerank:\n",
    "* Comparing Two Classes: If you want to compare the two classes directly and rank the proteins based on differential expression or another relevant metric.\n",
    "* Enrichment across a Gradient: When you want to identify pathways that are enriched at the top or bottom of a ranked list.\n",
    "<BR><BR>\n",
    "\n",
    "**Enrichr**<BR>\n",
    "Enrichr is best for when you have a list of proteins or genes and you want to find associated biological pathways or processes quickly. It’s more suitable for over-representation analysis, where you check if certain pathways are overrepresented in your list.\n",
    "<BR><BR>\n",
    "When to use Enrichr:\n",
    "* Gene List Analysis: If you have a list of differentially expressed proteins from each class and want to find enriched pathways for each list separately.\n",
    "* Quick Enrichment: When you need a quick and broad overview of enriched pathways for a given list of proteins.\n",
    "<BR><BR>\n",
    "\n",
    "Initial Exploration with Enrichr:\n",
    "Use Enrichr to get a quick overview of enriched pathways for the two classes separately. This helps you understand the broader biological processes involved in each class.\n",
    "<BR><BR>\n",
    "Detailed Analysis with Prerank:\n",
    "Use Prerank for a more detailed comparison between the two classes. Rank the proteins based on a relevant metric (e.g., log2 fold change) and perform GSEA to identify pathways enriched at the extremes of the ranked list.<BR><BR>\n",
    "\n",
    "This combined approach will help you capture both the broad overview of enriched pathways and the detailed differences between the two classes in your single-cell proteomics dataset.\n"
   ]
  },
  {
   "cell_type": "code",
   "execution_count": null,
   "metadata": {},
   "outputs": [],
   "source": [
    "# enrichr library names\n",
    "lib_names = gp.get_library_name(organism='Mouse')\n",
    "\n",
    "# print all libraries with \"GO\" in the name\n",
    "print(\"\\n\".join([lib for lib in lib_names if \"allm\" in lib]))"
   ]
  },
  {
   "cell_type": "code",
   "execution_count": null,
   "metadata": {},
   "outputs": [],
   "source": [
    "\n",
    "# List of differentially expressed Genes\n",
    "de_genes = df_huffman_adata_M0.var[df_huffman_adata_M0.var[\"adj_p_value\"] < 0.05]\n",
    "de_genes\n"
   ]
  },
  {
   "cell_type": "code",
   "execution_count": null,
   "metadata": {},
   "outputs": [],
   "source": [
    "# Run GSEA\n",
    "enr_resM0 = gp.enrichr(gene_list=de_genes[\"Gene\"].tolist(),\n",
    "                    gene_sets=['GO_Biological_Process_2023', 'GO_Cellular_Component_2023', 'GO_Molecular_Function_2023', 'KEGG_2019_Mouse', 'Reactome_2022', 'MSigDB_Hallmark_2020'],\n",
    "                    organism='Mouse')\n"
   ]
  },
  {
   "cell_type": "code",
   "execution_count": null,
   "metadata": {},
   "outputs": [],
   "source": [
    "# List of differentially expressed Genes\n",
    "de_genes = df_huffman_adata_M1.var[df_huffman_adata_M1.var[\"adj_p_value\"] < 0.05]\n",
    "\n",
    "# Run GSEA\n",
    "enr_resM1 = gp.enrichr(gene_list=de_genes[\"Gene\"].tolist(),\n",
    "                    gene_sets=['GO_Biological_Process_2023', 'GO_Cellular_Component_2023', 'GO_Molecular_Function_2023', 'KEGG_2019_Mouse', 'Reactome_2022', 'MSigDB_Hallmark_2020'],\n",
    "                    organism='Mouse')"
   ]
  },
  {
   "cell_type": "code",
   "execution_count": null,
   "metadata": {},
   "outputs": [],
   "source": [
    "# Dotplot\n",
    "ax = dotplot(enr_resM0.results,\n",
    "              column=\"Adjusted P-value\",\n",
    "              x='Gene_set', # set x axis, so you could do a multi-sample/library comparsion\n",
    "              size=10,\n",
    "              top_term=5,\n",
    "              figsize=(5,7),\n",
    "              title = \"Top 5 significant pathways\",\n",
    "              xticklabels_rot=45, # rotate xtick labels\n",
    "              show_ring=True, # set to False to revmove outer ring\n",
    "              marker='o',\n",
    "              cmap=\"RdPu\" #cmap=\"YlOrRd\" #cmap=\"Blues\" #cmap=\"Greens\" #cmap=\"RdYlBu_r\"\n",
    "             )\n",
    "\n",
    "plt.xticks(fontsize=9)\n",
    "plt.yticks(fontsize=9)\n",
    "plt.title('Pathway Enrichment Analysis (GSEA) - M0', fontsize=12)\n",
    "plt.xlabel('Gene Ratio', fontsize=9)\n",
    "plt.ylabel('Term', fontsize=9)\n",
    "plt.show()"
   ]
  },
  {
   "cell_type": "code",
   "execution_count": null,
   "metadata": {},
   "outputs": [],
   "source": [
    "# Dotplot\n",
    "ax = dotplot(enr_resM1.results,\n",
    "              column=\"Adjusted P-value\",\n",
    "              x='Gene_set', # set x axis, so you could do a multi-sample/library comparsion\n",
    "              size=10,\n",
    "              top_term=5,\n",
    "              figsize=(5,7),\n",
    "              title = \"Top 5 significant pathways\",\n",
    "              xticklabels_rot=45, # rotate xtick labels\n",
    "              show_ring=True, # set to False to revmove outer ring\n",
    "              marker='o',\n",
    "              cmap=\"RdPu\" #cmap=\"YlOrRd\" #cmap=\"Blues\" #cmap=\"Greens\" #cmap=\"RdYlBu_r\"\n",
    "             )\n",
    "\n",
    "plt.xticks(fontsize=9)\n",
    "plt.yticks(fontsize=9)\n",
    "plt.title('Pathway Enrichment Analysis (GSEA) - M1', fontsize=12)\n",
    "plt.xlabel('Gene Ratio', fontsize=9)\n",
    "plt.ylabel('Term', fontsize=9)\n",
    "plt.show()"
   ]
  },
  {
   "cell_type": "code",
   "execution_count": null,
   "metadata": {},
   "outputs": [],
   "source": [
    "# List of differentially expressed Genes\n",
    "de_genes = df_huffman_adata.var[df_huffman_adata.var[\"adj_p_value\"] < 0.05]\n",
    "\n",
    "# Run GSEA\n",
    "enr_res = gp.enrichr(gene_list=de_genes[\"Gene\"].tolist(),\n",
    "                    gene_sets=['GO_Biological_Process_2023', 'GO_Cellular_Component_2023', 'GO_Molecular_Function_2023', 'KEGG_2019_Mouse', 'Reactome_2022', 'MSigDB_Hallmark_2020'],\n",
    "                    organism='Mouse')"
   ]
  },
  {
   "cell_type": "code",
   "execution_count": null,
   "metadata": {},
   "outputs": [],
   "source": [
    "# Dotplot\n",
    "ax = dotplot(enr_res.results,\n",
    "              column=\"Adjusted P-value\",\n",
    "              x='Gene_set', # set x axis, so you could do a multi-sample/library comparsion\n",
    "              size=10,\n",
    "              top_term=5,\n",
    "              figsize=(5,7),\n",
    "              title = \"Top 5 significant pathways\",\n",
    "              xticklabels_rot=45, # rotate xtick labels\n",
    "              show_ring=True, # set to False to revmove outer ring\n",
    "              marker='o',\n",
    "              cmap=\"RdPu\" #cmap=\"YlOrRd\" #cmap=\"Blues\" #cmap=\"Greens\" #cmap=\"RdYlBu_r\"\n",
    "             )\n",
    "\n",
    "plt.xticks(fontsize=9)\n",
    "plt.yticks(fontsize=9)\n",
    "plt.title('Pathway Enrichment Analysis (GSEA) - untreated & LPS', fontsize=12)\n",
    "plt.xlabel('Gene Ratio', fontsize=9)\n",
    "plt.ylabel('Term', fontsize=9)\n",
    "plt.show()"
   ]
  },
  {
   "cell_type": "code",
   "execution_count": null,
   "metadata": {},
   "outputs": [],
   "source": [
    "enr_resM0.results.sort_values(\"Adjusted P-value\").head(10)"
   ]
  },
  {
   "cell_type": "code",
   "execution_count": null,
   "metadata": {},
   "outputs": [],
   "source": [
    "enr_resM1.results.sort_values(\"Adjusted P-value\").head(10)"
   ]
  },
  {
   "cell_type": "code",
   "execution_count": null,
   "metadata": {},
   "outputs": [],
   "source": [
    "# Barplot\n",
    "ax = barplot(enr_resM0.results,\n",
    "              column=\"Adjusted P-value\",\n",
    "              group='Gene_set',\n",
    "              top_term=5,\n",
    "              figsize=(12,6),\n",
    "              color = {'Reactome_2022':'#1d3557', 'MSigDB_Hallmark_2020':'#457b9d', 'KEGG_2019_Mouse':'#a8dadc', 'GO_Molecular_Function_2023':'#ffe0b4', 'GO_Cellular_Component_2023':'#ec9a9a', 'GO_Biological_Process_2023': '#e63946', }\n",
    "             )\n",
    "\n",
    "plt.xticks(fontsize=9)\n",
    "plt.yticks(fontsize=9)\n",
    "plt.title('Pathway Enrichment Analysis (GSEA) - M0', fontsize=12)\n",
    "plt.xlabel('-log10 (Adjusted p-value)', fontsize=9)\n",
    "plt.ylabel('Term', fontsize=9)\n",
    "plt.tight_layout()\n",
    "plt.show()\n"
   ]
  },
  {
   "cell_type": "code",
   "execution_count": null,
   "metadata": {},
   "outputs": [],
   "source": [
    "# Barplot\n",
    "ax = barplot(enr_resM1.results,\n",
    "              column=\"Adjusted P-value\",\n",
    "              group='Gene_set',\n",
    "              top_term=5,\n",
    "              figsize=(12,6),\n",
    "              color = {'Reactome_2022':'#1d3557', 'MSigDB_Hallmark_2020':'#457b9d', 'KEGG_2019_Mouse':'#a8dadc', 'GO_Molecular_Function_2023':'#ffe0b4', 'GO_Cellular_Component_2023':'#ec9a9a', 'GO_Biological_Process_2023': '#e63946', }\n",
    "             )\n",
    "\n",
    "plt.xticks(fontsize=9)\n",
    "plt.yticks(fontsize=9)\n",
    "plt.title('Pathway Enrichment Analysis (GSEA) - M1', fontsize=12)\n",
    "plt.xlabel('-log10 (Adjusted p-value)', fontsize=9)\n",
    "plt.ylabel('Term', fontsize=9)\n",
    "plt.tight_layout()\n",
    "plt.show()"
   ]
  },
  {
   "cell_type": "code",
   "execution_count": null,
   "metadata": {},
   "outputs": [],
   "source": [
    "# Barplot\n",
    "ax = barplot(enr_res.results,\n",
    "              column=\"Adjusted P-value\",\n",
    "              group='Gene_set',\n",
    "              top_term=5,\n",
    "              figsize=(12,6),\n",
    "              color = {'Reactome_2022':'#1d3557', 'MSigDB_Hallmark_2020':'#457b9d', 'KEGG_2019_Mouse':'#a8dadc', 'GO_Molecular_Function_2023':'#ffe0b4', 'GO_Cellular_Component_2023':'#ec9a9a', 'GO_Biological_Process_2023': '#e63946', }\n",
    "             )\n",
    "\n",
    "plt.xticks(fontsize=9)\n",
    "plt.yticks(fontsize=9)\n",
    "plt.title('Pathway Enrichment Analysis (GSEA) - untreated & LPS', fontsize=12)\n",
    "plt.xlabel('-log10 (Adjusted p-value)', fontsize=9)\n",
    "plt.ylabel('Term', fontsize=9)\n",
    "plt.tight_layout()\n",
    "plt.show()"
   ]
  },
  {
   "cell_type": "code",
   "execution_count": null,
   "metadata": {},
   "outputs": [],
   "source": [
    "plt.figure(figsize=(20, 9))\n",
    "plt.barh(enr_resM0.res2d.index, enr_resM0.res2d['Combined Score'], color='#cedfdf')\n",
    "plt.xlabel('Combined Score')\n",
    "plt.title('Pathways Enriched (M0)')\n",
    "\n",
    "# Significance threshold\n",
    "plt.axvline(x=COMBINED_SCORE_THRESHOLD, color='red', linestyle='--', label='p-value < 0.05')\n",
    "\n",
    "for i, term in enumerate(enr_resM0.res2d.index):\n",
    "\n",
    "    # Concatenate Combined Score and Term\n",
    "    plt.text(enr_resM0.res2d['Combined Score'][i] +2, i, f\"{enr_resM0.res2d['Combined Score'][i]:.2f} - {enr_resM0.res2d['Term'][i]}\", va='center', ha='left', fontsize=9)\n",
    "\n",
    "# grid off\n",
    "#plt.grid(False)\n",
    "plt.show()"
   ]
  },
  {
   "cell_type": "markdown",
   "metadata": {},
   "source": [
    "### Pre-rank GSEA for M0 (2 identified clusters)\n",
    "\n",
    "Comparison between the two clusters identified in M0.<br>\n",
    "The goal is to identify pathwas enriched at the extremes of the ranked list"
   ]
  },
  {
   "cell_type": "code",
   "execution_count": null,
   "metadata": {},
   "outputs": [],
   "source": [
    "# List of differentially expressed Genes\n",
    "de_genes = df_huffman_adata_M0.var[df_huffman_adata_M0.var[\"adj_p_value\"] < 0.05]"
   ]
  },
  {
   "cell_type": "code",
   "execution_count": null,
   "metadata": {},
   "outputs": [],
   "source": [
    "# Compute the RANK metric\n",
    "pre_input = de_genes[[\"Gene\", \"log2fc\", \"neg_log10_p_value\"]]\n",
    "pre_input[\"RANK\"] = pre_input[\"neg_log10_p_value\"] * pre_input[\"log2fc\"]\n",
    "print (pre_input)\n"
   ]
  },
  {
   "cell_type": "code",
   "execution_count": null,
   "metadata": {},
   "outputs": [],
   "source": [
    "pre_input = pre_input[[\"Gene\", \"RANK\"]]\n",
    "sorted_genes = pre_input.sort_values('RANK', ascending=False)\n",
    "sorted_genes.reset_index(drop=True, inplace=True)\n",
    "sorted_genes"
   ]
  },
  {
   "cell_type": "code",
   "execution_count": null,
   "metadata": {},
   "outputs": [],
   "source": [
    "# TOP 10 up&down-regulated genes. I will use these variables later in the PPI section\n",
    "de_m0_top_genes = sorted_genes.head(10)\n",
    "de_m0_down_genes = sorted_genes.tail(10)"
   ]
  },
  {
   "cell_type": "code",
   "execution_count": null,
   "metadata": {},
   "outputs": [],
   "source": [
    "# PRE-rank\n",
    "pre_res = gp.prerank(rnk=sorted_genes,\n",
    "                        gene_sets=['GO_Biological_Process_2023', 'GO_Cellular_Component_2023', 'GO_Molecular_Function_2023', 'KEGG_2019_Mouse', 'Reactome_2022', 'MSigDB_Hallmark_2020'],\n",
    "                        organism='Mouse')\n"
   ]
  },
  {
   "cell_type": "code",
   "execution_count": null,
   "metadata": {},
   "outputs": [],
   "source": [
    "pre_res.res2d"
   ]
  },
  {
   "cell_type": "code",
   "execution_count": null,
   "metadata": {},
   "outputs": [],
   "source": [
    "terms = pre_res.res2d.Term\n",
    "axs = pre_res.plot(terms=terms[1:10],\n",
    "                   show_ranking=True\n",
    "                  )\n"
   ]
  },
  {
   "cell_type": "markdown",
   "metadata": {},
   "source": [
    "https://youtu.be/Yi4d7JIlAsM?si=xvrIooctbV2wMm-P\n",
    "\n",
    "TODO: **Conclusions**<br><br>\n",
    "Most of the genes are downregulated as we could see in the section 2.2.4"
   ]
  },
  {
   "cell_type": "code",
   "execution_count": null,
   "metadata": {},
   "outputs": [],
   "source": [
    "pre_res.res2d"
   ]
  },
  {
   "cell_type": "code",
   "execution_count": null,
   "metadata": {},
   "outputs": [],
   "source": [
    "# return two dataframe\n",
    "nodes, edges = enrichment_map(pre_res.res2d, cutoff=0.5)\n",
    "\n",
    "G = nx.from_pandas_edgelist(edges,\n",
    "                            source='src_idx',\n",
    "                            target='targ_idx',\n",
    "                            edge_attr=['jaccard_coef', 'overlap_coef', 'overlap_genes'])\n",
    "\n",
    "fig, ax = plt.subplots(figsize=(18, 9))\n",
    "\n",
    "def offset_pos(pos, x_offset=0, y_offset=0): \n",
    "    return {node: (x + x_offset, y + y_offset) for node, (x, y) in pos.items()}\n",
    "\n",
    "# init node cooridnates\n",
    "#pos=nx.layout.spiral_layout(G)\n",
    "pos=nx.layout.circular_layout(G)\n",
    "\n",
    "\n",
    "# draw node\n",
    "nx.draw_networkx_nodes(G,\n",
    "                       pos=pos,\n",
    "                       cmap=plt.cm.coolwarm_r, # plt.cm.RdYlBu\n",
    "                       node_color=list(nodes.NES),\n",
    "                       node_size=list(nodes.Hits_ratio *1000)\n",
    "                       )\n",
    "# draw node label\n",
    "terms = nodes.Term.to_dict()\n",
    "terms = {k: v.split('__')[1] for k, v in terms.items()}\n",
    "\n",
    "# Uncomment the following line to show the full term names\n",
    "# terms = nodes.Term.to_dict()\n",
    "\n",
    "nx.draw_networkx_labels(G,\n",
    "                        pos=offset_pos(pos, x_offset=0.05, y_offset=0.08),\n",
    "                        labels=terms, # nodes.Term.to_dict()\n",
    "                        font_size=9)\n",
    "# draw edge\n",
    "edge_weight = nx.get_edge_attributes(G, 'jaccard_coef').values()\n",
    "nx.draw_networkx_edges(G,\n",
    "                       pos=pos,\n",
    "                       width=list(map(lambda x: x*10, edge_weight)),\n",
    "                       edge_color='#CDDBD4')\n",
    "\n",
    "# grid off\n",
    "plt.axis('off')\n",
    "\n",
    "# title\n",
    "plt.title('Enrichment Map', fontsize=12)\n",
    "plt.show()"
   ]
  },
  {
   "cell_type": "code",
   "execution_count": null,
   "metadata": {},
   "outputs": [],
   "source": [
    "sign = pre_res.res2d[pre_res.res2d[\"FDR q-val\"] < 0.05]\n",
    "\n",
    "# Print the top 10 pathways\n",
    "sign.head(10)"
   ]
  },
  {
   "cell_type": "markdown",
   "metadata": {},
   "source": [
    "**TODO: Comment why no results**"
   ]
  },
  {
   "cell_type": "code",
   "execution_count": null,
   "metadata": {},
   "outputs": [],
   "source": [
    "# Filter significant pathways\n",
    "sig_results = pre_res.res2d[pre_res.res2d['FDR q-val'] < 0.25]\n",
    "\n",
    "print(\"Number of significant pathways:\", sig_results.shape[0])\n",
    "\n",
    "# Extract pathways and genes\n",
    "pathway_gene_dict = {}\n",
    "for idx, row in sig_results.iterrows():\n",
    "    pathway_gene_dict[row['Term']] = row['Lead_genes'].split(';')\n"
   ]
  },
  {
   "cell_type": "code",
   "execution_count": null,
   "metadata": {},
   "outputs": [],
   "source": [
    "G = nx.Graph()\n",
    "\n",
    "# Add nodes and edges to the graph\n",
    "for pathway, genes in pathway_gene_dict.items():\n",
    "    G.add_node(pathway, type='pathway')\n",
    "    for gene in genes:\n",
    "        G.add_node(gene, type='gene')\n",
    "        G.add_edge(pathway, gene)\n",
    "\n",
    "# Ensure positions are generated for all nodes\n",
    "pos = nx.layout.spring_layout(G)\n",
    "\n",
    "# Define node colors, sizes, and font sizes based on type\n",
    "color_map = []\n",
    "node_size_map = []\n",
    "font_size_map = {}\n",
    "\n",
    "for node in G:\n",
    "    if G.nodes[node]['type'] == 'pathway':\n",
    "        color_map.append(\"#f0a202\")\n",
    "        node_size_map.append(1400)  # larger size for pathway nodes\n",
    "        font_size_map[node] = 12  # larger font size for pathway nodes\n",
    "    else:\n",
    "        color_map.append('#2274a5')\n",
    "        node_size_map.append(800)  # smaller size for gene nodes\n",
    "        font_size_map[node] = 8  # smaller font size for gene nodes\n",
    "\n",
    "# Draw the network with custom node sizes and font sizes\n",
    "plt.figure(figsize=(20, 20))\n",
    "nx.draw_networkx_nodes(G, pos, node_color=color_map, node_size=node_size_map)\n",
    "nx.draw_networkx_edges(G, pos, edge_color='gray')\n",
    "\n",
    "# Draw labels with custom font sizes\n",
    "for node, (x, y) in pos.items():\n",
    "    if G.nodes[node]['type'] == 'pathway':\n",
    "        label = node.split('__')[1]\n",
    "\n",
    "        # Uncomment if you want to see the full pathway name\n",
    "        # label = node\n",
    "        nx.draw_networkx_labels(G, {node: (x, y)}, labels={node: label}, font_size=font_size_map[node], font_weight='bold')\n",
    "    else:\n",
    "        nx.draw_networkx_labels(G, {node: (x, y)}, labels={node: node}, font_size=font_size_map[node], font_color='white')\n",
    "\n",
    "plt.title('Gene-Pathway Network (M0)')\n",
    "# Remove grid\n",
    "plt.axis('off')\n",
    "plt.show()\n",
    "\n"
   ]
  },
  {
   "cell_type": "code",
   "execution_count": null,
   "metadata": {},
   "outputs": [],
   "source": [
    "# Create a graph\n",
    "G = nx.Graph()\n",
    "\n",
    "# Add nodes and edges to the graph\n",
    "for pathway, genes in pathway_gene_dict.items():\n",
    "    G.add_node(pathway, type='pathway')\n",
    "    for gene in genes:\n",
    "        G.add_node(gene, type='gene')\n",
    "        G.add_edge(pathway, gene)\n",
    "\n",
    "# Initialize Pyvis Network\n",
    "net = Network(height='1100px', width='100%', bgcolor='#ffffff', font_color='black', select_menu=True)\n",
    "\n",
    "# Add nodes and edges to Pyvis Network\n",
    "for node, data in G.nodes(data=True):\n",
    "    label = node\n",
    "    if data['type'] == 'pathway':\n",
    "        label = node.split('__')[1]\n",
    "\n",
    "        # Uncomment if you want to see the full pathway name\n",
    "        # label = node        \n",
    "        net.add_node(node, label=label, color='skyblue', size=30, font={'size': 20})\n",
    "    else:\n",
    "        net.add_node(node, label=node, color='lightgreen', size=15, font={'size': 12})\n",
    "\n",
    "for edge in G.edges():\n",
    "    net.add_edge(edge[0], edge[1], color='gray')\n",
    "\n",
    "# Plot the network\n",
    "net.save_graph(\"pathway_gene_network_M0.html\")"
   ]
  },
  {
   "cell_type": "markdown",
   "metadata": {},
   "source": [
    "👉🏻 You can open the file by clicking this [link](pathway_gene_network_M0.html) "
   ]
  },
  {
   "cell_type": "markdown",
   "metadata": {},
   "source": [
    "### Pre-rank GSEA M1"
   ]
  },
  {
   "cell_type": "code",
   "execution_count": null,
   "metadata": {},
   "outputs": [],
   "source": [
    "# List of differentially expressed Genes\n",
    "de_genes = df_huffman_adata_M1.var[df_huffman_adata_M1.var[\"adj_p_value\"] < 0.05]\n",
    "\n",
    "# Compute the RANK metric\n",
    "pre_input = de_genes[[\"Gene\", \"log2fc\", \"neg_log10_p_value\"]]\n",
    "pre_input[\"RANK\"] = pre_input[\"neg_log10_p_value\"] * pre_input[\"log2fc\"]\n",
    "print (pre_input)\n",
    "\n",
    "pre_input = pre_input[[\"Gene\", \"RANK\"]]\n",
    "sorted_genes = pre_input.sort_values('RANK', ascending=False)\n",
    "sorted_genes.reset_index(drop=True, inplace=True)\n",
    "\n",
    "# TOP 10 up&down-regulated genes. I will use these variables later in the PPI section\n",
    "de_m1_top_genes = sorted_genes.head(10)\n",
    "de_m1_down_genes = sorted_genes.tail(10)"
   ]
  },
  {
   "cell_type": "markdown",
   "metadata": {},
   "source": [
    "### Pre-rank GSEA M0 vs M1\n"
   ]
  },
  {
   "cell_type": "code",
   "execution_count": null,
   "metadata": {},
   "outputs": [],
   "source": [
    "# List of differentially expressed proteins\n",
    "de_genes = df_huffman_adata.var[df_huffman_adata.var[\"adj_p_value\"] < 0.05]\n",
    "de_genes"
   ]
  },
  {
   "cell_type": "code",
   "execution_count": null,
   "metadata": {},
   "outputs": [],
   "source": [
    "# Pre-rank\n",
    "pre_input = de_genes[[\"Gene\", \"log2fc\", \"neg_log10_p_value\"]]\n",
    "pre_input[\"RANK\"] = pre_input[\"neg_log10_p_value\"] * pre_input[\"log2fc\"]\n",
    "pre_input = pre_input[[\"Gene\", \"RANK\"]]\n",
    "print (pre_input)\n"
   ]
  },
  {
   "cell_type": "code",
   "execution_count": null,
   "metadata": {},
   "outputs": [],
   "source": [
    "# Sort the proteins by rank\n",
    "sorted_genes = pre_input.sort_values('RANK', ascending=False)\n",
    "sorted_genes = sorted_genes.reset_index(drop=True)\n",
    "sorted_genes\n",
    "\n",
    "# TOP 10 up&down-regulated genes. I will use these variables later in the PPI section\n",
    "de_top_genes = sorted_genes.head(10)\n",
    "de_down_genes = sorted_genes.tail(10)\n"
   ]
  },
  {
   "cell_type": "code",
   "execution_count": null,
   "metadata": {},
   "outputs": [],
   "source": [
    "# PRE-rank\n",
    "pre_res = gp.prerank(rnk=sorted_genes,\n",
    "                        gene_sets=['GO_Biological_Process_2023', 'GO_Cellular_Component_2023', 'GO_Molecular_Function_2023', 'KEGG_2019_Mouse', 'Reactome_2022', 'MSigDB_Hallmark_2020'],\n",
    "                        organism='Mouse')"
   ]
  },
  {
   "cell_type": "code",
   "execution_count": null,
   "metadata": {},
   "outputs": [],
   "source": [
    "pre_res.res2d"
   ]
  },
  {
   "cell_type": "code",
   "execution_count": null,
   "metadata": {},
   "outputs": [],
   "source": [
    "terms = pre_res.res2d.Term\n",
    "axs = pre_res.plot(terms=terms[1:10],\n",
    "                   show_ranking=True\n",
    "                  )"
   ]
  },
  {
   "cell_type": "code",
   "execution_count": null,
   "metadata": {},
   "outputs": [],
   "source": [
    "sign = pre_res.res2d[pre_res.res2d[\"FDR q-val\"] < 0.05]\n",
    "\n",
    "# Print the top 10 pathways\n",
    "sign.head(10)"
   ]
  },
  {
   "cell_type": "code",
   "execution_count": null,
   "metadata": {},
   "outputs": [],
   "source": [
    "# Filter significant pathways\n",
    "sig_results = pre_res.res2d[pre_res.res2d['FDR q-val'] < 0.25]\n",
    "\n",
    "print(\"Number of significant pathways:\", sig_results.shape[0])\n",
    "\n",
    "# Extract pathways and genes\n",
    "pathway_gene_dict = {}\n",
    "for idx, row in sig_results.iterrows():\n",
    "    pathway_gene_dict[row['Term']] = row['Lead_genes'].split(';')"
   ]
  },
  {
   "cell_type": "code",
   "execution_count": null,
   "metadata": {},
   "outputs": [],
   "source": [
    "# Create a graph\n",
    "G = nx.Graph()\n",
    "\n",
    "# Add nodes and edges to the graph\n",
    "for pathway, genes in pathway_gene_dict.items():\n",
    "    G.add_node(pathway, type='pathway')\n",
    "    for gene in genes:\n",
    "        G.add_node(gene, type='gene')\n",
    "        G.add_edge(pathway, gene)\n",
    "\n",
    "# Initialize Pyvis Network\n",
    "net = Network(height='1100px', width='100%', bgcolor='#ffffff', font_color='black', select_menu=True)\n",
    "\n",
    "# Add nodes and edges to Pyvis Network\n",
    "for node, data in G.nodes(data=True):\n",
    "    if data['type'] == 'pathway':\n",
    "        net.add_node(node, label=node, color='skyblue', size=30, font={'size': 20})\n",
    "    else:\n",
    "        net.add_node(node, label=node, color='lightgreen', size=15, font={'size': 12})\n",
    "\n",
    "for edge in G.edges():\n",
    "    net.add_edge(edge[0], edge[1], color='gray')\n",
    "\n",
    "# Plot the network\n",
    "net.save_graph(\"pathway_gene_network_M0_M1.html\")"
   ]
  },
  {
   "cell_type": "markdown",
   "metadata": {},
   "source": [
    "👉🏻 You can open the file by clicking this [link](pathway_gene_network_M0_M1.html)"
   ]
  },
  {
   "cell_type": "markdown",
   "metadata": {},
   "source": [
    "### Protein-Protein Interaction\n"
   ]
  },
  {
   "cell_type": "code",
   "execution_count": null,
   "metadata": {},
   "outputs": [],
   "source": [
    "sdb = StringDBClient(server_url=\"https://string-db.org/api\", species=9606, score_threshold=400)"
   ]
  },
  {
   "cell_type": "markdown",
   "metadata": {},
   "source": [
    "**PPI for untreated cells**"
   ]
  },
  {
   "cell_type": "code",
   "execution_count": null,
   "metadata": {},
   "outputs": [],
   "source": [
    "# Most up-regulated genes\n",
    "input_list = de_m0_top_genes[\"Gene\"].tolist()\n",
    "image_data = sdb.get_network_image(input_list, \"image\")\n",
    "page = sdb.get_protein_page(input_list, \"tsv-no-header\")\n",
    "print(\"Link to the information page of the proteins: \"+page)\n",
    "display(Image(image_data))"
   ]
  },
  {
   "cell_type": "code",
   "execution_count": null,
   "metadata": {},
   "outputs": [],
   "source": [
    "# Most down-regulated genes\n",
    "input_list = de_m0_down_genes[\"Gene\"].tolist()\n",
    "image_data = sdb.get_network_image(input_list, \"image\")\n",
    "page = sdb.get_protein_page(input_list, \"tsv-no-header\")\n",
    "print(\"Link to the information page of the proteins: \"+page)\n",
    "display(Image(image_data))"
   ]
  },
  {
   "cell_type": "code",
   "execution_count": null,
   "metadata": {},
   "outputs": [],
   "source": [
    "# Most up&down-regulated genes\n",
    "input_list = de_m0_top_genes[\"Gene\"].tolist() + de_m0_down_genes[\"Gene\"].tolist()\n",
    "image_data = sdb.get_network_image(input_list, \"image\")\n",
    "page = sdb.get_protein_page(input_list, \"tsv-no-header\")\n",
    "print(\"Link to the information page of the proteins: \"+page)\n",
    "display(Image(image_data))"
   ]
  },
  {
   "cell_type": "markdown",
   "metadata": {},
   "source": [
    "**PPI for LPS cells**"
   ]
  },
  {
   "cell_type": "code",
   "execution_count": null,
   "metadata": {},
   "outputs": [],
   "source": [
    "# Most up-regulated genes\n",
    "input_list = de_m1_top_genes[\"Gene\"].tolist()\n",
    "image_data = sdb.get_network_image(input_list, \"image\")\n",
    "page = sdb.get_protein_page(input_list, \"tsv-no-header\")\n",
    "print(\"Link to the information page of the proteins: \"+page)\n",
    "display(Image(image_data))"
   ]
  },
  {
   "cell_type": "code",
   "execution_count": null,
   "metadata": {},
   "outputs": [],
   "source": [
    "# Most down-regulated genes\n",
    "input_list = de_m1_down_genes[\"Gene\"].tolist()\n",
    "image_data = sdb.get_network_image(input_list, \"image\")\n",
    "page = sdb.get_protein_page(input_list, \"tsv-no-header\")\n",
    "print(\"Link to the information page of the proteins: \"+page)\n",
    "display(Image(image_data))"
   ]
  },
  {
   "cell_type": "code",
   "execution_count": null,
   "metadata": {},
   "outputs": [],
   "source": [
    "# Most up&down-regulated genes\n",
    "input_list = de_m1_top_genes[\"Gene\"].tolist() + de_m0_down_genes[\"Gene\"].tolist()\n",
    "image_data = sdb.get_network_image(input_list, \"image\")\n",
    "page = sdb.get_protein_page(input_list, \"tsv-no-header\")\n",
    "print(\"Link to the information page of the proteins: \"+page)\n",
    "display(Image(image_data))"
   ]
  },
  {
   "cell_type": "markdown",
   "metadata": {},
   "source": [
    "**PPI for M0 & M1**"
   ]
  },
  {
   "cell_type": "code",
   "execution_count": null,
   "metadata": {},
   "outputs": [],
   "source": [
    "# Most up-regulated genes\n",
    "input_list = de_top_genes[\"Gene\"].tolist()\n",
    "image_data = sdb.get_network_image(input_list, \"image\")\n",
    "page = sdb.get_protein_page(input_list, \"tsv-no-header\")\n",
    "print(\"Link to the information page of the proteins: \"+page)\n",
    "display(Image(image_data))"
   ]
  },
  {
   "cell_type": "code",
   "execution_count": null,
   "metadata": {},
   "outputs": [],
   "source": [
    "# Most down-regulated genes\n",
    "input_list = de_down_genes[\"Gene\"].tolist()\n",
    "image_data = sdb.get_network_image(input_list, \"image\")\n",
    "page = sdb.get_protein_page(input_list, \"tsv-no-header\")\n",
    "print(\"Link to the information page of the proteins: \"+page)\n",
    "display(Image(image_data))"
   ]
  },
  {
   "cell_type": "code",
   "execution_count": null,
   "metadata": {},
   "outputs": [],
   "source": [
    "# Most up&down-regulated genes\n",
    "input_list = de_top_genes[\"Gene\"].tolist() + de_down_genes[\"Gene\"].tolist()\n",
    "image_data = sdb.get_network_image(input_list, \"image\")\n",
    "page = sdb.get_protein_page(input_list, \"tsv-no-header\")\n",
    "print(\"Link to the information page of the proteins: \"+page)\n",
    "display(Image(image_data))"
   ]
  }
 ],
 "metadata": {
  "kernelspec": {
   "display_name": "venv",
   "language": "python",
   "name": "python3"
  },
  "language_info": {
   "codemirror_mode": {
    "name": "ipython",
    "version": 3
   },
   "file_extension": ".py",
   "mimetype": "text/x-python",
   "name": "python",
   "nbconvert_exporter": "python",
   "pygments_lexer": "ipython3",
   "version": "3.9.6"
  }
 },
 "nbformat": 4,
 "nbformat_minor": 2
}
