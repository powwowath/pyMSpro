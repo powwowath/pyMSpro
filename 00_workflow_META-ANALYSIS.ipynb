{
 "cells": [
  {
   "cell_type": "markdown",
   "metadata": {},
   "source": [
    "---\n",
    "## **Single Cell Proteomics Meta-Analysis**\n",
    "### **Author**: Gerard Font\n",
    "**Date:** January 2025<br>\n",
    "***MBDS** - Master Biomedical Data Science*\n",
    "\n",
    "Meta-analysis, is a statistical technique that combines and analyzes data from multiple independent studies, which has become increasingly important in the field of single-cell proteomics. By integrating data from different experiments, meta-analysis allows for the identification of robust and reproducible findings, overcoming the limitations of individual studies and providing a more comprehensive view of the biological landscape.\n",
    "\n",
    "The objectives of this thesis are as follows:\n",
    "1. Review and summarize the existing literature on single-cell proteomics and meta-analysis.\n",
    "2. Collect and curate relevant single-cell proteomic datasets from public repositories.\n",
    "3. Develop a comprehensive data analysis pipeline for meta-analysis of single-cell proteomic data.\n",
    "4. Apply the developed pipeline to integrate and analyze the collected datasets.\n",
    "5. Identify differentially expressed proteins, cellular subpopulations, and potential biomarkers.\n",
    "6. Validate the findings through comparison with independent datasets and experimental validation.\n",
    "7. Interpret the results and provide biological insights into the studied biological systems.\n",
    "\n",
    "Through this master thesis, I hope to provide a comprehensive overview of the data analysis techniques employed in single-cell proteomics meta-analysis and demonstrate their utility in uncovering novel biological insights.\n",
    "\n",
    "---"
   ]
  },
  {
   "cell_type": "markdown",
   "metadata": {},
   "source": [
    "### Cell types\n",
    "The notebook and the meta-analysis are centered on examining experiments that utilize human monocytes and macrophages, specifically focusing on the M0, M1, and M2 phenotypes. These studies are crucial for understanding the functional differentiation and polarization of monocytes into macrophages, which play vital roles in immune response and inflammation. By analyzing the proteomic profiles and comparing the abundance of proteins in these different macrophage states, the research aims to uncover key regulatory mechanisms and potential biomarkers that influence macrophage behavior and their responses to various stimuli. This comprehensive approach provides valuable insights into macrophage biology and their roles in health and disease.\n",
    "\n",
    "* **M0** - Undifferentiated macrophages or monocytes\n",
    "* **M1** - Classically activated macrophages (stimulated with LPS or IFN-γ)\n",
    "* **M2** - Alternatively activated macrophages (stimulated with IL-4 or IL-13) \n",
    "<br>"
   ]
  },
  {
   "cell_type": "markdown",
   "metadata": {},
   "source": [
    "---\n",
    "### Import Libraries\n",
    "\n",
    "Required libraries"
   ]
  },
  {
   "cell_type": "code",
   "execution_count": 1,
   "metadata": {},
   "outputs": [
    {
     "name": "stderr",
     "output_type": "stream",
     "text": [
      "/Users/gerardfont/Documents/Gerard/Master_BiomedicalDataScience/00_Master_THESIS/code/pyMSpro/venv/lib/python3.9/site-packages/urllib3/__init__.py:35: NotOpenSSLWarning: urllib3 v2 only supports OpenSSL 1.1.1+, currently the 'ssl' module is compiled with 'LibreSSL 2.8.3'. See: https://github.com/urllib3/urllib3/issues/3020\n",
      "  warnings.warn(\n"
     ]
    }
   ],
   "source": [
    "# Import pandas\n",
    "import pandas as pd\n",
    "\n",
    "from matplotlib import pyplot as plt\n",
    "import seaborn as sns\n",
    "\n",
    "# Venn diagram\n",
    "from matplotlib_venn import venn3\n",
    "from matplotlib_venn import venn2\n",
    "\n",
    "# Core scverse libraries\n",
    "import scanpy as sc\n",
    "import anndata as ad\n",
    "import numpy as np\n",
    "\n",
    "from scipy.stats import ttest_ind\n",
    "from statsmodels.stats.multitest import multipletests\n",
    "\n",
    "# Gerard's libraries\n",
    "from src.uniprot_client import UniprotClient\n",
    "from src.stringdb_client import StringDBClient\n",
    "\n",
    "from IPython.display import Image, display\n",
    "\n",
    "import warnings "
   ]
  },
  {
   "cell_type": "markdown",
   "metadata": {},
   "source": [
    "___\n",
    "### Configuration \n",
    "\n",
    "General configuration"
   ]
  },
  {
   "cell_type": "code",
   "execution_count": 2,
   "metadata": {},
   "outputs": [],
   "source": [
    "uniprot = UniprotClient()\n",
    "\n",
    "TRANSLATE_PROTEIN_ID = True   # True to use UniprotKB API to translate all protein ID's. False to use the backup (already translated protein ID's)\n",
    "MIN_NUM_PEPTIDE_THRESHOLD = 2     # Minimum number of peptides required to consider a protein as identified\n",
    "\n",
    "# Differential Expression Analysis (DEA) Thresholds\n",
    "LOG2_THRESHOLD = 1\n",
    "PVAL_THRESHOLD = 0.05\n",
    "SCORE_THRESHOLD = 1.5\n",
    "\n",
    "warnings.filterwarnings('ignore')"
   ]
  },
  {
   "cell_type": "code",
   "execution_count": 3,
   "metadata": {},
   "outputs": [
    {
     "data": {
      "text/plain": [
       "<Figure size 640x480 with 0 Axes>"
      ]
     },
     "metadata": {},
     "output_type": "display_data"
    }
   ],
   "source": [
    "custom_theme = {\n",
    "    \"axes.facecolor\": \"white\",\n",
    "    \"axes.edgecolor\": \"gray\",\n",
    "    \"axes.grid\": True,\n",
    "    \"grid.color\": \".97\",\n",
    "    \"grid.linestyle\": \"-\",\n",
    "    \"axes.spines.left\": True,\n",
    "    \"axes.spines.bottom\": True,\n",
    "    \"axes.spines.right\": False,\n",
    "    \"axes.spines.top\": False,\n",
    "    \"xtick.color\": \"gray\",\n",
    "    \"ytick.color\": \"gray\",\n",
    "    \"xtick.direction\": \"out\",\n",
    "    \"ytick.direction\": \"out\",\n",
    "    \"axes.titlesize\": 9,\n",
    "    \"axes.labelsize\": 8,\n",
    "    \"xtick.labelsize\": 8,\n",
    "    \"ytick.labelsize\": 8,\n",
    "    \"legend.frameon\": True,\n",
    "    \"legend.fontsize\": 7,\n",
    "    \"font.family\": \"sans-serif\", \n",
    "    \"font.serif\": \"Calibri\",\n",
    "    \"legend.title_fontsize\": 8\n",
    "}\n",
    "\n",
    "\n",
    "# Apply the custom theme\n",
    "sns.set_theme(style=\"ticks\", rc=custom_theme)\n",
    "sns.despine()\n",
    "sns.set_palette([\"#4CC9F0\", \"#4361EE\", \"#3A0CA3\", \"#F72585\", \"#7209B7\", \"#3A0CA3\", \"#4361EE\", \"#4CC9F0\"])\n",
    "\n",
    "# Customize font and palette\n",
    "#sns.set_context(\"notebook\", font_scale=0.9)\n",
    "#sns.set_palette(\"colorblind\")\n",
    "#sns.set_palette(sns.color_palette(\"Paired\"))\n",
    "#sns.set_palette(sns.color_palette(\"rocket\"))\n",
    "#sns.set_palette(sns.color_palette(\"tab10\"))\n",
    "#sns.set_palette(sns.color_palette(\"tab20\"))\n",
    "#sns.set_palette(sns.color_palette(\"Spectral\"))\n",
    "#sns.set_palette(sns.color_palette(\"hls\", 8)\n",
    "\n",
    "# https://r02b.github.io/seaborn_palettes/"
   ]
  },
  {
   "cell_type": "markdown",
   "metadata": {},
   "source": [
    "---\n",
    "### Data Sources\n",
    "\n",
    "The meta-analysis will include the following data sources:\n",
    "\n",
    "* **EXPERIMENT 1:** ./data/processed/2016_Iwata_ncomms12849/**SI_THP_RAW_proteomics_data_ss.xlsx**<br>\n",
    "*Iwata, H., Goettsch, C., Sharma, A., Ricchiuto, P., Goh, W. W. bin, Halu, A., Yamada, I., Yoshida, H., Hara, T., Wei, M., Inoue, N., Fukuda, D., Mojcher, A., Mattson, P. C., Barabási, A. L., Boothby, M., Aikawa, E., Singh, S. A., & Aikawa, M. (2016). PARP9 and PARP14 cross-regulate macrophage activation via STAT1 ADP-ribosylation. Nature Communications 2016 7:1, 7(1), 1–19. https://doi.org/10.1038/ncomms12849*\n",
    "<br><br>\n",
    "* **EXPERIMENT 2:** ./data/processed/2022_Pengfei LI_35557041/**PD_Globalproteomics_2024.xlsx**<br>\n",
    "*Li, P., Ma, C., Li, J., You, S., Dang, L., Wu, J., Hao, Z., Li, J., Zhi, Y., Chen, L., & Sun, S. (2022). Proteomic characterization of four subtypes of M2 macrophages derived from human THP-1 cells. Journal of Zhejiang University. Science. B, 23(5), 407–422. https://doi.org/10.1631/jzus.B2100930*\n",
    "<br><br>\n",
    "* **EXPERIMENT 3:** ./data/processed/2021_Pengfei LI_34267761/**THP1_global_M0_M1_M2_proteins.xlsx**<br>\n",
    "*Li, P., Hao, Z., Wu, J., Ma, C., Xu, Y., Li, J., Lan, R., Zhu, B., Ren, P., Fan, D., & Sun, S. (2021). Comparative Proteomic Analysis of Polarized Human THP-1 and Mouse RAW264.7 Macrophages. Frontiers in Immunology, 12, 700009. https://doi.org/10.3389/FIMMU.2021.700009*\n",
    "<br><br>\n",
    "* **EXPERIMENT 4:** ./data/processed/2022_Huffman/**limmaCorrected_normed_prePCA_Priori_mrri02_PIF50_DART_1pFDR.csv** (metadata: ./data/processed/2022_Huffman/BMDM_pSCoPE_SampleGuide.csv)<br>\n",
    "*Huffman, R. G., Leduc, A., Wichmann, C., di Gioia, M., Borriello, F., Specht, H., Derks, J., Khan, S., Khoury, L., Emmott, E., Petelski, A. A., Perlman, D. H., Cox, J., Zanoni, I., & Slavov, N. (2023). Prioritized mass spectrometry increases the depth, sensitivity and data completeness of single-cell proteomics. Nature Methods 2023 20:5, 20(5), 714–722. https://doi.org/10.1038/s41592-023-01830-1*\n",
    "<br><br>\n",
    "\n",
    "<br><br>\n",
    "TODO: DELETE\n",
    "* **EXPERIMENT 5:** ./data/...<br>\n",
    "*Specht, H., Emmott, E., Petelski, A. A., Huffman, R. G., Perlman, D. H., Serra, M., Kharchenko, P., Koller, A., & Slavov, N. (2021). Single-cell proteomic and transcriptomic analysis of macrophage heterogeneity using SCoPE2. Genome Biology, 22(1), 1–27. https://doi.org/10.1186/S13059-021-02267-5/TABLES/2*\n",
    "<br><br>\n"
   ]
  },
  {
   "cell_type": "code",
   "execution_count": 4,
   "metadata": {},
   "outputs": [],
   "source": [
    "# Paths to each of the data sources\n",
    "path_2016_iwata = \"./data/processed/2016_Iwata_ncomms12849/SI_THP_RAW_proteomics_data_ss.xlsx\"\n",
    "path_2022_pengfei = \"./data/processed/2022_Pengfei LI_35557041/PD_Globalproteomics_2024.xlsx\"\n",
    "path_2021_pengfei = \"./data/processed/2021_Pengfei LI_34267761/THP1_global_M0_M1_M2_proteins.xlsx\"\n",
    "path_2022_huffman = \"./data/processed/2022_Huffman/limmaCorrected_normed_prePCA_Priori_mrri02_PIF50_DART_1pFDR.csv\"\n",
    "path_2022_huffman_meta = \"./data/processed/2022_Huffman/BMDM_pSCoPE_SampleGuide.csv\""
   ]
  },
  {
   "cell_type": "markdown",
   "metadata": {},
   "source": [
    "---\n",
    "# Meta-analysis objectives\n",
    "As part of the meta-analysis, several data analysis activities will be performed (detailed in the following table). These activities include quantitative proteomic profiling, differential expression analysis and pathway analysis. It is important to note that due to limitations in some of the data sources, not all activities may be available for every dataset. The analysis will be adapted accordingly to ensure the most comprehensive and accurate interpretation possible given the available data.\n",
    "\n",
    "✅ **Available**<br>\n",
    "🔰 **Partially available**<br>\n",
    "❌ **Not available**<br><br>\n",
    "\n",
    "<table style=\"text-align: center;\">\n",
    "  <tr style=\"background-color: #cccccc;\">\n",
    "    <th>Study</th>\n",
    "    <th>Type*</th>\n",
    "    <th>Quantitative proteomic<br>profiling</th>\n",
    "    <th>Differential Expression<br>Analysis</th>\n",
    "    <th>Pathway Analysis</th>\n",
    "  </tr>\n",
    "  <tr>\n",
    "    <td style=\"background-color: #efefef; text-align: left\"><a href=\"https://www.nature.com/articles/ncomms12849\" target=\"_blank\">Iwata, H., et al. (2016)</a></td>\n",
    "    <td style=\"background-color: #efefef;\">Bulk</td>\n",
    "    <td>✅</td>\n",
    "    <td>✅</td>\n",
    "    <td>✅</td>\n",
    "  </tr>\n",
    "  <tr>\n",
    "    <td style=\"background-color: #efefef; text-align: left\"><a href=\"https://link.springer.com/article/10.1631/jzus.B2100930\" target=\"_blank\">Li, P., et al. (2022)</a></td>\n",
    "    <td style=\"background-color: #efefef;\">Bulk</td>\n",
    "    <td>✅</td>\n",
    "    <td>✅</td>\n",
    "    <td>✅</td>\n",
    "  </tr>\n",
    "  <tr>\n",
    "    <td style=\"background-color: #efefef; text-align: left\"><a href=\"https://pubmed.ncbi.nlm.nih.gov/34267761/\" target=\"_blank\">Li, P., et al. (2021)</a></td>\n",
    "    <td style=\"background-color: #efefef;\">Bulk</td>\n",
    "    <td>✅</td>\n",
    "    <td>✅</td>\n",
    "    <td>✅</td>\n",
    "  </tr>\n",
    "\n",
    "  <tr>\n",
    "    <td style=\"background-color: #efefef; text-align: left\"><a href=\"https://www.nature.com/articles/s41592-023-01830-1\" target=\"_blank\">Huffman, R. G., et al. (2022)</a></td>\n",
    "    <td style=\"background-color: #efefef;\">Single Cell</td>\n",
    "    <td>🔰</td>\n",
    "    <td>✅</td>\n",
    "    <td>✅</td>\n",
    "  </tr>    \n",
    "  <tr style=\"font-weight: bold; background-color: #efefef;\">\n",
    "    <td colspan=\"2\" style=\"text-align: center;\">Comparison</td>\n",
    "    <td>Yes</td>\n",
    "    <td>Yes</td>\n",
    "    <td>Yes</td>\n",
    "  </tr></table>\n",
    "\n",
    "\\**Bulk studies present in this table used cell lines and averaged the abundances of iditified proteins*\n",
    "<br><br>\n",
    "\n",
    "**Goals:**\n",
    "1. Distinct Phenotypic Profiles: Understanding the unique protein profiles associated with each polarization state.\n",
    "2. Shared and Unique Pathways: Pinpointing common and specific pathways that characterize different macrophage phenotypes.\n",
    "<br><br><br>\n",
    "\n",
    "**1. Top 20 Up/Down represented proteins in M1 & M2 vs M0   <->  Differential Protein Expression**\n",
    "* Pairwise Comparisons: Compare M0 vs. M1, M0 vs. M2, and M1 vs. M2 to identify proteins that are upregulated or downregulated in specific polarization states.\n",
    "* Fold Change Analysis: Quantify the magnitude of changes in protein expression.\n",
    "* Statistical Significance: Assess the significance of changes using statistical tests like t-tests or ANOVA.\n",
    "\n",
    "<span style=\"color:red\">\n",
    "Ideas:<br>\n",
    "&#160;&#160;&#160;- Barplot with proteins found in M0, M1 and M2 (per study)<br>\n",
    "&#160;&#160;&#160;- 2x Dendograms with top over/down represented proteins of M1 and M2 vs M0  (per study)<br>\n",
    "&#160;&#160;&#160;- Comparison: top up/down repr. proteins found in only some of the experiments<br>\n",
    "</span>\n",
    "\n",
    "**2. Pathway Analysis (GSEA)   <->   Functional Enrichment Analysis**\n",
    "* Gene Ontology (GO) Enrichment: Identify biological processes, molecular functions, and cellular components that are enriched in differentially expressed proteins.\n",
    "* Pathway Analysis: Determine which signaling pathways are activated or inhibited in different polarization states.\n",
    "* Protein-Protein Interaction Network Analysis: Visualize the interactions between differentially expressed proteins to identify key regulatory hubs."
   ]
  },
  {
   "cell_type": "markdown",
   "metadata": {},
   "source": [
    "---\n",
    "### Load the Data"
   ]
  },
  {
   "cell_type": "code",
   "execution_count": 5,
   "metadata": {},
   "outputs": [],
   "source": [
    "# EXPERIMENT 1 -----------------------------------------------------------------------------------------------------------\n",
    "# Load the data from different sheets\n",
    "df_2016_iwata_M0 = pd.read_excel(path_2016_iwata, sheet_name=\"THP_M0\", index_col=0) # Index = Accession\n",
    "df_2016_iwata_M1 = pd.read_excel(path_2016_iwata, sheet_name=\"THP_M1\", index_col=0) \n",
    "df_2016_iwata_M2 = pd.read_excel(path_2016_iwata, sheet_name=\"THP_M2\", index_col=0) \n",
    "\n",
    "# Merge the three datasets -----------------------------------------------------------------------------------------------\n",
    "df_2016_iwata = pd.concat([df_2016_iwata_M0, df_2016_iwata_M1, df_2016_iwata_M2], keys=[\"M0\", \"M1\", \"M2\"], names=[\"Type\"])\n",
    "df_2016_iwata = df_2016_iwata.reset_index(level=0).rename(columns={\"level_0\": \"Type\"})\n",
    "\n",
    "# EXPERIMENT 2 -----------------------------------------------------------------------------------------------------------\n",
    "df_2022_pengfei = pd.read_excel(path_2022_pengfei, sheet_name=\"Proteins\", index_col=2) # Index = Accession\n",
    "\n",
    "# EXPERIMENT 3 -----------------------------------------------------------------------------------------------------------\n",
    "df_2021_pengfei = pd.read_excel(path_2021_pengfei, sheet_name=\"Proteins\", index_col=5) # Index = Accession\n",
    "\n",
    "# EXPERIMENT 4 -----------------------------------------------------------------------------------------------------------\n",
    "df_huffman = pd.read_csv(path_2022_huffman, index_col=0)\n",
    "df_huffman_meta = pd.read_csv(path_2022_huffman_meta, index_col=0)\n",
    "\n",
    "# Create an AnnData object\n",
    "data = df_huffman.T\n",
    "df_huffman_adata = ad.AnnData(data.astype(np.float32))\n",
    "\n",
    "# Adding metadata\n",
    "anno = df_huffman_meta\n",
    "ids = anno.index\n",
    "anno = anno.T\n",
    "celltypes = anno.iloc[2]\n",
    "\n",
    "# New obs with the cell type\n",
    "df_huffman_adata.obs['celltype'] = celltypes\n",
    "\n",
    "# Map the cell type to the AnnData object\n",
    "celltype_dict = dict(zip(ids, celltypes))\n",
    "df_huffman_adata.obs['celltype'] = df_huffman_adata.obs.index.map(celltype_dict)\n",
    "                              "
   ]
  },
  {
   "cell_type": "code",
   "execution_count": 6,
   "metadata": {},
   "outputs": [],
   "source": [
    "# Grouping M2x types to M2 for Experiment2 by averaging\n",
    "groupM2 = ['Abundances (Grouped): M2a', 'Abundances (Grouped): M2b', 'Abundances (Grouped): M2c', 'Abundances (Grouped): M2d']\n",
    "df_2022_pengfei[\"Abundances (Grouped): M2\"] = df_2022_pengfei[groupM2].mean(axis=1)\n",
    "\n",
    "groupM2 = ['Abundance Ratio: (M2a) / (M1)', 'Abundance Ratio: (M2b) / (M1)', 'Abundance Ratio: (M2c) / (M1)', 'Abundance Ratio: (M2d) / (M1)']\n",
    "df_2022_pengfei[\"Abundance Ratio: M2 / M1\"] = df_2022_pengfei[groupM2].mean(axis=1)\n",
    "groupM2 = ['Abundance Ratio: (M2a) / (M0)', 'Abundance Ratio: (M2b) / (M0)', 'Abundance Ratio: (M2c) / (M0)', 'Abundance Ratio: (M2d) / (M0)']\n",
    "df_2022_pengfei[\"Abundance Ratio: M2 / M0\"] = df_2022_pengfei[groupM2].mean(axis=1)\n"
   ]
  },
  {
   "cell_type": "markdown",
   "metadata": {},
   "source": [
    "---\n",
    "### Dataset formats\n",
    "Each of the files/experiments prepared a specific format that require to be adapted to make it comparable with other datasetes. These are the different formats used in the meta-analysis:\n",
    "\n",
    "\n",
    "**EXPERIMENT 1: *SI_THP_RAW_proteomics_data_ss.xlsx***\n",
    "* **Accession:** This is a unique identifier assigned to a protein, often from databases like UniProt or RefSeq.\n",
    "* **Description:** A brief description of the protein's function or characteristics.\n",
    "* **Score:** A numerical value representing the confidence level of the protein identification. Higher scores indicate more reliable identifications.\n",
    "* **Coverage:** The percentage of the protein's amino acid sequence that has been covered by identified peptides.\n",
    "* **#Proteins:** The number of proteins associated with the identified peptides.\n",
    "* **#Unique Peptides:** The number of distinct peptide sequences identified.\n",
    "* **#Peptides:** The total number of peptides identified, including duplicates.\n",
    "* **#PSMs:** The number of Peptide Spectrum Matches, which represent the number of times a peptide sequence has been identified in the mass spectra.\n",
    "* **126/126 Count:** Counts at moment 0hr\n",
    "* **127/126 Count:** Counts at moment 8hr\n",
    "* **128/126 Count:** Counts at moment 12hr\n",
    "* **129/126 Count:** Counts at moment 24hr\n",
    "* **130/126 Count:** Counts at moment 48hr\n",
    "* **131/126 Count:** Counts at moment 72hr   <span style=\"color:red\"><--   We take this one as a reference (fig 3. https://pmc.ncbi.nlm.nih.gov/articles/PMC7839219/)</span>\n",
    "\n",
    "Additional information: https://www.biotech.iastate.edu/wp_biotech/wp-content/uploads/2023/07/ProteomeDiscovererInstructions.pdf\n",
    "<br><br>\n",
    "\n",
    "**EXPERIMENT 2: *PD_Globalprotomics_2024.xlsx***\n",
    "\n",
    "* **Protein FDR Confidence: Combined**: Reflects the level of confidence in the identification of each protein\n",
    "* **Master**: A unique identifier assigned to each protein group.\n",
    "* **Accession**: A database accession number (e.g., UniProt) for the protein.\n",
    "* **Description**: A textual description of the protein's function and characteristics.\n",
    "* **Sum PEP Score**: The sum of peptide-spectrum match (PSM) scores, indicating overall confidence in protein identification.\n",
    "* **# Peptides**: The number of peptides identified for the protein.\n",
    "* **# PSMs**: The total number of PSMs for the protein.\n",
    "* **# Protein Unique Peptides**: The number of peptides uniquely assigned to this protein.\n",
    "* **# Unique Peptides**: The total number of unique peptides identified.\n",
    "* **# AAs**: The number of amino acids in the protein sequence.\n",
    "* **MW [kDa]**: The molecular weight of the protein in kilodaltons.\n",
    "* **Score Sequest HT: Sequest HT**: The score assigned by the Sequest HT search engine for the protein identification.\n",
    "* **# Razor Peptides**: The number of peptides uniquely assigned to this protein group, helping to distinguish it from other similar proteins.\n",
    "* *Quantitative Proteomics Data*\n",
    "    * **Abundance Ratio**: These columns represent the relative abundance of a protein in different experimental conditions (e.g., M0, M1, M2a, M2b, M2c, M2d). The ratios are calculated by dividing the abundance of a protein in one condition by the abundance in another condition.\n",
    "    * **Abundances (Grouped)**: These columns represent the absolute or normalized abundance of a protein in each experimental group.\n",
    "    * **Abundances (Normalized)**: These columns represent the normalized abundance of a protein in each individual sample (F1-F18). Normalization is a process to account for experimental variability and ensure accurate comparison of protein abundance across samples.\n",
    "* **Modifications**: This column indicates any post-translational modifications (PTMs) identified on the protein, such as phosphorylation or acetylation.\n",
    "\n",
    "<br><br>\n",
    "**EXPERIMENT 3: *THP1_global_M0_M1_M2_proteins.xlsx***\n",
    "* **Checked:** Indicates whether the protein identification was manually checked.\n",
    "* **Protein FDR Confidence:** False Discovery Rate (FDR) confidence level for the protein identification.\n",
    "* **Combined:** Indicates whether the protein identification is based on a combination of different search engines or data sources.\n",
    "* **Master Unique Sequence ID:** A unique identifier assigned to the master protein.\n",
    "* **Protein Group IDs:** Identifiers for protein groups, which can include isoforms or related proteins.\n",
    "* **Accession:** Accession number from a protein database (e.g., UniProt).\n",
    "* **Description:** Brief description of the protein function.\n",
    "* **FASTA Title Lines:** The FASTA header line corresponding to the protein sequence.\n",
    "* **Exp. q-value: Combined:** The q-value (FDR-adjusted p-value) for the protein identification.\n",
    "* **Sum PEP Score:** The summed peptide expectation score for the protein.\n",
    "* **# Decoy Protein: Combined:** The number of decoy proteins identified in the analysis.\n",
    "* **Coverage [%]:** The percentage of the protein sequence covered by identified peptides.\n",
    "* **# Peptides:** The number of peptides identified for the protein.\n",
    "* **# PSMs:** The number of peptide spectrum matches (PSMs) identified.\n",
    "* **# Protein Unique Peptides:** The number of peptides unique to the protein.\n",
    "* **# Unique Peptides:** The number of unique peptide sequences identified.\n",
    "* **# AAs:** The number of amino acids in the protein sequence.\n",
    "* **MW [kDa]:** The molecular weight of the protein in kilodaltons.\n",
    "* **calc. pI:** The calculated isoelectric point of the protein.\n",
    "* **Score Sequest HT:** The score assigned by the Sequest HT search engine.\n",
    "* **Coverage [%] (by Search Engine): Sequest HT:** The coverage by Sequest HT.\n",
    "* **# PSMs (by Search Engine): Sequest HT:** The number of PSMs identified by Sequest HT.\n",
    "* **# Peptides (by Search Engine): Sequest HT:** The number of peptides identified by Sequest HT.\n",
    "* **# Razor Peptides:** The number of razor peptides, which are uniquely assigned to a single protein group.\n",
    "* Quantitative Data:\n",
    "    * **Abundance Ratio: (M1) / (M0):** The ratio of protein abundance between two conditions (M1 and M0).\n",
    "    * **Abundance Ratio (log2): (M1) / (M0):** The log2-transformed abundance ratio.\n",
    "    * **Abundance Ratio P-Value:** The p-value for the difference in abundance between the two conditions.\n",
    "    * **Abundance Ratio Adj. P-Value:** The adjusted p-value for the abundance ratio.\n",
    "    * **Abundance Ratio Variability [%]:** The variability in the abundance ratio.\n",
    "    * **Abundance Ratio Weight:** The weight assigned to the abundance ratio.\n",
    "    * **Abundances (Grouped): M0, M1, M2:** The grouped abundance values for each condition.\n",
    "    * **Abundances (Grouped) CV [%]:** The coefficient of variation for the grouped abundance values.\n",
    "    * **Abundances (Grouped) Count:** The number of replicates for each condition.\n",
    "    * **Abundances (Scaled):** The scaled abundance values for each sample.\n",
    "    * **Abundances (Normalized):** The normalized abundance values for each sample.\n",
    "    * **Abundance:** The absolute abundance value for each sample.\n",
    "    * **Abundances Count:** The number of replicates for each sample.\n",
    "* Sample Information:  <span style=\"color:red\"><-- TODO: Review </span>\n",
    "    * **Found in File:** The file where the protein was identified.\n",
    "    * **Found in Sample:** The sample name where the protein was identified.\n",
    "    * **Found in Sample Group:** The sample group where the protein was identified.\n",
    "    * **# Protein Groups:** The number of protein groups identified in the sample.\n",
    "    * **Modifications:** Any identified post-translational modifications on the protein.\n",
    "\n",
    "<br><br>\n",
    "**EXPERIMENT 4: *limmaCorrected_normed_prePCA_Priori_mrri02_PIF50_DART_1pFDR.csv***  and its metadata,  *BMDM_pSCoPE_SampleGuide.csv*<br>\n",
    "*Source-code: https://github.com/SlavovLab/pSCoPE*<br>\n",
    "\n",
    "* **Processed data (proteins)**: Intensity matrix where each row represents an identified protein and each column a single cell.<br>\n",
    "The final intensity matrix contains log2-transformed and normalized quantitation values for peptides or proteins across different single cell runs. Each row represents a peptide or protein, and each column represents a single cell or experimental run.\n",
    "\n",
    "* **Metadata**. The relevant fields for this meta-analysis are\n",
    "    * **id:** Cell id\n",
    "    * **celltype:** Cell type (\"LPS\" for M1 macrophage, \"untreated\" for monocyte)\n",
    "\n",
    "<br><br>\n",
    "📌 **How to interpret the intensity matrix**\n",
    "* **Quantitation Values:** The values in the intensity matrix represent the quantitation of peptides or proteins. These values are derived from the intensity of TMT Reporter Ions, which are used to label and quantify peptides in mass spectrometry experiments.\n",
    "* **Log2 Transformation:** The quantitation values are log2-transformed to stabilize variance and make the data more normally distributed. This transformation helps in comparing fold changes and reduces the impact of extreme values.\n",
    "* **Normalization:** The values are normalized to account for systematic variations between different experimental runs. This ensures that the quantitation values are comparable across different samples.\n",
    "* **Imputation:** Missing values in the data are replaced with estimated values using k-nearest neighbors imputation. This step ensures that the dataset is complete and can be used for further analysis.\n",
    "* **Batch Correction:** The data is corrected for batch effects using the ComBat function, which removes systematic biases introduced by different experimental batches.\n",
    "<br><br><br>\n",
    "Interpretation of Negative Values:<br><br>\n",
    "* **Relative Quantitation**: After log2 transformation, the values in the intensity matrix represent the relative quantitation levels of peptides or proteins. A log2-transformed value of 0 indicates that the quantitation level is equal to the reference level (e.g., the normalization channel or median value).\n",
    "* **Negative Values**: Negative values indicate that the quantitation level of a peptide or protein is lower than the reference level. For example, a log2-transformed value of -1 means that the quantitation level is half of the reference level (( \\log_2(0.5) = -1 )).\n",
    "* **Biological Significance**: In the context of single-cell proteomics, negative values can indicate lower expression levels of certain proteins in specific cells compared to the reference or median expression level. This can be important for identifying proteins that are downregulated in certain conditions or cell types.\n",
    "\n",
    "Filters:\n",
    "* Remove peptides that are more the 10% the intensity of the carrier in the single cell runs (only)"
   ]
  },
  {
   "cell_type": "markdown",
   "metadata": {},
   "source": [
    "---\n",
    "### Exploratory Data Analysis\n",
    "Initial exploration of the datasets to understand the structure of the datasets, identify missing values, outliers, patterns,...\n"
   ]
  },
  {
   "cell_type": "code",
   "execution_count": 7,
   "metadata": {},
   "outputs": [
    {
     "name": "stdout",
     "output_type": "stream",
     "text": [
      "  Iwata, H., et al. (2016): (19247, 29) -> Note that some proteins are duplicated as they are present in multiple cell types\n",
      "  Li, P., et al. (2022): (6616, 60)\n",
      "  Li, P., et al. (2021): (7349, 109)\n",
      "  Huffman, R. G., et al. (2022): (373, 1123) -> The second dimension is the number of proteins\n"
     ]
    }
   ],
   "source": [
    "# Dimensions of the datasets\n",
    "print(\"  Iwata, H., et al. (2016):\", df_2016_iwata.shape,\"-> Note that some proteins are duplicated as they are present in multiple cell types\")\n",
    "print(\"  Li, P., et al. (2022):\", df_2022_pengfei.shape)\n",
    "print(\"  Li, P., et al. (2021):\", df_2021_pengfei.shape)\n",
    "print(\"  Huffman, R. G., et al. (2022):\", df_huffman_adata.shape,\"-> The second dimension is the number of proteins\")   "
   ]
  },
  {
   "cell_type": "code",
   "execution_count": 8,
   "metadata": {},
   "outputs": [
    {
     "name": "stdout",
     "output_type": "stream",
     "text": [
      "  Unique proteins present in Iwata, H., et al. (2016): 9048\n",
      "  Unique proteins present in Li, P., et al. (2022): 6616\n",
      "  Unique proteins present in Li, P., et al. (2021): 7349\n",
      "  Unique proteins present in Huffman, R. G., et al. (2022): 1123\n"
     ]
    }
   ],
   "source": [
    "# Unique proteins found in each dataest\n",
    "print(\"  Unique proteins present in Iwata, H., et al. (2016):\", df_2016_iwata.index.nunique())\n",
    "print(\"  Unique proteins present in Li, P., et al. (2022):\", df_2022_pengfei.index.nunique())\n",
    "print(\"  Unique proteins present in Li, P., et al. (2021):\", df_2021_pengfei.index.nunique())\n",
    "print(\"  Unique proteins present in Huffman, R. G., et al. (2022):\", df_huffman_adata.var.index.nunique())"
   ]
  },
  {
   "cell_type": "code",
   "execution_count": 9,
   "metadata": {},
   "outputs": [
    {
     "data": {
      "image/png": "[encoded data removed]",
      "text/plain": [
       "<Figure size 1200x400 with 3 Axes>"
      ]
     },
     "metadata": {},
     "output_type": "display_data"
    }
   ],
   "source": [
    "# Distribution of # PSMs for each dataset for exp1, exp2, exp3. \n",
    "fig, ax = plt.subplots(1, 3, figsize=(12, 4))\n",
    "sns.histplot(df_2016_iwata[\"# PSMs\"], log_scale=True, ax=ax[0])\n",
    "sns.histplot(df_2022_pengfei[\"# PSMs\"], log_scale=True, ax=ax[1])\n",
    "sns.histplot(df_2021_pengfei[\"# PSMs\"], log_scale=True, ax=ax[2])\n",
    "ax[0].set_title(\"Distribution of #PSMs in the Iwata, H., et al. (2016) dataset\\n\")\n",
    "ax[1].set_title(\"Distribution of #PSMs in the Li, P., et al. (2022) dataset\\n\")\n",
    "ax[2].set_title(\"Distribution of #PSMs in the Li, P., et al. (2021) dataset\\n\")\n",
    "ax[0].set_xlim([0, 5000])\n",
    "ax[0].set_ylim([0, 1000])\n",
    "ax[1].set_xlim([0, 5000])\n",
    "ax[1].set_ylim([0, 1000])\n",
    "ax[2].set_xlim([0, 5000])\n",
    "ax[2].set_ylim([0, 1000])\n",
    "ax[0].set_ylabel(\"Count of Proteins\")\n",
    "ax[1].set_ylabel(\"Count of Proteins\")\n",
    "ax[2].set_ylabel(\"Count of Proteins\")\n",
    "ax[0].set_xlabel(\"log(#PSMs)\")\n",
    "ax[1].set_xlabel(\"log(#PSMs)\")\n",
    "ax[2].set_xlabel(\"log(#PSMs)\")\n",
    "plt.tight_layout()\n",
    "plt.show()\n",
    "\n"
   ]
  },
  {
   "cell_type": "code",
   "execution_count": 10,
   "metadata": {},
   "outputs": [
    {
     "name": "stdout",
     "output_type": "stream",
     "text": [
      "Null values in the datasets\n",
      "  Iwata, H., et al. (2016): 22357\n",
      "  Li, P., et al. (2022): 59563\n",
      "  Li, P., et al. (2021): 106631\n",
      "  Huffman, R. G., et al. (2022): 0\n"
     ]
    }
   ],
   "source": [
    "# check null values\n",
    "print(\"Null values in the datasets\")\n",
    "print(\"  Iwata, H., et al. (2016):\", df_2016_iwata.isnull().sum().sum())\n",
    "print(\"  Li, P., et al. (2022):\", df_2022_pengfei.isnull().sum().sum())\n",
    "print(\"  Li, P., et al. (2021):\", df_2021_pengfei.isnull().sum().sum())\n",
    "print(\"  Huffman, R. G., et al. (2022):\", np.isnan(df_huffman_adata.X).sum())\n"
   ]
  },
  {
   "cell_type": "code",
   "execution_count": 11,
   "metadata": {},
   "outputs": [
    {
     "data": {
      "image/png": "[encoded data removed]",
      "text/plain": [
       "<Figure size 1200x500 with 3 Axes>"
      ]
     },
     "metadata": {},
     "output_type": "display_data"
    }
   ],
   "source": [
    "# Boxplot of the # Peptides for each dataset\n",
    "fig, ax = plt.subplots(1, 3, figsize=(12, 5))\n",
    "sns.boxplot(data=df_2016_iwata, x=\"Type\", y=\"# Peptides\", ax=ax[0], log_scale=True)\n",
    "sns.boxplot(data=df_2022_pengfei, y=\"# Peptides\", ax=ax[1], log_scale=True)\n",
    "sns.boxplot(data=df_2021_pengfei, y=\"# Peptides\", ax=ax[2], log_scale=True)\n",
    "ax[0].set_title(\"Distribution of # Peptides in the Iwata, H., et al. (2016) dataset\")\n",
    "ax[1].set_title(\"Distribution of # Peptides in the Li, P., et al. (2022) dataset\")\n",
    "ax[2].set_title(\"Distribution of # Peptides in the Li, P., et al. (2021) dataset\")\n",
    "\n",
    "for a in ax:\n",
    "    a.axhline(y=MIN_NUM_PEPTIDE_THRESHOLD, color='r', linestyle='--')\n",
    "    a.set_ylim([0, 1000])\n",
    "    \n",
    "plt.tight_layout()\n",
    "plt.show()\n",
    "\n"
   ]
  },
  {
   "cell_type": "code",
   "execution_count": 12,
   "metadata": {},
   "outputs": [
    {
     "data": {
      "image/png": "[encoded data removed]",
      "text/plain": [
       "<Figure size 1200x500 with 3 Axes>"
      ]
     },
     "metadata": {},
     "output_type": "display_data"
    }
   ],
   "source": [
    "# same with violin plots\n",
    "fig, ax = plt.subplots(1, 3, figsize=(12, 5))\n",
    "sns.violinplot(data=df_2016_iwata, x=\"Type\", y=\"# Peptides\", ax=ax[0], log_scale=True, alpha=0.3)\n",
    "sns.violinplot(data=df_2022_pengfei, y=\"# Peptides\", ax=ax[1], log_scale=True, alpha=0.3)\n",
    "sns.violinplot(data=df_2021_pengfei, y=\"# Peptides\", ax=ax[2], log_scale=True, alpha=0.3)\n",
    "ax[0].set_title(\"Distribution of # Peptides in the Iwata, H., et al. (2016) dataset\")\n",
    "ax[1].set_title(\"Distribution of # Peptides in the Li, P., et al. (2022) dataset\")\n",
    "ax[2].set_title(\"Distribution of # Peptides in the Li, P., et al. (2021) dataset\")\n",
    "# Add a horizontal line at the threshold\n",
    "for a in ax:\n",
    "    a.axhline(y=MIN_NUM_PEPTIDE_THRESHOLD, color='r', linestyle='--')\n",
    "    a.set_ylim([0, 1000])\n",
    "\n",
    "plt.tight_layout()\n",
    "plt.show()\n",
    "\n"
   ]
  },
  {
   "cell_type": "markdown",
   "metadata": {},
   "source": [
    "Figure x. Distribution of Peptides in the three different datasets usign logaritmic scale. The red dashed line denotes a reference threshold across all plots"
   ]
  },
  {
   "cell_type": "code",
   "execution_count": 13,
   "metadata": {},
   "outputs": [
    {
     "name": "stdout",
     "output_type": "stream",
     "text": [
      "Percentage of proteins with less than 2 peptides:\n",
      "  Iwata, H., et al. (2016): 20.85%\n",
      "  Li, P., et al. (2022): 15.42%\n",
      "  Li, P., et al. (2021): 20.70%\n"
     ]
    }
   ],
   "source": [
    "print(f\"Percentage of proteins with less than {MIN_NUM_PEPTIDE_THRESHOLD} peptides:\")\n",
    "\n",
    "pct_iwata = (df_2016_iwata[\"# Peptides\"] < MIN_NUM_PEPTIDE_THRESHOLD).sum() / df_2016_iwata.shape[0] * 100\n",
    "print(f\"  Iwata, H., et al. (2016): {pct_iwata:.2f}%\")\n",
    "pct_pengfei = (df_2022_pengfei[\"# Peptides\"] < MIN_NUM_PEPTIDE_THRESHOLD).sum() / df_2022_pengfei.shape[0] * 100\n",
    "print(f\"  Li, P., et al. (2022): {pct_pengfei:.2f}%\")\n",
    "pct_pengfei = (df_2021_pengfei[\"# Peptides\"] < MIN_NUM_PEPTIDE_THRESHOLD).sum() / df_2021_pengfei.shape[0] * 100\n",
    "print(f\"  Li, P., et al. (2021): {pct_pengfei:.2f}%\")"
   ]
  },
  {
   "cell_type": "code",
   "execution_count": 14,
   "metadata": {},
   "outputs": [
    {
     "name": "stdout",
     "output_type": "stream",
     "text": [
      "              Score      Coverage    # Proteins  # Unique Peptides  \\\n",
      "count  19247.000000  19247.000000  19247.000000       19247.000000   \n",
      "mean      57.958304     19.276302      4.564919           6.064322   \n",
      "std      140.107779     16.891390      4.696807           8.228747   \n",
      "min        0.000000      0.050000      1.000000           0.000000   \n",
      "25%        5.487738      6.200000      2.000000           2.000000   \n",
      "50%       18.139427     14.090000      3.000000           4.000000   \n",
      "75%       56.796837     27.740000      6.000000           8.000000   \n",
      "max     3747.075588     95.900000    152.000000         327.000000   \n",
      "\n",
      "         # Peptides        # PSMs  126/126  126/126 Count  \\\n",
      "count  19247.000000  19247.000000  19201.0   19201.000000   \n",
      "mean       6.859355     22.705720      1.0      17.666892   \n",
      "std        9.116540     54.949409      0.0      38.584949   \n",
      "min        1.000000      1.000000      1.0       1.000000   \n",
      "25%        2.000000      2.000000      1.0       2.000000   \n",
      "50%        4.000000      7.000000      1.0       6.000000   \n",
      "75%        9.000000     22.000000      1.0      18.000000   \n",
      "max      330.000000   1564.000000      1.0    1136.000000   \n",
      "\n",
      "       126/126 Variability [%]       127/126  ...  129/126 Variability [%]  \\\n",
      "count                  15615.0  19201.000000  ...             15614.000000   \n",
      "mean                       0.0      1.036680  ...                23.288150   \n",
      "std                        0.0      0.264589  ...                18.591552   \n",
      "min                        0.0      0.102414  ...                 0.002681   \n",
      "25%                        0.0      0.907470  ...                12.489774   \n",
      "50%                        0.0      1.000070  ...                19.421346   \n",
      "75%                        0.0      1.118928  ...                30.050328   \n",
      "max                        0.0     16.087946  ...               865.694109   \n",
      "\n",
      "            130/126  130/126 Count  130/126 Variability [%]       131/126  \\\n",
      "count  19199.000000   19199.000000             15612.000000  19201.000000   \n",
      "mean       1.074788      17.659149                42.584648      1.064338   \n",
      "std        0.461418      38.551881                34.411114      0.420903   \n",
      "min        0.016272       1.000000                 0.039120      0.117215   \n",
      "25%        0.835828       2.000000                20.092616      0.866901   \n",
      "50%        0.999678       6.000000                33.560649      1.000211   \n",
      "75%        1.200886      18.000000                54.988082      1.167479   \n",
      "max       12.789521    1136.000000               762.068902     14.653407   \n",
      "\n",
      "       131/126 Count  131/126 Variability [%]         # AAs      MW [kDa]  \\\n",
      "count   19201.000000             15612.000000  19247.000000  19247.000000   \n",
      "mean       17.662309                29.395476    583.099184     65.181469   \n",
      "std        38.575057                29.149107    694.398316     77.107714   \n",
      "min         1.000000                 0.001308     16.000000      1.984061   \n",
      "25%         2.000000                11.469781    242.000000     27.065314   \n",
      "50%         6.000000                18.913168    418.000000     46.833692   \n",
      "75%        18.000000                38.433792    718.000000     80.502638   \n",
      "max      1136.000000              1204.988365  33423.000000   3711.285507   \n",
      "\n",
      "           calc. pI  \n",
      "count  19247.000000  \n",
      "mean       7.173902  \n",
      "std        1.577163  \n",
      "min        3.662598  \n",
      "25%        5.884277  \n",
      "50%        6.961426  \n",
      "75%        8.440918  \n",
      "max       12.557129  \n",
      "\n",
      "[8 rows x 27 columns]\n",
      "       Sum PEP Score   # Peptides        # PSMs  # Protein Unique Peptides  \\\n",
      "count    6616.000000  6616.000000   6616.000000                6616.000000   \n",
      "mean       66.246881    11.543077    141.425030                  10.461911   \n",
      "std        97.302143    14.548440    387.773794                  13.912079   \n",
      "min         1.400000     1.000000      1.000000                   0.000000   \n",
      "25%         9.995000     3.000000      9.000000                   2.000000   \n",
      "50%        34.045500     7.000000     46.000000                   6.000000   \n",
      "75%        85.631500    15.000000    153.250000                  14.000000   \n",
      "max      1749.817000   276.000000  12773.000000                 272.000000   \n",
      "\n",
      "       # Unique Peptides         # AAs     MW [kDa]  \\\n",
      "count        6616.000000   6616.000000  6616.000000   \n",
      "mean           10.717201    608.865024    67.941339   \n",
      "std            14.074834    714.347085    79.479251   \n",
      "min             0.000000     44.000000     5.000000   \n",
      "25%             2.000000    276.000000    30.800000   \n",
      "50%             6.000000    450.000000    50.200000   \n",
      "75%            14.000000    733.250000    82.300000   \n",
      "max           275.000000  34350.000000  3813.700000   \n",
      "\n",
      "       Score Sequest HT: Sequest HT  # Razor Peptides  \\\n",
      "count                   6616.000000       6616.000000   \n",
      "mean                     134.009362          0.355502   \n",
      "std                      425.455117          1.969605   \n",
      "min                        0.000000          0.000000   \n",
      "25%                        2.007500          0.000000   \n",
      "50%                       25.950000          0.000000   \n",
      "75%                      128.112500          0.000000   \n",
      "max                    11584.820000         41.000000   \n",
      "\n",
      "       Abundance Ratio: (M2a) / (M0)  ...  \\\n",
      "count                    5768.000000  ...   \n",
      "mean                        4.555162  ...   \n",
      "std                        18.322185  ...   \n",
      "min                         0.010000  ...   \n",
      "25%                         0.582000  ...   \n",
      "50%                         0.809000  ...   \n",
      "75%                         1.143000  ...   \n",
      "max                       100.000000  ...   \n",
      "\n",
      "       Abundances (Normalized): F12: Sample, M2b  \\\n",
      "count                               5.175000e+03   \n",
      "mean                                2.308069e+09   \n",
      "std                                 1.932883e+10   \n",
      "min                                 1.348811e+06   \n",
      "25%                                 5.006608e+07   \n",
      "50%                                 2.184582e+08   \n",
      "75%                                 9.726785e+08   \n",
      "max                                 1.079647e+12   \n",
      "\n",
      "       Abundances (Normalized): F13: Sample, M2c  \\\n",
      "count                               5.192000e+03   \n",
      "mean                                2.300512e+09   \n",
      "std                                 2.322779e+10   \n",
      "min                                 7.674505e+05   \n",
      "25%                                 4.575746e+07   \n",
      "50%                                 2.090551e+08   \n",
      "75%                                 9.259020e+08   \n",
      "max                                 1.334894e+12   \n",
      "\n",
      "       Abundances (Normalized): F14: Sample, M2c  \\\n",
      "count                               5.204000e+03   \n",
      "mean                                2.295207e+09   \n",
      "std                                 2.299664e+10   \n",
      "min                                 4.063528e+05   \n",
      "25%                                 4.711724e+07   \n",
      "50%                                 2.106572e+08   \n",
      "75%                                 9.174763e+08   \n",
      "max                                 1.324369e+12   \n",
      "\n",
      "       Abundances (Normalized): F15: Sample, M2c  \\\n",
      "count                               5.176000e+03   \n",
      "mean                                2.307623e+09   \n",
      "std                                 2.316976e+10   \n",
      "min                                 7.372048e+05   \n",
      "25%                                 4.746802e+07   \n",
      "50%                                 2.140081e+08   \n",
      "75%                                 9.384044e+08   \n",
      "max                                 1.334007e+12   \n",
      "\n",
      "       Abundances (Normalized): F16: Sample, M2d  \\\n",
      "count                               5.183000e+03   \n",
      "mean                                2.304507e+09   \n",
      "std                                 2.044265e+10   \n",
      "min                                 1.080687e+06   \n",
      "25%                                 4.782869e+07   \n",
      "50%                                 2.180112e+08   \n",
      "75%                                 9.695415e+08   \n",
      "max                                 1.163576e+12   \n",
      "\n",
      "       Abundances (Normalized): F17: Sample, M2d  \\\n",
      "count                               5.219000e+03   \n",
      "mean                                2.288611e+09   \n",
      "std                                 1.967278e+10   \n",
      "min                                 1.045382e+06   \n",
      "25%                                 4.987326e+07   \n",
      "50%                                 2.164676e+08   \n",
      "75%                                 9.628176e+08   \n",
      "max                                 1.107266e+12   \n",
      "\n",
      "       Abundances (Normalized): F18: Sample, M2d  Abundances (Grouped): M2  \\\n",
      "count                               5.203000e+03               5798.000000   \n",
      "mean                                2.295650e+09                107.912164   \n",
      "std                                 1.975235e+10                 48.227218   \n",
      "min                                 8.682342e+05                  2.525000   \n",
      "25%                                 4.883376e+07                 91.425000   \n",
      "50%                                 2.176011e+08                100.300000   \n",
      "75%                                 9.568293e+08                111.043750   \n",
      "max                                 1.097120e+12                600.000000   \n",
      "\n",
      "       Abundance Ratio: M2 / M1  Abundance Ratio: M2 / M0  \n",
      "count               5829.000000               5860.000000  \n",
      "mean                   7.881883                  5.575119  \n",
      "std                   24.829852                 20.561469  \n",
      "min                    0.010000                  0.010000  \n",
      "25%                    0.906250                  0.662000  \n",
      "50%                    1.089000                  0.879875  \n",
      "75%                    1.388250                  1.223063  \n",
      "max                  100.000000                100.000000  \n",
      "\n",
      "[8 rows x 56 columns]\n",
      "       Unique Sequence ID  Exp. q-value: Combined  Sum PEP Score  \\\n",
      "count        7.349000e+03             7349.000000    7349.000000   \n",
      "mean         9.185845e+16                0.004371      57.622620   \n",
      "std          5.299273e+18                0.014367      88.750516   \n",
      "min         -9.218003e+18                0.000000       0.822000   \n",
      "25%         -4.493860e+18                0.000000       7.222000   \n",
      "50%          1.729047e+17                0.000000      26.997000   \n",
      "75%          4.690352e+18                0.000000      73.412000   \n",
      "max          9.222935e+18                0.090000    1776.197000   \n",
      "\n",
      "       # Decoy Protein: Combined  Coverage [%]   # Peptides        # PSMs  \\\n",
      "count                7349.000000   7349.000000  7349.000000   7349.000000   \n",
      "mean                   30.756429     23.479929     8.583889     96.173493   \n",
      "std                   103.401843     20.062451    11.086606    362.434236   \n",
      "min                     0.000000      0.000000     1.000000      1.000000   \n",
      "25%                     0.000000      6.000000     2.000000      6.000000   \n",
      "50%                     0.000000     18.000000     5.000000     25.000000   \n",
      "75%                     1.000000     38.000000    11.000000     80.000000   \n",
      "max                   663.000000     91.000000   236.000000  12600.000000   \n",
      "\n",
      "       # Protein Unique Peptides  # Unique Peptides         # AAs  ...  \\\n",
      "count                7349.000000        7349.000000   7349.000000  ...   \n",
      "mean                    7.399374           7.797523    617.030480  ...   \n",
      "std                    10.732792          10.777130    698.418345  ...   \n",
      "min                     0.000000           0.000000     44.000000  ...   \n",
      "25%                     1.000000           1.000000    282.000000  ...   \n",
      "50%                     4.000000           4.000000    452.000000  ...   \n",
      "75%                    10.000000          10.000000    740.000000  ...   \n",
      "max                   235.000000         236.000000  34350.000000  ...   \n",
      "\n",
      "       Abundances Count: F1: Control, M0  Abundances Count: F2: Control, M0  \\\n",
      "count                        5775.000000                        5828.000000   \n",
      "mean                            7.095931                           7.149966   \n",
      "std                             9.698421                           9.734091   \n",
      "min                             1.000000                           1.000000   \n",
      "25%                             1.000000                           2.000000   \n",
      "50%                             4.000000                           4.000000   \n",
      "75%                             9.000000                           9.000000   \n",
      "max                           213.000000                         212.000000   \n",
      "\n",
      "       Abundances Count: F3: Control, M0  Abundances Count: F4: Sample, M1  \\\n",
      "count                        5795.000000                       5591.000000   \n",
      "mean                            7.129249                          7.328027   \n",
      "std                             9.720909                         10.243340   \n",
      "min                             1.000000                          1.000000   \n",
      "25%                             1.000000                          1.000000   \n",
      "50%                             4.000000                          4.000000   \n",
      "75%                             9.000000                          9.000000   \n",
      "max                           207.000000                        196.000000   \n",
      "\n",
      "       Abundances Count: F5: Sample, M1  Abundances Count: F6: Sample, M1  \\\n",
      "count                       5612.000000                       5594.000000   \n",
      "mean                           7.287242                          7.261173   \n",
      "std                           10.133145                         10.146957   \n",
      "min                            1.000000                          1.000000   \n",
      "25%                            1.000000                          1.000000   \n",
      "50%                            4.000000                          4.000000   \n",
      "75%                            9.000000                          9.000000   \n",
      "max                          185.000000                        188.000000   \n",
      "\n",
      "       Abundances Count: F7: Sample, M2  Abundances Count: F8: Sample, M2  \\\n",
      "count                       5540.000000                       5530.000000   \n",
      "mean                           7.280505                          7.249548   \n",
      "std                           10.190247                         10.147382   \n",
      "min                            1.000000                          1.000000   \n",
      "25%                            1.000000                          1.000000   \n",
      "50%                            4.000000                          4.000000   \n",
      "75%                            9.000000                          9.000000   \n",
      "max                          199.000000                        197.000000   \n",
      "\n",
      "       Abundances Count: F9: Sample, M2  # Protein Groups  \n",
      "count                       5572.000000       7349.000000  \n",
      "mean                           7.256281          1.037964  \n",
      "std                           10.158889          0.627835  \n",
      "min                            1.000000          0.000000  \n",
      "25%                            1.000000          1.000000  \n",
      "50%                            4.000000          1.000000  \n",
      "75%                            9.000000          1.000000  \n",
      "max                          195.000000         16.000000  \n",
      "\n",
      "[8 rows x 81 columns]\n",
      "AnnData object with n_obs × n_vars = 373 × 1123\n",
      "    obs: 'celltype'\n"
     ]
    }
   ],
   "source": [
    "print(df_2016_iwata.describe())\n",
    "print(df_2022_pengfei.describe())\n",
    "print(df_2021_pengfei.describe())\n",
    "print(df_huffman_adata)"
   ]
  },
  {
   "cell_type": "markdown",
   "metadata": {},
   "source": [
    "---\n",
    "### Filtering data\n",
    "\n",
    "Low quality data must be filtered before the data analysis\n",
    "\n",
    "Criteria:\n",
    "* (Iwata 2016, Pengfei 2022 and Pengfei 2021 only):  The number of Peptide Spectrum Matches < 5. It represents the number of times a peptide sequence has been identified in the mass spectra. \n",
    "* (Iwata 2016 only): Protein not found in the initial time point.\n",
    "\n"
   ]
  },
  {
   "cell_type": "code",
   "execution_count": 15,
   "metadata": {},
   "outputs": [
    {
     "data": {
      "image/png": "[encoded data removed]",
      "text/plain": [
       "<Figure size 1000x500 with 3 Axes>"
      ]
     },
     "metadata": {},
     "output_type": "display_data"
    }
   ],
   "source": [
    "# Grid of density plots for the # PSMs for the first 3 experiments (use log scale)\n",
    "fig, ax = plt.subplots(3, 1, figsize=(10, 5))\n",
    "sns.kdeplot(df_2016_iwata[\"# PSMs\"], log_scale=True, ax=ax[0])\n",
    "sns.kdeplot(df_2022_pengfei[\"# PSMs\"], log_scale=True, ax=ax[1])\n",
    "sns.kdeplot(df_2021_pengfei[\"# PSMs\"], log_scale=True, ax=ax[2])\n",
    "ax[0].axvline(5, color='red')\n",
    "ax[1].axvline(5, color='red')\n",
    "ax[2].axvline(5, color='red')\n",
    "ax[0].set_title(\"Density plot of # PSMs in the Iwata, H., et al. (2016) dataset\")\n",
    "ax[1].set_title(\"\\n\\nDensity plot of # PSMs in the Li, P., et al. (2022) dataset\")\n",
    "ax[2].set_title(\"\\n\\nDensity plot of # PSMs in the Li, P., et al. (2021) dataset\")\n",
    "\n",
    "for a in ax:\n",
    "    a.set_xlim([0, 3000])\n",
    "    a.set_ylim([0, 1])\n",
    "\n",
    "plt.tight_layout()\n",
    "plt.show()\n"
   ]
  },
  {
   "cell_type": "markdown",
   "metadata": {},
   "source": [
    "Figure x. Distribution of Peptide-Spectrum Matches (PSMs). Comparative analysis of PSM distributions with the defined threshold represented with a red line. It shows the characteristics and quality of the datasets"
   ]
  },
  {
   "cell_type": "code",
   "execution_count": 16,
   "metadata": {},
   "outputs": [
    {
     "data": {
      "image/png": "[encoded data removed]",
      "text/plain": [
       "<Figure size 1000x500 with 3 Axes>"
      ]
     },
     "metadata": {},
     "output_type": "display_data"
    }
   ],
   "source": [
    "fig, ax = plt.subplots(3, 1, figsize=(10, 5))\n",
    "sns.kdeplot(df_2016_iwata[\"# Peptides\"], log_scale=True, ax=ax[0])\n",
    "sns.kdeplot(df_2022_pengfei[\"# Peptides\"], log_scale=True, ax=ax[1])\n",
    "sns.kdeplot(df_2021_pengfei[\"# Peptides\"], log_scale=True, ax=ax[2])\n",
    "ax[0].axvline(MIN_NUM_PEPTIDE_THRESHOLD, color='red')\n",
    "ax[1].axvline(MIN_NUM_PEPTIDE_THRESHOLD, color='red')\n",
    "ax[2].axvline(MIN_NUM_PEPTIDE_THRESHOLD, color='red')\n",
    "ax[0].set_title(\"Density plot of # Peptides in the Iwata, H., et al. (2016) dataset\")\n",
    "ax[1].set_title(\"\\n\\nDensity plot of # Peptides in the Li, P., et al. (2022) dataset\")\n",
    "ax[2].set_title(\"\\n\\nDensity plot of # Peptides in the Li, P., et al. (2021) dataset\")\n",
    "\n",
    "for a in ax:\n",
    "    a.set_xlim([0, 200])\n",
    "    a.set_ylim([0, 2])\n",
    "\n",
    "plt.tight_layout()\n",
    "plt.show()\n"
   ]
  },
  {
   "cell_type": "code",
   "execution_count": 17,
   "metadata": {},
   "outputs": [
    {
     "name": "stdout",
     "output_type": "stream",
     "text": [
      "-- Removing proteins from Iwata, H., et al. (2016) dataset with null values in the column ['126/126'] ----------\n",
      "  Proteins with null values: 46\n",
      "  This proteins MUST be removed from the dataset as they should have 1.00\n",
      "\n",
      "-- Removing proteins that have PSMs < 5 -------------------------------------------------------------------\n",
      "  Iwata, H., et al. (2016): 7379 out of 19201 proteins have been removed\n",
      "  Li, P., et al. (2022): 1146 out of 6616 proteins have been removed\n",
      "  Li, P., et al. (2021): 1541 out of 7349 proteins have been removed\n",
      "\n",
      "-- Removing proteins that have less than 2 peptides --------------------------------------------------------\n",
      "  Iwata, H., et al. (2016): 108 out of 11822 proteins have been removed\n",
      "  Li, P., et al. (2022): 213 out of 5470 proteins have been removed\n",
      "  Li, P., et al. (2021): 369 out of 5808 proteins have been removed\n",
      "\n",
      "-- Removing proteins with a score of > 1.5 ------------------------------------------------------------------\n",
      "  Iwata, H., et al. (2016): 2 out of 11714 proteins have been removed\n",
      "  Li, P., et al. (2022): 305 out of 5257 proteins have been removed\n",
      "  Li, P., et al. (2021): 34 out of 5439 proteins have been removed\n",
      "\n",
      "-- Number of proteins after filtering -----------------------------------------------------------------------\n",
      "  Iwata, H., et al. (2016): 5193\n",
      "  Li, P., et al. (2022): 4952\n",
      "  Li, P., et al. (2021): 5405\n"
     ]
    }
   ],
   "source": [
    "# Experiment 1: 2016 Iwata et al.\n",
    "# Filter out records with blank values in the column \"126/126\" (which should contain 1.00)\n",
    "print(\"-- Removing proteins from Iwata, H., et al. (2016) dataset with null values in the column ['126/126'] ----------\")\n",
    "print(\"  Proteins with null values:\", df_2016_iwata[\"126/126\"].isnull().sum())\n",
    "print(\"  This proteins MUST be removed from the dataset as they should have 1.00\")\n",
    "df_2016_iwata = df_2016_iwata[~df_2016_iwata[\"126/126\"].isnull()]\n",
    "\n",
    "# Keep proteins that has PSMs >= 5 (ref: https://pmc.ncbi.nlm.nih.gov/articles/PMC9110321/#s3)\n",
    "print(\"\\n-- Removing proteins that have PSMs < 5 -------------------------------------------------------------------\")\n",
    "print(\"  Iwata, H., et al. (2016):\", df_2016_iwata[df_2016_iwata[\"# PSMs\"] < 5].shape[0], \"out of\",df_2016_iwata.shape[0], \"proteins have been removed\")\n",
    "df_2016_iwata = df_2016_iwata[df_2016_iwata[\"# PSMs\"] >= 5]\n",
    "print(\"  Li, P., et al. (2022):\", df_2022_pengfei[df_2022_pengfei[\"# PSMs\"] < 5].shape[0], \"out of\",df_2022_pengfei.shape[0], \"proteins have been removed\")\n",
    "df_2022_pengfei = df_2022_pengfei[df_2022_pengfei[\"# PSMs\"] >= 5]\n",
    "print(\"  Li, P., et al. (2021):\", df_2021_pengfei[df_2021_pengfei[\"# PSMs\"] < 5].shape[0], \"out of\",df_2021_pengfei.shape[0], \"proteins have been removed\")\n",
    "df_2021_pengfei = df_2021_pengfei[df_2021_pengfei[\"# PSMs\"] >= 5]\n",
    "\n",
    "# Filter by the number of peptides\n",
    "print(\"\\n-- Removing proteins that have less than 2 peptides --------------------------------------------------------\")\n",
    "print(\"  Iwata, H., et al. (2016):\", df_2016_iwata[df_2016_iwata[\"# Peptides\"] < MIN_NUM_PEPTIDE_THRESHOLD].shape[0], \"out of\",df_2016_iwata.shape[0], \"proteins have been removed\")\n",
    "df_2016_iwata = df_2016_iwata[df_2016_iwata[\"# Peptides\"] >= MIN_NUM_PEPTIDE_THRESHOLD]\n",
    "print(\"  Li, P., et al. (2022):\", df_2022_pengfei[df_2022_pengfei[\"# Peptides\"] < MIN_NUM_PEPTIDE_THRESHOLD].shape[0], \"out of\",df_2022_pengfei.shape[0], \"proteins have been removed\")\n",
    "df_2022_pengfei = df_2022_pengfei[df_2022_pengfei[\"# Peptides\"] >= MIN_NUM_PEPTIDE_THRESHOLD]\n",
    "print(\"  Li, P., et al. (2021):\", df_2021_pengfei[df_2021_pengfei[\"# Peptides\"] < MIN_NUM_PEPTIDE_THRESHOLD].shape[0], \"out of\",df_2021_pengfei.shape[0], \"proteins have been removed\")\n",
    "df_2021_pengfei = df_2021_pengfei[df_2021_pengfei[\"# Peptides\"] >= MIN_NUM_PEPTIDE_THRESHOLD]\n",
    "\n",
    "# Filter by Score\n",
    "print(\"\\n-- Removing proteins with a score of > 1.5 ------------------------------------------------------------------\")\n",
    "print(\"  Iwata, H., et al. (2016):\", df_2016_iwata[df_2016_iwata[\"Score\"] < SCORE_THRESHOLD].shape[0], \"out of\",df_2016_iwata.shape[0], \"proteins have been removed\")\n",
    "df_2016_iwata = df_2016_iwata[df_2016_iwata[\"Score\"] >= SCORE_THRESHOLD]\n",
    "print(\"  Li, P., et al. (2022):\", df_2022_pengfei[df_2022_pengfei[\"Score Sequest HT: Sequest HT\"] < SCORE_THRESHOLD].shape[0], \"out of\",df_2022_pengfei.shape[0], \"proteins have been removed\")\n",
    "df_2022_pengfei = df_2022_pengfei[df_2022_pengfei[\"Score Sequest HT: Sequest HT\"] >= SCORE_THRESHOLD]\n",
    "print(\"  Li, P., et al. (2021):\", df_2021_pengfei[df_2021_pengfei[\"Score Sequest HT: Sequest HT\"] < SCORE_THRESHOLD].shape[0], \"out of\",df_2021_pengfei.shape[0], \"proteins have been removed\")\n",
    "df_2021_pengfei = df_2021_pengfei[df_2021_pengfei[\"Score Sequest HT: Sequest HT\"] >= SCORE_THRESHOLD]\n",
    "\n",
    "\n",
    "# Print the number of proteins after filtering\n",
    "print(\"\\n-- Number of proteins after filtering -----------------------------------------------------------------------\")\n",
    "print(\"  Iwata, H., et al. (2016):\", df_2016_iwata.index.nunique())\n",
    "print(\"  Li, P., et al. (2022):\", df_2022_pengfei.index.nunique())\n",
    "print(\"  Li, P., et al. (2021):\", df_2021_pengfei.index.nunique())\n"
   ]
  },
  {
   "cell_type": "markdown",
   "metadata": {},
   "source": [
    "---\n",
    "### Translating protein accessions to Gene Names\n"
   ]
  },
  {
   "cell_type": "code",
   "execution_count": 18,
   "metadata": {},
   "outputs": [
    {
     "name": "stdout",
     "output_type": "stream",
     "text": [
      "Translating protein IDs to gene names (Iwata, H., et al. (2016))... \n",
      "Error fetching data for protein ID Q09666: 200. Returning 'None (Q09666).\n",
      "Error fetching data for protein ID F5H6Z3: 200. Returning 'None (F5H6Z3).\n",
      "Error fetching data for protein ID Q01518-2: 200. Returning 'None (Q01518-2).\n",
      "Error fetching data for protein ID F5H0N0: 200. Returning 'None (F5H0N0).\n",
      "Error fetching data for protein ID Q9Y490: 200. Returning 'None (Q9Y490).\n",
      "Error fetching data for protein ID P35579: 200. Returning 'None (P35579).\n",
      "Error fetching data for protein ID P00558: 200. Returning 'None (P00558).\n",
      "Error fetching data for protein ID P68104: 200. Returning 'None (P68104).\n",
      "Error fetching data for protein ID P11142: 200. Returning 'None (P11142).\n",
      "Error fetching data for protein ID P06733: 200. Returning 'None (P06733).\n",
      "Error fetching data for protein ID B4E1H9: 200. Returning 'None (B4E1H9).\n",
      "Error fetching data for protein ID P07900: 200. Returning 'None (P07900).\n",
      "Error fetching data for protein ID P10809: 200. Returning 'None (P10809).\n",
      "Error fetching data for protein ID P19338: 200. Returning 'None (P19338).\n",
      "Error fetching data for protein ID P14625: 200. Returning 'None (P14625).\n",
      "Error fetching data for protein ID P07237: 200. Returning 'None (P07237).\n",
      "Error fetching data for protein ID P26038: 200. Returning 'None (P26038).\n",
      "Error fetching data for protein ID P08238: 200. Returning 'None (P08238).\n",
      "Error fetching data for protein ID P13639: 200. Returning 'None (P13639).\n",
      "Error fetching data for protein ID P31948: 200. Returning 'None (P31948).\n",
      "Error fetching data for protein ID P07814: 200. Returning 'None (P07814).\n",
      "Error fetching data for protein ID P13796: 200. Returning 'None (P13796).\n",
      "Error fetching data for protein ID P11021: 200. Returning 'None (P11021).\n",
      "Error fetching data for protein ID Q05639: 200. Returning 'None (Q05639).\n",
      "Error fetching data for protein ID P14618: 200. Returning 'None (P14618).\n",
      "Error fetching data for protein ID Q01469: 200. Returning 'None (Q01469).\n",
      "Error fetching data for protein ID Q15149-7: 200. Returning 'None (Q15149-7).\n",
      "Error fetching data for protein ID B7Z4V2: 200. Returning 'None (B7Z4V2).\n",
      "Error fetching data for protein ID P46940: 200. Returning 'None (P46940).\n",
      "Error fetching data for protein ID P09874: 200. Returning 'None (P09874).\n",
      "Error fetching data for protein ID P63267: 200. Returning 'None (P63267).\n",
      "Error fetching data for protein ID F5H8M4: 200. Returning 'None (F5H8M4).\n",
      "Error fetching data for protein ID B7Z373: 200. Returning 'None (B7Z373).\n",
      "Error fetching data for protein ID P23528: 200. Returning 'None (P23528).\n",
      "Error fetching data for protein ID Q5T8M8: 200. Returning 'None (Q5T8M8).\n",
      "Error fetching data for protein ID Q14204: 200. Returning 'None (Q14204).\n",
      "Error fetching data for protein ID P12814-2: 200. Returning 'None (P12814-2).\n",
      "Error fetching data for protein ID B3KUK2: 200. Returning 'None (B3KUK2).\n",
      "Error fetching data for protein ID A8K7Q2: 200. Returning 'None (A8K7Q2).\n",
      "Error fetching data for protein ID O43707: 200. Returning 'None (O43707).\n",
      "Error fetching data for protein ID P07355: 200. Returning 'None (P07355).\n",
      "Error fetching data for protein ID P78527: 200. Returning 'None (P78527).\n",
      "Error fetching data for protein ID P31949: 200. Returning 'None (P31949).\n",
      "Error fetching data for protein ID P04075: 200. Returning 'None (P04075).\n",
      "Error fetching data for protein ID P27797: 200. Returning 'None (P27797).\n",
      "Error fetching data for protein ID P68363: 200. Returning 'None (P68363).\n",
      "Error fetching data for protein ID B3KQT9: 200. Returning 'None (B3KQT9).\n",
      "Error fetching data for protein ID Q86UP2-2: 200. Returning 'None (Q86UP2-2).\n",
      "Error fetching data for protein ID Q86UP2: 200. Returning 'None (Q86UP2).\n",
      "Error fetching data for protein ID P09382: 200. Returning 'None (P09382).\n",
      "Error fetching data for protein ID P12956: 200. Returning 'None (P12956).\n",
      "Error fetching data for protein ID O75083: 200. Returning 'None (O75083).\n",
      "Error fetching data for protein ID P05107: 200. Returning 'None (P05107).\n",
      "Error fetching data for protein ID P15311: 200. Returning 'None (P15311).\n",
      "Error fetching data for protein ID P07737: 200. Returning 'None (P07737).\n",
      "Error fetching data for protein ID E7EUT4: 200. Returning 'None (E7EUT4).\n",
      "Error fetching data for protein ID Q58FF7: 200. Returning 'None (Q58FF7).\n",
      "Error fetching data for protein ID P13667: 200. Returning 'None (P13667).\n",
      "Error fetching data for protein ID Q9BQE3: 200. Returning 'None (Q9BQE3).\n",
      "Error fetching data for protein ID P48643: 200. Returning 'None (P48643).\n",
      "Error fetching data for protein ID P08670: 200. Returning 'None (P08670).\n",
      "Error fetching data for protein ID B3KX72: 200. Returning 'None (B3KX72).\n",
      "Error fetching data for protein ID P02545-2: 200. Returning 'None (P02545-2).\n",
      "Error fetching data for protein ID P08758: 200. Returning 'None (P08758).\n",
      "Error fetching data for protein ID A8MUB1: 200. Returning 'None (A8MUB1).\n",
      "Error fetching data for protein ID P49588: 200. Returning 'None (P49588).\n",
      "Error fetching data for protein ID P68371: 200. Returning 'None (P68371).\n",
      "Error fetching data for protein ID Q00839-2: 200. Returning 'None (Q00839-2).\n",
      "Error fetching data for protein ID B1ANR0: 200. Returning 'None (B1ANR0).\n",
      "Error fetching data for protein ID P40939: 200. Returning 'None (P40939).\n",
      "Error fetching data for protein ID P00338: 200. Returning 'None (P00338).\n",
      "Error fetching data for protein ID P49792: 200. Returning 'None (P49792).\n",
      "Error fetching data for protein ID O94804: 200. Returning 'None (O94804).\n",
      "Error fetching data for protein ID P52272-2: 200. Returning 'None (P52272-2).\n",
      "Error fetching data for protein ID H0Y3Z3: 200. Returning 'None (H0Y3Z3).\n",
      "Error fetching data for protein ID P31146: 200. Returning 'None (P31146).\n",
      "Error fetching data for protein ID F8VPV9: 200. Returning 'None (F8VPV9).\n",
      "Error fetching data for protein ID F8VW92: 200. Returning 'None (F8VW92).\n",
      "Error fetching data for protein ID P04083: 200. Returning 'None (P04083).\n",
      "Error fetching data for protein ID P07195: 200. Returning 'None (P07195).\n",
      "Error fetching data for protein ID G5E9B2: 200. Returning 'None (G5E9B2).\n",
      "Error fetching data for protein ID P54577: 200. Returning 'None (P54577).\n",
      "Error fetching data for protein ID Q06830: 200. Returning 'None (Q06830).\n",
      "Error fetching data for protein ID P34932: 200. Returning 'None (P34932).\n",
      "Error fetching data for protein ID Q92598: 200. Returning 'None (Q92598).\n",
      "Error fetching data for protein ID P62937: 200. Returning 'None (P62937).\n",
      "Error fetching data for protein ID P61604: 200. Returning 'None (P61604).\n",
      "Error fetching data for protein ID P21796: 200. Returning 'None (P21796).\n",
      "Error fetching data for protein ID P00918: 200. Returning 'None (P00918).\n",
      "Error fetching data for protein ID P22392-2: 200. Returning 'None (P22392-2).\n",
      "Error fetching data for protein ID P60174-1: 200. Returning 'None (P60174-1).\n",
      "Error fetching data for protein ID P35241: 200. Returning 'None (P35241).\n",
      "Error fetching data for protein ID P78371: 200. Returning 'None (P78371).\n",
      "Error fetching data for protein ID P28838-2: 200. Returning 'None (P28838-2).\n",
      "Error fetching data for protein ID P27824: 200. Returning 'None (P27824).\n",
      "Error fetching data for protein ID E7EVA0: 200. Returning 'None (E7EVA0).\n",
      "Error fetching data for protein ID P61160: 200. Returning 'None (P61160).\n",
      "Error fetching data for protein ID Q9UPN3: 200. Returning 'None (Q9UPN3).\n",
      "Error fetching data for protein ID Q9NTK5: 200. Returning 'None (Q9NTK5).\n",
      "Error fetching data for protein ID P12270: 200. Returning 'None (P12270).\n",
      "Error fetching data for protein ID F8VV40: 200. Returning 'None (F8VV40).\n",
      "Error fetching data for protein ID Q15075: 200. Returning 'None (Q15075).\n",
      "Error fetching data for protein ID O60506: 200. Returning 'None (O60506).\n",
      "Error fetching data for protein ID P15090: 200. Returning 'None (P15090).\n",
      "Error fetching data for protein ID P53621: 200. Returning 'None (P53621).\n",
      "Error fetching data for protein ID P53396: 200. Returning 'None (P53396).\n",
      "Error fetching data for protein ID Q8WUM4: 200. Returning 'None (Q8WUM4).\n",
      "Error fetching data for protein ID O60506-3: 200. Returning 'None (O60506-3).\n",
      "Error fetching data for protein ID P37837: 200. Returning 'None (P37837).\n",
      "Error fetching data for protein ID E9PFU1: 200. Returning 'None (E9PFU1).\n",
      "Error fetching data for protein ID P20700: 200. Returning 'None (P20700).\n",
      "Error fetching data for protein ID E7EWI9: 200. Returning 'None (E7EWI9).\n",
      "Error fetching data for protein ID Q14847: 200. Returning 'None (Q14847).\n",
      "Error fetching data for protein ID P11940-2: 200. Returning 'None (P11940-2).\n",
      "Error fetching data for protein ID F5H7U0: 200. Returning 'None (F5H7U0).\n",
      "Error fetching data for protein ID B4E022: 200. Returning 'None (B4E022).\n",
      "Error fetching data for protein ID P23284: 200. Returning 'None (P23284).\n",
      "Error fetching data for protein ID P05455: 200. Returning 'None (P05455).\n",
      "Error fetching data for protein ID P09429: 200. Returning 'None (P09429).\n",
      "Error fetching data for protein ID P06748: 200. Returning 'None (P06748).\n",
      "Error fetching data for protein ID Q9Y6N5: 200. Returning 'None (Q9Y6N5).\n",
      "Error fetching data for protein ID Q9Y4L1: 200. Returning 'None (Q9Y4L1).\n",
      "Error fetching data for protein ID P42704: 200. Returning 'None (P42704).\n",
      "Error fetching data for protein ID P55072: 200. Returning 'None (P55072).\n",
      "Error fetching data for protein ID E7EX86: 200. Returning 'None (E7EX86).\n",
      "Error fetching data for protein ID P11586: 200. Returning 'None (P11586).\n",
      "Error fetching data for protein ID P40925: 200. Returning 'None (P40925).\n",
      "Error fetching data for protein ID Q13177: 200. Returning 'None (Q13177).\n",
      "Error fetching data for protein ID Q96KP4: 200. Returning 'None (Q96KP4).\n",
      "Error fetching data for protein ID G5E9M5: 200. Returning 'None (G5E9M5).\n",
      "Error fetching data for protein ID P61247: 200. Returning 'None (P61247).\n",
      "Error fetching data for protein ID Q96PK2: 200. Returning 'None (Q96PK2).\n",
      "Error fetching data for protein ID P62805: 200. Returning 'None (P62805).\n",
      "Error fetching data for protein ID B4DU58: 200. Returning 'None (B4DU58).\n",
      "Error fetching data for protein ID Q9P2J5: 200. Returning 'None (Q9P2J5).\n",
      "Error fetching data for protein ID P18206-2: 200. Returning 'None (P18206-2).\n",
      "Error fetching data for protein ID Q9Y277: 200. Returning 'None (Q9Y277).\n",
      "Error fetching data for protein ID P10412: 200. Returning 'None (P10412).\n",
      "Error fetching data for protein ID P63104: 200. Returning 'None (P63104).\n",
      "Error fetching data for protein ID Q92608: 200. Returning 'None (Q92608).\n",
      "Error fetching data for protein ID P54136: 200. Returning 'None (P54136).\n",
      "Error fetching data for protein ID B9A067: 200. Returning 'None (B9A067).\n",
      "Error fetching data for protein ID P06744: 200. Returning 'None (P06744).\n",
      "Error fetching data for protein ID P51858: 200. Returning 'None (P51858).\n",
      "Error fetching data for protein ID B4DPJ8: 200. Returning 'None (B4DPJ8).\n",
      "Error fetching data for protein ID P08107: 200. Returning 'None (P08107).\n",
      "Error fetching data for protein ID P16403: 200. Returning 'None (P16403).\n",
      "Error fetching data for protein ID Q14103-4: 200. Returning 'None (Q14103-4).\n",
      "Error fetching data for protein ID F5H6I5: 200. Returning 'None (F5H6I5).\n",
      "Error fetching data for protein ID B2ZZ83: 200. Returning 'None (B2ZZ83).\n",
      "Error fetching data for protein ID P15880: 200. Returning 'None (P15880).\n",
      "Error fetching data for protein ID P07954-2: 200. Returning 'None (P07954-2).\n",
      "Error fetching data for protein ID P22626: 200. Returning 'None (P22626).\n",
      "Error fetching data for protein ID P26583: 200. Returning 'None (P26583).\n",
      "Error fetching data for protein ID P17980: 200. Returning 'None (P17980).\n",
      "Error fetching data for protein ID P40926: 200. Returning 'None (P40926).\n",
      "Error fetching data for protein ID Q9Y3Z3: 200. Returning 'None (Q9Y3Z3).\n",
      "Error fetching data for protein ID P43490: 200. Returning 'None (P43490).\n",
      "Error fetching data for protein ID Q14103-3: 200. Returning 'None (Q14103-3).\n",
      "Error fetching data for protein ID P31946-2: 200. Returning 'None (P31946-2).\n",
      "Error fetching data for protein ID A6NN80: 200. Returning 'None (A6NN80).\n",
      "Error fetching data for protein ID P50991: 200. Returning 'None (P50991).\n",
      "Error fetching data for protein ID Q00610-2: 200. Returning 'None (Q00610-2).\n",
      "Error fetching data for protein ID P15144: 200. Returning 'None (P15144).\n",
      "Error fetching data for protein ID P41250: 200. Returning 'None (P41250).\n",
      "Error fetching data for protein ID B4E2W0: 200. Returning 'None (B4E2W0).\n",
      "Error fetching data for protein ID E9PH38: 200. Returning 'None (E9PH38).\n",
      "Error fetching data for protein ID P51572: 200. Returning 'None (P51572).\n",
      "Error fetching data for protein ID Q08211: 200. Returning 'None (Q08211).\n",
      "Error fetching data for protein ID P16402: 200. Returning 'None (P16402).\n",
      "Error fetching data for protein ID O75844: 200. Returning 'None (O75844).\n",
      "Error fetching data for protein ID Q04637-6: 200. Returning 'None (Q04637-6).\n",
      "Error fetching data for protein ID B4DLA9: 200. Returning 'None (B4DLA9).\n",
      "Error fetching data for protein ID P07602: 200. Returning 'None (P07602).\n",
      "Error fetching data for protein ID P54136-2: 200. Returning 'None (P54136-2).\n",
      "Error fetching data for protein ID P11387: 200. Returning 'None (P11387).\n",
      "Error fetching data for protein ID P04350: 200. Returning 'None (P04350).\n",
      "Error fetching data for protein ID H0Y4R1: 200. Returning 'None (H0Y4R1).\n",
      "Error fetching data for protein ID Q6NUK1-2: 200. Returning 'None (Q6NUK1-2).\n",
      "Error fetching data for protein ID A6NM69: 200. Returning 'None (A6NM69).\n",
      "Error fetching data for protein ID F8VZV5: 200. Returning 'None (F8VZV5).\n",
      "Error fetching data for protein ID P09651-3: 200. Returning 'None (P09651-3).\n",
      "Error fetching data for protein ID P48735: 200. Returning 'None (P48735).\n",
      "Error fetching data for protein ID O60814: 200. Returning 'None (O60814).\n",
      "Error fetching data for protein ID P33176: 200. Returning 'None (P33176).\n",
      "Error fetching data for protein ID P46459: 200. Returning 'None (P46459).\n",
      "Error fetching data for protein ID P14317: 200. Returning 'None (P14317).\n",
      "Error fetching data for protein ID P50395: 200. Returning 'None (P50395).\n",
      "Error fetching data for protein ID Q92616: 200. Returning 'None (Q92616).\n",
      "Error fetching data for protein ID Q01432: 200. Returning 'None (Q01432).\n",
      "Error fetching data for protein ID Q16555: 200. Returning 'None (Q16555).\n",
      "Error fetching data for protein ID Q99879: 200. Returning 'None (Q99879).\n",
      "Error fetching data for protein ID E9PBU3: 200. Returning 'None (E9PBU3).\n",
      "Error fetching data for protein ID P22314: 200. Returning 'None (P22314).\n",
      "Error fetching data for protein ID Q13263: 200. Returning 'None (Q13263).\n",
      "Error fetching data for protein ID P08575-2: 404. Returning Null value.\n"
     ]
    },
    {
     "ename": "AttributeError",
     "evalue": "'NoneType' object has no attribute 'startswith'",
     "output_type": "error",
     "traceback": [
      "\u001b[0;31m---------------------------------------------------------------------------\u001b[0m",
      "\u001b[0;31mAttributeError\u001b[0m                            Traceback (most recent call last)",
      "Cell \u001b[0;32mIn[18], line 3\u001b[0m\n\u001b[1;32m      1\u001b[0m \u001b[38;5;28;01mif\u001b[39;00m TRANSLATE_PROTEIN_ID:\n\u001b[1;32m      2\u001b[0m     \u001b[38;5;28mprint\u001b[39m(\u001b[38;5;124m\"\u001b[39m\u001b[38;5;124mTranslating protein IDs to gene names (Iwata, H., et al. (2016))... \u001b[39m\u001b[38;5;124m\"\u001b[39m)\n\u001b[0;32m----> 3\u001b[0m     gene_names \u001b[38;5;241m=\u001b[39m \u001b[43muniprot\u001b[49m\u001b[38;5;241;43m.\u001b[39;49m\u001b[43mbatch_translate_protein_ids\u001b[49m\u001b[43m(\u001b[49m\u001b[43mdf_2016_iwata\u001b[49m\u001b[38;5;241;43m.\u001b[39;49m\u001b[43mindex\u001b[49m\u001b[43m)\u001b[49m\n\u001b[1;32m      4\u001b[0m     df_2016_iwata[\u001b[38;5;124m'\u001b[39m\u001b[38;5;124mGene\u001b[39m\u001b[38;5;124m'\u001b[39m] \u001b[38;5;241m=\u001b[39m gene_names\n\u001b[1;32m      5\u001b[0m     df_2016_iwata_bkup \u001b[38;5;241m=\u001b[39m gene_names\u001b[38;5;241m.\u001b[39mcopy()\n",
      "File \u001b[0;32m~/Documents/Gerard/Master_BiomedicalDataScience/00_Master_THESIS/code/pyMSpro/src/uniprot_client/UniprotClient.py:83\u001b[0m, in \u001b[0;36mUniprotClient.batch_translate_protein_ids\u001b[0;34m(self, protein_ids)\u001b[0m\n\u001b[1;32m     80\u001b[0m gene_name \u001b[38;5;241m=\u001b[39m \u001b[38;5;28mself\u001b[39m\u001b[38;5;241m.\u001b[39mget_gene_name_from_uniprot(protein_id)\n\u001b[1;32m     82\u001b[0m \u001b[38;5;66;03m# If not found with UniProt, try with Uniparc\u001b[39;00m\n\u001b[0;32m---> 83\u001b[0m \u001b[38;5;28;01mif\u001b[39;00m \u001b[43mgene_name\u001b[49m\u001b[38;5;241;43m.\u001b[39;49m\u001b[43mstartswith\u001b[49m(\u001b[38;5;124m\"\u001b[39m\u001b[38;5;124mNone (\u001b[39m\u001b[38;5;124m\"\u001b[39m):\n\u001b[1;32m     84\u001b[0m     gene_name \u001b[38;5;241m=\u001b[39m \u001b[38;5;28mself\u001b[39m\u001b[38;5;241m.\u001b[39mget_gene_name_from_uniparc(protein_id)\n\u001b[1;32m     85\u001b[0m result[protein_id] \u001b[38;5;241m=\u001b[39m gene_name\n",
      "\u001b[0;31mAttributeError\u001b[0m: 'NoneType' object has no attribute 'startswith'"
     ]
    }
   ],
   "source": [
    "if TRANSLATE_PROTEIN_ID:\n",
    "    print(\"Translating protein IDs to gene names (Iwata, H., et al. (2016))... \")\n",
    "    gene_names = uniprot.batch_translate_protein_ids(df_2016_iwata.index)\n",
    "    df_2016_iwata['Gene'] = gene_names\n",
    "    df_2016_iwata_bkup = gene_names.copy()\n",
    "\n",
    "    print(\"Translating protein IDs to gene names (Li, P., et al. (2022))... \")\n",
    "    gene_names = uniprot.batch_translate_protein_ids(df_2022_pengfei.index)\n",
    "    df_2022_pengfei['Gene'] = gene_names\n",
    "    df_2022_pengfei_bkup = gene_names.copy()\n",
    "\n",
    "    print(\"Translating protein IDs to gene names (Li, P., et al. (2021))... \")\n",
    "    gene_names = uniprot.batch_translate_protein_ids(df_2021_pengfei.index)\n",
    "    df_2021_pengfei['Gene'] = gene_names\n",
    "    df_2021_pengfei_bkup = gene_names.copy()\n",
    "\n",
    "    print(\"Translating protein IDs to gene names (Huffman, R. G., et al. (2022))... \")\n",
    "    gene_names = uniprot.batch_translate_protein_ids(df_huffman_adata.var.index)\n",
    "    df_huffman_adata.var['Gene'] = gene_names\n",
    "    df_huffman_adata_bkup = gene_names.copy()\n",
    "else:\n",
    "    # Restore gene names\n",
    "    df_2016_iwata['Gene'] = df_2016_iwata_bkup\n",
    "    df_2022_pengfei['Gene'] = df_2022_pengfei_bkup\n",
    "    df_2021_pengfei['Gene'] = df_2021_pengfei_bkup\n",
    "    df_huffman_adata.var['Gene'] = df_huffman_adata_bkup\n"
   ]
  },
  {
   "cell_type": "code",
   "execution_count": null,
   "metadata": {},
   "outputs": [],
   "source": [
    "# Restore gene names (if needed). \n",
    "# This is useful when we want to re-run the notebook without re-translating the protein IDs, which is time-consuming\n",
    "#df_2016_iwata['Gene'] = df_2016_iwata_bkup\n",
    "#df_2022_pengfei['Gene'] = df_2022_pengfei_bkup\n",
    "#df_2021_pengfei['Gene'] = df_2021_pengfei_bkup\n",
    "#df_huffman_adata.var['Gene'] = df_huffman_adata_bkup"
   ]
  },
  {
   "cell_type": "code",
   "execution_count": null,
   "metadata": {},
   "outputs": [],
   "source": [
    "# print top 5 genes for df_2016_iwata\n",
    "print(\"\\n-- Top 5 genes in Iwata, H., et al. (2016) dataset --------------------------------------------------------------\")\n",
    "print(df_2016_iwata[\"Gene\"].value_counts().head(10))\n",
    "\n",
    "# print top 5 genes for df_2022_pengfei\n",
    "print(\"\\n-- Top 5 genes in Li, P., et al. (2022) dataset -------------------------------------------------------------\")\n",
    "print(df_2022_pengfei[\"Gene\"].value_counts().head(10))\n",
    "\n",
    "# print top 5 genes for df_2021_pengfei\n",
    "print(\"\\n-- Top 5 genes in Li, P., et al. (2021) dataset -------------------------------------------------------------\")\n",
    "print(df_2021_pengfei[\"Gene\"].value_counts().head(10))\n",
    "\n",
    "# print top 5 genes for df_huffman_adata sorted by most counts\n",
    "print(\"\\n-- Top 5 genes in Huffman, R. G., et al. (2022) dataset -------------------------------------------------------------\")\n",
    "print(df_huffman_adata.var[\"Gene\"].value_counts().head(10))"
   ]
  },
  {
   "cell_type": "code",
   "execution_count": null,
   "metadata": {},
   "outputs": [],
   "source": [
    "# Upper case the gene names for Huffman, R. G., et al. (2022)\n",
    "df_huffman_adata.var[\"Gene\"] = df_huffman_adata.var[\"Gene\"].str.upper()"
   ]
  },
  {
   "cell_type": "code",
   "execution_count": null,
   "metadata": {},
   "outputs": [],
   "source": [
    "# Intersection of top x\n",
    "\n",
    "TOP_GENES = 50\n",
    "print(\"\\n-- Intersection of top 10 genes in each dataset ----------------------------------------------------------------\") \n",
    "top_genes_iwata = set(df_2016_iwata[\"Gene\"].value_counts().head(TOP_GENES).index)\n",
    "top_genes_pengfei = set(df_2022_pengfei[\"Gene\"].value_counts().head(TOP_GENES).index)\n",
    "top_genes_pengfei2 = set(df_2021_pengfei[\"Gene\"].value_counts().head(TOP_GENES).index)\n",
    "top_genes_huffman = set(df_huffman_adata.var[\"Gene\"].value_counts().head(TOP_GENES).index)\n",
    "\n",
    "print(\" The genes found in the TOP 10 of all 4 datasets are:\", top_genes_iwata & top_genes_pengfei & top_genes_pengfei2 & top_genes_huffman)\n",
    "print(\" The genes found in the TOP 10 of the 3 bulk datasets are:\", top_genes_iwata & top_genes_pengfei & top_genes_pengfei2)\n",
    "# Single-cell data was excluded due to all the genes were found only once."
   ]
  },
  {
   "cell_type": "code",
   "execution_count": null,
   "metadata": {},
   "outputs": [],
   "source": [
    "# Save the data into 4 files\n",
    "df_2016_iwata.to_csv(\"./data/processed/2016_iwata_genes.csv\")\n",
    "df_2022_pengfei.to_csv(\"./data/processed/2022_pengfei_genes.csv\")\n",
    "df_2021_pengfei.to_csv(\"./data/processed/2021_pengfei_genes.csv\")\n",
    "df_huffman_adata.write(\"./data/processed/2022_huffman_genes.h5ad\")"
   ]
  },
  {
   "cell_type": "code",
   "execution_count": null,
   "metadata": {},
   "outputs": [],
   "source": [
    "# Remove null values \n",
    "print(\"\\nRemoving Null values for Gene Name\")\n",
    "print(\"  Iwata, H., et al. (2016):\", df_2016_iwata[\"Gene\"].isnull().sum().sum())\n",
    "print(\"  Li, P., et al. (2022):\", df_2022_pengfei[\"Gene\"].isnull().sum().sum())\n",
    "print(\"  Li, P., et al. (2021):\", df_2021_pengfei[\"Gene\"].isnull().sum().sum())\n",
    "print(\"  Huffman, R. G., et al. (2022):\", df_huffman_adata.var[df_huffman_adata.var[\"Gene\"].isnull()].shape[0])\n",
    "\n",
    "df_2016_iwata = df_2016_iwata[~df_2016_iwata[\"Gene\"].isnull()]\n",
    "df_2022_pengfei = df_2022_pengfei[~df_2022_pengfei[\"Gene\"].isnull()]\n",
    "df_2021_pengfei = df_2021_pengfei[~df_2021_pengfei[\"Gene\"].isnull()]\n",
    "df_huffman_adata = df_huffman_adata[:, ~df_huffman_adata.var[\"Gene\"].isnull()]\n"
   ]
  },
  {
   "cell_type": "code",
   "execution_count": null,
   "metadata": {},
   "outputs": [],
   "source": [
    "# Filter out the genes with gene name starting by 'None ('\n",
    "print(\"\\n-- Removing proteins without Gene Name ---------------------------------------------------------------------\")\n",
    "print(\"  Iwata, H., et al. (2016):\", df_2016_iwata[df_2016_iwata[\"Gene\"].str.startswith(\"None (\")].shape[0], \"out of\",df_2016_iwata.shape[0], \"proteins have been removed\")\n",
    "df_2016_iwata = df_2016_iwata[~df_2016_iwata[\"Gene\"].str.startswith(\"None (\")]\n",
    "print(\"  Li, P., et al. (2022):\", df_2022_pengfei[df_2022_pengfei[\"Gene\"].str.startswith(\"None (\")].shape[0], \"out of\",df_2022_pengfei.shape[0], \"proteins have been removed\")\n",
    "df_2022_pengfei = df_2022_pengfei[~df_2022_pengfei[\"Gene\"].str.startswith(\"None (\")]\n",
    "print(\"  Li, P., et al. (2021):\", df_2021_pengfei[df_2021_pengfei[\"Gene\"].str.startswith(\"None (\")].shape[0], \"out of\",df_2021_pengfei.shape[0], \"proteins have been removed\")\n",
    "df_2021_pengfei = df_2021_pengfei[~df_2021_pengfei[\"Gene\"].str.startswith(\"None (\")]\n",
    "print(\"  Huffman, R. G., et al. (2022):\", df_huffman_adata.var[df_huffman_adata.var[\"Gene\"].str.startswith(\"None (\")].shape[0], \"out of\",df_huffman_adata.shape[1], \"proteins have been removed\")\n",
    "df_huffman_adata = df_huffman_adata[:, ~df_huffman_adata.var[\"Gene\"].str.startswith(\"None (\")]\n",
    "\n",
    "\n",
    "print(\"\\n-- Number of proteins after filtering -----------------------------------------------------------------------\")\n",
    "print(\"  Iwata, H., et al. (2016):\", df_2016_iwata.index.nunique())\n",
    "print(\"  Li, P., et al. (2022):\", df_2022_pengfei.index.nunique())\n",
    "print(\"  Li, P., et al. (2021):\", df_2021_pengfei.index.nunique())\n",
    "print(\"  Huffman, R. G., et al. (2022):\", df_huffman_adata.var.index.nunique())"
   ]
  },
  {
   "cell_type": "markdown",
   "metadata": {},
   "source": [
    "---\n",
    "### 1. Quantitative proteomic profiling of M0, M1 and M2\n",
    "\n",
    "**1.1 Total number of identified proteins per Dataset**"
   ]
  },
  {
   "cell_type": "code",
   "execution_count": null,
   "metadata": {},
   "outputs": [],
   "source": [
    "df_studies = pd.DataFrame({\n",
    "    \"Study\": [\"Iwata, H., et al. (2016)\", \"Li, P., et al. (2022)\", \"Li, P., et al. (2021)\", \"Huffman, R. G., et al. (2022)\"],\n",
    "    \"Unique Proteins\": [len(df_2016_iwata.index.unique()), len(df_2022_pengfei.index.unique()), len(df_2021_pengfei.index.unique()), len(df_huffman.index.unique())],\n",
    "    \"Study type\": [\"Bulk\", \"Bulk\", \"Bulk\", \"Single-cell\"]\n",
    "})\n",
    "\n",
    "print(\"Total number of proteins identified in each dataset (includes proteins found in M0, M1 and M2):\")\n",
    "for i in range(len(df_studies)):\n",
    "    print(df_studies[\"Study\"][i], \"->\", df_studies[\"Unique Proteins\"][i], \"unique proteins\")\n",
    "\n",
    "plt.figure(figsize=(9, 5))\n",
    "sns.barplot(data=df_studies, x=\"Study\", y=\"Unique Proteins\", hue=\"Study type\")\n",
    "plt.xticks(rotation=45)\n",
    "plt.title(\"Number of unique proteins identified in each study (including M0, M1 and M2)\")\n",
    "plt.show()\n"
   ]
  },
  {
   "cell_type": "markdown",
   "metadata": {},
   "source": [
    "Note that 2022 Huffman et al. do not contain data for M2 phenotype.\n",
    "\n",
    "**Comparing the Genes instead of Proteins**"
   ]
  },
  {
   "cell_type": "code",
   "execution_count": null,
   "metadata": {},
   "outputs": [],
   "source": [
    "# Number of genes found in each dataset\n",
    "df_studies = pd.DataFrame({\n",
    "    \"Study\": [\"Iwata, H., et al. (2016)\", \"Li, P., et al. (2022)\", \"Li, P., et al. (2021)\", \"Huffman, R. G., et al. (2022)\"],\n",
    "    \"Unique Genes\": [len(df_2016_iwata[\"Gene\"].unique()), len(df_2022_pengfei[\"Gene\"].unique()), len(df_2021_pengfei[\"Gene\"].unique()), len(df_huffman_adata.var[\"Gene\"].unique())],\n",
    "    \"Study type\": [\"Bulk\", \"Bulk\", \"Bulk\", \"Single-cell\"]\n",
    "})\n",
    "\n",
    "print(\"Total number of genes identified in each dataset (includes proteins found in M0, M1 and M2):\")\n",
    "for i in range(len(df_studies)):\n",
    "    print(df_studies[\"Study\"][i], \"->\", df_studies[\"Unique Genes\"][i], \"unique genes\")\n"
   ]
  },
  {
   "cell_type": "markdown",
   "metadata": {},
   "source": [
    "**1.2 Total number of identified proteins per Dataset and cell type**"
   ]
  },
  {
   "cell_type": "code",
   "execution_count": null,
   "metadata": {},
   "outputs": [],
   "source": [
    "# Number of proteins found in each cell type (M0, M1 and M2)\n",
    "print(\"Number of proteins found in each cell type:\")\n",
    "print (\"\\nIwata, H., et al. (2016)\")\n",
    "for cell_type in df_2016_iwata[\"Type\"].unique():\n",
    "    print(\" \", cell_type, \":\", len(df_2016_iwata[df_2016_iwata[\"Type\"] == cell_type].index.unique()))\n",
    "\n",
    "print (\"\\nLi, P., et al. (2022)\")\n",
    "print(\"  M0: \", len(df_2022_pengfei[df_2022_pengfei[\"Abundances (Grouped): M0\"] > 0].index.unique()))\n",
    "print(\"  M1: \", len(df_2022_pengfei[df_2022_pengfei[\"Abundances (Grouped): M1\"] > 0].index.unique()))\n",
    "print(\"  M2: \", len(df_2022_pengfei[df_2022_pengfei[\"Abundances (Grouped): M2\"] > 0].index.unique()))\n",
    "\n",
    "print (\"\\nLi, P., et al. (2021)\")\n",
    "print(\"  M0: \", len(df_2021_pengfei[df_2021_pengfei[\"Abundances (Grouped): M0\"] > 0].index.unique()))\n",
    "print(\"  M1: \", len(df_2021_pengfei[df_2021_pengfei[\"Abundances (Grouped): M1\"] > 0].index.unique()))\n",
    "print(\"  M2: \", len(df_2021_pengfei[df_2021_pengfei[\"Abundances (Grouped): M2\"] > 0].index.unique()))\n",
    "\n",
    "print (\"\\nHuffman, R. G., et al. (2022) - Not available due to data limitations\")\n",
    "print(\"  M0: N/A\")\n",
    "print(\"  M1: N/A\")\n",
    "print(\"  M2: N/A\")\n",
    "\n"
   ]
  },
  {
   "cell_type": "markdown",
   "metadata": {},
   "source": [
    "**1.3 Quantifiable proteins among the different cell types**"
   ]
  },
  {
   "cell_type": "code",
   "execution_count": null,
   "metadata": {},
   "outputs": [],
   "source": [
    "from matplotlib_venn import venn3\n",
    "\n",
    "# Create the figure with subplots\n",
    "fig, ax = plt.subplots(1, 3, figsize=(10, 4))\n",
    "\n",
    "# Venn diagram for the first experiment\n",
    "exp1_proteinsM0 = set(df_2016_iwata[df_2016_iwata[\"Type\"] == \"M0\"].index)\n",
    "exp1_proteinsM1 = set(df_2016_iwata[df_2016_iwata[\"Type\"] == \"M1\"].index)\n",
    "exp1_proteinsM2 = set(df_2016_iwata[df_2016_iwata[\"Type\"] == \"M2\"].index)\n",
    "venn1 = venn3([exp1_proteinsM0, exp1_proteinsM1, exp1_proteinsM2], \n",
    "              set_labels=('M0', 'M1', 'M2'), \n",
    "              set_colors=('mediumaquamarine', 'slategrey', 'gold'), \n",
    "              ax=ax[0])\n",
    "ax[0].set_title(\"Proteins found by cell type\\n(Iwata, H., et al. (2016))\")\n",
    "\n",
    "# Venn diagram for the second experiment\n",
    "exp2_proteinsM0 = set(df_2022_pengfei[df_2022_pengfei[\"Abundances (Grouped): M0\"] > 0].index)\n",
    "exp2_proteinsM1 = set(df_2022_pengfei[df_2022_pengfei[\"Abundances (Grouped): M1\"] > 0].index)\n",
    "exp2_proteinsM2 = set(df_2022_pengfei[df_2022_pengfei[\"Abundances (Grouped): M2\"] > 0].index)\n",
    "venn2 = venn3([exp2_proteinsM0, exp2_proteinsM1, exp2_proteinsM2], \n",
    "              set_labels=('M0', 'M1', 'M2'), \n",
    "              set_colors=('mediumaquamarine', 'slategrey', 'gold'), \n",
    "              ax=ax[1])\n",
    "ax[1].set_title(\"Proteins found by cell type\\n(Li, P., et al. (2022))\")\n",
    "\n",
    "# Venn diagram for the third experiment\n",
    "exp3_proteinsM0 = set(df_2021_pengfei[df_2021_pengfei[\"Abundances (Grouped): M0\"] > 0].index)\n",
    "exp3_proteinsM1 = set(df_2021_pengfei[df_2021_pengfei[\"Abundances (Grouped): M1\"] > 0].index)\n",
    "exp3_proteinsM2 = set(df_2021_pengfei[df_2021_pengfei[\"Abundances (Grouped): M2\"] > 0].index)\n",
    "venn3 = venn3([exp3_proteinsM0, exp3_proteinsM1, exp3_proteinsM2], \n",
    "              set_labels=('M0', 'M1', 'M2'), \n",
    "              set_colors=('mediumaquamarine', 'slategrey', 'gold'), \n",
    "              ax=ax[2])\n",
    "ax[2].set_title(\"Proteins found by cell type\\n(Li, P., et al. (2021))\")\n",
    "\n",
    "\n",
    "# Set the font size for the set labels and subset labels for all diagrams\n",
    "for venn in [venn1, venn2, venn3]:\n",
    "    for label in venn.set_labels:\n",
    "        if label is not None:\n",
    "            label.set_fontsize(9)\n",
    "\n",
    "    for label in venn.subset_labels:\n",
    "        if label is not None:\n",
    "            label.set_fontsize(9)\n",
    "\n",
    "plt.tight_layout()\n",
    "plt.show()\n"
   ]
  },
  {
   "cell_type": "markdown",
   "metadata": {},
   "source": [
    "*Note that some of the identified proteins might have a very low abundance. These diagrams consider all proteins found regardless of the abundance. \n",
    "<br>It also includes proteins found in just some of the samples of a specific cell type.*\n",
    "\n",
    "<br>\n",
    "<u>Due to limitations on the data available for Huffman et al. 2021, it is not possible to plot its Venn diagram</u>"
   ]
  },
  {
   "cell_type": "markdown",
   "metadata": {},
   "source": [
    "**1.4 Proteins found in ALL datasets (excluding those without this information), grouped by cell type**<br><br>\n",
    "\n",
    "First, considering only bulk data."
   ]
  },
  {
   "cell_type": "code",
   "execution_count": null,
   "metadata": {},
   "outputs": [],
   "source": [
    "from matplotlib_venn import venn3\n",
    "\n",
    "commonM0_proteins = exp1_proteinsM0.intersection(exp2_proteinsM0).intersection(exp3_proteinsM0)\n",
    "commonM1_proteins = exp1_proteinsM1.intersection(exp2_proteinsM1).intersection(exp3_proteinsM1)\n",
    "commonM2_proteins = exp1_proteinsM2.intersection(exp2_proteinsM2).intersection(exp3_proteinsM2)\n",
    "\n",
    "print(\"Number of common proteins found in M0:\", len(commonM0_proteins))\n",
    "print(\"Number of common proteins found in M1:\", len(commonM1_proteins))\n",
    "print(\"Number of common proteins found in M2:\", len(commonM2_proteins))\n",
    "\n",
    "\n",
    "# Venn diagram for the common proteins\n",
    "venn = venn3([commonM0_proteins, commonM1_proteins, commonM2_proteins], set_labels=('M0', 'M1', 'M2'), set_colors=('mediumaquamarine', 'slategrey', 'gold'))\n",
    "plt.title(\"Common proteins found by cell type\")\n",
    "\n",
    "for label in venn.set_labels:\n",
    "    if label is not None:\n",
    "        label.set_fontsize(9)\n",
    "\n",
    "for label in venn.subset_labels:\n",
    "    if label is not None:\n",
    "        label.set_fontsize(9)\n",
    "plt.show()\n"
   ]
  },
  {
   "cell_type": "markdown",
   "metadata": {},
   "source": [
    "Now, data from single-cell is also included."
   ]
  },
  {
   "cell_type": "code",
   "execution_count": null,
   "metadata": {},
   "outputs": [],
   "source": [
    "exp4_proteins = set(df_huffman_adata.var.index)\n",
    "\n",
    "# As it is not possible to know the proteins found in each cell type for the experiment 5, a conservative approach is taken so that no protein is excluded\n",
    "huff_commonM0_proteins = exp1_proteinsM0.intersection(exp2_proteinsM0).intersection(exp3_proteinsM0).intersection(exp4_proteins)\n",
    "huff_commonM1_proteins = exp1_proteinsM1.intersection(exp2_proteinsM1).intersection(exp3_proteinsM1).intersection(exp4_proteins)\n",
    "\n",
    "# Print the number of common proteins\n",
    "print(\"Number of common proteins found in M0:\", len(huff_commonM0_proteins))\n",
    "print(\"Number of common proteins found in M1:\", len(huff_commonM1_proteins))"
   ]
  },
  {
   "cell_type": "markdown",
   "metadata": {},
   "source": [
    "By intersecting the proteins identified in the single cell experiment (Huffman et al. 2022), **there is no coincidence** with any protein, neither in M0 nor in M1. \n",
    "Note that single-cell data do not contain M2 cell types.\n",
    "\n",
    "The same exercise follows, but now **using the gene name instead of the protein ID**."
   ]
  },
  {
   "cell_type": "code",
   "execution_count": null,
   "metadata": {},
   "outputs": [],
   "source": [
    "common_genes = set(df_2016_iwata[\"Gene\"].unique()).intersection(set(df_2022_pengfei[\"Gene\"].unique())).intersection(set(df_2021_pengfei[\"Gene\"].unique())).intersection(set(df_huffman_adata.var[\"Gene\"].unique()))\n",
    "print(\"Number of common genes found in all datasets:\", len(common_genes))"
   ]
  },
  {
   "cell_type": "markdown",
   "metadata": {},
   "source": [
    "As the result of intersecting the gene names, **884 genes** have been identified as common in the 4 datasets"
   ]
  },
  {
   "cell_type": "markdown",
   "metadata": {},
   "source": [
    "Now gene names are used to analyse the distribution of proteins present in all the datasets by cell types"
   ]
  },
  {
   "cell_type": "code",
   "execution_count": null,
   "metadata": {},
   "outputs": [],
   "source": [
    "exp1_genesM0 = df_2016_iwata[df_2016_iwata[\"Type\"] == \"M0\"][\"Gene\"]\n",
    "exp1_genesM1 = df_2016_iwata[df_2016_iwata[\"Type\"] == \"M1\"][\"Gene\"]\n",
    "exp1_genesM2 = df_2016_iwata[df_2016_iwata[\"Type\"] == \"M2\"][\"Gene\"]\n",
    "\n",
    "exp2_genesM0 = df_2022_pengfei[df_2022_pengfei[\"Abundances (Grouped): M0\"] > 0][\"Gene\"]\n",
    "exp2_genesM1 = df_2022_pengfei[df_2022_pengfei[\"Abundances (Grouped): M1\"] > 0][\"Gene\"]\n",
    "exp2_genesM2 = df_2022_pengfei[df_2022_pengfei[\"Abundances (Grouped): M2\"] > 0][\"Gene\"]\n",
    "\n",
    "exp3_genesM0 = df_2021_pengfei[df_2021_pengfei[\"Abundances (Grouped): M0\"] > 0][\"Gene\"]\n",
    "exp3_genesM1 = df_2021_pengfei[df_2021_pengfei[\"Abundances (Grouped): M1\"] > 0][\"Gene\"]\n",
    "exp3_genesM2 = df_2021_pengfei[df_2021_pengfei[\"Abundances (Grouped): M2\"] > 0][\"Gene\"]\n",
    "\n",
    "exp4_genesM0 = df_huffman_adata.var[df_huffman_adata.var[\"Gene\"].isin(common_genes)][\"Gene\"]\n",
    "exp4_genesM1 = df_huffman_adata.var[df_huffman_adata.var[\"Gene\"].isin(common_genes)][\"Gene\"]"
   ]
  },
  {
   "cell_type": "code",
   "execution_count": null,
   "metadata": {},
   "outputs": [],
   "source": [
    "from matplotlib_venn import venn2\n",
    "\n",
    "commonM0_genes = set(exp1_genesM0).intersection(set(exp2_genesM0)).intersection(set(exp3_genesM0)).intersection(set(exp4_genesM0))\n",
    "commonM1_genes = set(exp1_genesM1).intersection(set(exp2_genesM1)).intersection(set(exp3_genesM1)).intersection(set(exp4_genesM1))\n",
    "#commonM2_genes = set(exp1_genesM2).intersection(set(exp2_genesM2)).intersection(set(exp3_genesM2))\n",
    "\n",
    "print(\"Number of common genes found in M0:\", len(commonM0_genes))\n",
    "print(\"Number of common genes found in M1:\", len(commonM1_genes))\n",
    "#print(\"Number of common genes found in M2:\", len(commonM2_genes))\n",
    "\n",
    "print(\"\\nNote that M2 genes are not considered as they are not available for the Huffman, R. G., et al. (2022) dataset\")\n",
    "\n",
    "# Venn diagram for the common genes\n",
    "venn = venn2([commonM0_genes, commonM1_genes], set_labels=('M0          ', '          M1'), set_colors=('mediumaquamarine', 'slategrey'))\n",
    "plt.title(\"Number of genes found in all studies by cell type\")\n",
    "\n",
    "for label in venn.set_labels:\n",
    "    if label is not None:\n",
    "        label.set_fontsize(10)\n",
    "\n",
    "for label in venn.subset_labels:\n",
    "    if label is not None:\n",
    "        label.set_fontsize(10)\n",
    "plt.show()\n",
    "\n"
   ]
  },
  {
   "cell_type": "markdown",
   "metadata": {},
   "source": [
    "As can be observed, there is a significant overlap in the proteins identified across the four datasets.<br>\n",
    "Only 17 proteins are unique to the M0 cells, while 18 proteins are exclusively found in the M1 cells.<br>\n",
    "This highlights the extensive commonality in protein expression between the different cell states."
   ]
  },
  {
   "cell_type": "markdown",
   "metadata": {},
   "source": [
    "**1.5 Comparing genes found in Bulk vs SC experiments**\n",
    "\n",
    "The objective is now to compare the proteins identified in all bulk datasets with those found in all single-cell experiments."
   ]
  },
  {
   "cell_type": "code",
   "execution_count": null,
   "metadata": {},
   "outputs": [],
   "source": [
    "from matplotlib_venn import venn2\n",
    "\n",
    "df_bulk = pd.concat([df_2016_iwata, df_2022_pengfei, df_2021_pengfei])\n",
    "df_bulk_genes = df_bulk[\"Gene\"].unique()\n",
    "df_sc = df_huffman_adata.var[\"Gene\"].unique()\n",
    "\n",
    "df_bulk_genes = [x for x in df_bulk_genes if str(x) != 'nan']\n",
    "df_sc = [x for x in df_sc if str(x) != 'nan']\n",
    "\n",
    "venn = venn2([set(df_bulk_genes), set(df_sc)], set_labels=('Bulk', 'Single-cell'), set_colors=('slategrey', 'gold'))\n",
    "plt.title(\"Genes found in Bulk vs Single-cell\")\n",
    "\n",
    "\n",
    "for label in venn.set_labels:\n",
    "    if label is not None:\n",
    "        label.set_fontsize(10)\n",
    "\n",
    "for label in venn.subset_labels:\n",
    "    if label is not None:\n",
    "        label.set_fontsize(10)\n",
    "\n",
    "plt.show()"
   ]
  },
  {
   "cell_type": "markdown",
   "metadata": {},
   "source": [
    "As observed in the previous diagram, most proteins identified in single-cell experiments are also present in bulk samples. However, some proteins are exclusively detected in either bulk or single-cell experiments. Here are some reasons for these discrepancies:<br>\n",
    "* **Sensitivity:** Bulk proteomics often offers higher sensitivity, enabling the identification of low-abundance proteins that single-cell proteomics (SCP) might miss due to the smaller sample size. However, SCP provides higher resolution, allowing the detection of rare proteins.\n",
    "\n",
    "* **Number of cells included in experiments:** Bulk experiments analyze a large number of cells together, while SCP examines individual cells. This difference in population size can lead to variations in the detected proteins.\n",
    "\n",
    "* **Heterogeneity:** SCP can identify proteins that are present only in specific cells within a population. In contrast, bulk experiments average the signal from many cells, potentially masking these proteins.\n",
    "\n",
    "* **Post-Translational Modifications (PTMs):** SCP can capture PTMs that may be missed in bulk experiments, as these modifications might not be uniformly distributed across the entire cell population.\n",
    "\n",
    "* **Technical variability:** The field of proteomics is rapidly evolving, with continuous improvements in methods and technologies. Variations in sample preparation and processing can significantly impact the final results, contributing to differences in protein identification between bulk and single-cell experiments."
   ]
  },
  {
   "cell_type": "markdown",
   "metadata": {},
   "source": [
    "The proteins found in single-cell datasets only:"
   ]
  },
  {
   "cell_type": "code",
   "execution_count": null,
   "metadata": {},
   "outputs": [],
   "source": [
    "print(\"Genes found in single-cells only:\", len(set(df_sc) - set(df_bulk_genes)))\n",
    "\n",
    "only_sc = set(df_sc) - set(df_bulk_genes)\n",
    "for gene in only_sc:\n",
    "    print(gene)\n"
   ]
  },
  {
   "cell_type": "code",
   "execution_count": null,
   "metadata": {},
   "outputs": [],
   "source": [
    "# Dictionaries with the protein IDs and gene names (for single-cell data)\n",
    "sc_gene_dict = dict(zip(df_huffman_adata.var[\"Gene\"], df_huffman_adata.var.index))\n",
    "sc_prot_dict = dict(zip(df_huffman_adata.var.index, df_huffman_adata.var[\"Gene\"]))\n",
    "\n",
    "only_sc_genes = {k: sc_gene_dict[k] for k in only_sc}"
   ]
  },
  {
   "attachments": {
    "image.png": {
     "image/png": "[encoded data removed]"
    }
   },
   "cell_type": "markdown",
   "metadata": {},
   "source": [
    "**1.5 Abundance of proteins per group**\n",
    "\n",
    "![image.png](attachment:image.png)"
   ]
  },
  {
   "cell_type": "markdown",
   "metadata": {},
   "source": [
    "### 2. Up/Down-represented Proteins\n",
    "\n",
    "**2.1 Bulk datasets**<br><br>\n",
    "**2.1.1 PCA**\n",
    "<br><br>\n",
    "PCA reduces the dimensionality of data, allowing visualization of differences between groups of cells (M0 vs M1). It highlights which genes contribute most to these differences, identifying key biological drivers."
   ]
  },
  {
   "cell_type": "code",
   "execution_count": null,
   "metadata": {},
   "outputs": [],
   "source": []
  },
  {
   "cell_type": "markdown",
   "metadata": {},
   "source": [
    "**2.1.2 UMAP**\n",
    "<br><br>\n",
    "UMAP preserves local and global data structures, capturing complex relationships and providing clear visualizations of treated and control groups. \n",
    "It also highlights key features, distinguishing between conditions and identifying significant genes.\n",
    "<br><br>\n",
    "> <br>\n",
    "> <b>Difference between PCA and UMAP:</b> While PCA captures linear relationships preserving the variance and simplifying data to principal components, UMAP captures non-linear relationships, preserving the local and global structure, making it ideal for complex data visualization.\n",
    "> <br><br>"
   ]
  },
  {
   "cell_type": "code",
   "execution_count": null,
   "metadata": {},
   "outputs": [],
   "source": []
  },
  {
   "cell_type": "code",
   "execution_count": null,
   "metadata": {},
   "outputs": [],
   "source": [
    "sc.settings.set_figure_params(dpi=100, dpi_save=300, vector_friendly=True, fontsize=10)\n",
    "sc.tl.pca(df_huffman_adata, svd_solver=\"arpack\")\n",
    "sc.pl.pca(df_huffman_adata, color=\"celltype\", annotate_var_explained=True, )\n",
    "    \n"
   ]
  },
  {
   "cell_type": "code",
   "execution_count": null,
   "metadata": {},
   "outputs": [],
   "source": [
    "# Access the loadings\n",
    "loadings = df_huffman_adata.varm['PCs']\n",
    "loadings_df = pd.DataFrame(loadings, index=df_huffman_adata.var[\"Gene\"])\n",
    "\n",
    "pc = 0 # PC1\n",
    "\n",
    "# Get the absolute value of the loadings to identify the most significant genes\n",
    "abs_loadings = loadings_df.iloc[:, pc].abs()\n",
    "\n",
    "# Sort the genes by their loading values in descending order\n",
    "sorted_genes = abs_loadings.sort_values(ascending=False)\n",
    "\n",
    "top_genes = sorted_genes.head(10)\n",
    "print(\"Top genes contributing to PC1:\")\n",
    "print(top_genes)\n"
   ]
  },
  {
   "cell_type": "markdown",
   "metadata": {},
   "source": [
    "**2.2.2 UMAP**\n",
    "<br><br>"
   ]
  },
  {
   "cell_type": "code",
   "execution_count": null,
   "metadata": {},
   "outputs": [],
   "source": [
    "# UMAP preparation and plot\n",
    "sc.pp.neighbors(df_huffman_adata, n_neighbors=10, n_pcs=20)\n",
    "sc.tl.umap(df_huffman_adata)\n",
    "\n",
    "# Run clustering (Leiden algorithm)\n",
    "sc.tl.leiden(df_huffman_adata, resolution=0.5, flavor=\"igraph\", n_iterations=2, directed=False)\n",
    "\n",
    "# Visualize UMAP with clusters\n",
    "sc.pl.umap(df_huffman_adata, color=['celltype', 'leiden'])\n"
   ]
  },
  {
   "cell_type": "code",
   "execution_count": null,
   "metadata": {},
   "outputs": [],
   "source": [
    "print(\"Number of cells per cluster:\")\n",
    "print(df_huffman_adata.obs[\"leiden\"].value_counts())\n"
   ]
  },
  {
   "cell_type": "markdown",
   "metadata": {},
   "source": [
    "**2.2 Single-cell - Huffman, R.G., et al. (2022)**<br><br>\n",
    "**2.2.1 PCA**\n"
   ]
  },
  {
   "cell_type": "markdown",
   "metadata": {},
   "source": [
    "**2.2.2 UMAP**\n"
   ]
  },
  {
   "cell_type": "markdown",
   "metadata": {},
   "source": [
    "**2.3 Hetereogenithy of cells M0**"
   ]
  },
  {
   "cell_type": "code",
   "execution_count": null,
   "metadata": {},
   "outputs": [],
   "source": [
    "# Filter data\n",
    "df_huffman_adata_M0 = df_huffman_adata[df_huffman_adata.obs[\"celltype\"] == \"untreated\"]\n",
    "\n",
    "# Compute PCA\n",
    "sc.tl.pca(df_huffman_adata_M0)\n",
    "\n",
    "# Compute neighbors\n",
    "sc.pp.neighbors(df_huffman_adata_M0)\n",
    "\n",
    "# Compute UMAP\n",
    "sc.tl.umap(df_huffman_adata_M0)\n",
    "\n",
    "# Perform clustering\n",
    "sc.tl.leiden(df_huffman_adata_M0, resolution=0.5)\n",
    "\n",
    "# Create a figure with two subplots side by side\n",
    "fig, axes = plt.subplots(1, 2, figsize=(10, 4))\n",
    "\n",
    "# Plots\n",
    "sc.pl.pca(df_huffman_adata_M0, color='leiden', ax=axes[0], show=False)\n",
    "sc.pl.umap(df_huffman_adata_M0, color='leiden', ax=axes[1], show=False)\n",
    "plt.tight_layout()\n",
    "plt.show()"
   ]
  },
  {
   "cell_type": "code",
   "execution_count": null,
   "metadata": {},
   "outputs": [],
   "source": [
    "# Print the number of cells per cluster\n",
    "print(\"Number of cells per cluster:\")\n",
    "print(df_huffman_adata_M0.obs[\"leiden\"].value_counts())\n"
   ]
  },
  {
   "cell_type": "code",
   "execution_count": null,
   "metadata": {},
   "outputs": [],
   "source": [
    "# Analyze the top genes contributing to the separation of clusters\n",
    "loadings = df_huffman_adata_M0.varm['PCs']\n",
    "loadings_df = pd.DataFrame(loadings, index=df_huffman_adata_M0.var[\"Gene\"])\n",
    "\n",
    "pc = 0 # PC1\n",
    "\n",
    "# Get the absolute value of the loadings to identify the most significant genes\n",
    "abs_loadings = loadings_df.iloc[:, pc].abs()\n",
    "\n",
    "# Sort the genes by their loading values in descending order\n",
    "sorted_genes = abs_loadings.sort_values(ascending=False)\n",
    "\n",
    "top_genes = sorted_genes.head(10)\n",
    "print(\"Top genes contributing to PC1:\")\n",
    "print(top_genes)"
   ]
  },
  {
   "cell_type": "markdown",
   "metadata": {},
   "source": [
    "**2.4 Hetereogenithy of cells M1**"
   ]
  },
  {
   "cell_type": "code",
   "execution_count": null,
   "metadata": {},
   "outputs": [],
   "source": [
    "# Filter data\n",
    "df_huffman_adata_M1 = df_huffman_adata[df_huffman_adata.obs[\"celltype\"] == \"LPS\"]\n",
    "\n",
    "# Compute PCA\n",
    "sc.tl.pca(df_huffman_adata_M1)\n",
    "# Compute neighbors\n",
    "sc.pp.neighbors(df_huffman_adata_M1)\n",
    "# Compute UMAP\n",
    "sc.tl.umap(df_huffman_adata_M1)\n",
    "\n",
    "# Perform clustering\n",
    "sc.tl.leiden(df_huffman_adata_M1, resolution=0.5)\n",
    "\n",
    "# Create a figure with two subplots side by side\n",
    "fig, axes = plt.subplots(1, 2, figsize=(10, 4))\n",
    "\n",
    "# Plots\n",
    "sc.pl.pca(df_huffman_adata_M1, color='leiden', ax=axes[0], show=False)\n",
    "sc.pl.umap(df_huffman_adata_M1, color='leiden', ax=axes[1], show=False)\n",
    "plt.tight_layout()\n",
    "plt.show()\n"
   ]
  },
  {
   "cell_type": "code",
   "execution_count": null,
   "metadata": {},
   "outputs": [],
   "source": [
    "# Analyze the top genes contributing to the separation of clusters\n",
    "loadings = df_huffman_adata_M1.varm['PCs']\n",
    "loadings_df = pd.DataFrame(loadings, index=df_huffman_adata_M1.var[\"Gene\"])\n",
    "\n",
    "pc = 0 # PC1\n",
    "\n",
    "# Get the absolute value of the loadings to identify the most significant genes\n",
    "abs_loadings = loadings_df.iloc[:, pc].abs()\n",
    "\n",
    "# Sort the genes by their loading values in descending order\n",
    "sorted_genes = abs_loadings.sort_values(ascending=False)\n",
    "\n",
    "top_genes = sorted_genes.head(10)\n",
    "print(\"Top genes contributing to PC1:\")\n",
    "print(top_genes)\n"
   ]
  },
  {
   "cell_type": "code",
   "execution_count": null,
   "metadata": {},
   "outputs": [],
   "source": [
    "# compute and plot UMAP for M1 cells only\n",
    "df_huffman_adata_M1 = df_huffman_adata[df_huffman_adata.obs[\"celltype\"] == \"LPS\"]\n",
    "sc.pp.neighbors(df_huffman_adata_M1, n_neighbors=10, n_pcs=20)\n"
   ]
  },
  {
   "cell_type": "markdown",
   "metadata": {},
   "source": [
    "# Experiment --------------------\n",
    "\n",
    "Volcano plot for M1 only"
   ]
  },
  {
   "cell_type": "code",
   "execution_count": null,
   "metadata": {},
   "outputs": [],
   "source": [
    "# Compute p_values, log2fc and adjusted p_values for df_huffman_adata_M1\n",
    "sc.tl.rank_genes_groups(df_huffman_adata_M1, groupby=\"leiden\", method=\"wilcoxon\")\n",
    "\n",
    "# Plot the results\n",
    "sc.pl.rank_genes_groups(df_huffman_adata_M1, n_genes=25, sharey=True)\n",
    "\n"
   ]
  },
  {
   "cell_type": "code",
   "execution_count": null,
   "metadata": {},
   "outputs": [],
   "source": [
    "# plot the clusters\n",
    "sc.pl.umap(df_huffman_adata_M1, color='leiden', legend_loc='on data', title='Clusters', frameon=False)\n",
    "\n",
    "\n"
   ]
  },
  {
   "cell_type": "code",
   "execution_count": null,
   "metadata": {},
   "outputs": [],
   "source": [
    "df_huffman_adata_M1.var['neg_log10_p_value'] = -np.log10(df_huffman_adata_M1.var['adj_p_value'])\n",
    "\n",
    "# Create a color column based on the p-value threshold and fold change\n",
    "df_huffman_adata_M1.var['color'] = 'blue'\n",
    "df_huffman_adata_M1.var.loc[df_huffman_adata_M1.var['adj_p_value'] < PVAL_THRESHOLD, 'color'] = 'gray'\n",
    "df_huffman_adata_M1.var.loc[(df_huffman_adata_M1.var['adj_p_value'] < PVAL_THRESHOLD) & (df_huffman_adata_M1.var['log2fc'] > LOG2_THRESHOLD), 'color'] = 'red'\n",
    "df_huffman_adata_M1.var.loc[(df_huffman_adata_M1.var['adj_p_value'] < PVAL_THRESHOLD) & (df_huffman_adata_M1.var['log2fc'] < -LOG2_THRESHOLD), 'color'] = 'red'\n",
    "\n",
    "# Filter for significant genes with |log2fc| > LOG2_THRESHOLD and p-value < PVAL_THRESHOLD\n",
    "significant_genes = df_huffman_adata_M1.var[(df_huffman_adata_M1.var['adj_p_value'] < PVAL_THRESHOLD) & (abs(df_huffman_adata_M1.var['log2fc']) > LOG2_THRESHOLD)]\n",
    "\n",
    "# Volcano plot\n",
    "plt.figure(figsize=(10, 5))\n",
    "sns.scatterplot(data=df_huffman_adata_M1.var, x='log2fc', y='neg_log10_p_value', hue='color', palette=['gray', 'blue', 'red'], legend=False)\n",
    "plt.xlabel(\"Log2(Fold change)\")\n",
    "plt.ylabel(\"-Log10(p-value)\")\n",
    "plt.title(\"Volcano plot for the Huffman, R. G., et al. (2022) dataset\")\n",
    "\n",
    "# Draw a horizontal line at the significance threshold for -log10(PVAL_THRESHOLD)\n",
    "plt.axhline(-np.log10(PVAL_THRESHOLD), color='gray', linestyle='--')\n",
    "\n",
    "# Draw relevant vertical lines\n",
    "plt.axvline(-LOG2_THRESHOLD, color='gray', linestyle='--')\n",
    "plt.axvline(LOG2_THRESHOLD, color='gray', linestyle='--')\n",
    "\n",
    "# Annotate significant genes with some space added\n",
    "for idx, row in significant_genes.iterrows():\n",
    "    plt.text(row['log2fc'] + 0.1, row['neg_log10_p_value'] + 2, row[\"Gene\"], fontsize=8, ha='right')\n",
    "\n",
    "plt.tight_layout()\n",
    "plt.show()"
   ]
  },
  {
   "cell_type": "markdown",
   "metadata": {},
   "source": [
    "## To be removed (Begin) ---------------"
   ]
  },
  {
   "cell_type": "code",
   "execution_count": null,
   "metadata": {},
   "outputs": [],
   "source": [
    "# Run clustering (Leiden algorithm)\n",
    "sc.tl.leiden(df_huffman_adata_M1, resolution=0.5, flavor=\"igraph\", n_iterations=2, directed=False)\n",
    "\n",
    "# Visualize UMAP with clusters\n",
    "sc.pl.umap(df_huffman_adata_M1, color=['leiden', 'celltype'])\n"
   ]
  },
  {
   "cell_type": "markdown",
   "metadata": {},
   "source": [
    "# Ideas\n",
    "1. Same with only 1 group (e.g. because of cell state)\n",
    "2. Merge two SC datasets (and repeat 1)\n",
    "3. Biological analysis of SC (only 1 group)\n",
    "4. MUST: DEA with bulk\n",
    "5. (DONE) Understand filtering\n",
    "\n",
    "(DONE) INTRO DELS MACROPHAGS i perquè és interessant el seu estudi\n",
    "\n",
    "**Captions for each figure**\n",
    "\n",
    "\n",
    "## To be removed (End) ---------------"
   ]
  },
  {
   "cell_type": "markdown",
   "metadata": {},
   "source": [
    "**2.5 Differential Expression Analysis**"
   ]
  },
  {
   "cell_type": "code",
   "execution_count": null,
   "metadata": {},
   "outputs": [],
   "source": [
    "df_huffman_adata_gene = df_huffman_adata.copy()\n",
    "df_huffman_adata_gene.var.index = df_huffman_adata_gene.var[\"Gene\"]\n",
    "\n",
    "print(\"Differential expression analysis between M0 and M1 for the Huffman, R. G., et al. (2022) dataset\")\n",
    "sc.tl.rank_genes_groups(df_huffman_adata_gene, groupby=\"celltype\", groups=[\"untreated\", \"LPS\"], method=\"t-test\")\n",
    "sc.pl.rank_genes_groups(df_huffman_adata_gene, n_genes=20)"
   ]
  },
  {
   "cell_type": "code",
   "execution_count": null,
   "metadata": {},
   "outputs": [],
   "source": [
    "\n",
    "\n",
    "# Perform t-test for each protein for Huffman, R. G., et al. (2022) --------------------------------------------------\n",
    "p_values = []\n",
    "log2fcs = []\n",
    "\n",
    "for i in range(df_huffman_adata.X.shape[1]):\n",
    "    # perform the t-test\n",
    "    p_value = ttest_ind(df_huffman_adata.X[df_huffman_adata.obs['celltype'] == 'LPS'][:, i], df_huffman_adata.X[df_huffman_adata.obs['celltype'] == 'untreated'][:, i])[1]\n",
    "    p_values.append(p_value)\n",
    "    # log2fc\n",
    "    log2fc = df_huffman_adata.X[df_huffman_adata.obs['celltype'] == 'LPS'][:, i].mean() - df_huffman_adata.X[df_huffman_adata.obs['celltype'] == 'untreated'][:, i].mean() \n",
    "    log2fcs.append(log2fc)\n",
    "\n",
    "# Calculate the adjusted p-values after all p-values have been computed\n",
    "adj_p_values = multipletests(p_values, method='fdr_bh')[1]\n",
    "\n",
    "# Store results in AnnData\n",
    "df_huffman_adata.var['p_value'] = p_values\n",
    "df_huffman_adata.var['adj_p_value'] = adj_p_values\n",
    "df_huffman_adata.var['log2fc'] = log2fcs\n",
    "\n",
    "# Sort the proteins by the adjusted p-value\n",
    "top_proteins = df_huffman_adata.var.sort_values('adj_p_value')\n",
    "\n",
    "# Print the 10 proteins with the lowest adjusted p-values\n",
    "top_proteins.head(10)\n"
   ]
  },
  {
   "cell_type": "code",
   "execution_count": null,
   "metadata": {},
   "outputs": [],
   "source": [
    "df_huffman_adata.var['neg_log10_p_value'] = -np.log10(df_huffman_adata.var['adj_p_value'])\n",
    "\n",
    "# Create a color column based on the p-value threshold and fold change\n",
    "df_huffman_adata.var['color'] = 'blue'\n",
    "df_huffman_adata.var.loc[df_huffman_adata.var['adj_p_value'] < PVAL_THRESHOLD, 'color'] = 'gray'\n",
    "df_huffman_adata.var.loc[(df_huffman_adata.var['adj_p_value'] < PVAL_THRESHOLD) & (df_huffman_adata.var['log2fc'] > LOG2_THRESHOLD), 'color'] = 'red'\n",
    "df_huffman_adata.var.loc[(df_huffman_adata.var['adj_p_value'] < PVAL_THRESHOLD) & (df_huffman_adata.var['log2fc'] < -LOG2_THRESHOLD), 'color'] = 'red'\n",
    "\n",
    "# Filter for significant genes with |log2fc| > LOG2_THRESHOLD and p-value < PVAL_THRESHOLD\n",
    "significant_genes = df_huffman_adata.var[(df_huffman_adata.var['adj_p_value'] < PVAL_THRESHOLD) & (abs(df_huffman_adata.var['log2fc']) > LOG2_THRESHOLD)]\n",
    "\n",
    "# Volcano plot\n",
    "plt.figure(figsize=(10, 5))\n",
    "sns.scatterplot(data=df_huffman_adata.var, x='log2fc', y='neg_log10_p_value', hue='color', palette=['gray', 'blue', 'red'], legend=False)\n",
    "plt.xlabel(\"Log2(Fold change)\")\n",
    "plt.ylabel(\"-Log10(p-value)\")\n",
    "plt.title(\"Volcano plot for the Huffman, R. G., et al. (2022) dataset\")\n",
    "\n",
    "# Draw a horizontal line at the significance threshold for -log10(PVAL_THRESHOLD)\n",
    "plt.axhline(-np.log10(PVAL_THRESHOLD), color='gray', linestyle='--')\n",
    "\n",
    "# Draw relevant vertical lines\n",
    "plt.axvline(-LOG2_THRESHOLD, color='gray', linestyle='--')\n",
    "plt.axvline(LOG2_THRESHOLD, color='gray', linestyle='--')\n",
    "\n",
    "# Annotate significant genes with some space added\n",
    "for idx, row in significant_genes.iterrows():\n",
    "    plt.text(row['log2fc'] + 0.1, row['neg_log10_p_value'] + 2, row[\"Gene\"], fontsize=8, ha='right')\n",
    "\n",
    "plt.tight_layout()\n",
    "plt.show()\n"
   ]
  },
  {
   "cell_type": "markdown",
   "metadata": {},
   "source": [
    "Figure X: Volcano plot for the Huffman, R. G., et al. (2022) dataset. The plot illustrates the relationship between the fold change (Log2(Fold Change)) and statistical significance (-Log10(p-value)) of differentially expressed proteins in human monocytes and macrophages (THP-1 cells) under LPS treatment versus untreated conditions. Each point represents a protein, with blue points indicating proteins that are not significantly differentially expressed and red points indicating proteins that are significantly differentially expressed (adj. p-value < 0.05). Highlighted proteins, such as IFIT1, GBP2, ISG15, and SOD2, demonstrate significant differential expression and are key drivers in the observed immune response. "
   ]
  },
  {
   "cell_type": "markdown",
   "metadata": {},
   "source": [
    "# Ideas\n",
    "* Plots: https://scanpy-tutorials.readthedocs.io/en/latest/plotting/core.html\n"
   ]
  },
  {
   "cell_type": "code",
   "execution_count": null,
   "metadata": {},
   "outputs": [],
   "source": [
    "# Ensure proper normalization and log transformation\n",
    "sc.pp.normalize_total(df_lps_adata, target_sum=1e4)\n",
    "sc.pp.log1p(df_lps_adata)\n",
    "\n",
    "# Filter genes with low expression\n",
    "sc.pp.filter_genes(df_lps_adata, min_counts=3)\n",
    "\n",
    "# Re-run marker gene analysis\n",
    "sc.tl.rank_genes_groups(df_lps_adata, groupby='leiden', method='t-test', corr_method='benjamini-hochberg')\n",
    "\n",
    "# Check log fold changes again\n",
    "logfoldchanges = df_lps_adata.uns['rank_genes_groups']['logfoldchanges']\n",
    "print(logfoldchanges)\n"
   ]
  },
  {
   "cell_type": "code",
   "execution_count": null,
   "metadata": {},
   "outputs": [],
   "source": [
    "significant_genes = df_huffman_adata.uns['rank_genes_groups']['names'][(df_huffman_adata.uns['rank_genes_groups']['pvals_adj'] < PVAL_THRESHOLD) & (abs(df_huffman_adata.uns['rank_genes_groups']['logfoldchanges']) > 1)]\n",
    "df_huffman_adata\n",
    "\n",
    "# Volcano plot\n",
    "plt.figure(figsize=(10, 5))\n",
    "sns.scatterplot(data=df_huffman_adata.uns['rank_genes_groups'], x='logfoldchanges', y=-np.log10(df_huffman_adata.uns['rank_genes_groups']['pvals_adj']), hue='pvals_adj', palette='viridis', legend=False)\n",
    "plt.xlabel(\"Log2(Fold change)\")\n",
    "plt.ylabel(\"-Log10(p-value)\")\n",
    "plt.title(\"Volcano plot for the LPS-treated cells (Huffman et al. 2022)\")\n",
    "\n",
    "# Draw a horizontal line at the significance threshold for -log10(PVAL_THRESHOLD)\n",
    "plt.axhline(-np.log10(PVAL_THRESHOLD), color='gray', linestyle='--')\n",
    "\n",
    "# Draw relevant vertical lines\n",
    "plt.axvline(-1, color='gray', linestyle='--')\n",
    "plt.axvline(1, color='gray', linestyle='--')\n",
    "\n",
    "# Annotate significant genes with some space added\n",
    "for gene in significant_genes:\n",
    "    plt.text(df_huffman_adata.uns['rank_genes_groups']['logfoldchanges'][gene] + 0.1, -np.log10(df_huffman_adata.uns['rank_genes_groups']['pvals_adj'][gene]) + 2, gene, fontsize=8, ha='right')\n",
    "\n",
    "plt.tight_layout()\n",
    "plt.show()"
   ]
  },
  {
   "cell_type": "code",
   "execution_count": null,
   "metadata": {},
   "outputs": [],
   "source": [
    "# volcano plot using df_lps_adata.uns['rank_genes_groups'] (that already includes the pvals_adj, logfoldchange,...)\n",
    "# Filter for significant genes with |log2fc| > 1 and p-value < PVAL_THRESHOLD\n",
    "significant_genes = df_lps_adata.uns['rank_genes_groups']['names'][(df_lps_adata.uns['rank_genes_groups']['pvals_adj'] < PVAL_THRESHOLD) & (abs(df_lps_adata.uns['rank_genes_groups']['logfoldchanges']) > 1)]\n",
    "\n",
    "# Volcano plot\n",
    "plt.figure(figsize=(10, 5))\n",
    "sns.scatterplot(data=df_lps_adata.uns['rank_genes_groups'], x='logfoldchanges', y=-np.log10(df_lps_adata.uns['rank_genes_groups']['pvals_adj']), hue='pvals_adj', palette='viridis', legend=False)\n",
    "plt.xlabel(\"Log2(Fold change)\")\n",
    "plt.ylabel(\"-Log10(p-value)\")\n",
    "plt.title(\"Volcano plot for the LPS-treated cells (Huffman et al. 2022)\")\n",
    "\n",
    "# Draw a horizontal line at the significance threshold for -log10(PVAL_THRESHOLD)\n",
    "plt.axhline(-np.log10(PVAL_THRESHOLD), color='gray', linestyle='--')\n",
    "\n",
    "# Draw relevant vertical lines\n",
    "plt.axvline(-1, color='gray', linestyle='--')\n",
    "plt.axvline(1, color='gray', linestyle='--')\n",
    "\n",
    "# Annotate significant genes with some space added\n",
    "for gene in significant_genes:\n",
    "    plt.text(df_lps_adata.uns['rank_genes_groups']['logfoldchanges'][gene] + 0.1, -np.log10(df_lps_adata.uns['rank_genes_groups']['pvals_adj'][gene]) + 2, gene, fontsize=8, ha='right')\n",
    "\n",
    "plt.tight_layout()\n",
    "plt.show()\n"
   ]
  },
  {
   "cell_type": "code",
   "execution_count": null,
   "metadata": {},
   "outputs": [],
   "source": [
    "sc.pp.normalize_total(df_lps_adata, target_sum=1e4)\n",
    "sc.pp.log1p(df_lps_adata)\n",
    "\n",
    "# Filter genes with low expression\n",
    "sc.pp.filter_genes(df_lps_adata, min_counts=3)"
   ]
  },
  {
   "cell_type": "code",
   "execution_count": null,
   "metadata": {},
   "outputs": [],
   "source": [
    "# Extract relevant data from rank_genes_groups\n",
    "logfoldchanges = np.array(df_lps_adata.uns['rank_genes_groups']['logfoldchanges'])\n",
    "pvals_adj = np.array(df_lps_adata.uns['rank_genes_groups']['pvals_adj'])\n",
    "gene_names = np.array(df_lps_adata.uns['rank_genes_groups']['names'])\n",
    "\n",
    "print(logfoldchanges)\n",
    "print()\n",
    "print(pvals_adj)\n",
    "print()\n",
    "print(gene_names)\n",
    "\n",
    "\n",
    "# Filter for significant genes with |log2fc| > 1 and adjusted p-value < PVAL_THRESHOLD\n",
    "significant_mask = (abs(logfoldchanges) > 1) & (pvals_adj < PVAL_THRESHOLD)\n",
    "\n",
    "# Extract significant gene names\n",
    "significant_genes = gene_names[significant_mask]\n",
    "significant_logfoldchanges = logfoldchanges[significant_mask]\n",
    "significant_pvals_adj = pvals_adj[significant_mask]\n",
    "\n",
    "# Create a volcano plot\n",
    "plt.figure(figsize=(10, 5))\n",
    "plt.scatter(logfoldchanges, -np.log10(pvals_adj), color='gray', alpha=0.5)\n",
    "plt.scatter(significant_logfoldchanges, -np.log10(significant_pvals_adj), color='red')\n",
    "plt.xlabel('Log2 fold change')\n",
    "plt.ylabel('-Log10(p-value)')\n",
    "plt.title('Volcano plot')\n",
    "plt.axhline(y=-np.log10(PVAL_THRESHOLD), color='blue', linestyle='--')  # Significance threshold\n",
    "plt.axvline(x=-1, color='blue', linestyle='--')  # Log2 fold change threshold\n",
    "plt.axvline(x=1, color='blue', linestyle='--')  # Log2 fold change threshold\n",
    "\n",
    "# Annotate significant genes\n",
    "for i, gene in enumerate(significant_genes):\n",
    "    plt.text(significant_logfoldchanges[i], -np.log10(significant_pvals_adj[i]), gene, fontsize=8, ha='right')\n",
    "\n",
    "plt.tight_layout()\n",
    "plt.show()\n"
   ]
  },
  {
   "cell_type": "markdown",
   "metadata": {},
   "source": [
    "**X.x Marker Gene Analysis**<br>\n",
    "Perform functional enrichment analysis, identifying overrepresented pathways and biological processes."
   ]
  },
  {
   "cell_type": "code",
   "execution_count": null,
   "metadata": {},
   "outputs": [],
   "source": [
    "# Perform marker gene analysis for clusters\n",
    "sc.tl.rank_genes_groups(df_huffman_adata, groupby='leiden', method='t-test')\n",
    "\n",
    "# Plot marker genes for clusters\n",
    "sc.pl.rank_genes_groups(df_huffman_adata, n_genes=20, sharey=False)\n"
   ]
  },
  {
   "cell_type": "markdown",
   "metadata": {},
   "source": [
    "**X.x Functional Enrichement Analysis**<br>\n",
    "Extract the marker genes for each cluster, then use g:Profiler for enrichment analysis"
   ]
  },
  {
   "cell_type": "code",
   "execution_count": null,
   "metadata": {},
   "outputs": [],
   "source": [
    "import gprofiler\n",
    "\n",
    "# Extract top marker genes for each cluster\n",
    "marker_genes_cluster_0 = df_lps_adata.uns['rank_genes_groups']['names']['0'][:20]\n",
    "marker_genes_cluster_1 = df_lps_adata.uns['rank_genes_groups']['names']['1'][:20]\n",
    "\n",
    "# Perform functional enrichment using g:Profiler\n",
    "gp = gprofiler.GProfiler(return_dataframe=True)\n",
    "enrichment_cluster_0 = gp.profile(organism='hsapiens', query=marker_genes_cluster_0)\n",
    "enrichment_cluster_1 = gp.profile(organism='hsapiens', query=marker_genes_cluster_1)\n",
    "\n",
    "# Display results\n",
    "print(\"Enrichment analysis for Cluster 0:\")\n",
    "print(enrichment_cluster_0.head())\n",
    "\n",
    "print(\"\\nEnrichment analysis for Cluster 1:\")\n",
    "print(enrichment_cluster_1.head())\n"
   ]
  },
  {
   "cell_type": "markdown",
   "metadata": {},
   "source": [
    "**X.x Density plots**<br>\n"
   ]
  },
  {
   "cell_type": "code",
   "execution_count": null,
   "metadata": {},
   "outputs": [],
   "source": [
    "# Single density plot (protein P51863)\n",
    "plt.figure(figsize=(10, 5))\n",
    "sns.kdeplot(df_huffman_adata.X[df_huffman_adata.obs['celltype'] == 'LPS'][:, df_huffman_adata.var.index == 'P51863'].flatten(), label='LPS')\n",
    "sns.kdeplot(df_huffman_adata.X[df_huffman_adata.obs['celltype'] == 'untreated'][:, df_huffman_adata.var.index == 'P51863'].flatten(), label='untreated')\n",
    "plt.xlabel('Intensity')\n",
    "plt.ylabel('Density')\n",
    "plt.title('Density plot for protein P51863')\n",
    "plt.legend()\n",
    "plt.show()"
   ]
  },
  {
   "cell_type": "code",
   "execution_count": null,
   "metadata": {},
   "outputs": [],
   "source": [
    "# Top 1 protein density plot\n",
    "plt.figure(figsize=(10, 5))\n",
    "sns.kdeplot(df_huffman_adata.X[df_huffman_adata.obs['celltype'] == 'LPS'][:, df_huffman_adata.var.index == top_proteins.index[0]].flatten(), label='LPS')\n",
    "sns.kdeplot(df_huffman_adata.X[df_huffman_adata.obs['celltype'] == 'untreated'][:, df_huffman_adata.var.index == top_proteins.index[0]].flatten(), label='untreated')\n",
    "plt.xlabel('Intensity')\n",
    "plt.ylabel('Density')\n",
    "plt.title(f'Density plot for gene \"{top_proteins[\"Gene\"].values[0]}\" ({top_proteins.index[0]})')\n",
    "plt.legend()\n",
    "plt.show()\n"
   ]
  },
  {
   "cell_type": "code",
   "execution_count": null,
   "metadata": {},
   "outputs": [],
   "source": [
    "fig, axes = plt.subplots(6, 4, figsize=(20, 30))\n",
    "\n",
    "# iterate over the proteins\n",
    "for i, protein in enumerate(top_proteins[:24].index):\n",
    "    # get the row and column index\n",
    "    row = i // 4\n",
    "    col = i % 4\n",
    "    # plot the density plot\n",
    "    sns.kdeplot(df_huffman_adata.X[df_huffman_adata.obs['celltype'] == 'LPS'][:, df_huffman_adata.var.index == protein].flatten(), label='LPS', ax=axes[row, col])\n",
    "    sns.kdeplot(df_huffman_adata.X[df_huffman_adata.obs['celltype'] == 'untreated'][:, df_huffman_adata.var.index == protein].flatten(), label='untreated', ax=axes[row, col])\n",
    "    axes[row, col].set_title(protein + ' (p-value: ' + str(df_huffman_adata.var.loc[protein, 'p_value']) + ')')\n",
    "    axes[row, col].set_xlabel('Intensity')\n",
    "    axes[row, col].set_ylabel('Density')\n",
    "    axes[row, col].legend()\n",
    "\n",
    "plt.tight_layout()\n",
    "plt.show()\n"
   ]
  },
  {
   "cell_type": "markdown",
   "metadata": {},
   "source": [
    "**1.5 Hetereogenithy of cells M1**"
   ]
  },
  {
   "cell_type": "code",
   "execution_count": null,
   "metadata": {},
   "outputs": [],
   "source": [
    "df_lps_adata = df_huffman_adata[df_huffman_adata.obs['celltype'] == 'LPS'].copy()\n",
    "df_lps_adata"
   ]
  },
  {
   "cell_type": "code",
   "execution_count": null,
   "metadata": {},
   "outputs": [],
   "source": [
    "\n",
    "# Clean PCA, UMAP, log2fc, neg_log10_p_value, colour and p_value data\n",
    "df_lps_adata.obsm = {}\n",
    "df_lps_adata.uns = {}\n",
    "df_lps_adata.var.drop(['log2fc', 'neg_log10_p_value', 'color', 'p_value'], axis=1, inplace=True)\n",
    "df_lps_adata.obsp = {}\n",
    "\n",
    "# Computing principal components\n",
    "sc.tl.pca(df_lps_adata, svd_solver='arpack')\n",
    "\n",
    "# Computing neighbors for UMAP\n",
    "sc.pp.neighbors(df_lps_adata, n_neighbors=15, n_pcs=40)\n",
    "\n",
    "# Computing UMAP\n",
    "sc.tl.umap(df_lps_adata)\n",
    "\n",
    "# Running clustering (Leiden algorithm)\n",
    "sc.tl.leiden(df_lps_adata, resolution=0.5)\n",
    "\n",
    "# Visualizing UMAP with clusters\n",
    "sc.pl.umap(df_lps_adata, color=['leiden'])\n"
   ]
  },
  {
   "cell_type": "code",
   "execution_count": null,
   "metadata": {},
   "outputs": [],
   "source": [
    "# Perform marker gene analysis for clusters\n",
    "sc.tl.rank_genes_groups(df_lps_adata, groupby='leiden', method='t-test')\n",
    "\n",
    "# Plot marker genes for clusters\n",
    "sc.pl.rank_genes_groups(df_lps_adata, n_genes=20, sharey=False)\n"
   ]
  },
  {
   "cell_type": "code",
   "execution_count": null,
   "metadata": {},
   "outputs": [],
   "source": [
    "df_lps_adata.uns['rank_genes_groups']"
   ]
  },
  {
   "cell_type": "code",
   "execution_count": null,
   "metadata": {},
   "outputs": [],
   "source": [
    "# Print top 5 genes for each cluster\n",
    "for cluster in df_lps_adata.obs['leiden'].unique():\n",
    "    print(f\"Cluster {cluster}\")\n",
    "    print(df_lps_adata.uns['rank_genes_groups']['names'])\n",
    "    print()\n",
    "    "
   ]
  },
  {
   "cell_type": "code",
   "execution_count": null,
   "metadata": {},
   "outputs": [],
   "source": [
    "#compute p_value and log2fc for each gene\n",
    "p_values = []\n",
    "log2fcs = []\n",
    "\n",
    "for i in range(df_lps_adata.X.shape[1]):\n",
    "    # perform the t-test\n",
    "    p_value = ttest_ind(df_lps_adata.X[:, i], df_huffman_adata.X[df_huffman_adata.obs['celltype'] == 'untreated'][:, i])[1]\n",
    "    # store the p-value\n",
    "    p_values.append(p_value)\n",
    "    log2fcs.append((df_lps_adata.X[:, i].mean() + 1) - (df_huffman_adata.X[df_huffman_adata.obs['celltype'] == 'untreated'][:, i].mean() + 1))\n",
    "\n",
    "df_lps_adata.var['p_value'] = p_values\n",
    "df_lps_adata.var['log2fc'] = log2fcs\n",
    "\n",
    "# sort the proteins by the p-value\n",
    "top_proteins = df_lps_adata.var.sort_values('p_value')\n",
    "\n",
    "# print the 10 proteins with the lowest p-values\n",
    "print(top_proteins)\n",
    "\n",
    "# Volcano plot\n",
    "plt.figure(figsize=(10, 5))\n",
    "sns.scatterplot(data=df_lps_adata.var, x='log2fc', y='p_value', hue='color', palette=['gray', 'blue', 'red'], legend=False)\n",
    "plt.xlabel(\"Log2(Fold change)\")\n",
    "plt.ylabel(\"p-value\")\n",
    "plt.title(\"Volcano plot for the LPS-treated cells in the Huffman, R. G., et al. (2022) dataset\")\n",
    "\n",
    "# Draw a horizontal line at the significance threshold for p-value = PVAL_THRESHOLD\n",
    "plt.axhline(PVAL_THRESHOLD, color='gray', linestyle='--')\n",
    "\n",
    "# Draw relevant vertical lines\n",
    "plt.axvline(-1, color='gray', linestyle='--')\n",
    "plt.axvline(1, color='gray', linestyle='--')\n",
    "\n",
    "# Annotate significant genes with some space added\n",
    "for idx, row in top_proteins.iterrows():\n",
    "    plt.text(row['log2fc'] + 0.1, row['p_value'] + 0.01, row[\"Gene\"], fontsize=8, ha='right')\n",
    "\n",
    "plt.tight_layout()\n",
    "plt.show()\n",
    "\n"
   ]
  },
  {
   "cell_type": "code",
   "execution_count": null,
   "metadata": {},
   "outputs": [],
   "source": [
    "import scanpy as sc\n",
    "\n",
    "# Perform marker gene analysis for clusters\n",
    "sc.tl.rank_genes_groups(df_lps_adata, groupby='leiden', method='t-test')\n",
    "\n",
    "# Plot marker genes for clusters\n",
    "sc.pl.rank_genes_groups(df_lps_adata, n_genes=20, sharey=False)\n"
   ]
  },
  {
   "cell_type": "code",
   "execution_count": null,
   "metadata": {},
   "outputs": [],
   "source": [
    "# New AnnData object with LPS only\n",
    "df_huffman_adata_lps = df_huffman_adata[df_huffman_adata.obs['celltype'] == 'LPS']\n",
    "\n",
    "# Remove PCA and UMAP data\n",
    "df_huffman_adata_lps.obsm = {}\n",
    "df_huffman_adata_lps.uns = {}\n",
    "\n",
    "# Perform PCA\n",
    "sc.tl.pca(df_huffman_adata_lps, svd_solver=\"arpack\")\n",
    "\n",
    "# Perform UMAP\n",
    "sc.pp.neighbors(df_huffman_adata_lps, use_rep='X_pca')\n",
    "sc.tl.umap(df_huffman_adata_lps)\n",
    "\n",
    "# Perform clustering\n",
    "sc.tl.leiden(df_huffman_adata_lps, resolution=0.5, flavor=\"igraph\", n_iterations=2, directed=False)\n",
    "\n",
    "# Plot the PCA, UMAP and leiden clustering\n",
    "sc.pl.pca(df_huffman_adata_lps, color='leiden')\n",
    "\n",
    "sc.pl.umap(df_huffman_adata_lps, color='leiden')\n",
    "\n"
   ]
  },
  {
   "cell_type": "code",
   "execution_count": null,
   "metadata": {},
   "outputs": [],
   "source": [
    "# New AnnData object with LPS only\n",
    "df_huffman_adata_lps = df_huffman_adata[df_huffman_adata.obs['celltype'] == 'LPS']\n",
    "\n",
    "# Remove PCA and UMAP data\n",
    "df_huffman_adata_lps.obsm = {}\n",
    "df_huffman_adata_lps.uns = {}\n",
    "\n",
    "# Perform PCA\n",
    "sc.tl.pca(df_huffman_adata_lps, svd_solver=\"arpack\")\n",
    "\n",
    "# Perform UMAP\n",
    "sc.pp.neighbors(df_huffman_adata_lps, use_rep='X_pca')\n",
    "sc.tl.umap(df_huffman_adata_lps)\n",
    "\n",
    "# Perform clustering\n",
    "sc.tl.leiden(df_huffman_adata_lps, resolution=0.5, flavor=\"igraph\", n_iterations=2, directed=False)\n"
   ]
  },
  {
   "cell_type": "code",
   "execution_count": null,
   "metadata": {},
   "outputs": [],
   "source": [
    "# Plot the PCA, UMAP and leiden clustering\n",
    "sc.pl.pca(df_huffman_adata_lps, color='leiden')\n",
    "\n",
    "sc.pl.umap(df_huffman_adata_lps, color='leiden')\n",
    "\n",
    "# Perform differential expression analysis\n"
   ]
  },
  {
   "cell_type": "markdown",
   "metadata": {},
   "source": [
    "**1.5 Top Down/Up regulated genes per dataset**"
   ]
  },
  {
   "cell_type": "code",
   "execution_count": null,
   "metadata": {},
   "outputs": [],
   "source": [
    "# Iwata\n"
   ]
  },
  {
   "cell_type": "markdown",
   "metadata": {},
   "source": [
    "## Functional Enrichment"
   ]
  },
  {
   "cell_type": "code",
   "execution_count": null,
   "metadata": {},
   "outputs": [],
   "source": [
    "\n",
    "sdb = StringDBClient(server_url=\"https://string-db.org/api\", species=9606, score_threshold=400)"
   ]
  },
  {
   "cell_type": "code",
   "execution_count": null,
   "metadata": {},
   "outputs": [],
   "source": [
    "\n",
    "# Network of the first 10 genes exclusively found in the single-cell data\n",
    "only_sc_genes_10 = {k: only_sc_genes[k] for k in list(only_sc_genes)[:10]}\n",
    "\n",
    "for gene in only_sc_genes_10:\n",
    "    print(\"-\" * 150)\n",
    "\n",
    "    try:\n",
    "        image_data = sdb.get_network_image(gene, \"image\")\n",
    "        page = sdb.get_protein_page(gene, \"tsv-no-header\")\n",
    "\n",
    "        print(\"Gene: \", gene)\n",
    "        print(\"Protein: \", only_sc_genes[gene]) \n",
    "\n",
    "        print(page)\n",
    "        display(Image(image_data))\n",
    "    except:\n",
    "        print(\"No gene found in String-DB with name \", gene)\n",
    "        print(\" \")\n",
    "        continue\n",
    "\n"
   ]
  },
  {
   "cell_type": "markdown",
   "metadata": {},
   "source": [
    "---\n",
    "# Huffman preparation \n",
    "## TO BE REVIWED AND RELOCATED\n",
    "\n"
   ]
  },
  {
   "cell_type": "code",
   "execution_count": null,
   "metadata": {},
   "outputs": [],
   "source": [
    "# compute the protein intensity mean per cell type and store it in the AnnData object as var\n",
    "adata.var['mean_intensity_LPS'] = adata.X[adata.obs['celltype'] == 'LPS'].mean(axis=0)\n",
    "adata.var['mean_intensity_untreated'] = adata.X[adata.obs['celltype'] == 'untreated'].mean(axis=0)\n",
    "\n",
    "# compute the difference in mean intensity between LPS and untreated\n",
    "adata.var['mean_intensity_diff'] = np.abs(adata.var['mean_intensity_LPS'] - adata.var['mean_intensity_untreated'])\n",
    "\n",
    "# sort the proteins by the difference in mean intensity\n",
    "adata.var = adata.var.sort_values('mean_intensity_diff', ascending=False)\n",
    "print(adata.var)\n",
    "\n"
   ]
  },
  {
   "cell_type": "markdown",
   "metadata": {},
   "source": [
    "Without Scanpy"
   ]
  },
  {
   "cell_type": "code",
   "execution_count": null,
   "metadata": {},
   "outputs": [],
   "source": [
    "df_huffmanT = df_huffman.T\n",
    "df_huffmanT.index.name = \"id\""
   ]
  },
  {
   "cell_type": "code",
   "execution_count": null,
   "metadata": {},
   "outputs": [],
   "source": [
    "df_huffmanT\n"
   ]
  },
  {
   "cell_type": "code",
   "execution_count": null,
   "metadata": {},
   "outputs": [],
   "source": [
    "df_huffman_meta"
   ]
  },
  {
   "cell_type": "code",
   "execution_count": null,
   "metadata": {},
   "outputs": [],
   "source": [
    "df_huffmanT[\"cellype\"] = df_huffman_meta[\"celltype\"]"
   ]
  },
  {
   "cell_type": "code",
   "execution_count": null,
   "metadata": {},
   "outputs": [],
   "source": [
    "df_huffmanT"
   ]
  },
  {
   "cell_type": "code",
   "execution_count": null,
   "metadata": {},
   "outputs": [],
   "source": [
    "# print colnames(df_huffmanT)\n",
    "print(df_huffmanT.columns)"
   ]
  },
  {
   "cell_type": "code",
   "execution_count": null,
   "metadata": {},
   "outputs": [],
   "source": [
    "df_huffmanT.T"
   ]
  },
  {
   "cell_type": "code",
   "execution_count": null,
   "metadata": {},
   "outputs": [],
   "source": [
    "# Take the proteins from df_huffmanT.T thta has celltype = LPS\n",
    "df_huffman_M1 = df_huffmanT[df_huffmanT[\"cellype\"] == \"LPS\"]\n",
    "df_huffman_M0 = df_huffmanT[df_huffmanT[\"cellype\"] == \"untreated\"]\n",
    "df_huffman_control = df_huffmanT[df_huffmanT[\"cellype\"] == \"control\"]"
   ]
  },
  {
   "cell_type": "code",
   "execution_count": null,
   "metadata": {},
   "outputs": [],
   "source": [
    "df_huffman"
   ]
  },
  {
   "cell_type": "code",
   "execution_count": null,
   "metadata": {},
   "outputs": [],
   "source": [
    "# plot the distribution of the intenisties of protein \"A2ADY9\" for both, LPS and untreated\n",
    "plt.hist(df_huffman_M0[\"Q64282\"])\n",
    "plt.hist(df_huffman_M1[\"Q64282\"])\n",
    "plt.show()\n"
   ]
  },
  {
   "cell_type": "code",
   "execution_count": null,
   "metadata": {},
   "outputs": [],
   "source": [
    "# load into scanpy the df_huffmanT (use the celltype as obs)\n",
    "\n"
   ]
  },
  {
   "cell_type": "markdown",
   "metadata": {},
   "source": [
    "Checking null values"
   ]
  },
  {
   "cell_type": "code",
   "execution_count": null,
   "metadata": {},
   "outputs": [],
   "source": [
    "# Experiment 1: 2016 Iwata et al.\n",
    "print(\"Proteins with null values in the column ['126/126']:\", df_2016_iwata[\"126/126\"].isnull().sum())\n",
    "print(\"This proteins MUST be removed from the dataset as they should have 1.00\")\n",
    "print(\"\")\n",
    "\n",
    "# Expermient 2: 2022 Pengfei et al.\n",
    "#print(\"Null values \n",
    "\n",
    "# Expermient 3: 2021 Pengfei et al.\n",
    "# print the number of rows with null values in all these 3 columns Abundance Ratio: (M1) / (M0)\tAbundance Ratio: (M2) / (M0)\tAbundance Ratio: (M2) / (M1)\n",
    "print(\"Proteins with null values in the column ['Abundance Ratio: (M1) / (M0)']:\", df_2021_pengfei[\"Abundance Ratio: (M1) / (M0)\"].isnull().sum())\n",
    "print(\"Proteins with null values in the column ['Abundance Ratio: (M2) / (M0)']:\", df_2021_pengfei[\"Abundance Ratio: (M2) / (M0)\"].isnull().sum())\n",
    "print(\"Proteins with null values in the column ['Abundance Ratio: (M2) / (M1)']:\", df_2021_pengfei[\"Abundance Ratio: (M2) / (M1)\"].isnull().sum())\n"
   ]
  },
  {
   "cell_type": "code",
   "execution_count": null,
   "metadata": {},
   "outputs": [],
   "source": [
    "# Create a dataframe with the number of proteins identified in all datasets. and cell types\n",
    "df_grouped = pd.DataFrame({\n",
    "    \"Dataset\": [\"Iwata, H., et al. (2016)\", \"Li, P., et al. (2022)\", \"Li, P., et al. (2021)\"],\n",
    "    \"M0\": [len(df_2016_iwata_M0.index.unique()), len(df_2022_pengfei[df_2022_pengfei[\"Abundances (Grouped): M0\"] > 0].index.unique()), len(df_2021_pengfei[df_2021_pengfei[\"Abundances (Grouped): M0\"] > 0].index.unique())],\n",
    "    \"M1\": [len(df_2016_iwata_M1.index.unique()), len(df_2022_pengfei[df_2022_pengfei[\"Abundances (Grouped): M1\"] > 0].index.unique()), len(df_2021_pengfei[df_2021_pengfei[\"Abundances (Grouped): M1\"] > 0].index.unique())],\n",
    "    \"M2\": [len(df_2016_iwata_M2.index.unique()), len(df_2022_pengfei[df_2022_pengfei[\"Abundances (Grouped): M2\"] > 0].index.unique()), len(df_2021_pengfei[df_2021_pengfei[\"Abundances (Grouped): M2\"] > 0].index.unique())]\n",
    "})"
   ]
  },
  {
   "cell_type": "markdown",
   "metadata": {},
   "source": [
    "Filtering Null values:\n"
   ]
  },
  {
   "cell_type": "code",
   "execution_count": null,
   "metadata": {},
   "outputs": [],
   "source": [
    "\n"
   ]
  },
  {
   "cell_type": "code",
   "execution_count": null,
   "metadata": {},
   "outputs": [],
   "source": [
    "#print(df_2022_pengfei.describe())\n",
    "#df_2022_pengfei"
   ]
  },
  {
   "cell_type": "markdown",
   "metadata": {},
   "source": [
    "Adding new features:"
   ]
  },
  {
   "cell_type": "code",
   "execution_count": null,
   "metadata": {},
   "outputs": [],
   "source": [
    "ABUNDANCE_RATIO_THRESHOLD = 1.5\n",
    "\n",
    "# EXPERIMENT 2: df_2022_pengfei\n",
    "#   Abundance ratio average for M2\n",
    "#   Type, inferred using the abundance ratio\n",
    "groupM2 = ['Abundance Ratio: (M2a) / (M1)', 'Abundance Ratio: (M2b) / (M1)', 'Abundance Ratio: (M2c) / (M1)', 'Abundance Ratio: (M2d) / (M1)']\n",
    "df_2022_pengfei[\"Abundance Ratio: M2 / M1\"] = df_2022_pengfei[groupM2].mean(axis=1)\n",
    "\n",
    "groupM2 = ['Abundance Ratio: (M2a) / (M0)', 'Abundance Ratio: (M2b) / (M0)', 'Abundance Ratio: (M2c) / (M0)', 'Abundance Ratio: (M2d) / (M0)']\n",
    "df_2022_pengfei[\"Abundance Ratio: M2 / M0\"] = df_2022_pengfei[groupM2].mean(axis=1)\n",
    "\n",
    "\"\"\"\n",
    "# Abundance ratio of M1/M0\n",
    "df_2022_pengfei['Abundance Ratio: M1/M0'] = (\n",
    "    (df_2022_pengfei['Abundances (Normalized): F4: Sample, M1'] + \n",
    "     df_2022_pengfei['Abundances (Normalized): F5: Sample, M1'] + \n",
    "     df_2022_pengfei['Abundances (Normalized): F6: Sample, M1']) / 3) / (\n",
    "         (df_2022_pengfei['Abundances (Normalized): F1: Control, M0'] + \n",
    "          df_2022_pengfei['Abundances (Normalized): F2: Control, M0'] + \n",
    "          df_2022_pengfei['Abundances (Normalized): F3: Control, M0']) / 3)\n",
    "\"\"\"\n"
   ]
  },
  {
   "cell_type": "markdown",
   "metadata": {},
   "source": [
    "Boxplots:"
   ]
  },
  {
   "cell_type": "code",
   "execution_count": null,
   "metadata": {},
   "outputs": [],
   "source": [
    "# Experiment 1: Boxplot of abundance ratios\n",
    "plt.figure(figsize=(10, 6))\n",
    "sns.boxplot(data=df_2016_iwata, x=\"Type\", y=\"131/126\")\n",
    "plt.title(\"Abundance Ratios (24h) in 2016 Iwata et al.\")\n",
    "plt.show()\n",
    "\n",
    "# Experiment 2: Boxplot of abundance ratios\n",
    "\"\"\"\n",
    "plt.figure(figsize=(10, 6))\n",
    "sns.boxplot(data=df_2022_pengfei, x=\"Type\", y=\"Abundance Ratio: (M1) / (M0)\")\n",
    "plt.title(\"Abundance Ratios (24h) in 2022 Pengfei et al.\")\n",
    "plt.show()\n",
    "\"\"\"\n",
    "\n",
    "\n"
   ]
  },
  {
   "cell_type": "code",
   "execution_count": null,
   "metadata": {},
   "outputs": [],
   "source": [
    "# Abundance ratios (Experiment 2)\n",
    "df_2022_pengfei.boxplot(column=[\"Abundance Ratio: M2 / M1\", \"Abundance Ratio: M2 / M0\"])\n",
    "plt.show()"
   ]
  },
  {
   "cell_type": "code",
   "execution_count": null,
   "metadata": {},
   "outputs": [],
   "source": [
    "\"\"\"\n",
    "# Dendogram for Experiment 3 (df_2021_pengfei)\n",
    "# Use these columns \"Abundance Ratio: (M1) / (M0)\"\t\"Abundance Ratio: (M2) / (M0)\"\t\"Abundance Ratio: (M2) / (M1)\"00_simple_pipeline\n",
    "import pandas as pd\n",
    "import seaborn as sns\n",
    "import matplotlib.pyplot as plt\n",
    "from scipy.cluster.hierarchy import linkage, dendrogram\n",
    "from scipy.spatial.distance import pdist\n",
    "from sklearn.preprocessing import StandardScaler\n",
    "\n",
    "# Select the columns of interest\n",
    "columns_of_interest = [\"Abundance Ratio: (M1) / (M0)\", \"Abundance Ratio: (M2) / (M0)\", \"Abundance Ratio: (M2) / (M1)\"]\n",
    "data = df_2021_pengfei[columns_of_interest]\n",
    "\n",
    "data\n",
    "# check for missing values\n",
    "print(data.isnull().sum())\n",
    "\n",
    "# replace missign values with 0\n",
    "data = data.fillna(0)\n",
    "\n",
    "print(data.isnull().sum())\n",
    "\n",
    "\n",
    "# Standardize the data\n",
    "scaler = StandardScaler()\n",
    "data_scaled = scaler.fit_transform(data)\n",
    "\n",
    "# Compute linkage matrix for clustering\n",
    "linkage_matrix = linkage(pdist(data_scaled), method='ward')\n",
    "\n",
    "# Plot the dendrogram\n",
    "plt.figure(figsize=(10, 7))\n",
    "dendrogram(linkage_matrix, labels=data.index, leaf_rotation=90)\n",
    "plt.title(\"Dendrogram\")\n",
    "plt.xlabel(\"Samples\")\n",
    "plt.ylabel(\"Distance\")\n",
    "plt.show()\n",
    "\n",
    "# Plot the heatmap with dendrogram ordering\n",
    "sns.clustermap(data_scaled, row_linkage=linkage_matrix, col_cluster=False, cmap=\"viridis\", figsize=(10, 8))\n",
    "plt.title(\"Heatmap with Dendrogram Ordering\")\n",
    "plt.show()\n",
    "\"\"\"\n"
   ]
  },
  {
   "cell_type": "code",
   "execution_count": null,
   "metadata": {},
   "outputs": [],
   "source": [
    "\"\"\"\n",
    "# Aggregated bar plot of number of proteins found in all experiments by cell type\n",
    "df_2016_iwata.groupby(\"Type\").count().plot(kind=\"bar\", y=\"Accession\")\n",
    "df_2022_pengfei.groupby(\"Type\").count().plot(kind=\"bar\", y=\"Accession\")\n",
    "df_2021_pengfei.groupby(\"Type\").count().plot(kind=\"bar\", y=\"Accession\")\n",
    "\n",
    "plt.show()\n",
    "\"\"\""
   ]
  },
  {
   "cell_type": "code",
   "execution_count": null,
   "metadata": {},
   "outputs": [],
   "source": [
    "\"\"\"\n",
    "# Bar plot of the number of proteins found in each dataset (accumulated with M0, M1 and M2 in different colors)\n",
    "num_prot_exp1 = len(df_2016_iwata.index.unique())\n",
    "num_prot_exp2 = len(df_2022_pengfei.index.unique())\n",
    "num_prot_exp3 = len(df_2021_pengfei.index.unique())\n",
    "\n",
    "# Use the column type to count each cell type\n",
    "num_prot_exp1_m0 = len(df_2016_iwata[df_2016_iwata[\"Type\"] == \"M0\"].index.unique())\n",
    "num_prot_exp1_m1 = len(df_2016_iwata[df_2016_iwata[\"Type\"] == \"M1\"].index.unique())\n",
    "num_prot_exp1_m2 = len(df_2016_iwata[df_2016_iwata[\"Type\"] == \"M2\"].index.unique())\n",
    "\n",
    "num_prot_exp2_m0 = len(df_2022_pengfei[df_2022_pengfei[\"Type\"] == \"M0\"].index.unique())\n",
    "num_prot_exp2_m1 = len(df_2022_pengfei[df_2022_pengfei[\"Type\"] == \"M1\"].index.unique())\n",
    "num_prot_exp2_m2 = len(df_2022_pengfei[df_2022_pengfei[\"Type\"] == \"M2\"].index.unique())\n",
    "\n",
    "num_prot_exp3_m0 = len(df_2021_pengfei[df_2021_pengfei[\"Type\"] == \"M0\"].index.unique())\n",
    "num_prot_exp3_m1 = len(df_2021_pengfei[df_2021_pengfei[\"Type\"] == \"M1\"].index.unique())\n",
    "\n",
    "num_prot_exp3_m2 = len(df_2021_pengfei[df_2021_pengfei[\"Type\"] == \"M2\"].index.unique())\n",
    "\n",
    "# Create a bar plot\n",
    "plt.figure(figsize=(10, 5))\n",
    "plt.bar([1, 2, 3], [num_prot_exp1, num_prot_exp2, num_prot_exp3], color=\"gray\", label=\"All\")\n",
    "plt.bar([1, 2, 3], [num_prot_exp1_m0, num_prot_exp2_m0, num_prot_exp3_m0], color=\"blue\", label=\"M0\")\n",
    "plt.bar([1, 2, 3], [num_prot_exp1_m1, num_prot_exp2_m1, num_prot_exp3_m1], color=\"red\", label=\"M1\")\n",
    "plt.bar([1, 2, 3], [num_prot_exp1_m2, num_prot_exp2_m2, num_prot_exp3_m2], color=\"green\", label=\"M2\")\n",
    "\n",
    "plt.xticks([1, 2, 3], [\"2016 Iwata et al.\", \"2022 Pengfei et al.\", \"2021 Pengfei et al.\"])\n",
    "plt.ylabel(\"Number of proteins\")\n",
    "plt.legend()\n",
    "plt.title(\"Number of proteins found in each dataset\")\n",
    "plt.show()\n",
    "\"\"\""
   ]
  },
  {
   "cell_type": "code",
   "execution_count": null,
   "metadata": {},
   "outputs": [],
   "source": [
    "# Venn diagram\n",
    "exp1_proteinsM0 = set(df_2016_iwata_M0.index)\n",
    "exp1_proteinsM1 = set(df_2016_iwata_M1.index)\n",
    "exp1_proteinsM2 = set(df_2016_iwata_M2.index)\n",
    "\n",
    "venn3([exp1_proteinsM0, exp1_proteinsM1, exp1_proteinsM2], set_labels = ('M0', 'M1', 'M2'), set_colors=('mediumaquamarine', 'slategrey', 'gold'))\n",
    "plt.title(\"THP-1 cells (Iwata, H., et al. (2016))\")\n",
    "plt.show()"
   ]
  },
  {
   "cell_type": "markdown",
   "metadata": {},
   "source": [
    "### TODO: Check how they were stimulated and remove INF-y and IL-4 if needed\n",
    "\n",
    "### TODO: Experiment 3Use columns like \"Found in Sample Group: M2\""
   ]
  },
  {
   "cell_type": "code",
   "execution_count": null,
   "metadata": {},
   "outputs": [],
   "source": [
    "# Venn diagram for df_2022_shisheng (M0, M1 and M2 as a whole)\n",
    "MIN_ABUNDANCE = 70\n",
    "\n",
    "exp2_proteinsM0 = set(df_2022_pengfei[df_2022_pengfei[\"Abundances (Grouped): M0\"] > MIN_ABUNDANCE].index)\n",
    "exp2_proteinsM1 = set(df_2022_pengfei[df_2022_pengfei[\"Abundances (Grouped): M1\"] > MIN_ABUNDANCE].index)\n",
    "exp2_proteinsM2a = set(df_2022_pengfei[df_2022_pengfei[\"Abundances (Grouped): M2a\"] > MIN_ABUNDANCE].index)\n",
    "exp2_proteinsM2b = set(df_2022_pengfei[df_2022_pengfei[\"Abundances (Grouped): M2b\"] > MIN_ABUNDANCE].index)\n",
    "exp2_proteinsM2c = set(df_2022_pengfei[df_2022_pengfei[\"Abundances (Grouped): M2c\"] > MIN_ABUNDANCE].index)\n",
    "exp2_proteinsM2d = set(df_2022_pengfei[df_2022_pengfei[\"Abundances (Grouped): M2d\"] > MIN_ABUNDANCE].index)\n",
    "\n",
    "exp2_proteinsM2 = exp2_proteinsM2a.union(exp2_proteinsM2b).union(exp2_proteinsM2c).union(exp2_proteinsM2d)\n",
    "\n",
    "# Venn diagram\n",
    "plt.title(\"THP-1 cells (Li, P., et al. (2022))\")\n",
    "venn3([exp2_proteinsM0, exp2_proteinsM1, exp2_proteinsM2], set_labels = ('M0', 'M1', 'M2'), set_colors=('mediumaquamarine', 'slategrey', 'gold'))\n",
    "plt.show()"
   ]
  },
  {
   "cell_type": "code",
   "execution_count": null,
   "metadata": {},
   "outputs": [],
   "source": [
    "\n",
    "\"\"\"\n",
    "exp3_proteinsM0 = set(df_2021_pengfei[df_2021_pengfei[\"Abundances (Grouped): M0\"] > MIN_ABUNDANCE].index)\n",
    "exp3_proteinsM1 = set(df_2021_pengfei[df_2021_pengfei[\"Abundances (Grouped): M1\"] > MIN_ABUNDANCE].index)\n",
    "exp3_proteinsM2 = set(df_2021_pengfei[df_2021_pengfei[\"Abundances (Grouped): M2\"] > MIN_ABUNDANCE].index)\n",
    "\"\"\"\n",
    "exp3_proteinsM0 = set(df_2021_pengfei[df_2021_pengfei[\"Found in Sample Group: M0\"] != \"Not Found\"].index)\n",
    "exp3_proteinsM1 = set(df_2021_pengfei[df_2021_pengfei[\"Found in Sample Group: M1\"] != \"Not Found\"].index)\n",
    "exp3_proteinsM2 = set(df_2021_pengfei[df_2021_pengfei[\"Found in Sample Group: M2\"] != \"Not Found\"].index)\n",
    "\n",
    "# Venn diagram\n",
    "plt.title(\"THP-1 cells (Li, P., et al. (2021))\")\n",
    "venn3([exp3_proteinsM0, exp3_proteinsM1, exp3_proteinsM2], set_labels = ('M0', 'M1', 'M2'), set_colors=('mediumaquamarine', 'slategrey', 'gold'))\n",
    "plt.show()\n",
    "\n",
    "#print (df_2021_pengfei[df_2021_pengfei[\"Found in Sample Group: M1\"] != \"Not Found\"].describe())"
   ]
  },
  {
   "cell_type": "markdown",
   "metadata": {},
   "source": [
    "### Proteins found in all the datasets for each of the states\n",
    "\n",
    "**M0**\n"
   ]
  },
  {
   "cell_type": "code",
   "execution_count": null,
   "metadata": {},
   "outputs": [],
   "source": [
    "exp1_m0_only = exp1_proteinsM0 - exp2_proteinsM0 - exp3_proteinsM0\n",
    "exp2_m0_only = exp2_proteinsM0 - exp1_proteinsM0 - exp3_proteinsM0\n",
    "exp3_m0_only = exp3_proteinsM0 - exp1_proteinsM0 - exp2_proteinsM0\n",
    "\n",
    "common_proteins = exp1_proteinsM0.intersection(exp2_proteinsM0).intersection(exp3_proteinsM0)\n",
    "\n",
    "print(\"Common proteins in M0: \", len(common_proteins))\n",
    "print(list(common_proteins)[:10])"
   ]
  },
  {
   "cell_type": "markdown",
   "metadata": {},
   "source": [
    "**M1**"
   ]
  },
  {
   "cell_type": "code",
   "execution_count": null,
   "metadata": {},
   "outputs": [],
   "source": [
    "exp1_m1_only = exp1_proteinsM1 - exp1_proteinsM0 - exp1_proteinsM2\n",
    "exp2_m1_only = exp2_proteinsM1 - exp2_proteinsM0 - exp2_proteinsM2\n",
    "exp3_m1_only = exp3_proteinsM1 - exp3_proteinsM0 - exp3_proteinsM2\n",
    "\n",
    "# Common proteins\n",
    "common_proteins = exp1_m1_only.intersection(exp2_m1_only).intersection(exp3_m1_only)\n",
    "print(\"Common proteins in M1: \", len(common_proteins))\n",
    "print(common_proteins)\n",
    "\n",
    "\n"
   ]
  },
  {
   "cell_type": "markdown",
   "metadata": {},
   "source": [
    "**M2**"
   ]
  },
  {
   "cell_type": "code",
   "execution_count": null,
   "metadata": {},
   "outputs": [],
   "source": [
    "exp1_m2_only = exp1_proteinsM2 - exp1_proteinsM0 - exp1_proteinsM1\n",
    "exp2_m2_only = exp2_proteinsM2 - exp2_proteinsM0 - exp2_proteinsM1\n",
    "exp3_m2_only = exp3_proteinsM2 - exp3_proteinsM0 - exp3_proteinsM1\n",
    "\n",
    "# Common proteins\n",
    "common_proteins = exp1_m2_only.intersection(exp2_m2_only).intersection(exp3_m2_only)\n",
    "print(\"Common proteins in M2: \", len(common_proteins))\n",
    "print(common_proteins)\n"
   ]
  },
  {
   "cell_type": "markdown",
   "metadata": {},
   "source": [
    "### Proteins with high abudance ratio in M1 vs M0\n",
    "\n"
   ]
  },
  {
   "cell_type": "code",
   "execution_count": null,
   "metadata": {},
   "outputs": [],
   "source": [
    "FOLD_CHANGE_THRESHOLD = 1.5"
   ]
  },
  {
   "cell_type": "code",
   "execution_count": null,
   "metadata": {},
   "outputs": [],
   "source": [
    "# Get the proteins with high abundance in M1 vs M0\n",
    "exp1_m1_vs_m0 = \n"
   ]
  },
  {
   "cell_type": "code",
   "execution_count": null,
   "metadata": {},
   "outputs": [],
   "source": []
  },
  {
   "cell_type": "code",
   "execution_count": null,
   "metadata": {},
   "outputs": [],
   "source": []
  },
  {
   "cell_type": "code",
   "execution_count": null,
   "metadata": {},
   "outputs": [],
   "source": []
  },
  {
   "cell_type": "code",
   "execution_count": null,
   "metadata": {},
   "outputs": [],
   "source": [
    "# Take the proteins with higher variance between M1 and M2\n",
    "# Calculate the variance for each protein at point 131/126\n",
    "#dataM1[\"VarianceVsM2\"] = dataM1[\"131/126\"] - dataM2[\"131/126\"]\n",
    "dataM1[\"VarianceVsM2\"] = np.log10(dataM1[\"131/126\"]) - np.log10(dataM2[\"131/126\"])\n",
    "dataM1[\"VarianceVsM2\"] = dataM1[\"VarianceVsM2\"]\n",
    "\n",
    "# Sort the proteins by variance\n",
    "dataM1 = dataM1.sort_values(by=\"VarianceVsM2\", ascending=False)\n",
    "\n",
    "# Take the top 10 proteins\n",
    "top_proteins = dataM1.head(12)\n",
    "\n",
    "# Print the top proteins\n",
    "print(\"Top proteins with higher variance between M1 and M2\")\n",
    "print(top_proteins.index)\n",
    "print(top_proteins[\"VarianceVsM2\"])\n",
    "\n",
    "\n"
   ]
  },
  {
   "cell_type": "code",
   "execution_count": null,
   "metadata": {},
   "outputs": [],
   "source": []
  },
  {
   "cell_type": "code",
   "execution_count": null,
   "metadata": {},
   "outputs": [],
   "source": [
    "# Load count table\n",
    "data_src = \"./data/processed/2022_Shisheng SUN_35557041/PD_Globalproteomics_2022.xlsx\"\n",
    "\n",
    "# Load the data (index is the second column)\n",
    "df = pd.read_excel(data_src, sheet_name=\"Proteins\", index_col=2)\n",
    "\n",
    "# Print the columns\n",
    "print(df.columns)\n"
   ]
  },
  {
   "cell_type": "markdown",
   "metadata": {},
   "source": [
    "### Matrix format\n",
    "\n",
    "* **Protein FDR Confidence: Combined**: Reflects the level of confidence in the identification of each protein\n",
    "* **Master**: A unique identifier assigned to each protein group.\n",
    "* **Accession**: A database accession number (e.g., UniProt) for the protein.\n",
    "* **Description**: A textual description of the protein's function and characteristics.\n",
    "* **Sum PEP Score**: The sum of peptide-spectrum match (PSM) scores, indicating overall confidence in protein identification.\n",
    "* **# Peptides**: The number of peptides identified for the protein.\n",
    "* **# PSMs**: The total number of PSMs for the protein.\n",
    "* **# Protein Unique Peptides**: The number of peptides uniquely assigned to this protein.\n",
    "* **# Unique Peptides**: The total number of unique peptides identified.\n",
    "* **# AAs**: The number of amino acids in the protein sequence.\n",
    "* **MW [kDa]**: The molecular weight of the protein in kilodaltons.\n",
    "* **Score Sequest HT: Sequest HT**: The score assigned by the Sequest HT search engine for the protein identification.\n",
    "* **# Razor Peptides**: The number of peptides uniquely assigned to this protein group, helping to distinguish it from other similar proteins.\n",
    "\n",
    "Quantitative Proteomics Data\n",
    "\n",
    "* **Abundance Ratio**: These columns represent the relative abundance of a protein in different experimental conditions (e.g., M0, M1, M2a, M2b, M2c, M2d). The ratios are calculated by dividing the abundance of a protein in one condition by the abundance in another condition.\n",
    "* **Abundances (Grouped)**: These columns represent the absolute or normalized abundance of a protein in each experimental group.\n",
    "* **Abundances (Normalized)**: These columns represent the normalized abundance of a protein in each individual sample (F1-F18). Normalization is a process to account for experimental variability and ensure accurate comparison of protein abundance across samples.\n",
    "\n",
    "Additional Information\n",
    "\n",
    "* **Modifications**: This column indicates any post-translational modifications (PTMs) identified on the protein, such as phosphorylation or acetylation."
   ]
  },
  {
   "cell_type": "markdown",
   "metadata": {},
   "source": [
    "---\n",
    "\n",
    "\n",
    "**Filter the low quality data**\n",
    "\n",
    "Criteria:\n",
    "* Peptides at least 2\n",
    "* Confidence level = High"
   ]
  },
  {
   "cell_type": "code",
   "execution_count": null,
   "metadata": {},
   "outputs": [],
   "source": [
    "# Print number of initial rows\n",
    "print(\"Initial number of rows:\", len(df))\n",
    "\n",
    "# Drop rows with \"Protein FDR Confidence: Combined\" = \"Low\"\n",
    "df = df[df[\"Protein FDR Confidence: Combined\"] != \"Low\"]\n",
    "\n",
    "# Drop rows with # Peptides < 2\n",
    "df = df[df[\"# Peptides\"] >= 2]\n",
    "\n",
    "# Print number of rows after filtering\n",
    "print(\"Number of rows after filtering:\", len(df))"
   ]
  },
  {
   "cell_type": "markdown",
   "metadata": {},
   "source": [
    "---\n",
    "\n",
    "### Exploratory Data Analysis\n",
    "\n",
    "* Density plot of Log2FC\n",
    "* Log5 PSMs / Log2FC\n"
   ]
  },
  {
   "cell_type": "code",
   "execution_count": null,
   "metadata": {},
   "outputs": [],
   "source": [
    "# Compute the average of Abundance ratios for M2\n",
    "groupM2 = ['Abundance Ratio: (M2a) / (M1)', 'Abundance Ratio: (M2b) / (M1)', 'Abundance Ratio: (M2c) / (M1)', 'Abundance Ratio: (M2d) / (M1)']\n",
    "df[\"Abundance Ratio: M2 / M1\"] = df[groupM2].mean(axis=1)\n",
    "\n",
    "# Compute the Log2FC of the abundance ratios\n",
    "df[\"Log2FC\"] = np.log2(df[\"Abundance Ratio: M2 / M1\"])\n",
    "\n",
    "\n"
   ]
  },
  {
   "cell_type": "code",
   "execution_count": null,
   "metadata": {},
   "outputs": [],
   "source": [
    "LOG2FC_CUTOFF = 2\n",
    "PSM_CUTOFF = 50\n",
    "\n",
    "plt.figure(figsize=(10, 8))\n",
    "\n",
    "# Add lines for Log2FC cutoffs (adjust as needed for significant fold changes)\n",
    "plt.axvline(x=LOG2FC_CUTOFF, color='grey', linestyle='--')\n",
    "plt.axvline(x=-LOG2FC_CUTOFF, color='grey', linestyle='--')\n",
    "\n",
    "plt.axhline(y=PSM_CUTOFF, color='grey', linestyle='--')\n",
    "\n",
    "plt.xlabel(\"Log2 Fold Change\")\n",
    "plt.ylabel(\"Number of PSMs\")\n",
    "plt.title(\"Protein Abundance Based on Log2 Fold Change and PSMs\")\n",
    "plt.yscale('log')  # Optional: Log scale for PSMs if counts vary widely\n",
    "\n",
    "# Number of proteins with significant fold changes and PSMs\n",
    "n_sig = df[(df['Log2FC'] > LOG2FC_CUTOFF) & (df['# PSMs'] > PSM_CUTOFF)].shape[0]\n",
    "plt.text(3.5, 450, f'{n_sig}', fontsize=14)\n",
    "\n",
    "# Number of proteins with significant fold changes and PSMs\n",
    "n_sig = df[(df['Log2FC'] < -LOG2FC_CUTOFF) & (df['# PSMs'] > PSM_CUTOFF)].shape[0]\n",
    "plt.text(-5, 450, f'{n_sig}', fontsize=14)\n",
    "\n",
    "\n",
    "# Plot significant proteins\n",
    "sig = df[(df['Log2FC'] < -LOG2FC_CUTOFF) & (df['# PSMs'] > PSM_CUTOFF)]\n",
    "sns.scatterplot(\n",
    "    data=sig,\n",
    "    x='Log2FC',\n",
    "    y='# PSMs',\n",
    "    color='red',\n",
    "    size='# PSMs',\n",
    "    alpha=0.7\n",
    ")\n",
    "\n",
    "sig = df[(df['Log2FC'] > LOG2FC_CUTOFF) & (df['# PSMs'] > PSM_CUTOFF)]\n",
    "sns.scatterplot(\n",
    "    data=sig,\n",
    "    x='Log2FC',\n",
    "    y='# PSMs',\n",
    "    color='red',\n",
    "    size='# PSMs',\n",
    "    alpha=0.7\n",
    ")\n",
    "\n",
    "# Plot all other proteins in grey\n",
    "sns.scatterplot(\n",
    "    data=df[~((df['Log2FC'] > LOG2FC_CUTOFF) & (df['# PSMs'] > PSM_CUTOFF)) & ~((df['Log2FC'] < -LOG2FC_CUTOFF) & (df['# PSMs'] > PSM_CUTOFF))],\n",
    "    x='Log2FC',\n",
    "    y='# PSMs',\n",
    "    color='grey',\n",
    "    size='# PSMs',\n",
    "    alpha=0.7\n",
    ")\n",
    "\n",
    "plt.legend().remove()\n",
    "plt.show()\n"
   ]
  },
  {
   "cell_type": "markdown",
   "metadata": {},
   "source": [
    "---\n",
    "### Analyze the proteins found only in one of the two groups (M1 and M2)"
   ]
  },
  {
   "cell_type": "code",
   "execution_count": null,
   "metadata": {},
   "outputs": [],
   "source": [
    "# Define experimental groups\n",
    "group1 = ['Abundances (Grouped): M1']\n",
    "group2 = ['Abundances (Grouped): M2a', 'Abundances (Grouped): M2b', 'Abundances (Grouped): M2c', 'Abundances (Grouped): M2d']\n",
    "\n",
    "# Compute the mean of group 2\n",
    "df['Abundances (Grouped): M2'] = df[group2].mean(axis=1)"
   ]
  },
  {
   "cell_type": "markdown",
   "metadata": {},
   "source": [
    "Next step is to plot those proteins that are more abundant in M1 vs M2"
   ]
  },
  {
   "cell_type": "code",
   "execution_count": null,
   "metadata": {},
   "outputs": [],
   "source": [
    "# Take the 20 more abundant proteins in M1 & M2\n",
    "top_proteins_m1 = df.sort_values(by=\"Abundances (Grouped): M1\", ascending=False).head(20)\n",
    "top_proteins_m2 = df.sort_values(by=\"Abundances (Grouped): M2\", ascending=False).head(20)\n",
    "\n",
    "# Venn diagram to see the overlap between the two considering the index value\n",
    "venn2([set(top_proteins_m1.index), set(top_proteins_m2.index)], set_labels=('M1', 'M2'))\n",
    "plt.title('Top 20 proteins in M1 and M2')\n",
    "plt.show()\n"
   ]
  },
  {
   "cell_type": "markdown",
   "metadata": {},
   "source": [
    "The result are groups of 20 proteins that do not overlap, which means that the top 20 more abundant proteins are only present in one of the two groups"
   ]
  },
  {
   "cell_type": "code",
   "execution_count": null,
   "metadata": {},
   "outputs": [],
   "source": [
    "# Now we need to analyze that are present in both groups and have a significant change in abundance.\n",
    "# We first need to remove the rows that are not present in both groups\n",
    "df_both = df.dropna(subset=group1 + group2).copy()\n",
    "\n",
    "# Proteins with the highest abundance ratio in M2 vs M1\n",
    "groupM2 = ['Abundance Ratio: (M2a) / (M1)', 'Abundance Ratio: (M2b) / (M1)', 'Abundance Ratio: (M2c) / (M1)', 'Abundance Ratio: (M2d) / (M1)']\n",
    "df_both[\"Abundance Ratio: M2 / M1\"] = df_both[groupM2].mean(axis=1)"
   ]
  },
  {
   "cell_type": "code",
   "execution_count": null,
   "metadata": {},
   "outputs": [],
   "source": [
    "# Print the Accession of the top 20 proteins with the highest abundance ratio\n",
    "topUP_proteins_ratio = df_both.sort_values(by=\"Abundance Ratio: M2 / M1\", ascending=False).head(20)\n",
    "topDOWN_proteins_ratio = df_both.sort_values(by=\"Abundance Ratio: M2 / M1\", ascending=True).head(20)\n",
    "\n",
    "# Print the Abundance Ratio: M2 / M1 of the top 20 proteins\n",
    "print(topUP_proteins_ratio[\"Abundance Ratio: M2 / M1\"])\n",
    "print(topDOWN_proteins_ratio[\"Abundance Ratio: M2 / M1\"])"
   ]
  },
  {
   "cell_type": "markdown",
   "metadata": {},
   "source": [
    "Now I want to comput the log2 fold change and p-values to analyze those up/down regulated proteins (M1 vs M2)"
   ]
  },
  {
   "cell_type": "code",
   "execution_count": null,
   "metadata": {},
   "outputs": [],
   "source": [
    "\n",
    "# Convert columns to numeric, handling potential errors\n",
    "for col in group1 + group2:\n",
    "    df[col] = pd.to_numeric(df[col], errors='coerce')\n",
    "\n",
    "\n",
    "# Calculate log2 fold change and p-values\n",
    "df['log2FC'] = df[group1].mean(axis=1) - df[group2].mean(axis=1)\n",
    "print(df['log2FC'].describe())\n",
    "\n",
    "# Drop missing values for log2FC\n",
    "df = df.dropna(subset=['log2FC'])\n",
    "\n",
    "# Check missing values for log2FC\n",
    "print(df['log2FC'].isnull().sum())\n",
    "\n",
    "df['p_value'] = df.apply(lambda row: ttest_ind(row[group1], row[group2]).pvalue, axis=1)\n",
    "\n",
    "# Adjust p-values for multiple testing (e.g., Bonferroni correction)\n",
    "df['adj_p_value'] = multipletests(df['p_value'], alpha=0.05, method='bonferroni')[1]\n",
    "\n",
    "# Filter for significant DEPs\n",
    "sig_deps = df[df['adj_p_value'] < PVAL_THRESHOLD]\n",
    "\n",
    "# Visualize results (e.g., volcano plot)\n",
    "import matplotlib.pyplot as plt\n",
    "import seaborn as sns\n",
    "\n",
    "sns.scatterplot(data=sig_deps, x='log2FC', y='-log10(adj_p_value)', hue='adj_p_value < PVAL_THRESHOLD')\n",
    "plt.title('Volcano Plot')\n",
    "plt.xlabel('log2 Fold Change')\n",
    "plt.ylabel('-log10(Adjusted p-value)')\n",
    "plt.show()\n",
    "\n",
    "# Further analysis and visualization\n",
    "# - Cluster analysis (e.g., hierarchical clustering, PCA)\n",
    "# - Functional enrichment analysis (e.g., Gene Ontology, KEGG pathway analysis)\n",
    "# - Protein-protein interaction network analysis"
   ]
  },
  {
   "cell_type": "markdown",
   "metadata": {},
   "source": [
    "As observed in the previous diagram, most proteins identified in single-cell experiments are also present in bulk samples. However, some proteins are exclusively detected in either bulk or single-cell experiments. Here are some reasons for these discrepancies:<br>\n",
    "* **Sensitivity:** Bulk proteomics often offers higher sensitivity, enabling the identification of low-abundance proteins that single-cell proteomics (SCP) might miss due to the smaller sample size. However, SCP provides higher resolution, allowing the detection of rare proteins.\n",
    "\n",
    "* **Number of cells included in experiments:** Bulk experiments analyze a large number of cells together, while SCP examines individual cells. This difference in population size can lead to variations in the detected proteins.\n",
    "\n",
    "* **Heterogeneity:** SCP can identify proteins that are present only in specific cells within a population. In contrast, bulk experiments average the signal from many cells, potentially masking these proteins.\n",
    "\n",
    "* **Post-Translational Modifications (PTMs):** SCP can capture PTMs that may be missed in bulk experiments, as these modifications might not be uniformly distributed across the entire cell population.\n",
    "\n",
    "* **Technical variability:** The field of proteomics is rapidly evolving, with continuous improvements in methods and technologies. Variations in sample preparation and processing can significantly impact the final results, contributing to differences in protein identification between bulk and single-cell experiments."
   ]
  },
  {
   "cell_type": "code",
   "execution_count": null,
   "metadata": {},
   "outputs": [],
   "source": [
    "# Heatmap of the top 100 proteins found in columns of group1 + group2. Use the group1 and group2 variables to get the values for each group.\n",
    "top_proteinsM1 = df.sort_values(by=\"Abundances (Grouped): M1\", ascending=False).head(100)\n",
    "top_proteinsM2 = df.sort_values(by=\"Abundances (Grouped): M2\", ascending=False).head(100)\n",
    "\n",
    "# Merge the two dataframes\n",
    "top_proteins_df = pd.merge(top_proteinsM1, top_proteinsM2, on=\"Accession\")\n",
    "\n",
    "print(top_proteins_df)\n",
    "# Keep only the columns with the abundances and the accession\n",
    "top_proteins_df = top_proteins_df[[\"Accession\", \"Abundances (Grouped): M1_x\", \"Abundances (grouped): M2_y\"]]\n",
    "\n",
    "# Normalize the data\n",
    "top_proteins_df = top_proteins_df.div(top_proteins_df.sum(axis=1), axis=0)\n",
    "\n",
    "print(top_proteins_df.head())\n",
    "\n",
    "# Plot the heatmap\n",
    "sns.heatmap(top_proteins_df, cmap=\"viridis\")\n",
    "plt.title('Top 100 proteins in M1 and M2')\n",
    "plt.show()\n",
    "\n",
    "\n",
    "\n",
    "\n",
    "\n"
   ]
  },
  {
   "cell_type": "markdown",
   "metadata": {},
   "source": []
  },
  {
   "cell_type": "code",
   "execution_count": null,
   "metadata": {},
   "outputs": [],
   "source": [
    "if TRANSLATE_PROTEIN_ID:\n",
    "    # Convert proteins to gene names\n",
    "    unipcl = UniprotClient()\n",
    "\n",
    "    \n",
    "    # Get the gene names (the protein names are the index)\n",
    "    gene_names = unipcl.batch_translate_protein_ids(dataM1.index)\n",
    "    print(gene_names)\n",
    "\n",
    "    # Add the gene names to the data as another column\n",
    "    dataM1['Gene'] = gene_names\n",
    "    \n"
   ]
  },
  {
   "cell_type": "markdown",
   "metadata": {},
   "source": [
    "---"
   ]
  },
  {
   "cell_type": "code",
   "execution_count": null,
   "metadata": {},
   "outputs": [],
   "source": [
    "# Create a figure with subplots\n",
    "fig, axs = plt.subplots(1, 2, figsize=(12, 6))\n",
    "\n",
    "# Plot violin plot for M1\n",
    "sns.violinplot(data=dataM1.select_dtypes(include=[np.number]), ax=axs[0])\n",
    "axs[0].set_title(\"VM1\")\n",
    "axs[0].set_xlabel(\"Variables\")\n",
    "axs[0].set_ylabel(\"Values\")\n",
    "\n",
    "# Plot violin plot for M2\n",
    "sns.violinplot(data=dataM2.select_dtypes(include=[np.number]), ax=axs[1])\n",
    "axs[1].set_title(\"M2\")\n",
    "axs[1].set_xlabel(\"Variables\")\n",
    "axs[1].set_ylabel(\"Values\")\n",
    "\n",
    "plt.tight_layout()\n",
    "plt.show()"
   ]
  },
  {
   "cell_type": "code",
   "execution_count": null,
   "metadata": {},
   "outputs": [],
   "source": [
    "# Describe the data\n",
    "print(\"M1\")\n",
    "print(dataM1.describe())\n",
    "\n",
    "print(\"M2\")\n",
    "print(dataM2.describe())"
   ]
  },
  {
   "cell_type": "code",
   "execution_count": null,
   "metadata": {},
   "outputs": [],
   "source": [
    "\n",
    "# M1\n",
    "fig, axs = plt.subplots(2, 3)\n",
    "fig.set_size_inches(16, 7)\n",
    "fig.suptitle('M1')\n",
    "sns.boxplot(y=dataM1[\"Score\"], ax=axs[0, 0])\n",
    "sns.boxplot(y=dataM1[\"Coverage\"], ax=axs[0, 1])\n",
    "sns.boxplot(y=dataM1[\"# Proteins\"], ax=axs[0, 2])\n",
    "sns.boxplot(y=dataM1[\"# Unique Peptides\"], ax=axs[1, 0])\n",
    "sns.boxplot(y=dataM1[\"# Peptides\"], ax=axs[1, 1])\n",
    "sns.boxplot(y=dataM1[\"# PSMs\"], ax=axs[1, 2])\n",
    "plt.tight_layout()\n",
    "plt.show()\n",
    "\n",
    "# M2\n",
    "fig, axs = plt.subplots(2, 3)\n",
    "fig.set_size_inches(16, 7)\n",
    "fig.suptitle('M2')\n",
    "sns.boxplot(y=dataM2[\"Score\"], ax=axs[0, 0])\n",
    "sns.boxplot(y=dataM2[\"Coverage\"], ax=axs[0, 1])\n",
    "sns.boxplot(y=dataM2[\"# Proteins\"], ax=axs[0, 2])\n",
    "sns.boxplot(y=dataM2[\"# Unique Peptides\"], ax=axs[1, 0])\n",
    "sns.boxplot(y=dataM2[\"# Peptides\"], ax=axs[1, 1])\n",
    "sns.boxplot(y=dataM2[\"# PSMs\"], ax=axs[1, 2])\n",
    "plt.tight_layout()\n",
    "plt.show()"
   ]
  },
  {
   "cell_type": "code",
   "execution_count": null,
   "metadata": {},
   "outputs": [],
   "source": [
    "PEPTIDE_THRESHOLD = 2\n",
    "\n",
    "# Print the number of proteins with less than PEPTIDE_THRESHOLD peptides\n",
    "print(f\"Number of proteins with less than {PEPTIDE_THRESHOLD} peptides in M1: {dataM1[dataM1['# Peptides'] < PEPTIDE_THRESHOLD].shape[0]}\")\n",
    "print(f\"Number of proteins with less than {PEPTIDE_THRESHOLD} peptides in M2: {dataM2[dataM2['# Peptides'] < PEPTIDE_THRESHOLD].shape[0]}\")\n",
    "\n",
    "# Filter out data with less than 2 peptides\n",
    "dataM1 = dataM1[dataM1[\"# Peptides\"] >= PEPTIDE_THRESHOLD]\n",
    "dataM2 = dataM2[dataM2[\"# Peptides\"] >= PEPTIDE_THRESHOLD]"
   ]
  },
  {
   "cell_type": "code",
   "execution_count": null,
   "metadata": {},
   "outputs": [],
   "source": [
    "# Bottom limit for SCORE in percentage\n",
    "SCORE_PCT_THRESHOLD = 25\n",
    "\n",
    "fig, axs = plt.subplots(1, 2, figsize=(12, 6))\n",
    "\n",
    "# Plot dataM1\n",
    "sns.histplot(dataM1['Score'], bins=50, log_scale=True, ax=axs[0])\n",
    "m1_score_threshold = np.percentile(dataM1['Score'], SCORE_PCT_THRESHOLD)\n",
    "axs[0].set_title(\"Distribution of scores (M1)\")\n",
    "axs[0].set_xlabel(\"Score\")\n",
    "axs[0].set_ylabel(\"Frequency\")\n",
    "axs[0].axvline(m1_score_threshold, color='red')\n",
    "\n",
    "# Plot dataM2\n",
    "sns.histplot(dataM2['Score'], bins=50, log_scale=True, ax=axs[1])\n",
    "m2_score_threshold = np.percentile(dataM2['Score'], SCORE_PCT_THRESHOLD)\n",
    "axs[1].set_title(\"Distribution of scores (M2)\")\n",
    "axs[1].set_xlabel(\"Score\")\n",
    "axs[1].set_ylabel(\"Frequency\")\n",
    "axs[1].axvline(m2_score_threshold, color='red')\n",
    "\n",
    "plt.tight_layout()\n",
    "plt.show()\n",
    "\n",
    "\n",
    "# Percentage of proteins with a score higher than the threshold\n",
    "n_proteins = dataM1.shape[0]\n",
    "n_proteins_above_threshold = dataM1[dataM1['Score'] >= m1_score_threshold].shape[0]\n",
    "print(f\"%Proteins (Score >= {m1_score_threshold}) (M1):  {n_proteins_above_threshold/n_proteins*100:.2f}%\")\n",
    "\n",
    "n_proteins = dataM2.shape[0]\n",
    "n_proteins_above_threshold = dataM2[dataM2['Score'] >= m2_score_threshold].shape[0]\n",
    "print(f\"%Proteins (Score >= {m2_score_threshold}) (M2):  {n_proteins_above_threshold/n_proteins*100:.2f}%\")\n"
   ]
  },
  {
   "cell_type": "code",
   "execution_count": null,
   "metadata": {},
   "outputs": [],
   "source": [
    "# Bottom limit for # PSMs in percentage\n",
    "PSM_PCT_THRESHOLD = 10\n",
    "\n",
    "# Plot the distribution of scores and # PSMs for both dataM1 and dataM2\n",
    "fig, axs = plt.subplots(1, 2, figsize=(12, 6))\n",
    "\n",
    "# Plot dataM1 # PSMs\n",
    "sns.histplot(dataM1['# PSMs'], bins=50, log_scale=True, ax=axs[0])\n",
    "m1_psm_threshold = np.percentile(dataM1['# PSMs'], PSM_PCT_THRESHOLD)\n",
    "axs[0].set_title(\"Distribution of # PSMs (M1)\")\n",
    "axs[0].set_xlabel(\"# PSMs\")\n",
    "axs[0].set_ylabel(\"Frequency\")\n",
    "axs[0].axvline(m1_psm_threshold, color='red')\n",
    "\n",
    "# Plot dataM2 # PSMs\n",
    "sns.histplot(dataM2['# PSMs'], bins=50, log_scale=True, ax=axs[1])\n",
    "m2_psm_threshold = np.percentile(dataM2['# PSMs'], PSM_PCT_THRESHOLD)\n",
    "axs[1].set_title(\"Distribution of # PSMs (M2)\")\n",
    "axs[1].set_xlabel(\"# PSMs\")\n",
    "axs[1].set_ylabel(\"Frequency\")\n",
    "axs[1].axvline(m2_psm_threshold, color='red')\n",
    "\n",
    "plt.tight_layout()\n",
    "plt.show()\n",
    "\n",
    "\n",
    "# Percentage of proteins with a score higher than the threshold for both dataM1 and dataM2\n",
    "n_proteins = dataM1.shape[0]\n",
    "n_proteins_above_threshold = dataM1[dataM1['# PSMs'] >= m1_psm_threshold].shape[0]\n",
    "print(f\"%Proteins (# PSMs >= {m1_psm_threshold}) (M1):  {n_proteins_above_threshold/n_proteins*100:.2f}%\")\n",
    "\n",
    "n_proteins = dataM2.shape[0]\n",
    "n_proteins_above_threshold = dataM2[dataM2['# PSMs'] >= m2_psm_threshold].shape[0]\n",
    "print(f\"%Proteins (# PSMs >= {m2_psm_threshold}) (M2):  {n_proteins_above_threshold/n_proteins*100:.2f}%\")\n",
    "\n",
    "\n"
   ]
  },
  {
   "cell_type": "code",
   "execution_count": null,
   "metadata": {},
   "outputs": [],
   "source": [
    "\n",
    "# Example dataset (replace with your data)\n",
    "data = dataM1.drop(columns=['Description'])\n",
    "\n",
    "# Compute pairwise correlations\n",
    "correlations = data.corr().abs()  # Absolute correlation to avoid negative values\n",
    "\n",
    "# Create a custom gradient from red to green\n",
    "cmap = LinearSegmentedColormap.from_list(\"red_green\", [\"red\", \"green\"])\n",
    "\n",
    "# Function to get color based on correlation value\n",
    "def get_color(value, cmap):\n",
    "    norm_value = (value - correlations.min().min()) / (correlations.max().max() - correlations.min().min())\n",
    "    return cmap(norm_value)\n",
    "\n",
    "# do the same, but now using grey color for the diagonal\n",
    "g = sns.pairplot(data, diag_kind='kde', plot_kws={'s': 10, 'alpha':0.1, 'edgecolor': None}, diag_kws={'color':'grey'})  # 's' controls dot size\n",
    "\n",
    "# Loop through the axes to color each scatter plot\n",
    "for i, j in zip(*np.triu_indices_from(correlations, 1)):\n",
    "    ax = g.axes[i, j]\n",
    "    corr_value = correlations.iloc[i, j]\n",
    "    color = get_color(corr_value, cmap)\n",
    "    \n",
    "    # Apply the color gradient to all scatter plot\n",
    "    ax.collections[0].set_facecolor(color)\n",
    "    ax = g.axes[j, i]\n",
    "    ax.collections[0].set_facecolor(color)\n",
    "\n",
    "\n",
    "plt.show()\n",
    "\n",
    "\n"
   ]
  },
  {
   "cell_type": "code",
   "execution_count": null,
   "metadata": {},
   "outputs": [],
   "source": [
    "\n",
    "\n",
    "# Define pairs of features to plot\n",
    "features_to_plot = [\n",
    "    ('# PSMs', '# Peptides'),\n",
    "    ('# PSMs', '# Unique Peptides'),\n",
    "    ('# Peptides', '# Unique Peptides'),\n",
    "    ('Coverage', 'Score'),\n",
    "    ('Score', '# PSMs'), \n",
    "    ('# Proteins', '# Unique Peptides')\n",
    "]\n",
    "\n",
    "# Set grid dimensions (adjust as needed)\n",
    "rows, cols = 2, 2  # Create a 2x2 grid\n",
    "rows, cols = features_to_plot.__len__() // 2, 2\n",
    "\n",
    "# Configure plot size and style outside the loop (efficiency)\n",
    "fig, axes = plt.subplots(rows, cols, figsize=(10, 8))  # Set figure size and create axes grid\n",
    "point_size = 20\n",
    "alpha = 0.2\n",
    "marker = 'o'\n",
    "color = 'blue'\n",
    "grid_params = {'linestyle': '--', 'linewidth': 0.5, 'color': 'gray', 'which': 'both', 'alpha': 0.5}\n",
    "\n",
    "\n",
    "\n",
    "# Loop through features and create plots\n",
    "for i in range(rows):\n",
    "    for j in range(cols):\n",
    "        x_feature, y_feature = features_to_plot[i * cols + j]  # Access feature pair\n",
    "\n",
    "        # Create the scatter plot on the current axis\n",
    "        axes[i, j].scatter(dataM1[x_feature], dataM1[y_feature], s=point_size, alpha=alpha, marker=marker, c=color)\n",
    "\n",
    "        # Set axis labels and title\n",
    "        axes[i, j].set_xlabel(x_feature, fontsize=10)\n",
    "        axes[i, j].set_ylabel(y_feature, fontsize=10)\n",
    "        axes[i, j].set_title(f'{x_feature} vs. {y_feature}', fontsize=12)\n",
    "\n",
    "        # Add grid lines\n",
    "        axes[i, j].grid(**grid_params)\n",
    "\n",
    "# Adjust spacing and display the plot\n",
    "plt.tight_layout()\n",
    "plt.subplots_adjust(hspace=0.8, wspace=0.3)\n",
    "plt.show()"
   ]
  },
  {
   "cell_type": "markdown",
   "metadata": {},
   "source": [
    "### Consider only those proteins with **Score** above the Threshold "
   ]
  },
  {
   "cell_type": "code",
   "execution_count": null,
   "metadata": {},
   "outputs": [],
   "source": [
    "dataM1 = dataM1[dataM1['Score'] >= m1_score_threshold]\n",
    "dataM2 = dataM2[dataM2['Score'] >= m2_score_threshold]"
   ]
  },
  {
   "cell_type": "markdown",
   "metadata": {},
   "source": [
    "### List the 100 most present proteins in both M1 and M2  *(do not work for identyfing the cell type)*\n",
    "As \"present\" I consider those that appear more frequent in the spectra (based on PSMs)"
   ]
  },
  {
   "cell_type": "code",
   "execution_count": null,
   "metadata": {},
   "outputs": [],
   "source": [
    "TOP_NUMBER = 100\n",
    "\n",
    "# Take the top proteins based on the PSMs value (sorted in descending order)\n",
    "topM1 = dataM1.sort_values(by='# PSMs', ascending=False).head(TOP_NUMBER)\n",
    "topM2 = dataM2.sort_values(by='# PSMs', ascending=False).head(TOP_NUMBER)\n"
   ]
  },
  {
   "cell_type": "code",
   "execution_count": null,
   "metadata": {},
   "outputs": [],
   "source": [
    "plt.figure(figsize=(9, 9))\n",
    "\n",
    "# Filter the proteins present in both topM1 and topM2\n",
    "common_top_proteins = topM1.index.intersection(topM2.index)\n",
    "print(f\"Number of common proteins: {len(common_top_proteins)}\")\n",
    "\n",
    "# Create a mask to filter the common proteins\n",
    "mask_common = dataM1.index.isin(common_top_proteins)\n",
    "\n",
    "# plot\n",
    "plt.scatter(topM1.loc[common_top_proteins]['Score'], topM2.loc[common_top_proteins]['Score'])\n",
    "plt.xlabel('Score (M1)')\n",
    "plt.ylabel('Score (M2)')\n",
    "plt.title('Score (M1) vs Score (M2) for common proteins')\n",
    "# Add the names of the proteins in small font\n",
    "for protein in common_top_proteins:\n",
    "    # add a separation between the dot and the text\n",
    "    separation = 0.1\n",
    "    plt.text(topM1.loc[protein]['Score']+separation, topM2.loc[protein]['Score'], protein, fontsize=6)\n",
    "\n",
    "# Diagonal line\n",
    "max_value = max(topM1['Score'].max(), topM2['Score'].max())\n",
    "plt.plot([0, max_value], [0, max_value], color='red')\n",
    "\n",
    "plt.show()\n",
    "\n",
    "\n"
   ]
  },
  {
   "cell_type": "code",
   "execution_count": null,
   "metadata": {},
   "outputs": [],
   "source": [
    "# Print a table with the first 10 proteins of common_top_proteins. The table must contain the Accession, Description, ScoreM1, ScoreM2, #PSMs M1, #PSMs M2, #Peptides M1, #Peptides M2, #Unique Peptides M1, #Unique Peptides M2, Coverage M1, Coverage M2\n",
    "print(\"Table with the first 10 proteins of common_top_proteins\")\n",
    "\n",
    "# Create a table with the first 10 proteins of common_top_proteins\n",
    "table = pd.DataFrame(index=common_top_proteins[:10])\n",
    "table['Description'] = dataM1.loc[common_top_proteins[:10]]['Description']\n",
    "table['Score M1'] = dataM1.loc[common_top_proteins[:10]]['Score']\n",
    "table['Score M2'] = dataM2.loc[common_top_proteins[:10]]['Score']\n",
    "table['# PSMs M1'] = dataM1.loc[common_top_proteins[:10]]['# PSMs']\n",
    "table['# PSMs M2'] = dataM2.loc[common_top_proteins[:10]]['# PSMs']\n",
    "table['# Peptides M1'] = dataM1.loc[common_top_proteins[:10]]['# Peptides']\n",
    "table['# Peptides M2'] = dataM2.loc[common_top_proteins[:10]]['# Peptides']\n",
    "table['# Unique Peptides M1'] = dataM1.loc[common_top_proteins[:10]]['# Unique Peptides']\n",
    "table['# Unique Peptides M2'] = dataM2.loc[common_top_proteins[:10]]['# Unique Peptides']\n",
    "table['Coverage M1'] = dataM1.loc[common_top_proteins[:10]]['Coverage']\n",
    "table['Coverage M2'] = dataM2.loc[common_top_proteins[:10]]['Coverage']\n",
    "\n",
    "print(table)\n",
    "\n"
   ]
  },
  {
   "cell_type": "markdown",
   "metadata": {},
   "source": [
    "### Differential Expression Analysis"
   ]
  },
  {
   "cell_type": "code",
   "execution_count": null,
   "metadata": {},
   "outputs": [],
   "source": [
    "# Get the number of proteins in each dataset\n",
    "n_proteins_M1 = len(dataM1)\n",
    "n_proteins_M2 = len(dataM2)\n",
    "\n",
    "# Get the number of proteins in common\n",
    "common_proteins = dataM1.index.intersection(dataM2.index)\n",
    "n_common_proteins = len(common_proteins)\n",
    "\n",
    "# Create the Venn diagram plot\n",
    "c = venn2(subsets=(n_proteins_M1 - n_common_proteins, n_proteins_M2 - n_common_proteins, n_common_proteins),\n",
    "    set_labels=('M1', 'M2'), set_colors=('mediumaquamarine', 'slategrey'), alpha=0.75)\n",
    "\n",
    "# Add a title to the plot\n",
    "plt.title('Proteins found in M1 and M2')\n",
    "\n",
    "# Display the plot\n",
    "plt.show()\n",
    "\n",
    "\n"
   ]
  },
  {
   "cell_type": "code",
   "execution_count": null,
   "metadata": {},
   "outputs": [],
   "source": [
    "\n",
    "# Check the number of NaN values in dataM1 and dataM2\n",
    "print(\"Number of NaN values in dataM1\")\n",
    "print(dataM1.isnull().sum())\n",
    "print(\"Number of NaN values in dataM2\")\n",
    "print(dataM2.isnull().sum())\n",
    "\n",
    "# Create a copy by mergin dataM1 and dataM2 keeping the proteins present in only one of the datasets\n",
    "merged_data = pd.merge(dataM1, dataM2, how='outer', on='Accession', suffixes=('_M1', '_M2'))\n",
    "merged_data_original = merged_data.copy()\n",
    "print(merged_data.isnull().sum())\n",
    "\n",
    "merged_data['Description_M2'] = merged_data['Description_M2'].fillna('N/A')\n",
    "merged_data['Description_M1'] = merged_data['Description_M1'].fillna('N/A')\n",
    "\n",
    "# Replace missing values (NaN) with a very small value\n",
    "merged_data.fillna(1e-1000, inplace=True)\n",
    "print(merged_data.isnull().sum())\n",
    "\n",
    "# Log fold change with the adjusted value\n",
    "merged_data['Log2FC'] = np.log2(merged_data['# PSMs_M2'] + 1) - np.log2(merged_data['# PSMs_M1'] + 1)\n",
    "\n"
   ]
  },
  {
   "cell_type": "markdown",
   "metadata": {},
   "source": [
    "As we can observe, there is no missing value in the original dataset."
   ]
  },
  {
   "cell_type": "code",
   "execution_count": null,
   "metadata": {},
   "outputs": [],
   "source": [
    "print(f\"Number of 'N/A' in Description_M1: {merged_data[merged_data['Description_M1'] == 'N/A'].shape[0]}\")\n",
    "print(f\"Number of 'N/A' in Description_M2: {merged_data[merged_data['Description_M2'] == 'N/A'].shape[0]}\")\n",
    "\n",
    "print(f\"Number of proteins that are present in both datasets: {merged_data_original[merged_data_original['Description_M1'].notnull() & merged_data_original['Description_M2'].notnull()].shape[0]}\")\n"
   ]
  },
  {
   "cell_type": "code",
   "execution_count": null,
   "metadata": {},
   "outputs": [],
   "source": [
    "# Add a 'class' column to the merged_data. \n",
    "merged_data['class'] = \"Both\"\n",
    "merged_data.loc[(merged_data['Description_M1'] != 'N/A') & (merged_data['Description_M2'] == 'N/A'), 'class'] = \"M1\"\n",
    "merged_data.loc[(merged_data['Description_M1'] == 'N/A') & (merged_data['Description_M2'] != 'N/A'), 'class'] = \"M2\"\n",
    "print(merged_data['class'].value_counts())           \n",
    "\n"
   ]
  },
  {
   "cell_type": "code",
   "execution_count": null,
   "metadata": {},
   "outputs": [],
   "source": [
    "# Distribution of the log fold change for the class \"Booth\"\n",
    "plt.figure(figsize=(10, 6))\n",
    "sns.histplot(merged_data[merged_data['class'] == 'Both']['Log2FC'], bins=50, kde=True)\n",
    "plt.title(\"Log2FC distribution for proteins present in both conditions\")\n",
    "plt.xlabel(\"Log2FC\")\n",
    "plt.ylabel(\"Frequency\")\n",
    "plt.show()   \n",
    "\n"
   ]
  },
  {
   "cell_type": "markdown",
   "metadata": {},
   "source": [
    "Positive values in the 'Log2FC' column represent proteins that are more abundant in condition M2 compared to M1.<br>\n",
    "Negative Log2FC values indicate proteins that are more abundant in condition M1 compared to M2.<br><br>\n",
    "*Note that it was computed using #PSMs.*"
   ]
  },
  {
   "cell_type": "code",
   "execution_count": null,
   "metadata": {},
   "outputs": [],
   "source": [
    "# Top 10 proteins with the highest log fold change\n",
    "top10 = merged_data.sort_values(by='Log2FC', ascending=False).head(10)\n",
    "print(top10[['Description_M1', 'Description_M2', 'Log2FC']])\n"
   ]
  },
  {
   "cell_type": "code",
   "execution_count": null,
   "metadata": {},
   "outputs": [],
   "source": [
    "# describe merged_data\n",
    "print(merged_data.describe())"
   ]
  },
  {
   "cell_type": "code",
   "execution_count": null,
   "metadata": {},
   "outputs": [],
   "source": [
    "# Create the PCA object\n",
    "pca = PCA(n_components=2)\n",
    "\n",
    "# Create the StandardScaler object\n",
    "scaler = StandardScaler()\n",
    "\n",
    "# Fit the scaler\n",
    "scaler.fit(merged_data.drop(columns=['Description_M1', 'Description_M2', 'Log2FC', 'class']))\n",
    "\n",
    "# Transform the data\n",
    "X = scaler.transform(merged_data.drop(columns=['Description_M1', 'Description_M2', 'Log2FC', 'class']))\n",
    "\n",
    "# Fit the PCA\n",
    "pca.fit(X)\n",
    "\n",
    "# Transform the data\n",
    "X_pca = pca.transform(X)\n",
    "\n",
    "# Create a dataframe with the PCA values\n",
    "pca_df = pd.DataFrame(X_pca, columns=['PC1', 'PC2'])\n",
    "\n",
    "# Add the class column\n",
    "pca_df['class'] = merged_data['class'].values\n",
    "\n",
    "# Plot the PCA\n",
    "sns.scatterplot(data=pca_df, x='PC1', y='PC2', hue='class')\n",
    "plt.title('PCA of the merged data')\n",
    "plt.show()\n"
   ]
  },
  {
   "cell_type": "code",
   "execution_count": null,
   "metadata": {},
   "outputs": [],
   "source": [
    "# Create the UMAP object\n",
    "umap_obj = umap.UMAP()\n",
    "\n",
    "# Fit the UMAP\n",
    "umap_obj.fit(X)\n",
    "\n",
    "# Transform the data\n",
    "X_umap = umap_obj.transform(X)\n",
    "\n",
    "# Create a dataframe with the UMAP values\n",
    "umap_df = pd.DataFrame(X_umap, columns=['UMAP1', 'UMAP2'])\n",
    "\n",
    "# Add the class column\n",
    "umap_df['class'] = merged_data['class'].values\n",
    "\n",
    "# Plot the UMAP\n",
    "sns.scatterplot(data=umap_df, x='UMAP1', y='UMAP2', hue='class')\n",
    "plt.title('UMAP of the merged data')\n",
    "plt.show()\n"
   ]
  },
  {
   "cell_type": "code",
   "execution_count": null,
   "metadata": {},
   "outputs": [],
   "source": [
    "# Initialize a list to store p-values\n",
    "p_values = []\n",
    "\n",
    "# Loop through each protein to calculate the p-value using Fisher's exact test\n",
    "for index, row in merged_data.iterrows():\n",
    "    # Create a 2x2 contingency table based on presence/absence in M1 and M2\n",
    "    # Assumes 1 for present, 0 for absent\n",
    "    if row['class'] == 'M1' or row['class'] == 'M2':\n",
    "        present_m1 = 1 if row['class'] == 'M1' else 0\n",
    "        present_m2 = 1 if row['class'] == 'M2' else 0\n",
    "\n",
    "        # Contingency table format: [[present in M1, absent in M1], [present in M2, absent in M2]]\n",
    "        contingency_table = [[present_m1, 1 - present_m1], [present_m2, 1 - present_m2]]\n",
    "        \n",
    "        # Perform Fisher's Exact Test\n",
    "        _, p_val = fisher_exact(contingency_table)\n",
    "        p_values.append(p_val)\n",
    "    else:\n",
    "        # If the protein is present in both or absent in both, assign a default p-value (e.g., 1)\n",
    "        p_values.append(1.0)\n",
    "\n",
    "# Add p-values to the dataframe\n",
    "merged_data['p_value_class'] = p_values\n",
    "\n",
    "# print unique p-values\n",
    "print(f\"Unique p-values (class): {len(set(p_values))}\")\n",
    "\n"
   ]
  },
  {
   "cell_type": "markdown",
   "metadata": {},
   "source": [
    "As **all p-values are 1**, it means that there is no significant difference between the two groups for any protein.\n",
    "This make sense considering the chart with the PSM's (M1) vs PSM's (M2) "
   ]
  },
  {
   "cell_type": "markdown",
   "metadata": {},
   "source": [
    "---\n",
    "# DEA\n",
    "Identify proteins that are significantly upregulated or downregulated between different conditions (M1 vs M2)."
   ]
  },
  {
   "cell_type": "code",
   "execution_count": null,
   "metadata": {},
   "outputs": [],
   "source": [
    "data = merged_data.copy()\n",
    "# drop p_value_class\n",
    "data = data.drop(columns=['p_value_class'])\n",
    "print(data.describe())"
   ]
  },
  {
   "cell_type": "code",
   "execution_count": null,
   "metadata": {},
   "outputs": [],
   "source": [
    "# Create a \"data\" dataframe with the columns 'Accession', '# PSMs_M1' and '# PSMs_M2'\n",
    "data = merged_data[merged_data['class'] == 'Both'][['# PSMs_M1', '# PSMs_M2']]\n",
    "\n",
    "# Melt the DataFrame into long format\n",
    "df_long = data.stack().reset_index()\n",
    "df_long.columns = ['Protein', 'Condition', 'PSM']\n",
    "\n",
    "# Extract the condition from the column name\n",
    "df_long['Condition'] = df_long['Condition'].str.extract(r'# PSMs_(M\\d+)')\n",
    "\n",
    "print(df_long)"
   ]
  },
  {
   "cell_type": "code",
   "execution_count": null,
   "metadata": {},
   "outputs": [],
   "source": [
    "# Convert it to wide format\n",
    "df_wide = df_long.pivot(index='Protein', columns='Condition', values='PSM')\n",
    "print(df_wide)"
   ]
  },
  {
   "cell_type": "code",
   "execution_count": null,
   "metadata": {},
   "outputs": [],
   "source": [
    "# Assuming your DataFrame is named 'df'\n",
    "data_matrix = data.values.T  # Transpose to get a matrix-like structure\n",
    "\n",
    "# Create an AnnData object\n",
    "adata = ad.AnnData(\n",
    "    X=data_matrix,\n",
    "    obs=pd.DataFrame({'Condition': ['M1', 'M2']}),\n",
    "    var=pd.DataFrame(index=data.index)\n",
    ")"
   ]
  },
  {
   "cell_type": "code",
   "execution_count": null,
   "metadata": {},
   "outputs": [],
   "source": [
    "adata.obs['Condition'] = adata.obs['Condition'].astype('category')\n",
    "print(adata.obs['Condition'].dtype)\n",
    "print(adata.obs['Condition'])\n",
    "\n",
    "# DEA with scanpy\n",
    "sc.tl.rank_genes_groups(adata, groupby='Condition', method='wilcoxon')\n",
    "\n",
    "# Draw a Volcano plot\n",
    "sc.pl.rank_genes_groups(adata, n_genes=20, sharey=False)\n",
    "\n",
    "# Display the plot\n",
    "plt.show()\n",
    "\n",
    "\n",
    "\n",
    "\n"
   ]
  },
  {
   "cell_type": "code",
   "execution_count": null,
   "metadata": {},
   "outputs": [],
   "source": [
    "# Compute the log fold change and p-value for each protein in a new DataFrame\n",
    "df_lfc = pd.DataFrame()\n",
    "df_lfc['Protein'] = df_long['Protein'].unique()\n",
    "df_lfc['Log2FC'] = np.log2(df_long[df_long['Condition'] == 'M2']['PSM'].values + 1) - np.log2(df_long[df_long['Condition'] == 'M1']['PSM'].values + 1)\n",
    "print(df_lfc.head(20))\n"
   ]
  },
  {
   "cell_type": "code",
   "execution_count": null,
   "metadata": {},
   "outputs": [],
   "source": [
    "# Convert the dataframe into a wide format\n",
    "df_wide = df_long.pivot(index='Protein', columns='Condition', values='PSM')\n",
    "df_wide.columns = ['M1', 'M2']\n",
    "print(df_wide)\n"
   ]
  },
  {
   "cell_type": "code",
   "execution_count": null,
   "metadata": {},
   "outputs": [],
   "source": [
    "data = merged_data[merged_data['class'] == 'Both'].copy()\n",
    "# move the indexes to rows\n",
    "data = data.reset_index()\n",
    "# move the indexes to columns\n",
    "\n",
    "\n",
    "print(data.head())\n",
    "print(\"---\")\n",
    "data= data.reset_index()\n",
    "print(data.head())\n",
    "print(\"---\")\n",
    "# Filter out the p-value column\n",
    "data = data.drop(columns=['p_value_class'])\n",
    "#data = data.drop(columns=['class'])\n",
    "data = data.drop(columns=['Description_M1'])\n",
    "data = data.drop(columns=['Description_M2'])\n",
    "\n",
    "\n",
    "# If Log2FC is < 0, the protein is downregulated in M2 and set class to \"M2\"\n",
    "data.loc[data['Log2FC'] < 0, 'class'] = 2\n",
    "# If Log2FC is > 0, the protein is upregulated in M2 and set class to \"M1\"\n",
    "data.loc[data['Log2FC'] > 0, 'class'] = 1\n",
    "# Delete rows with Log2FC = 0\n",
    "data = data[data['Log2FC'] != 0]\n",
    "\n",
    "\n",
    "\n",
    "\n",
    "# Perform a differential expression analysis with the proteins of data that contantains proteins found under M1 & M2, with the Log2FC already computed\n",
    "# Create an AnnData object with all the values to the object except the class column. Exclude also the index that contains the Accession\n",
    "adata = ad.AnnData(data.drop(columns=['Log2FC']).T)\n",
    "print(adata)\n",
    "print(adata.obs)\n",
    "\n",
    "\n",
    "# Reset the index if necessary\n",
    "if adata.obs.index.name == 'class':\n",
    "    adata=adata.obs.reset_index(inplace=True)\n",
    "\n",
    "print(adata)\n",
    "print(adata.obs)\n",
    "\n",
    "\n",
    "# Assuming 'adata' is your AnnData object\n",
    "adata.obs['class'] = adata.obs['class'].astype('category')  # Convert to categorical\n",
    "\n",
    "sc.pp.normalize_total(adata, target_sum=1e6)\n",
    "sc.pp.log1p(adata)\n",
    "\n",
    "sc.tl.pca(adata)\n",
    "sc.pp.neighbors(adata)\n",
    "sc.tl.umap(adata)\n",
    "\n",
    "sc.tl.rank_genes_groups(adata, 'class', method='wilcoxon')\n",
    "\n",
    "sc.pl.umap(adata, color='class')\n",
    "sc.pl.violin(adata, 'gene_name', group='class')"
   ]
  },
  {
   "cell_type": "code",
   "execution_count": null,
   "metadata": {},
   "outputs": [],
   "source": [
    "data = merged_data[merged_data['class'] == 'Both'].copy()\n",
    "\n",
    "# Filter out the p-value column\n",
    "data = data.drop(columns=['p_value_class'])\n",
    "#data = data.drop(columns=['class'])\n",
    "data = data.drop(columns=['Description_M1'])\n",
    "data = data.drop(columns=['Description_M2'])\n",
    "\n",
    "\n",
    "# If Log2FC is < 0, the protein is downregulated in M2 and set class to \"M2\"\n",
    "data.loc[data['Log2FC'] < 0, 'class'] = 2\n",
    "# If Log2FC is > 0, the protein is upregulated in M2 and set class to \"M1\"\n",
    "data.loc[data['Log2FC'] > 0, 'class'] = 1\n",
    "# Delete rows with Log2FC = 0\n",
    "data = data[data['Log2FC'] != 0]\n",
    "\n",
    "print(data['class'].value_counts())\n",
    "\n",
    "# Perform a differential expression analysis with the proteins of data that contantains proteins found under M1 & M2, with the Log2FC already computed\n",
    "# Create an AnnData object with all the values to the object except the class column. Exclude also the index that contains the Accession\n",
    "adata = ad.AnnData(data.drop(columns=['class', 'Log2FC']))\n",
    "# Add the class column to the object\n",
    "#adata.obs['Accession'] = data.index\n",
    "# Create an obs called 'class' with the values of the class column with 'M' as prefix\n",
    "#adata.obs['class'] = 'M' + data['class'].astype(str)\n",
    "adata.obs['class'] = data['class'].astype(str)\n",
    "\n",
    "\n",
    "print(adata)\n",
    "# print the name of the n_vars\n",
    "print(adata.var_names)\n",
    "\n",
    "\n",
    "\n",
    "# Perform PCA\n",
    "#sc.tl.pca(adata)\n",
    "# Plot the PCA\n",
    "#sc.pl.pca(adata, color='class')\n",
    "\n",
    "# Perform UMAP\n",
    "#sc.pp.neighbors(adata)\n",
    "#sc.tl.umap(adata)\n",
    "\n",
    "# Plot the UMAP\n",
    "#sc.pl.umap(adata, color='class')\n",
    "\n",
    "\n",
    "\n",
    "\n",
    "# Perform a differential expression analysis\n",
    "sc.tl.rank_genes_groups(adata, groupby='class', method='wilcoxon')\n",
    "\n",
    "# Create a dataframe with the results\n",
    "results = pd.DataFrame(adata.uns['rank_genes_groups']['names'])\n",
    "results['logfoldchanges'] = pd.DataFrame(adata.uns['rank_genes_groups']['logfoldchanges'])\n",
    "results['pvals'] = pd.DataFrame(adata.uns['rank_genes_groups']['pvals'])\n",
    "results['pvals_adj'] = pd.DataFrame(adata.uns['rank_genes_groups']['pvals_adj'])\n",
    "\n",
    "# Print the results\n",
    "print(results.head())\n",
    "\n",
    "\n",
    "# Create a volcano plot\n",
    "plt.figure(figsize=(10, 6))\n",
    "sns.scatterplot(data=results, x='logfoldchanges', y='pvals_adj')\n",
    "plt.title('Volcano plot')\n",
    "plt.xlabel('Log2FC')\n",
    "plt.ylabel('Adjusted p-value')\n",
    "plt.show()\n",
    "\n",
    "\n"
   ]
  },
  {
   "cell_type": "markdown",
   "metadata": {},
   "source": [
    "---\n",
    "# Functional Enrichement Analysis\n",
    "Determine the biological functions and pathways that are overrepresented among differentially expressed proteins.<br>\n",
    "This can provide insights into the broader biological context of the observed changes and identify potential drug targets or biomarkers."
   ]
  },
  {
   "cell_type": "code",
   "execution_count": null,
   "metadata": {},
   "outputs": [],
   "source": [
    "# Take the 10 most abundant proteins in M1 and M2 and create a Venn diagram\n",
    "# Get the top 10 proteins in M1 and M2\n",
    "top10_M1 = dataM1.sort_values(by='# PSMs', ascending=False).head(10).index\n",
    "top10_M2 = dataM2.sort_values(by='# PSMs', ascending=False).head(10).index\n",
    "\n",
    "# Create the Venn diagram\n",
    "plt.figure(figsize=(6, 6))\n",
    "c = venn2(subsets=(set(top10_M1), set(top10_M2)), set_labels=('M1', 'M2'), set_colors=('mediumaquamarine', 'slategrey'), alpha=0.75)\n",
    "plt.title('Top 10 proteins in M1 and M2')\n",
    "plt.show()\n"
   ]
  },
  {
   "cell_type": "code",
   "execution_count": null,
   "metadata": {},
   "outputs": [],
   "source": [
    "# Get gene names\n",
    "unipcl = UniprotClient()\n",
    "\n",
    "gene_names = unipcl.batch_translate_protein_ids(top10_M1.tolist())\n",
    "top10_M1.index = [gene_names.get(i, i) for i in top10_M1.tolist()]"
   ]
  },
  {
   "cell_type": "code",
   "execution_count": null,
   "metadata": {},
   "outputs": [],
   "source": [
    "sdb = StringDBClient(server_url=\"https://string-db.org/api\", species=9606, score_threshold=400)"
   ]
  },
  {
   "cell_type": "code",
   "execution_count": null,
   "metadata": {},
   "outputs": [],
   "source": [
    "# Get the network of the top 10 proteins in M1\n",
    "for protein in top10_M1.index:\n",
    "    print(\"-\" * 150)\n",
    "\n",
    "    gene = protein.split(\" (\")[0]\n",
    "    print(\"Gene: \", gene)\n",
    "    print(\"Protein: \", protein.split(\"(\")[1].split(\")\")[0])\n",
    "    \n",
    "    if (gene != \"None\"):\n",
    "        image_data = sdb.get_network_image(gene, \"image\")\n",
    "        page = sdb.get_protein_page(gene, \"tsv-no-header\")\n",
    "        print(page)\n",
    "        display(Image(image_data))\n",
    "    else:\n",
    "        print(\"No gene found in Uniprot for protein \", protein, \". It might be an obsolete protein.\")\n",
    "        print(\" \")"
   ]
  },
  {
   "cell_type": "code",
   "execution_count": null,
   "metadata": {},
   "outputs": [],
   "source": [
    "# Functional Enrinchment analysis with GO terms\n",
    "top10_M1 = dataM1.sort_values(by='# PSMs', ascending=False).head(20).index\n",
    "top10_M2 = dataM2.sort_values(by='# PSMs', ascending=False).head(20).index\n",
    "\n",
    "\n",
    "\n",
    "# Get the gene names\n",
    "gene_names_M1 = unipcl.batch_translate_protein_ids(top10_M1.tolist())\n",
    "#gene_names_M2 = unipcl.batch_translate_protein_ids(top10_M2.tolist())\n",
    "print(gene_names_M1)\n",
    "# prepare a list of gene names. The gene name corresponds to the value before the first parenthesis\n",
    "gene_names_M1 = [gene.split(\" (\")[0] for gene in gene_names_M1.values()]\n",
    "#gene_names_M2 = [gene.split(\" (\")[0] for gene in gene_names_M2]\n",
    "\n",
    "print(gene_names_M1)\n",
    "\n",
    "\n",
    "\n",
    "\n",
    "# Remove the None values\n",
    "gene_names_M1 = [gene for gene in gene_names_M1 if gene != \"None\"]\n",
    "\n"
   ]
  },
  {
   "cell_type": "code",
   "execution_count": null,
   "metadata": {},
   "outputs": [],
   "source": [
    "print(gene_names_M1)\n",
    "\n",
    "# Get the GO terms for the top 10 proteins in M1 and M2\n",
    "# Perform enrichment analysis\n",
    "enr_res = gp.enrichr(gene_names_M1, gene_sets='KEGG_Pathway', organism='human')\n",
    "\n",
    "# Visualize the results\n",
    "gp.dotplot(enr_res)"
   ]
  },
  {
   "cell_type": "code",
   "execution_count": null,
   "metadata": {},
   "outputs": [],
   "source": [
    "\n",
    "# Define thresholds\n",
    "logFC_threshold = 1  # Threshold for log fold change (absolute value)\n",
    "pval_threshold = 0.05  # Threshold for p-value\n",
    "\n",
    "# Create a new column to categorize proteins based on thresholds\n",
    "merged_data['significant'] = (merged_data['adjusted_p_value'] < pval_threshold) & (abs(merged_data['logFC_Proteins']) > logFC_threshold)\n",
    "\n",
    "# Create volcano plot\n",
    "plt.figure(figsize=(10, 7))\n",
    "\n",
    "# Scatter plot for non-significant points (grey)\n",
    "plt.scatter(merged_data['logFC_Proteins'], -np.log10(merged_data['adjusted_p_value']), c='grey', label='Non-significant')\n",
    "\n",
    "# Highlight significant points (red for upregulated, blue for downregulated)\n",
    "plt.scatter(merged_data.loc[(merged_data['logFC_Proteins'] > logFC_threshold) & (merged_data['adjusted_p_value'] < pval_threshold), 'logFC_Proteins'],\n",
    "            -np.log10(merged_data.loc[(merged_data['logFC_Proteins'] > logFC_threshold) & (merged_data['adjusted_p_value'] < pval_threshold), 'adjusted_p_value']),\n",
    "            c='red', label='Upregulated')\n",
    "\n",
    "plt.scatter(merged_data.loc[(merged_data['logFC_Proteins'] < -logFC_threshold) & (merged_data['adjusted_p_value'] < pval_threshold), 'logFC_Proteins'],\n",
    "            -np.log10(merged_data.loc[(merged_data['logFC_Proteins'] < -logFC_threshold) & (merged_data['adjusted_p_value'] < pval_threshold), 'adjusted_p_value']),\n",
    "            c='blue', label='Downregulated')\n",
    "\n",
    "# Add labels\n",
    "plt.xlabel('Log2 Fold Change')\n",
    "plt.ylabel('-Log10 Adjusted P-value')\n",
    "plt.title('Volcano Plot')\n",
    "\n",
    "# Show legend\n",
    "plt.legend()\n",
    "\n",
    "# Show plot\n",
    "plt.show()\n"
   ]
  },
  {
   "cell_type": "markdown",
   "metadata": {},
   "source": [
    "---"
   ]
  },
  {
   "cell_type": "markdown",
   "metadata": {},
   "source": [
    "# Protein-Protein Interaction Network Analysis\n",
    "Construct networks to visualize the interactions between proteins and identify protein modules or hubs.<br>\n",
    "This can help understand how proteins work together to carry out cellular functions and identify key regulatory proteins"
   ]
  },
  {
   "cell_type": "markdown",
   "metadata": {},
   "source": [
    "---\n"
   ]
  },
  {
   "cell_type": "code",
   "execution_count": null,
   "metadata": {},
   "outputs": [],
   "source": [
    "# Join the dataM1 and dataM2 dataframes adding a column to identify the source of the data\n",
    "dataM1['Source'] = 'M1'\n",
    "dataM2['Source'] = 'M2'\n",
    "\n",
    "# Concatenate the dataframes\n",
    "data = pd.concat([dataM1, dataM2])\n",
    "\n",
    "# Number of proteins in the concatenated dataframe\n",
    "print(f\"Number of proteins in the concatenated dataframe: {data.shape[0]}\")"
   ]
  },
  {
   "cell_type": "code",
   "execution_count": null,
   "metadata": {},
   "outputs": [],
   "source": [
    "# Perform a differential expression analysis without using scanpy\n",
    "\n",
    "# Filter the proteins with a score higher than the threshold\n",
    "data_filtered = data\n",
    "\n",
    "# Number of proteins after filtering\n",
    "print(f\"Number of proteins after filtering: {data_filtered.shape[0]}\")\n",
    "\n",
    "# Perform a differential expression analysis\n",
    "# Create a new column with the log2 fold change\n",
    "data_filtered['log2FC'] = np.log2(data_filtered['# PSMs']/data_filtered['# PSMs'].mean())\n",
    "\n",
    "# Create a new column with the p-value\n",
    "data_filtered['p-value'] = 1 - data_filtered['Score']/data_filtered['Score'].max()\n",
    "\n",
    "# Create a new column with the adjusted p-value\n",
    "data_filtered['adj-p-value'] = data_filtered['p-value']\n",
    "\n",
    "# Filter the proteins with an adjusted p-value lower than PVAL_THRESHOLD\n",
    "data_filtered = data_filtered[data_filtered['adj-p-value'] < PVAL_THRESHOLD]\n",
    "\n",
    "# Number of proteins after filtering\n",
    "print(f\"Number of proteins after filtering: {data_filtered.shape[0]}\")\n",
    "\n",
    "# Print the first 10 proteins\n",
    "print(data_filtered.head(10))\n",
    "\n",
    "# Perform a differential expression analysis using scanpy\n",
    "\n",
    "# Create an AnnData object\n",
    "adata = ad.AnnData(data_filtered)\n",
    "\n",
    "# Perform a differential expression analysis\n",
    "sc.tl.rank_genes_groups(adata, groupby='Source', method='wilcoxon')\n",
    "\n",
    "# Print the results\n",
    "print(adata.uns['rank_genes_groups'])\n",
    "\n",
    "# Perform a differential expression analysis using scanpy\n",
    "\n"
   ]
  },
  {
   "cell_type": "code",
   "execution_count": null,
   "metadata": {},
   "outputs": [],
   "source": [
    "# Considering the TOP_NUMBER proteins in both M1 and M2, perform a differential expression analysis using the #PSMs as the feature to compare. Use the Wilcoxon test to compare the #PSMs of the proteins in M1 and M2. Plot the results in a volcano plot.\n",
    "from scipy.stats import wilcoxon\n",
    "\n",
    "# Perform the Wilcoxon test for each protein\n",
    "p_values = []\n",
    "for protein in common_proteins:\n",
    "    p_values.append(wilcoxon(dataM1.loc[protein]['# PSMs'], dataM2.loc[protein]['# PSMs']).pvalue)\n",
    "\n",
    "# Create a volcano plot\n",
    "plt.figure(figsize=(12, 6))\n",
    "plt.scatter(p_values, [0]*len(p_values), alpha=0.5)\n",
    "plt.xlabel('p-value')\n",
    "plt.ylabel('log2(fold-change)')\n",
    "plt.title('Volcano plot')\n",
    "plt.show()\n",
    "\n",
    "\n",
    "\n",
    "\n",
    "\n",
    "              \n",
    "\n"
   ]
  },
  {
   "cell_type": "code",
   "execution_count": null,
   "metadata": {},
   "outputs": [],
   "source": []
  },
  {
   "cell_type": "code",
   "execution_count": null,
   "metadata": {},
   "outputs": [],
   "source": [
    "# Load the data\n",
    "data_src = \"./data/raw/sasha_SI_THP/SI_THP_RAW_proteomics_data_ss.xlsx\"\n",
    "dataM1 = pd.read_excel(data_src, sheet_name=\"THP_M1\", index_col=0)\n",
    "dataM2 = pd.read_excel(data_src, sheet_name=\"THP_M2\", index_col=0)\n",
    "\n",
    "# Concatenate the dataM1 and dataM2 vertically\n",
    "data = pd.concat([dataM1, dataM2])\n",
    "\n",
    "# Transpose the data\n",
    "data = data.T\n",
    "\n",
    "# Create an AnnData object with the data\n",
    "adata = ad.AnnData(data.astype(np.float32))\n",
    "\n",
    "# Add the cell type information to the adata object\n",
    "cell_types = ['M1'] * dataM1.shape[0] + ['M2'] * dataM2.shape[0]\n",
    "adata.obs['celltype'] = cell_types\n",
    "\n",
    "# Perform PCA analysis\n",
    "sc.tl.pca(adata)\n",
    "\n",
    "# Plot PCA\n",
    "sc.pl.pca(adata, color='celltype', size=60, title='PCA by cell type')\n"
   ]
  },
  {
   "cell_type": "markdown",
   "metadata": {},
   "source": [
    "---"
   ]
  },
  {
   "cell_type": "markdown",
   "metadata": {},
   "source": [
    "---"
   ]
  },
  {
   "cell_type": "code",
   "execution_count": null,
   "metadata": {},
   "outputs": [],
   "source": [
    "# Load the data (Scanpy assumes that your columns are genes and your rows are cells)\n",
    "data_src = \"./data/spetch/proteins-processed.csv\"\n",
    "data = pd.read_csv(data_src, delimiter=\",\")\n",
    "\n",
    "# Remove the last column\n",
    "data = data.iloc[:, :-1]\n",
    "\n",
    "# Transpose the data\n",
    "data = data.T\n",
    "\n",
    "# Keep the first row as the column names\n",
    "proteins = data.iloc[0]\n",
    "\n",
    "# Remove the first column\n",
    "data = data.iloc[1:]\n",
    "\n",
    "print(data)\n",
    "\n",
    "# Create an AnnData object with the data\n",
    "adata = ad.AnnData(data.astype(np.float32))\n",
    "\n",
    "proteins = proteins.to_numpy()\n",
    "adata.var['proteins'] = proteins\n",
    "\n",
    "print(adata)\n"
   ]
  },
  {
   "cell_type": "code",
   "execution_count": null,
   "metadata": {},
   "outputs": [],
   "source": [
    "# Load the anno.csv file with the cell type annotations\n",
    "anno_src = \"./data/spetch/cells.csv\"\n",
    "anno = pd.read_csv(anno_src, delimiter=\",\")\n",
    "\n",
    "# Get the column names as cell IDs\n",
    "cellID = anno.columns[1:]\n",
    "\n",
    "# Transpose the data\n",
    "anno = anno.T\n",
    "\n",
    "celltypes = anno.loc[:, 0].values\n",
    "\n",
    "# Remove the first element\n",
    "celltypes = celltypes[1:]\n",
    "\n",
    "# Create a new obs in the AnnData object with the cell type annotations \n",
    "adata.obs['cellID'] = cellID\n",
    "adata.obs['celltype'] = celltypes\n",
    "\n"
   ]
  },
  {
   "cell_type": "code",
   "execution_count": null,
   "metadata": {},
   "outputs": [],
   "source": [
    "print(adata)\n",
    "print(\"---\")\n",
    "print(adata.X)"
   ]
  },
  {
   "cell_type": "markdown",
   "metadata": {},
   "source": [
    "---\n",
    "### Convert Protein ID to Gene names"
   ]
  },
  {
   "cell_type": "code",
   "execution_count": null,
   "metadata": {},
   "outputs": [],
   "source": [
    "if TRANSLATE_PROTEIN_ID:\n",
    "    # Convert proteins to gene names\n",
    "    unipcl = UniprotClient()\n",
    "\n",
    "    gene_names = unipcl.batch_translate_protein_ids(adata.var['proteins'])\n",
    "    adata.var['gene_protein'] = [gene_names.get(i, i) for i in adata.var['proteins']]\n",
    "    adata.var['gene'] = [i.split(' ')[0] for i in adata.var['gene_protein']]\n",
    "    print(adata.var['proteins'])\n",
    "    print(adata.var['gene_protein'])\n",
    "    print(adata.var['gene'])\n"
   ]
  },
  {
   "cell_type": "code",
   "execution_count": null,
   "metadata": {},
   "outputs": [],
   "source": [
    "adata_back = adata.copy()"
   ]
  },
  {
   "cell_type": "markdown",
   "metadata": {},
   "source": [
    "---\n",
    "### PCA & UMAP\n",
    "\n"
   ]
  },
  {
   "cell_type": "code",
   "execution_count": null,
   "metadata": {},
   "outputs": [],
   "source": [
    "# PCA by cell type\n",
    "sc.tl.pca(adata)\n",
    "sc.pl.pca(adata, color='celltype', size=60, title='PCA by cell type')\n"
   ]
  },
  {
   "cell_type": "code",
   "execution_count": null,
   "metadata": {},
   "outputs": [],
   "source": [
    "# UMAP by cell type\n",
    "sc.pp.neighbors(adata)\n",
    "sc.tl.umap(adata)\n",
    "sc.pl.umap(adata, color='celltype', size=60, title='UMAP by cell type')\n"
   ]
  },
  {
   "cell_type": "markdown",
   "metadata": {},
   "source": [
    "---"
   ]
  },
  {
   "cell_type": "code",
   "execution_count": null,
   "metadata": {},
   "outputs": [],
   "source": [
    "num_bins = 20\n",
    "\n",
    "for celltype in adata.obs['celltype'].unique():\n",
    "    plt.hist(adata[adata.obs['celltype'] == celltype].X.flatten(), bins=num_bins, alpha=0.5, label=celltype)\n",
    "\n",
    "plt.xlabel('Intensity')\n",
    "plt.ylabel('Count')\n",
    "plt.title('Protein Intensity distribution by Cell Type')\n",
    "\n",
    "plt.legend()\n",
    "plt.show()\n"
   ]
  },
  {
   "cell_type": "code",
   "execution_count": null,
   "metadata": {},
   "outputs": [],
   "source": [
    "\n",
    "# Shift the matrix values so that all are positive\n",
    "min_value = adata.X.min()\n",
    "if min_value < 0:\n",
    "    adata.X += np.abs(min_value) + 1  # Shift values to ensure they're all positive\n",
    "\n",
    "# Filter to keep only the two groups you're interested in\n",
    "group_1 = 'sc_m0'\n",
    "group_2 = 'sc_u'\n",
    "\n",
    "# Create a mask to filter the two groups\n",
    "mask = adata.obs['celltype'].isin([group_1, group_2])\n",
    "adata_filtered = adata[mask, :]\n",
    "\n",
    "# Perform rank_genes_groups to find differentially expressed proteins between the two groups\n",
    "sc.tl.rank_genes_groups(adata_filtered, 'celltype', groups=[group_1], reference=group_2, method='wilcoxon')\n",
    "\n",
    "# Get log fold change and p-values\n",
    "log2_fc = adata_filtered.uns['rank_genes_groups']['logfoldchanges'][group_1]  # Log2 fold changes\n",
    "p_values = adata_filtered.uns['rank_genes_groups']['pvals'][group_1]          # p-values\n",
    "\n",
    "\n",
    "# Convert p-values to -log10 for the volcano plot\n",
    "log_p_values = -np.log10(p_values)\n",
    "\n",
    "# Step 4: Create the volcano plot\n",
    "volcano_data = pd.DataFrame({\n",
    "    'log2_FC': log2_fc,\n",
    "    '-log10_p_value': log_p_values\n",
    "})\n",
    "\n",
    "# Plotting the volcano plot\n",
    "plt.figure(figsize=(10, 8))\n",
    "plt.scatter(volcano_data['log2_FC'], volcano_data['-log10_p_value'], s=5)\n",
    "\n",
    "# Add vertical lines to mark fold change threshold\n",
    "plt.axvline(x=1, color='black', linestyle='--')  # Fold change threshold\n",
    "plt.axvline(x=-1, color='black', linestyle='--')  # Fold change threshold\n",
    "\n",
    "# Add horizontal lines to mark significance (e.g., p-value threshold)\n",
    "plt.axhline(y=-np.log10(0.05), color='red', linestyle='--')  # p-value threshold\n",
    "\n",
    "plt.xlabel('log2 Fold Change')\n",
    "plt.ylabel('-log10 p-value')\n",
    "plt.title(f'Volcano Plot: {group_1} vs {group_2}')\n",
    "\n",
    "plt.show()\n"
   ]
  },
  {
   "cell_type": "markdown",
   "metadata": {},
   "source": [
    "### Experiments\n"
   ]
  },
  {
   "cell_type": "code",
   "execution_count": null,
   "metadata": {},
   "outputs": [],
   "source": [
    "# Assuming adata is your AnnData object containing the intensity matrix\n",
    "adata.X += 10  # Add a constant to ensure non-negativity\n",
    "adata.X = adata.X / adata.X.max() * 1000  # Scale to a maximum count of 1000\n",
    "\n",
    "# Sample from Poisson distribution to simulate count data\n",
    "adata.X = np.random.poisson(adata.X)\n",
    "\n",
    "adata.X = np.log2(adata.X + 1)  # Add 1 to avoid log of zero"
   ]
  },
  {
   "cell_type": "code",
   "execution_count": null,
   "metadata": {},
   "outputs": [],
   "source": [
    "# Differential expression analysis\n",
    "sc.tl.rank_genes_groups(adata, groupby='celltype', method='t-test')\n",
    "sc.pl.rank_genes_groups(adata)"
   ]
  },
  {
   "cell_type": "code",
   "execution_count": null,
   "metadata": {},
   "outputs": [],
   "source": [
    "print(result)"
   ]
  },
  {
   "cell_type": "code",
   "execution_count": null,
   "metadata": {},
   "outputs": [],
   "source": [
    "\n",
    "# Extract results\n",
    "result = adata.uns['rank_genes_groups']\n",
    "groups = result['names'].dtype.names\n",
    "group1 = groups[0]\n",
    "group2 = groups[1]\n",
    "\n",
    "# Create DataFrame for easier handling\n",
    "df = pd.DataFrame({\n",
    "    'protein': result['names'][group1],\n",
    "    f'logFC_{group1}': result['logfoldchanges'][group1],\n",
    "    f'logFC_{group2}': result['logfoldchanges'][group2],\n",
    "    f'pval_{group1}': result['pvals'][group1],\n",
    "    f'pval_{group2}': result['pvals'][group2],\n",
    "    f'pval_adj_{group1}': result['pvals_adj'][group1],\n",
    "    f'pval_adj_{group2}': result['pvals_adj'][group2],\n",
    "    f'score_{group1}': result['scores'][group1],\n",
    "    f'score_{group2}': result['scores'][group2]\n",
    "})\n",
    "\n",
    "# Filter out entries with NaN log fold changes\n",
    "df_filtered = df.dropna(subset=[f'logFC_{group1}', f'logFC_{group2}'])\n",
    "\n",
    "# Print the filtered DataFrame\n",
    "print(df_filtered.head())\n"
   ]
  },
  {
   "cell_type": "code",
   "execution_count": null,
   "metadata": {},
   "outputs": [],
   "source": [
    "\n",
    "# Extract results for volcano plot\n",
    "result = adata.uns['rank_genes_groups']\n",
    "groups = result['names'].dtype.names\n",
    "pvals_adj = result['pvals_adj'][groups[0]]\n",
    "logfoldchanges = result['logfoldchanges'][groups[0]]\n",
    "gene_names = result['names'][groups[0]]\n",
    "\n",
    "# Create DataFrame for plotting\n",
    "volcano_df = pd.DataFrame({\n",
    "    'protein': gene_names,\n",
    "    'logFC': logfoldchanges,\n",
    "    'p-adj': pvals_adj\n",
    "})\n",
    "\n",
    "# Volcano plot\n",
    "plt.figure(figsize=(10, 8))\n",
    "sns.scatterplot(data=volcano_df, x='logFC', y=-np.log10(volcano_df['p-adj']),\n",
    "                hue=np.log10(volcano_df['p-adj']) < -np.log10(PVAL_THRESHOLD), palette={True: 'red', False: 'grey'}, legend=None)\n",
    "plt.axhline(-np.log10(PVAL_THRESHOLD), linestyle='--', color='black')\n",
    "plt.xlabel('Log2 Fold Change')\n",
    "plt.ylabel('-Log10 Adjusted P-Value')\n",
    "plt.title('Volcano Plot')\n",
    "\n",
    "\n",
    "plt.show()\n",
    "\n",
    "# Clustering and dendrogram\n",
    "sc.tl.dendrogram(adata, groupby='celltype')\n",
    "sc.pl.dendrogram(adata, groupby='celltype')"
   ]
  },
  {
   "cell_type": "code",
   "execution_count": null,
   "metadata": {},
   "outputs": [],
   "source": [
    "\n",
    "# Extract results\n",
    "result = adata.uns['rank_genes_groups']\n",
    "groups = result['names'].dtype.names\n",
    "pvals_adj = result['pvals_adj'][groups[0]]\n",
    "logfoldchanges = result['logfoldchanges'][groups[0]]\n",
    "gene_names = result['names'][groups[0]]\n",
    "\n",
    "# Create DataFrame for plotting\n",
    "volcano_df = pd.DataFrame({\n",
    "    'protein': gene_names,\n",
    "    'logFC': logfoldchanges,\n",
    "    'p-adj': pvals_adj\n",
    "})\n",
    "\n",
    "# Volcano plot\n",
    "plt.figure(figsize=(10, 8))\n",
    "sns.scatterplot(data=volcano_df, x='logFC', y=-np.log10(volcano_df['p-adj']),\n",
    "                hue=np.log10(volcano_df['p-adj']) < -np.log10(0.05), palette={True: 'red', False: 'grey'}, legend=None)\n",
    "plt.axhline(-np.log10(0.05), linestyle='--', color='black')\n",
    "plt.xlabel('Log2 Fold Change')\n",
    "plt.ylabel('-Log10 Adjusted P-Value')\n",
    "plt.title('Volcano Plot')\n",
    "plt.show()"
   ]
  },
  {
   "cell_type": "code",
   "execution_count": null,
   "metadata": {},
   "outputs": [],
   "source": [
    "# Differential expression analysis with optional sparse matrix conversion\n",
    "#sc.tl.rank_genes_groups(adata, groupby='celltype', method='t-test')\n",
    "sc.tl.rank_genes_groups(adata, 'celltype', method='wilcoxon')\n",
    "# to visualize the results\n",
    "sc.pl.rank_genes_groups(adata)"
   ]
  },
  {
   "cell_type": "code",
   "execution_count": null,
   "metadata": {},
   "outputs": [],
   "source": [
    "# Perform differential expression analysis\n",
    "sc.tl.rank_genes_groups(adata, groupby='celltype', method='t-test')"
   ]
  },
  {
   "cell_type": "code",
   "execution_count": null,
   "metadata": {},
   "outputs": [],
   "source": [
    "# Extract results\n",
    "result = adata.uns['rank_genes_groups']\n",
    "groups = result['names'].dtype.names\n",
    "pvals_adj = result['pvals_adj'][groups[0]]\n",
    "logfoldchanges = result['logfoldchanges'][groups[0]]\n",
    "gene_names = result['names'][groups[0]]\n",
    "\n",
    "# Create DataFrame for plotting\n",
    "volcano_df = pd.DataFrame({\n",
    "    'protein': gene_names,\n",
    "    'logFC': logfoldchanges,\n",
    "    'p-adj': pvals_adj\n",
    "})\n",
    "\n",
    "# Volcano plot\n",
    "plt.figure(figsize=(10, 8))\n",
    "sns.scatterplot(data=volcano_df, x='logFC', y=-np.log10(volcano_df['p-adj']),\n",
    "                hue=np.log10(volcano_df['p-adj']) < -np.log10(0.05), palette={True: 'red', False: 'grey'}, legend=None)\n",
    "plt.axhline(-np.log10(0.05), linestyle='--', color='black')\n",
    "plt.xlabel('Log2 Fold Change')\n",
    "plt.ylabel('-Log10 Adjusted P-Value')\n",
    "plt.title('Volcano Plot')\n",
    "plt.show()\n"
   ]
  },
  {
   "cell_type": "code",
   "execution_count": null,
   "metadata": {},
   "outputs": [],
   "source": [
    "# Clustering\n",
    "sc.tl.dendrogram(adata, groupby='celltype')\n",
    "\n",
    "# Plot dendrogram\n",
    "sc.pl.dendrogram(adata, groupby='celltype')\n"
   ]
  }
 ],
 "metadata": {
  "kernelspec": {
   "display_name": "venv",
   "language": "python",
   "name": "python3"
  },
  "language_info": {
   "codemirror_mode": {
    "name": "ipython",
    "version": 3
   },
   "file_extension": ".py",
   "mimetype": "text/x-python",
   "name": "python",
   "nbconvert_exporter": "python",
   "pygments_lexer": "ipython3",
   "version": "3.9.6"
  }
 },
 "nbformat": 4,
 "nbformat_minor": 2
}
