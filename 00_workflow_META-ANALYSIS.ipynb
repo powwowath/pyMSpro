{
 "cells": [
  {
   "cell_type": "markdown",
   "metadata": {},
   "source": [
    "---\n",
    "## Single Cell Proteomics Meta-Analysis\n",
    "### Author: Gerard Font\n",
    "**Date: January 2025**<br>\n",
    "**MBDS - Master Biomedical Data Science**\n",
    "\n",
    "Meta-analysis, is a statistical technique that combines and analyzes data from multiple independent studies, which has become increasingly important in the field of single-cell proteomics. By integrating data from different experiments, meta-analysis allows for the identification of robust and reproducible findings, overcoming the limitations of individual studies and providing a more comprehensive view of the biological landscape.\n",
    "\n",
    "The objectives of this thesis are as follows:\n",
    "1. Review and summarize the existing literature on single-cell proteomics and meta-analysis.\n",
    "2. Collect and curate relevant single-cell proteomic datasets from public repositories.\n",
    "3. Develop a comprehensive data analysis pipeline for meta-analysis of single-cell proteomic data.\n",
    "4. Apply the developed pipeline to integrate and analyze the collected datasets.\n",
    "5. Identify differentially expressed proteins, cellular subpopulations, and potential biomarkers.\n",
    "6. Validate the findings through comparison with independent datasets and experimental validation.\n",
    "7. Interpret the results and provide biological insights into the studied biological systems.\n",
    "\n",
    "Through this master thesis, I hope to provide a comprehensive overview of the data analysis techniques employed in single-cell proteomics meta-analysis and demonstrate their utility in uncovering novel biological insights.\n",
    "\n",
    "---"
   ]
  },
  {
   "cell_type": "markdown",
   "metadata": {},
   "source": [
    "### Cell types\n",
    "\n",
    "* **M0** - Undifferentiated macrophages or monocytes\n",
    "* **M1** - Classically activated macrophages (LPS or IFN-γ)\n",
    "* **M2** - Alternatively activated macrophages (IL-4 or IL-13) \n",
    "<br>"
   ]
  },
  {
   "cell_type": "markdown",
   "metadata": {},
   "source": [
    "---\n",
    "### Import Libraries\n"
   ]
  },
  {
   "cell_type": "code",
   "execution_count": 11,
   "metadata": {},
   "outputs": [],
   "source": [
    "# Import pandas\n",
    "import pandas as pd\n",
    "\n",
    "from matplotlib import pyplot as plt\n",
    "import seaborn as sns\n",
    "\n",
    "# Venn diagram\n",
    "from matplotlib_venn import venn3\n"
   ]
  },
  {
   "cell_type": "markdown",
   "metadata": {},
   "source": [
    "___\n",
    "### Config"
   ]
  },
  {
   "cell_type": "code",
   "execution_count": 2,
   "metadata": {},
   "outputs": [],
   "source": [
    "TRANSLATE_PROTEIN_ID = False"
   ]
  },
  {
   "cell_type": "markdown",
   "metadata": {},
   "source": [
    "---\n",
    "### Data Sources\n",
    "\n",
    "\n",
    "* **EXPERIMENT 1:** ./data/processed/2016_Iwata_ncomms12849/**SI_THP_RAW_proteomics_data_ss.xlsx**<br>\n",
    "*Iwata, H., Goettsch, C., Sharma, A., Ricchiuto, P., Goh, W. W. bin, Halu, A., Yamada, I., Yoshida, H., Hara, T., Wei, M., Inoue, N., Fukuda, D., Mojcher, A., Mattson, P. C., Barabási, A. L., Boothby, M., Aikawa, E., Singh, S. A., & Aikawa, M. (2016). PARP9 and PARP14 cross-regulate macrophage activation via STAT1 ADP-ribosylation. Nature Communications 2016 7:1, 7(1), 1–19. https://doi.org/10.1038/ncomms12849*\n",
    "<br><br>\n",
    "* **EXPERIMENT 2:** ./data/processed/2022_Pengfei LI_35557041/**PD_Globalproteomics_2024.xlsx**<br>\n",
    "*Li, P., Ma, C., Li, J., You, S., Dang, L., Wu, J., Hao, Z., Li, J., Zhi, Y., Chen, L., & Sun, S. (2022). Proteomic characterization of four subtypes of M2 macrophages derived from human THP-1 cells. Journal of Zhejiang University. Science. B, 23(5), 407–422. https://doi.org/10.1631/jzus.B2100930*\n",
    "<br><br>\n",
    "* **EXPERIMENT 3:** ./data/processed/2021_Pengfei LI_34267761/**THP1_global_M0_M1_M2_proteins.xlsx**<br>\n",
    "*Li, P., Hao, Z., Wu, J., Ma, C., Xu, Y., Li, J., Lan, R., Zhu, B., Ren, P., Fan, D., & Sun, S. (2021). Comparative Proteomic Analysis of Polarized Human THP-1 and Mouse RAW264.7 Macrophages. Frontiers in Immunology, 12, 700009. https://doi.org/10.3389/FIMMU.2021.700009/FULL*\n",
    "<br><br>\n",
    "* **EXPERIMENT 4:** ./data/...\n",
    "<br><br>\n",
    "* **EXPERIMENT 5:** ./data/...\n",
    "<br><br>\n"
   ]
  },
  {
   "cell_type": "code",
   "execution_count": 3,
   "metadata": {},
   "outputs": [],
   "source": [
    "# Paths to each of the data sources\n",
    "path_2016_iwata = \"./data/processed/2016_Iwata_ncomms12849/SI_THP_RAW_proteomics_data_ss.xlsx\"\n",
    "path_2022_pengfei = \"./data/processed/2022_Pengfei LI_35557041/PD_Globalproteomics_2024.xlsx\"\n",
    "path_2021_pengfei = \"./data/processed/2021_Pengfei LI_34267761/THP1_global_M0_M1_M2_proteins.xlsx\"\n"
   ]
  },
  {
   "cell_type": "markdown",
   "metadata": {},
   "source": [
    "---\n",
    "### Dataset formats\n",
    "Each of the files/experiments prepared a specific format that require to be adapted to make it comparable with other datasetes. These are the different formats used in the meta-analysis:\n",
    "\n",
    "\n",
    "**EXPERIMENT 1: *SI_THP_RAW_proteomics_data_ss.xlsx***\n",
    "* **Accession:** This is a unique identifier assigned to a protein, often from databases like UniProt or RefSeq.\n",
    "* **Description:** A brief description of the protein's function or characteristics.\n",
    "* **Score:** A numerical value representing the confidence level of the protein identification. Higher scores indicate more reliable identifications.\n",
    "* **Coverage:** The percentage of the protein's amino acid sequence that has been covered by identified peptides.\n",
    "* **#Proteins:** The number of proteins associated with the identified peptides.\n",
    "* **#Unique Peptides:** The number of distinct peptide sequences identified.\n",
    "* **#Peptides:** The total number of peptides identified, including duplicates.\n",
    "* **#PSMs:** The number of Peptide Spectrum Matches, which represent the number of times a peptide sequence has been identified in the mass spectra.\n",
    "* **126/126 Count:** Counts at moment 0hr\n",
    "* **127/126 Count:** Counts at moment 8hr\n",
    "* **128/126 Count:** Counts at moment 12hr\n",
    "* **129/126 Count:** Counts at moment 24hr   <span style=\"color:red\"><--   We take this one as a reference</span>\n",
    "* **130/126 Count:** Counts at moment 48hr\n",
    "* **131/126 Count:** Counts at moment 72hr\n",
    "\n",
    "Additional information: https://www.biotech.iastate.edu/wp_biotech/wp-content/uploads/2023/07/ProteomeDiscovererInstructions.pdf\n",
    "<br><br>\n",
    "\n",
    "**EXPERIMENT 2: *PD_Globalprotomics_2024.xlsx***\n",
    "\n",
    "* **Protein FDR Confidence: Combined**: Reflects the level of confidence in the identification of each protein\n",
    "* **Master**: A unique identifier assigned to each protein group.\n",
    "* **Accession**: A database accession number (e.g., UniProt) for the protein.\n",
    "* **Description**: A textual description of the protein's function and characteristics.\n",
    "* **Sum PEP Score**: The sum of peptide-spectrum match (PSM) scores, indicating overall confidence in protein identification.\n",
    "* **# Peptides**: The number of peptides identified for the protein.\n",
    "* **# PSMs**: The total number of PSMs for the protein.\n",
    "* **# Protein Unique Peptides**: The number of peptides uniquely assigned to this protein.\n",
    "* **# Unique Peptides**: The total number of unique peptides identified.\n",
    "* **# AAs**: The number of amino acids in the protein sequence.\n",
    "* **MW [kDa]**: The molecular weight of the protein in kilodaltons.\n",
    "* **Score Sequest HT: Sequest HT**: The score assigned by the Sequest HT search engine for the protein identification.\n",
    "* **# Razor Peptides**: The number of peptides uniquely assigned to this protein group, helping to distinguish it from other similar proteins.\n",
    "* *Quantitative Proteomics Data*\n",
    "    * **Abundance Ratio**: These columns represent the relative abundance of a protein in different experimental conditions (e.g., M0, M1, M2a, M2b, M2c, M2d). The ratios are calculated by dividing the abundance of a protein in one condition by the abundance in another condition.\n",
    "    * **Abundances (Grouped)**: These columns represent the absolute or normalized abundance of a protein in each experimental group.\n",
    "    * **Abundances (Normalized)**: These columns represent the normalized abundance of a protein in each individual sample (F1-F18). Normalization is a process to account for experimental variability and ensure accurate comparison of protein abundance across samples.\n",
    "* **Modifications**: This column indicates any post-translational modifications (PTMs) identified on the protein, such as phosphorylation or acetylation.\n",
    "\n",
    "<br><br>\n",
    "**EXPERIMENT 3: *THP1_global_M0_M1_M2_proteins.xlsx***\n",
    "* **Checked:** Indicates whether the protein identification was manually checked.\n",
    "* **Protein FDR Confidence:** False Discovery Rate (FDR) confidence level for the protein identification.\n",
    "* **Combined:** Indicates whether the protein identification is based on a combination of different search engines or data sources.\n",
    "* **Master Unique Sequence ID:** A unique identifier assigned to the master protein.\n",
    "* **Protein Group IDs:** Identifiers for protein groups, which can include isoforms or related proteins.\n",
    "* **Accession:** Accession number from a protein database (e.g., UniProt).\n",
    "* **Description:** Brief description of the protein function.\n",
    "* **FASTA Title Lines:** The FASTA header line corresponding to the protein sequence.\n",
    "* **Exp. q-value: Combined:** The q-value (FDR-adjusted p-value) for the protein identification.\n",
    "* **Sum PEP Score:** The summed peptide expectation score for the protein.\n",
    "* **# Decoy Protein: Combined:** The number of decoy proteins identified in the analysis.\n",
    "* **Coverage [%]:** The percentage of the protein sequence covered by identified peptides.\n",
    "* **# Peptides:** The number of peptides identified for the protein.\n",
    "* **# PSMs:** The number of peptide spectrum matches (PSMs) identified.\n",
    "* **# Protein Unique Peptides:** The number of peptides unique to the protein.\n",
    "* **# Unique Peptides:** The number of unique peptide sequences identified.\n",
    "* **# AAs:** The number of amino acids in the protein sequence.\n",
    "* **MW [kDa]:** The molecular weight of the protein in kilodaltons.\n",
    "* **calc. pI:** The calculated isoelectric point of the protein.\n",
    "* **Score Sequest HT:** The score assigned by the Sequest HT search engine.\n",
    "* **Coverage [%] (by Search Engine): Sequest HT:** The coverage by Sequest HT.\n",
    "* **# PSMs (by Search Engine): Sequest HT:** The number of PSMs identified by Sequest HT.\n",
    "* **# Peptides (by Search Engine): Sequest HT:** The number of peptides identified by Sequest HT.\n",
    "* **# Razor Peptides:** The number of razor peptides, which are uniquely assigned to a single protein group.\n",
    "* Quantitative Data:\n",
    "    * **Abundance Ratio: (M1) / (M0):** The ratio of protein abundance between two conditions (M1 and M0).\n",
    "    * **Abundance Ratio (log2): (M1) / (M0):** The log2-transformed abundance ratio.\n",
    "    * **Abundance Ratio P-Value:** The p-value for the difference in abundance between the two conditions.\n",
    "    * **Abundance Ratio Adj. P-Value:** The adjusted p-value for the abundance ratio.\n",
    "    * **Abundance Ratio Variability [%]:** The variability in the abundance ratio.\n",
    "    * **Abundance Ratio Weight:** The weight assigned to the abundance ratio.\n",
    "    * **Abundances (Grouped): M0, M1, M2:** The grouped abundance values for each condition.\n",
    "    * **Abundances (Grouped) CV [%]:** The coefficient of variation for the grouped abundance values.\n",
    "    * **Abundances (Grouped) Count:** The number of replicates for each condition.\n",
    "    * **Abundances (Scaled):** The scaled abundance values for each sample.\n",
    "    * **Abundances (Normalized):** The normalized abundance values for each sample.\n",
    "    * **Abundance:** The absolute abundance value for each sample.\n",
    "    * **Abundances Count:** The number of replicates for each sample.\n",
    "* Sample Information:  <span style=\"color:red\"><-- TODO: Review </span>\n",
    "    * **Found in File:** The file where the protein was identified.\n",
    "    * **Found in Sample:** The sample name where the protein was identified.\n",
    "    * **Found in Sample Group:** The sample group where the protein was identified.\n",
    "    * **# Protein Groups:** The number of protein groups identified in the sample.\n",
    "    * **Modifications:** Any identified post-translational modifications on the protein."
   ]
  },
  {
   "cell_type": "markdown",
   "metadata": {},
   "source": [
    "---\n",
    "# Meta-analysis objectives\n",
    "\n",
    "✅ **Available**<br>\n",
    "❌ **Not available**<br><br>\n",
    "\n",
    "<table>\n",
    "  <tr style=\"background-color: #cccccc; align: left\">\n",
    "    <th>Study / Objective</th>\n",
    "    <th>Quantitative proteomic<br>profiling of M0, M1 and M2</th>\n",
    "    <th>Venn diagram</th>\n",
    "    <th>Top 20 Up/Down represented<br>proteins in M1 & M2 vs M0</th>\n",
    "    <th>Pathway Analysis (GSEA)<br> of top represented prot.</th>\n",
    "  </tr>\n",
    "  <tr>\n",
    "    <td style=\"background-color: #eeeeee;\">Iwata et al. (2016)</td>\n",
    "    <td>❌</td>\n",
    "    <td>✅</td>\n",
    "    <td>✅</td>\n",
    "    <td>✅</td>\n",
    "  </tr>\n",
    "  <tr>\n",
    "    <td style=\"background-color: #eeeeee;\">Pengfei et al. (2022)</td>\n",
    "    <td>Cell 5</td>\n",
    "    <td>✅</td>\n",
    "    <td>✅</td>\n",
    "    <td>✅</td>\n",
    "  </tr>\n",
    "  <tr>\n",
    "    <td style=\"background-color: #eeeeee;\">Pengfei et al. (2021)</td>\n",
    "    <td>Cell 5</td>\n",
    "    <td>✅</td>\n",
    "    <td>✅</td>\n",
    "    <td>✅</td>\n",
    "  </tr>\n",
    "  <tr style=\"font-weight: bold; background-color: #efefef;\">\n",
    "    <td>Comparison</td>\n",
    "    <td>No</td>\n",
    "    <td>Yes</td>\n",
    "    <td>Yes</td>\n",
    "    <td>Yes</td>\n",
    "  </tr></table>\n",
    "\n",
    "<br><br>\n",
    "\n",
    "**Goals:**\n",
    "1. Distinct Phenotypic Profiles: Understanding the unique protein profiles associated with each polarization state.\n",
    "2. Shared and Unique Pathways: Pinpointing common and specific pathways that characterize different macrophage phenotypes.\n",
    "<br><br><br>\n",
    "\n",
    "**1. Top 20 Up/Down represented proteins in M1 & M2 vs M0   <->  Differential Protein Expression**\n",
    "* Pairwise Comparisons: Compare M0 vs. M1, M0 vs. M2, and M1 vs. M2 to identify proteins that are upregulated or downregulated in specific polarization states.\n",
    "* Fold Change Analysis: Quantify the magnitude of changes in protein expression.\n",
    "* Statistical Significance: Assess the significance of changes using statistical tests like t-tests or ANOVA.\n",
    "\n",
    "Ideas:\n",
    "* Barplot with proteins found in M0, M1 and M2 (per study)\n",
    "* 2x Dendograms with top over/down represented proteins of M1 and M2 vs M0  (per study)\n",
    "\n",
    "\n",
    "**2. Pathway Analysis (GSEA)   <->   Functional Enrichment Analysis**\n",
    "* Gene Ontology (GO) Enrichment: Identify biological processes, molecular functions, and cellular components that are enriched in differentially expressed proteins.\n",
    "* Pathway Analysis: Determine which signaling pathways are activated or inhibited in different polarization states.\n",
    "* Protein-Protein Interaction Network Analysis: Visualize the interactions between differentially expressed proteins to identify key regulatory hubs."
   ]
  },
  {
   "cell_type": "markdown",
   "metadata": {},
   "source": [
    "---\n",
    "### Load the Data"
   ]
  },
  {
   "cell_type": "code",
   "execution_count": 4,
   "metadata": {},
   "outputs": [
    {
     "name": "stderr",
     "output_type": "stream",
     "text": [
      "/Users/gerardfont/Documents/Gerard/Master_BiomedicalDataScience/00_Master_THESIS/code/pyMSpro/venv/lib/python3.9/site-packages/openpyxl/worksheet/_reader.py:329: UserWarning: Unknown extension is not supported and will be removed\n",
      "  warn(msg)\n",
      "/Users/gerardfont/Documents/Gerard/Master_BiomedicalDataScience/00_Master_THESIS/code/pyMSpro/venv/lib/python3.9/site-packages/openpyxl/worksheet/_reader.py:329: UserWarning: Unknown extension is not supported and will be removed\n",
      "  warn(msg)\n",
      "/Users/gerardfont/Documents/Gerard/Master_BiomedicalDataScience/00_Master_THESIS/code/pyMSpro/venv/lib/python3.9/site-packages/openpyxl/worksheet/_reader.py:329: UserWarning: Unknown extension is not supported and will be removed\n",
      "  warn(msg)\n"
     ]
    }
   ],
   "source": [
    "# EXPERIMENT 1\n",
    "# Load the data from different sheets\n",
    "df_2016_iwata_M0 = pd.read_excel(path_2016_iwata, sheet_name=\"THP_M0\", index_col=0) # Index = Accession\n",
    "df_2016_iwata_M1 = pd.read_excel(path_2016_iwata, sheet_name=\"THP_M1\", index_col=0) \n",
    "df_2016_iwata_M2 = pd.read_excel(path_2016_iwata, sheet_name=\"THP_M2\", index_col=0) \n",
    "\n",
    "# Merge the three datasets\n",
    "df_2016_iwata = pd.concat([df_2016_iwata_M0, df_2016_iwata_M1, df_2016_iwata_M2], keys=[\"M0\", \"M1\", \"M2\"], names=[\"Type\"])\n",
    "df_2016_iwata = df_2016_iwata.reset_index(level=0).rename(columns={\"level_0\": \"Type\"})\n",
    "\n",
    "# EXPERIMENT 2\n",
    "df_2022_pengfei = pd.read_excel(path_2022_pengfei, sheet_name=\"Proteins\", index_col=2) # Index = Accession\n",
    "\n",
    "# EXPERIMENT 3\n",
    "df_2021_pengfei = pd.read_excel(path_2021_pengfei, sheet_name=\"Proteins\", index_col=5) # Index = Accession"
   ]
  },
  {
   "cell_type": "markdown",
   "metadata": {},
   "source": [
    "---\n",
    "\n",
    "### Exploratory Data Analysis\n",
    "Initial exploration of the datasets to understand the structure of the datasets, identify missing values, outliers, patterns,...\n",
    "\n",
    "**1. Quantitative proteomic profiling of M0, M1 and M2**"
   ]
  },
  {
   "cell_type": "code",
   "execution_count": 5,
   "metadata": {},
   "outputs": [
    {
     "name": "stdout",
     "output_type": "stream",
     "text": [
      "Total number of proteins found in each dataset (include proteins found in M0, M1 and M2):\n",
      "2016 Iwata et al.: 9048\n",
      "2022 Pengfei et al.: 6616\n",
      "2021 Pengfei et al.: 7349\n"
     ]
    }
   ],
   "source": [
    "print(\"Total number of proteins found in each dataset (include proteins found in M0, M1 and M2):\")\n",
    "print(\"2016 Iwata et al.:\", len(df_2016_iwata.index.unique()))\n",
    "print(\"2022 Pengfei et al.:\", len(df_2022_pengfei.index.unique()))\n",
    "print(\"2021 Pengfei et al.:\", len(df_2021_pengfei.index.unique()))"
   ]
  },
  {
   "cell_type": "markdown",
   "metadata": {},
   "source": [
    "Checking Null values:"
   ]
  },
  {
   "cell_type": "code",
   "execution_count": 6,
   "metadata": {},
   "outputs": [
    {
     "name": "stdout",
     "output_type": "stream",
     "text": [
      "Proteins with null values in the column ['126/126']: 46\n",
      "This proteins MUST be removed from the dataset as they should have 1.00\n",
      "\n",
      "Proteins with null values in the column ['Abundance Ratio: (M1) / (M0)']: 1135\n",
      "Proteins with null values in the column ['Abundance Ratio: (M2) / (M0)']: 1169\n",
      "Proteins with null values in the column ['Abundance Ratio: (M2) / (M1)']: 1247\n"
     ]
    }
   ],
   "source": [
    "# Experiment 1: 2016 Iwata et al.\n",
    "print(\"Proteins with null values in the column ['126/126']:\", df_2016_iwata[\"126/126\"].isnull().sum())\n",
    "print(\"This proteins MUST be removed from the dataset as they should have 1.00\")\n",
    "print(\"\")\n",
    "\n",
    "# Expermient 2: 2022 Pengfei et al.\n",
    "#print(\"Null values \n",
    "\n",
    "# Expermient 3: 2021 Pengfei et al.\n",
    "# print the number of rows with null values in all these 3 columns Abundance Ratio: (M1) / (M0)\tAbundance Ratio: (M2) / (M0)\tAbundance Ratio: (M2) / (M1)\n",
    "print(\"Proteins with null values in the column ['Abundance Ratio: (M1) / (M0)']:\", df_2021_pengfei[\"Abundance Ratio: (M1) / (M0)\"].isnull().sum())\n",
    "print(\"Proteins with null values in the column ['Abundance Ratio: (M2) / (M0)']:\", df_2021_pengfei[\"Abundance Ratio: (M2) / (M0)\"].isnull().sum())\n",
    "print(\"Proteins with null values in the column ['Abundance Ratio: (M2) / (M1)']:\", df_2021_pengfei[\"Abundance Ratio: (M2) / (M1)\"].isnull().sum())\n"
   ]
  },
  {
   "cell_type": "markdown",
   "metadata": {},
   "source": [
    "Filtering Null values:\n"
   ]
  },
  {
   "cell_type": "code",
   "execution_count": 7,
   "metadata": {},
   "outputs": [],
   "source": [
    "# Filter out records with blank values in the column \"126/126\" (which should contain 1.00)\n",
    "df_2016_iwata = df_2016_iwata[~df_2016_iwata[\"126/126\"].isnull()]\n"
   ]
  },
  {
   "cell_type": "code",
   "execution_count": 8,
   "metadata": {},
   "outputs": [],
   "source": [
    "#print(df_2022_pengfei.describe())\n",
    "#df_2022_pengfei"
   ]
  },
  {
   "cell_type": "markdown",
   "metadata": {},
   "source": [
    "Adding new features:"
   ]
  },
  {
   "cell_type": "code",
   "execution_count": 9,
   "metadata": {},
   "outputs": [
    {
     "data": {
      "text/plain": [
       "\"\\n# Abundance ratio of M1/M0\\ndf_2022_pengfei['Abundance Ratio: M1/M0'] = (\\n    (df_2022_pengfei['Abundances (Normalized): F4: Sample, M1'] + \\n     df_2022_pengfei['Abundances (Normalized): F5: Sample, M1'] + \\n     df_2022_pengfei['Abundances (Normalized): F6: Sample, M1']) / 3) / (\\n         (df_2022_pengfei['Abundances (Normalized): F1: Control, M0'] + \\n          df_2022_pengfei['Abundances (Normalized): F2: Control, M0'] + \\n          df_2022_pengfei['Abundances (Normalized): F3: Control, M0']) / 3)\\n\""
      ]
     },
     "execution_count": 9,
     "metadata": {},
     "output_type": "execute_result"
    }
   ],
   "source": [
    "ABUNDANCE_RATIO_THRESHOLD = 1.5\n",
    "\n",
    "# EXPERIMENT 2: df_2022_pengfei\n",
    "#   Abundance ratio average for M2\n",
    "#   Type, inferred using the abundance ratio\n",
    "groupM2 = ['Abundance Ratio: (M2a) / (M1)', 'Abundance Ratio: (M2b) / (M1)', 'Abundance Ratio: (M2c) / (M1)', 'Abundance Ratio: (M2d) / (M1)']\n",
    "df_2022_pengfei[\"Abundance Ratio: M2 / M1\"] = df_2022_pengfei[groupM2].mean(axis=1)\n",
    "\n",
    "groupM2 = ['Abundance Ratio: (M2a) / (M0)', 'Abundance Ratio: (M2b) / (M0)', 'Abundance Ratio: (M2c) / (M0)', 'Abundance Ratio: (M2d) / (M0)']\n",
    "df_2022_pengfei[\"Abundance Ratio: M2 / M0\"] = df_2022_pengfei[groupM2].mean(axis=1)\n",
    "\n",
    "\"\"\"\n",
    "# Abundance ratio of M1/M0\n",
    "df_2022_pengfei['Abundance Ratio: M1/M0'] = (\n",
    "    (df_2022_pengfei['Abundances (Normalized): F4: Sample, M1'] + \n",
    "     df_2022_pengfei['Abundances (Normalized): F5: Sample, M1'] + \n",
    "     df_2022_pengfei['Abundances (Normalized): F6: Sample, M1']) / 3) / (\n",
    "         (df_2022_pengfei['Abundances (Normalized): F1: Control, M0'] + \n",
    "          df_2022_pengfei['Abundances (Normalized): F2: Control, M0'] + \n",
    "          df_2022_pengfei['Abundances (Normalized): F3: Control, M0']) / 3)\n",
    "\"\"\"\n"
   ]
  },
  {
   "cell_type": "markdown",
   "metadata": {},
   "source": [
    "Boxplots:"
   ]
  },
  {
   "cell_type": "code",
   "execution_count": 12,
   "metadata": {},
   "outputs": [
    {
     "data": {
      "image/png": "[encoded data removed]",
      "text/plain": [
       "<Figure size 1000x600 with 1 Axes>"
      ]
     },
     "metadata": {},
     "output_type": "display_data"
    },
    {
     "data": {
      "text/plain": [
       "'\\nplt.figure(figsize=(10, 6))\\nsns.boxplot(data=df_2022_pengfei, x=\"Type\", y=\"Abundance Ratio: (M1) / (M0)\")\\nplt.title(\"Abundance Ratios (24h) in 2022 Pengfei et al.\")\\nplt.show()\\n'"
      ]
     },
     "execution_count": 12,
     "metadata": {},
     "output_type": "execute_result"
    }
   ],
   "source": [
    "# Experiment 1: Boxplot of abundance ratios\n",
    "plt.figure(figsize=(10, 6))\n",
    "sns.boxplot(data=df_2016_iwata, x=\"Type\", y=\"129/126\")\n",
    "plt.title(\"Abundance Ratios (24h) in 2016 Iwata et al.\")\n",
    "plt.show()\n",
    "\n",
    "# Experiment 2: Boxplot of abundance ratios\n",
    "\"\"\"\n",
    "plt.figure(figsize=(10, 6))\n",
    "sns.boxplot(data=df_2022_pengfei, x=\"Type\", y=\"Abundance Ratio: (M1) / (M0)\")\n",
    "plt.title(\"Abundance Ratios (24h) in 2022 Pengfei et al.\")\n",
    "plt.show()\n",
    "\"\"\"\n",
    "\n",
    "\n"
   ]
  },
  {
   "cell_type": "code",
   "execution_count": 13,
   "metadata": {},
   "outputs": [
    {
     "data": {
      "image/png": "[encoded data removed]",
      "text/plain": [
       "<Figure size 640x480 with 1 Axes>"
      ]
     },
     "metadata": {},
     "output_type": "display_data"
    }
   ],
   "source": [
    "# Abundance ratios (Experiment 2)\n",
    "df_2022_pengfei.boxplot(column=[\"Abundance Ratio: M2 / M1\", \"Abundance Ratio: M2 / M0\"])\n",
    "plt.show()"
   ]
  },
  {
   "cell_type": "code",
   "execution_count": null,
   "metadata": {},
   "outputs": [],
   "source": [
    "\"\"\"\n",
    "# Dendogram for Experiment 3 (df_2021_pengfei)\n",
    "# Use these columns \"Abundance Ratio: (M1) / (M0)\"\t\"Abundance Ratio: (M2) / (M0)\"\t\"Abundance Ratio: (M2) / (M1)\"00_simple_pipeline\n",
    "import pandas as pd\n",
    "import seaborn as sns\n",
    "import matplotlib.pyplot as plt\n",
    "from scipy.cluster.hierarchy import linkage, dendrogram\n",
    "from scipy.spatial.distance import pdist\n",
    "from sklearn.preprocessing import StandardScaler\n",
    "\n",
    "# Select the columns of interest\n",
    "columns_of_interest = [\"Abundance Ratio: (M1) / (M0)\", \"Abundance Ratio: (M2) / (M0)\", \"Abundance Ratio: (M2) / (M1)\"]\n",
    "data = df_2021_pengfei[columns_of_interest]\n",
    "\n",
    "data\n",
    "# check for missing values\n",
    "print(data.isnull().sum())\n",
    "\n",
    "# replace missign values with 0\n",
    "data = data.fillna(0)\n",
    "\n",
    "print(data.isnull().sum())\n",
    "\n",
    "\n",
    "# Standardize the data\n",
    "scaler = StandardScaler()\n",
    "data_scaled = scaler.fit_transform(data)\n",
    "\n",
    "# Compute linkage matrix for clustering\n",
    "linkage_matrix = linkage(pdist(data_scaled), method='ward')\n",
    "\n",
    "# Plot the dendrogram\n",
    "plt.figure(figsize=(10, 7))\n",
    "dendrogram(linkage_matrix, labels=data.index, leaf_rotation=90)\n",
    "plt.title(\"Dendrogram\")\n",
    "plt.xlabel(\"Samples\")\n",
    "plt.ylabel(\"Distance\")\n",
    "plt.show()\n",
    "\n",
    "# Plot the heatmap with dendrogram ordering\n",
    "sns.clustermap(data_scaled, row_linkage=linkage_matrix, col_cluster=False, cmap=\"viridis\", figsize=(10, 8))\n",
    "plt.title(\"Heatmap with Dendrogram Ordering\")\n",
    "plt.show()\n",
    "\"\"\"\n"
   ]
  },
  {
   "cell_type": "code",
   "execution_count": null,
   "metadata": {},
   "outputs": [],
   "source": [
    "\"\"\"\n",
    "# Aggregated bar plot of number of proteins found in all experiments by cell type\n",
    "df_2016_iwata.groupby(\"Type\").count().plot(kind=\"bar\", y=\"Accession\")\n",
    "df_2022_pengfei.groupby(\"Type\").count().plot(kind=\"bar\", y=\"Accession\")\n",
    "df_2021_pengfei.groupby(\"Type\").count().plot(kind=\"bar\", y=\"Accession\")\n",
    "\n",
    "plt.show()\n",
    "\"\"\""
   ]
  },
  {
   "cell_type": "code",
   "execution_count": null,
   "metadata": {},
   "outputs": [],
   "source": [
    "\"\"\"\n",
    "# Bar plot of the number of proteins found in each dataset (accumulated with M0, M1 and M2 in different colors)\n",
    "num_prot_exp1 = len(df_2016_iwata.index.unique())\n",
    "num_prot_exp2 = len(df_2022_pengfei.index.unique())\n",
    "num_prot_exp3 = len(df_2021_pengfei.index.unique())\n",
    "\n",
    "# Use the column type to count each cell type\n",
    "num_prot_exp1_m0 = len(df_2016_iwata[df_2016_iwata[\"Type\"] == \"M0\"].index.unique())\n",
    "num_prot_exp1_m1 = len(df_2016_iwata[df_2016_iwata[\"Type\"] == \"M1\"].index.unique())\n",
    "num_prot_exp1_m2 = len(df_2016_iwata[df_2016_iwata[\"Type\"] == \"M2\"].index.unique())\n",
    "\n",
    "num_prot_exp2_m0 = len(df_2022_pengfei[df_2022_pengfei[\"Type\"] == \"M0\"].index.unique())\n",
    "num_prot_exp2_m1 = len(df_2022_pengfei[df_2022_pengfei[\"Type\"] == \"M1\"].index.unique())\n",
    "num_prot_exp2_m2 = len(df_2022_pengfei[df_2022_pengfei[\"Type\"] == \"M2\"].index.unique())\n",
    "\n",
    "num_prot_exp3_m0 = len(df_2021_pengfei[df_2021_pengfei[\"Type\"] == \"M0\"].index.unique())\n",
    "num_prot_exp3_m1 = len(df_2021_pengfei[df_2021_pengfei[\"Type\"] == \"M1\"].index.unique())\n",
    "\n",
    "num_prot_exp3_m2 = len(df_2021_pengfei[df_2021_pengfei[\"Type\"] == \"M2\"].index.unique())\n",
    "\n",
    "# Create a bar plot\n",
    "plt.figure(figsize=(10, 5))\n",
    "plt.bar([1, 2, 3], [num_prot_exp1, num_prot_exp2, num_prot_exp3], color=\"gray\", label=\"All\")\n",
    "plt.bar([1, 2, 3], [num_prot_exp1_m0, num_prot_exp2_m0, num_prot_exp3_m0], color=\"blue\", label=\"M0\")\n",
    "plt.bar([1, 2, 3], [num_prot_exp1_m1, num_prot_exp2_m1, num_prot_exp3_m1], color=\"red\", label=\"M1\")\n",
    "plt.bar([1, 2, 3], [num_prot_exp1_m2, num_prot_exp2_m2, num_prot_exp3_m2], color=\"green\", label=\"M2\")\n",
    "\n",
    "plt.xticks([1, 2, 3], [\"2016 Iwata et al.\", \"2022 Pengfei et al.\", \"2021 Pengfei et al.\"])\n",
    "plt.ylabel(\"Number of proteins\")\n",
    "plt.legend()\n",
    "plt.title(\"Number of proteins found in each dataset\")\n",
    "plt.show()\n",
    "\"\"\""
   ]
  },
  {
   "cell_type": "code",
   "execution_count": 14,
   "metadata": {},
   "outputs": [
    {
     "data": {
      "image/png": "[encoded data removed]",
      "text/plain": [
       "<Figure size 640x480 with 1 Axes>"
      ]
     },
     "metadata": {},
     "output_type": "display_data"
    }
   ],
   "source": [
    "# Venn diagram\n",
    "exp1_proteinsM0 = set(df_2016_iwata_M0.index)\n",
    "exp1_proteinsM1 = set(df_2016_iwata_M1.index)\n",
    "exp1_proteinsM2 = set(df_2016_iwata_M2.index)\n",
    "\n",
    "venn3([exp1_proteinsM0, exp1_proteinsM1, exp1_proteinsM2], set_labels = ('M0 (-)', 'M1 (IFN-γ)', 'M2 (IL-4)'), set_colors=('mediumaquamarine', 'slategrey', 'gold'))\n",
    "plt.title(\"THP-1 cells (Iwata H. et al. 2016)\")\n",
    "plt.show()"
   ]
  },
  {
   "cell_type": "markdown",
   "metadata": {},
   "source": [
    "### TODO: Check how they were stimulated and remove INF-y and IL-4 if needed\n",
    "\n",
    "### TODO: Experiment 3Use columns like \"Found in Sample Group: M2\""
   ]
  },
  {
   "cell_type": "code",
   "execution_count": 15,
   "metadata": {},
   "outputs": [
    {
     "data": {
      "image/png": "[encoded data removed]",
      "text/plain": [
       "<Figure size 640x480 with 1 Axes>"
      ]
     },
     "metadata": {},
     "output_type": "display_data"
    }
   ],
   "source": [
    "# Venn diagram for df_2022_shisheng (M0, M1 and M2 as a whole)\n",
    "MIN_ABUNDANCE = 75\n",
    "\n",
    "exp2_proteinsM0 = set(df_2022_pengfei[df_2022_pengfei[\"Abundances (Grouped): M0\"] > MIN_ABUNDANCE].index)\n",
    "exp2_proteinsM1 = set(df_2022_pengfei[df_2022_pengfei[\"Abundances (Grouped): M1\"] > MIN_ABUNDANCE].index)\n",
    "exp2_proteinsM2a = set(df_2022_pengfei[df_2022_pengfei[\"Abundances (Grouped): M2a\"] > MIN_ABUNDANCE].index)\n",
    "exp2_proteinsM2b = set(df_2022_pengfei[df_2022_pengfei[\"Abundances (Grouped): M2b\"] > MIN_ABUNDANCE].index)\n",
    "exp2_proteinsM2c = set(df_2022_pengfei[df_2022_pengfei[\"Abundances (Grouped): M2c\"] > MIN_ABUNDANCE].index)\n",
    "exp2_proteinsM2d = set(df_2022_pengfei[df_2022_pengfei[\"Abundances (Grouped): M2d\"] > MIN_ABUNDANCE].index)\n",
    "\n",
    "exp2_proteinsM2 = exp2_proteinsM2a.union(exp2_proteinsM2b).union(exp2_proteinsM2c).union(exp2_proteinsM2d)\n",
    "\n",
    "# Venn diagram\n",
    "plt.title(\"THP-1 cells (Pengfei LI et al. 2022)\")\n",
    "venn3([exp2_proteinsM0, exp2_proteinsM1, exp2_proteinsM2], set_labels = ('M0 (-)', 'M1 (IFN-γ)', 'M2 (IL-4)'), set_colors=('mediumaquamarine', 'slategrey', 'gold'))\n",
    "plt.show()"
   ]
  },
  {
   "cell_type": "code",
   "execution_count": 16,
   "metadata": {},
   "outputs": [
    {
     "data": {
      "image/png": "[encoded data removed]",
      "text/plain": [
       "<Figure size 640x480 with 1 Axes>"
      ]
     },
     "metadata": {},
     "output_type": "display_data"
    }
   ],
   "source": [
    "\n",
    "\"\"\"\n",
    "exp3_proteinsM0 = set(df_2021_pengfei[df_2021_pengfei[\"Abundances (Grouped): M0\"] > MIN_ABUNDANCE].index)\n",
    "exp3_proteinsM1 = set(df_2021_pengfei[df_2021_pengfei[\"Abundances (Grouped): M1\"] > MIN_ABUNDANCE].index)\n",
    "exp3_proteinsM2 = set(df_2021_pengfei[df_2021_pengfei[\"Abundances (Grouped): M2\"] > MIN_ABUNDANCE].index)\n",
    "\"\"\"\n",
    "exp3_proteinsM0 = set(df_2021_pengfei[df_2021_pengfei[\"Found in Sample Group: M0\"] != \"Not Found\"].index)\n",
    "exp3_proteinsM1 = set(df_2021_pengfei[df_2021_pengfei[\"Found in Sample Group: M1\"] != \"Not Found\"].index)\n",
    "exp3_proteinsM2 = set(df_2021_pengfei[df_2021_pengfei[\"Found in Sample Group: M2\"] != \"Not Found\"].index)\n",
    "\n",
    "# Venn diagram\n",
    "plt.title(\"THP-1 cells (Pengfei LI et al. 2021)\")\n",
    "venn3([exp3_proteinsM0, exp3_proteinsM1, exp3_proteinsM2], set_labels = ('M0 (-)', 'M1 (IFN-γ)', 'M2 (IL-4)'), set_colors=('mediumaquamarine', 'slategrey', 'gold'))\n",
    "plt.show()\n",
    "\n",
    "#print (df_2021_pengfei[df_2021_pengfei[\"Found in Sample Group: M1\"] != \"Not Found\"].describe())"
   ]
  },
  {
   "cell_type": "markdown",
   "metadata": {},
   "source": [
    "### Proteins found in all the datasets for each of the states\n",
    "\n",
    "**M0**\n"
   ]
  },
  {
   "cell_type": "code",
   "execution_count": 17,
   "metadata": {},
   "outputs": [
    {
     "name": "stdout",
     "output_type": "stream",
     "text": [
      "Common proteins in M0:  2059\n",
      "['P49207', 'P16930', 'O95139', 'P61619', 'P86790', 'P09467', 'O15305', 'P54727', 'Q9Y678', 'Q69YN2']\n"
     ]
    }
   ],
   "source": [
    "exp1_m0_only = exp1_proteinsM0 - exp2_proteinsM0 - exp3_proteinsM0\n",
    "exp2_m0_only = exp2_proteinsM0 - exp1_proteinsM0 - exp3_proteinsM0\n",
    "exp3_m0_only = exp3_proteinsM0 - exp1_proteinsM0 - exp2_proteinsM0\n",
    "\n",
    "common_proteins = exp1_proteinsM0.intersection(exp2_proteinsM0).intersection(exp3_proteinsM0)\n",
    "\n",
    "print(\"Common proteins in M0: \", len(common_proteins))\n",
    "print(list(common_proteins)[:10])"
   ]
  },
  {
   "cell_type": "markdown",
   "metadata": {},
   "source": [
    "**M1**"
   ]
  },
  {
   "cell_type": "code",
   "execution_count": 18,
   "metadata": {},
   "outputs": [
    {
     "name": "stdout",
     "output_type": "stream",
     "text": [
      "Common proteins in M1:  0\n",
      "set()\n"
     ]
    }
   ],
   "source": [
    "exp1_m1_only = exp1_proteinsM1 - exp1_proteinsM0 - exp1_proteinsM2\n",
    "exp2_m1_only = exp2_proteinsM1 - exp2_proteinsM0 - exp2_proteinsM2\n",
    "exp3_m1_only = exp3_proteinsM1 - exp3_proteinsM0 - exp3_proteinsM2\n",
    "\n",
    "# Common proteins\n",
    "common_proteins = exp1_m1_only.intersection(exp2_m1_only).intersection(exp3_m1_only)\n",
    "print(\"Common proteins in M1: \", len(common_proteins))\n",
    "print(common_proteins)\n",
    "\n",
    "\n"
   ]
  },
  {
   "cell_type": "markdown",
   "metadata": {},
   "source": [
    "**M2**"
   ]
  },
  {
   "cell_type": "code",
   "execution_count": 19,
   "metadata": {},
   "outputs": [
    {
     "name": "stdout",
     "output_type": "stream",
     "text": [
      "Common proteins in M2:  0\n",
      "set()\n"
     ]
    }
   ],
   "source": [
    "exp1_m2_only = exp1_proteinsM2 - exp1_proteinsM0 - exp1_proteinsM1\n",
    "exp2_m2_only = exp2_proteinsM2 - exp2_proteinsM0 - exp2_proteinsM1\n",
    "exp3_m2_only = exp3_proteinsM2 - exp3_proteinsM0 - exp3_proteinsM1\n",
    "\n",
    "# Common proteins\n",
    "common_proteins = exp1_m2_only.intersection(exp2_m2_only).intersection(exp3_m2_only)\n",
    "print(\"Common proteins in M2: \", len(common_proteins))\n",
    "print(common_proteins)\n"
   ]
  },
  {
   "cell_type": "markdown",
   "metadata": {},
   "source": [
    "### Proteins with high abudance ratio in M1 vs M0\n",
    "\n"
   ]
  },
  {
   "cell_type": "code",
   "execution_count": null,
   "metadata": {},
   "outputs": [],
   "source": [
    "FOLD_CHANGE_THRESHOLD = 1.5"
   ]
  },
  {
   "cell_type": "code",
   "execution_count": null,
   "metadata": {},
   "outputs": [],
   "source": [
    "# Get the proteins with high abundance in M1 vs M0\n",
    "exp1_m1_vs_m0 = \n"
   ]
  },
  {
   "cell_type": "code",
   "execution_count": null,
   "metadata": {},
   "outputs": [],
   "source": []
  },
  {
   "cell_type": "code",
   "execution_count": null,
   "metadata": {},
   "outputs": [],
   "source": []
  },
  {
   "cell_type": "code",
   "execution_count": null,
   "metadata": {},
   "outputs": [],
   "source": []
  },
  {
   "cell_type": "code",
   "execution_count": null,
   "metadata": {},
   "outputs": [],
   "source": [
    "# Take the proteins with higher variance between M1 and M2\n",
    "# Calculate the variance for each protein at point 131/126\n",
    "#dataM1[\"VarianceVsM2\"] = dataM1[\"131/126\"] - dataM2[\"131/126\"]\n",
    "dataM1[\"VarianceVsM2\"] = np.log10(dataM1[\"129/126\"]) - np.log10(dataM2[\"129/126\"])\n",
    "dataM1[\"VarianceVsM2\"] = dataM1[\"VarianceVsM2\"]\n",
    "\n",
    "# Sort the proteins by variance\n",
    "dataM1 = dataM1.sort_values(by=\"VarianceVsM2\", ascending=False)\n",
    "\n",
    "# Take the top 10 proteins\n",
    "top_proteins = dataM1.head(12)\n",
    "\n",
    "# Print the top proteins\n",
    "print(\"Top proteins with higher variance between M1 and M2\")\n",
    "print(top_proteins.index)\n",
    "print(top_proteins[\"VarianceVsM2\"])\n",
    "\n",
    "\n"
   ]
  },
  {
   "cell_type": "code",
   "execution_count": null,
   "metadata": {},
   "outputs": [],
   "source": []
  },
  {
   "cell_type": "code",
   "execution_count": null,
   "metadata": {},
   "outputs": [],
   "source": [
    "# Load count table\n",
    "data_src = \"./data/processed/2022_Shisheng SUN_35557041/PD_Globalproteomics_2022.xlsx\"\n",
    "\n",
    "# Load the data (index is the second column)\n",
    "df = pd.read_excel(data_src, sheet_name=\"Proteins\", index_col=2)\n",
    "\n",
    "# Print the columns\n",
    "print(df.columns)\n"
   ]
  },
  {
   "cell_type": "markdown",
   "metadata": {},
   "source": [
    "### Matrix format\n",
    "\n",
    "* **Protein FDR Confidence: Combined**: Reflects the level of confidence in the identification of each protein\n",
    "* **Master**: A unique identifier assigned to each protein group.\n",
    "* **Accession**: A database accession number (e.g., UniProt) for the protein.\n",
    "* **Description**: A textual description of the protein's function and characteristics.\n",
    "* **Sum PEP Score**: The sum of peptide-spectrum match (PSM) scores, indicating overall confidence in protein identification.\n",
    "* **# Peptides**: The number of peptides identified for the protein.\n",
    "* **# PSMs**: The total number of PSMs for the protein.\n",
    "* **# Protein Unique Peptides**: The number of peptides uniquely assigned to this protein.\n",
    "* **# Unique Peptides**: The total number of unique peptides identified.\n",
    "* **# AAs**: The number of amino acids in the protein sequence.\n",
    "* **MW [kDa]**: The molecular weight of the protein in kilodaltons.\n",
    "* **Score Sequest HT: Sequest HT**: The score assigned by the Sequest HT search engine for the protein identification.\n",
    "* **# Razor Peptides**: The number of peptides uniquely assigned to this protein group, helping to distinguish it from other similar proteins.\n",
    "\n",
    "Quantitative Proteomics Data\n",
    "\n",
    "* **Abundance Ratio**: These columns represent the relative abundance of a protein in different experimental conditions (e.g., M0, M1, M2a, M2b, M2c, M2d). The ratios are calculated by dividing the abundance of a protein in one condition by the abundance in another condition.\n",
    "* **Abundances (Grouped)**: These columns represent the absolute or normalized abundance of a protein in each experimental group.\n",
    "* **Abundances (Normalized)**: These columns represent the normalized abundance of a protein in each individual sample (F1-F18). Normalization is a process to account for experimental variability and ensure accurate comparison of protein abundance across samples.\n",
    "\n",
    "Additional Information\n",
    "\n",
    "* **Modifications**: This column indicates any post-translational modifications (PTMs) identified on the protein, such as phosphorylation or acetylation."
   ]
  },
  {
   "cell_type": "markdown",
   "metadata": {},
   "source": [
    "---\n",
    "\n",
    "\n",
    "**Filter the low quality data**\n",
    "\n",
    "Criteria:\n",
    "* Peptides at least 2\n",
    "* Confidence level = High"
   ]
  },
  {
   "cell_type": "code",
   "execution_count": null,
   "metadata": {},
   "outputs": [],
   "source": [
    "# Print number of initial rows\n",
    "print(\"Initial number of rows:\", len(df))\n",
    "\n",
    "# Drop rows with \"Protein FDR Confidence: Combined\" = \"Low\"\n",
    "df = df[df[\"Protein FDR Confidence: Combined\"] != \"Low\"]\n",
    "\n",
    "# Drop rows with # Peptides < 2\n",
    "df = df[df[\"# Peptides\"] >= 2]\n",
    "\n",
    "# Print number of rows after filtering\n",
    "print(\"Number of rows after filtering:\", len(df))"
   ]
  },
  {
   "cell_type": "markdown",
   "metadata": {},
   "source": [
    "---\n",
    "\n",
    "### Exploratory Data Analysis\n",
    "\n",
    "* Density plot of Log2FC\n",
    "* Log5 PSMs / Log2FC\n"
   ]
  },
  {
   "cell_type": "code",
   "execution_count": null,
   "metadata": {},
   "outputs": [],
   "source": [
    "# Compute the average of Abundance ratios for M2\n",
    "groupM2 = ['Abundance Ratio: (M2a) / (M1)', 'Abundance Ratio: (M2b) / (M1)', 'Abundance Ratio: (M2c) / (M1)', 'Abundance Ratio: (M2d) / (M1)']\n",
    "df[\"Abundance Ratio: M2 / M1\"] = df[groupM2].mean(axis=1)\n",
    "\n",
    "# Compute the Log2FC of the abundance ratios\n",
    "df[\"Log2FC\"] = np.log2(df[\"Abundance Ratio: M2 / M1\"])\n",
    "\n",
    "\n"
   ]
  },
  {
   "cell_type": "code",
   "execution_count": null,
   "metadata": {},
   "outputs": [],
   "source": [
    "LOG2FC_CUTOFF = 2\n",
    "PSM_CUTOFF = 50\n",
    "\n",
    "plt.figure(figsize=(10, 8))\n",
    "\n",
    "# Add lines for Log2FC cutoffs (adjust as needed for significant fold changes)\n",
    "plt.axvline(x=LOG2FC_CUTOFF, color='grey', linestyle='--')\n",
    "plt.axvline(x=-LOG2FC_CUTOFF, color='grey', linestyle='--')\n",
    "\n",
    "plt.axhline(y=PSM_CUTOFF, color='grey', linestyle='--')\n",
    "\n",
    "plt.xlabel(\"Log2 Fold Change\")\n",
    "plt.ylabel(\"Number of PSMs\")\n",
    "plt.title(\"Protein Abundance Based on Log2 Fold Change and PSMs\")\n",
    "plt.yscale('log')  # Optional: Log scale for PSMs if counts vary widely\n",
    "\n",
    "# Number of proteins with significant fold changes and PSMs\n",
    "n_sig = df[(df['Log2FC'] > LOG2FC_CUTOFF) & (df['# PSMs'] > PSM_CUTOFF)].shape[0]\n",
    "plt.text(3.5, 450, f'{n_sig}', fontsize=14)\n",
    "\n",
    "# Number of proteins with significant fold changes and PSMs\n",
    "n_sig = df[(df['Log2FC'] < -LOG2FC_CUTOFF) & (df['# PSMs'] > PSM_CUTOFF)].shape[0]\n",
    "plt.text(-5, 450, f'{n_sig}', fontsize=14)\n",
    "\n",
    "\n",
    "# Plot significant proteins\n",
    "sig = df[(df['Log2FC'] < -LOG2FC_CUTOFF) & (df['# PSMs'] > PSM_CUTOFF)]\n",
    "sns.scatterplot(\n",
    "    data=sig,\n",
    "    x='Log2FC',\n",
    "    y='# PSMs',\n",
    "    color='red',\n",
    "    size='# PSMs',\n",
    "    alpha=0.7\n",
    ")\n",
    "\n",
    "sig = df[(df['Log2FC'] > LOG2FC_CUTOFF) & (df['# PSMs'] > PSM_CUTOFF)]\n",
    "sns.scatterplot(\n",
    "    data=sig,\n",
    "    x='Log2FC',\n",
    "    y='# PSMs',\n",
    "    color='red',\n",
    "    size='# PSMs',\n",
    "    alpha=0.7\n",
    ")\n",
    "\n",
    "# Plot all other proteins in grey\n",
    "sns.scatterplot(\n",
    "    data=df[~((df['Log2FC'] > LOG2FC_CUTOFF) & (df['# PSMs'] > PSM_CUTOFF)) & ~((df['Log2FC'] < -LOG2FC_CUTOFF) & (df['# PSMs'] > PSM_CUTOFF))],\n",
    "    x='Log2FC',\n",
    "    y='# PSMs',\n",
    "    color='grey',\n",
    "    size='# PSMs',\n",
    "    alpha=0.7\n",
    ")\n",
    "\n",
    "plt.legend().remove()\n",
    "plt.show()\n"
   ]
  },
  {
   "cell_type": "markdown",
   "metadata": {},
   "source": [
    "---\n",
    "### Analyze the proteins found only in one of the two groups (M1 and M2)"
   ]
  },
  {
   "cell_type": "code",
   "execution_count": null,
   "metadata": {},
   "outputs": [],
   "source": [
    "# Define experimental groups\n",
    "group1 = ['Abundances (Grouped): M1']\n",
    "group2 = ['Abundances (Grouped): M2a', 'Abundances (Grouped): M2b', 'Abundances (Grouped): M2c', 'Abundances (Grouped): M2d']\n",
    "\n",
    "# Compute the mean of group 2\n",
    "df['Abundances (Grouped): M2'] = df[group2].mean(axis=1)"
   ]
  },
  {
   "cell_type": "markdown",
   "metadata": {},
   "source": [
    "Next step is to plot those proteins that are more abundant in M1 vs M2"
   ]
  },
  {
   "cell_type": "code",
   "execution_count": null,
   "metadata": {},
   "outputs": [],
   "source": [
    "# Take the 20 more abundant proteins in M1 & M2\n",
    "top_proteins_m1 = df.sort_values(by=\"Abundances (Grouped): M1\", ascending=False).head(20)\n",
    "top_proteins_m2 = df.sort_values(by=\"Abundances (Grouped): M2\", ascending=False).head(20)\n",
    "\n",
    "# Venn diagram to see the overlap between the two considering the index value\n",
    "venn2([set(top_proteins_m1.index), set(top_proteins_m2.index)], set_labels=('M1', 'M2'))\n",
    "plt.title('Top 20 proteins in M1 and M2')\n",
    "plt.show()\n"
   ]
  },
  {
   "cell_type": "markdown",
   "metadata": {},
   "source": [
    "The result are groups of 20 proteins that do not overlap, which means that the top 20 more abundant proteins are only present in one of the two groups"
   ]
  },
  {
   "cell_type": "code",
   "execution_count": null,
   "metadata": {},
   "outputs": [],
   "source": [
    "# Now we need to analyze that are present in both groups and have a significant change in abundance.\n",
    "# We first need to remove the rows that are not present in both groups\n",
    "df_both = df.dropna(subset=group1 + group2).copy()\n",
    "\n",
    "# Proteins with the highest abundance ratio in M2 vs M1\n",
    "groupM2 = ['Abundance Ratio: (M2a) / (M1)', 'Abundance Ratio: (M2b) / (M1)', 'Abundance Ratio: (M2c) / (M1)', 'Abundance Ratio: (M2d) / (M1)']\n",
    "df_both[\"Abundance Ratio: M2 / M1\"] = df_both[groupM2].mean(axis=1)"
   ]
  },
  {
   "cell_type": "code",
   "execution_count": null,
   "metadata": {},
   "outputs": [],
   "source": [
    "# Print the Accession of the top 20 proteins with the highest abundance ratio\n",
    "topUP_proteins_ratio = df_both.sort_values(by=\"Abundance Ratio: M2 / M1\", ascending=False).head(20)\n",
    "topDOWN_proteins_ratio = df_both.sort_values(by=\"Abundance Ratio: M2 / M1\", ascending=True).head(20)\n",
    "\n",
    "# Print the Abundance Ratio: M2 / M1 of the top 20 proteins\n",
    "print(topUP_proteins_ratio[\"Abundance Ratio: M2 / M1\"])\n",
    "print(topDOWN_proteins_ratio[\"Abundance Ratio: M2 / M1\"])"
   ]
  },
  {
   "cell_type": "markdown",
   "metadata": {},
   "source": [
    "Now I want to comput the log2 fold change and p-values to analyze those up/down regulated proteins (M1 vs M2)"
   ]
  },
  {
   "cell_type": "code",
   "execution_count": null,
   "metadata": {},
   "outputs": [],
   "source": [
    "\n",
    "# Convert columns to numeric, handling potential errors\n",
    "for col in group1 + group2:\n",
    "    df[col] = pd.to_numeric(df[col], errors='coerce')\n",
    "\n",
    "\n",
    "# Calculate log2 fold change and p-values\n",
    "df['log2FC'] = df[group1].mean(axis=1) - df[group2].mean(axis=1)\n",
    "print(df['log2FC'].describe())\n",
    "\n",
    "# Drop missing values for log2FC\n",
    "df = df.dropna(subset=['log2FC'])\n",
    "\n",
    "# Check missing values for log2FC\n",
    "print(df['log2FC'].isnull().sum())\n",
    "\n",
    "df['p_value'] = df.apply(lambda row: ttest_ind(row[group1], row[group2]).pvalue, axis=1)\n",
    "\n",
    "# Adjust p-values for multiple testing (e.g., Bonferroni correction)\n",
    "df['adj_p_value'] = multipletests(df['p_value'], alpha=0.05, method='bonferroni')[1]\n",
    "\n",
    "# Filter for significant DEPs\n",
    "sig_deps = df[df['adj_p_value'] < 0.05]\n",
    "\n",
    "# Visualize results (e.g., volcano plot)\n",
    "import matplotlib.pyplot as plt\n",
    "import seaborn as sns\n",
    "\n",
    "sns.scatterplot(data=sig_deps, x='log2FC', y='-log10(adj_p_value)', hue='adj_p_value < 0.05')\n",
    "plt.title('Volcano Plot')\n",
    "plt.xlabel('log2 Fold Change')\n",
    "plt.ylabel('-log10(Adjusted p-value)')\n",
    "plt.show()\n",
    "\n",
    "# Further analysis and visualization\n",
    "# - Cluster analysis (e.g., hierarchical clustering, PCA)\n",
    "# - Functional enrichment analysis (e.g., Gene Ontology, KEGG pathway analysis)\n",
    "# - Protein-protein interaction network analysis"
   ]
  },
  {
   "cell_type": "code",
   "execution_count": null,
   "metadata": {},
   "outputs": [],
   "source": [
    "# Heatmap of the top 100 proteins found in columns of group1 + group2. Use the group1 and group2 variables to get the values for each group.\n",
    "top_proteinsM1 = df.sort_values(by=\"Abundances (Grouped): M1\", ascending=False).head(100)\n",
    "top_proteinsM2 = df.sort_values(by=\"Abundances (Grouped): M2\", ascending=False).head(100)\n",
    "\n",
    "# Merge the two dataframes\n",
    "top_proteins_df = pd.merge(top_proteinsM1, top_proteinsM2, on=\"Accession\")\n",
    "\n",
    "print(top_proteins_df)\n",
    "# Keep only the columns with the abundances and the accession\n",
    "top_proteins_df = top_proteins_df[[\"Accession\", \"Abundances (Grouped): M1_x\", \"Abundances (grouped): M2_y\"]]\n",
    "\n",
    "# Normalize the data\n",
    "top_proteins_df = top_proteins_df.div(top_proteins_df.sum(axis=1), axis=0)\n",
    "\n",
    "print(top_proteins_df.head())\n",
    "\n",
    "# Plot the heatmap\n",
    "sns.heatmap(top_proteins_df, cmap=\"viridis\")\n",
    "plt.title('Top 100 proteins in M1 and M2')\n",
    "plt.show()\n",
    "\n",
    "\n",
    "\n",
    "\n",
    "\n"
   ]
  },
  {
   "cell_type": "markdown",
   "metadata": {},
   "source": []
  },
  {
   "cell_type": "code",
   "execution_count": null,
   "metadata": {},
   "outputs": [],
   "source": [
    "if TRANSLATE_PROTEIN_ID:\n",
    "    # Convert proteins to gene names\n",
    "    unipcl = UniprotClient()\n",
    "\n",
    "    \n",
    "    # Get the gene names (the protein names are the index)\n",
    "    gene_names = unipcl.batch_translate_protein_ids(dataM1.index)\n",
    "    print(gene_names)\n",
    "\n",
    "    # Add the gene names to the data as another column\n",
    "    dataM1['Gene'] = gene_names\n",
    "    \n"
   ]
  },
  {
   "cell_type": "markdown",
   "metadata": {},
   "source": [
    "---"
   ]
  },
  {
   "cell_type": "code",
   "execution_count": null,
   "metadata": {},
   "outputs": [],
   "source": [
    "# Create a figure with subplots\n",
    "fig, axs = plt.subplots(1, 2, figsize=(12, 6))\n",
    "\n",
    "# Plot violin plot for M1\n",
    "sns.violinplot(data=dataM1.select_dtypes(include=[np.number]), ax=axs[0])\n",
    "axs[0].set_title(\"VM1\")\n",
    "axs[0].set_xlabel(\"Variables\")\n",
    "axs[0].set_ylabel(\"Values\")\n",
    "\n",
    "# Plot violin plot for M2\n",
    "sns.violinplot(data=dataM2.select_dtypes(include=[np.number]), ax=axs[1])\n",
    "axs[1].set_title(\"M2\")\n",
    "axs[1].set_xlabel(\"Variables\")\n",
    "axs[1].set_ylabel(\"Values\")\n",
    "\n",
    "plt.tight_layout()\n",
    "plt.show()"
   ]
  },
  {
   "cell_type": "code",
   "execution_count": null,
   "metadata": {},
   "outputs": [],
   "source": [
    "# Describe the data\n",
    "print(\"M1\")\n",
    "print(dataM1.describe())\n",
    "\n",
    "print(\"M2\")\n",
    "print(dataM2.describe())"
   ]
  },
  {
   "cell_type": "code",
   "execution_count": null,
   "metadata": {},
   "outputs": [],
   "source": [
    "\n",
    "# M1\n",
    "fig, axs = plt.subplots(2, 3)\n",
    "fig.set_size_inches(16, 7)\n",
    "fig.suptitle('M1')\n",
    "sns.boxplot(y=dataM1[\"Score\"], ax=axs[0, 0])\n",
    "sns.boxplot(y=dataM1[\"Coverage\"], ax=axs[0, 1])\n",
    "sns.boxplot(y=dataM1[\"# Proteins\"], ax=axs[0, 2])\n",
    "sns.boxplot(y=dataM1[\"# Unique Peptides\"], ax=axs[1, 0])\n",
    "sns.boxplot(y=dataM1[\"# Peptides\"], ax=axs[1, 1])\n",
    "sns.boxplot(y=dataM1[\"# PSMs\"], ax=axs[1, 2])\n",
    "plt.tight_layout()\n",
    "plt.show()\n",
    "\n",
    "# M2\n",
    "fig, axs = plt.subplots(2, 3)\n",
    "fig.set_size_inches(16, 7)\n",
    "fig.suptitle('M2')\n",
    "sns.boxplot(y=dataM2[\"Score\"], ax=axs[0, 0])\n",
    "sns.boxplot(y=dataM2[\"Coverage\"], ax=axs[0, 1])\n",
    "sns.boxplot(y=dataM2[\"# Proteins\"], ax=axs[0, 2])\n",
    "sns.boxplot(y=dataM2[\"# Unique Peptides\"], ax=axs[1, 0])\n",
    "sns.boxplot(y=dataM2[\"# Peptides\"], ax=axs[1, 1])\n",
    "sns.boxplot(y=dataM2[\"# PSMs\"], ax=axs[1, 2])\n",
    "plt.tight_layout()\n",
    "plt.show()"
   ]
  },
  {
   "cell_type": "code",
   "execution_count": null,
   "metadata": {},
   "outputs": [],
   "source": [
    "PEPTIDE_THRESHOLD = 2\n",
    "\n",
    "# Print the number of proteins with less than PEPTIDE_THRESHOLD peptides\n",
    "print(f\"Number of proteins with less than {PEPTIDE_THRESHOLD} peptides in M1: {dataM1[dataM1['# Peptides'] < PEPTIDE_THRESHOLD].shape[0]}\")\n",
    "print(f\"Number of proteins with less than {PEPTIDE_THRESHOLD} peptides in M2: {dataM2[dataM2['# Peptides'] < PEPTIDE_THRESHOLD].shape[0]}\")\n",
    "\n",
    "# Filter out data with less than 2 peptides\n",
    "dataM1 = dataM1[dataM1[\"# Peptides\"] >= PEPTIDE_THRESHOLD]\n",
    "dataM2 = dataM2[dataM2[\"# Peptides\"] >= PEPTIDE_THRESHOLD]"
   ]
  },
  {
   "cell_type": "code",
   "execution_count": null,
   "metadata": {},
   "outputs": [],
   "source": [
    "# Bottom limit for SCORE in percentage\n",
    "SCORE_PCT_THRESHOLD = 25\n",
    "\n",
    "fig, axs = plt.subplots(1, 2, figsize=(12, 6))\n",
    "\n",
    "# Plot dataM1\n",
    "sns.histplot(dataM1['Score'], bins=50, log_scale=True, ax=axs[0])\n",
    "m1_score_threshold = np.percentile(dataM1['Score'], SCORE_PCT_THRESHOLD)\n",
    "axs[0].set_title(\"Distribution of scores (M1)\")\n",
    "axs[0].set_xlabel(\"Score\")\n",
    "axs[0].set_ylabel(\"Frequency\")\n",
    "axs[0].axvline(m1_score_threshold, color='red')\n",
    "\n",
    "# Plot dataM2\n",
    "sns.histplot(dataM2['Score'], bins=50, log_scale=True, ax=axs[1])\n",
    "m2_score_threshold = np.percentile(dataM2['Score'], SCORE_PCT_THRESHOLD)\n",
    "axs[1].set_title(\"Distribution of scores (M2)\")\n",
    "axs[1].set_xlabel(\"Score\")\n",
    "axs[1].set_ylabel(\"Frequency\")\n",
    "axs[1].axvline(m2_score_threshold, color='red')\n",
    "\n",
    "plt.tight_layout()\n",
    "plt.show()\n",
    "\n",
    "\n",
    "# Percentage of proteins with a score higher than the threshold\n",
    "n_proteins = dataM1.shape[0]\n",
    "n_proteins_above_threshold = dataM1[dataM1['Score'] >= m1_score_threshold].shape[0]\n",
    "print(f\"%Proteins (Score >= {m1_score_threshold}) (M1):  {n_proteins_above_threshold/n_proteins*100:.2f}%\")\n",
    "\n",
    "n_proteins = dataM2.shape[0]\n",
    "n_proteins_above_threshold = dataM2[dataM2['Score'] >= m2_score_threshold].shape[0]\n",
    "print(f\"%Proteins (Score >= {m2_score_threshold}) (M2):  {n_proteins_above_threshold/n_proteins*100:.2f}%\")\n"
   ]
  },
  {
   "cell_type": "code",
   "execution_count": null,
   "metadata": {},
   "outputs": [],
   "source": [
    "# Bottom limit for # PSMs in percentage\n",
    "PSM_PCT_THRESHOLD = 10\n",
    "\n",
    "# Plot the distribution of scores and # PSMs for both dataM1 and dataM2\n",
    "fig, axs = plt.subplots(1, 2, figsize=(12, 6))\n",
    "\n",
    "# Plot dataM1 # PSMs\n",
    "sns.histplot(dataM1['# PSMs'], bins=50, log_scale=True, ax=axs[0])\n",
    "m1_psm_threshold = np.percentile(dataM1['# PSMs'], PSM_PCT_THRESHOLD)\n",
    "axs[0].set_title(\"Distribution of # PSMs (M1)\")\n",
    "axs[0].set_xlabel(\"# PSMs\")\n",
    "axs[0].set_ylabel(\"Frequency\")\n",
    "axs[0].axvline(m1_psm_threshold, color='red')\n",
    "\n",
    "# Plot dataM2 # PSMs\n",
    "sns.histplot(dataM2['# PSMs'], bins=50, log_scale=True, ax=axs[1])\n",
    "m2_psm_threshold = np.percentile(dataM2['# PSMs'], PSM_PCT_THRESHOLD)\n",
    "axs[1].set_title(\"Distribution of # PSMs (M2)\")\n",
    "axs[1].set_xlabel(\"# PSMs\")\n",
    "axs[1].set_ylabel(\"Frequency\")\n",
    "axs[1].axvline(m2_psm_threshold, color='red')\n",
    "\n",
    "plt.tight_layout()\n",
    "plt.show()\n",
    "\n",
    "\n",
    "# Percentage of proteins with a score higher than the threshold for both dataM1 and dataM2\n",
    "n_proteins = dataM1.shape[0]\n",
    "n_proteins_above_threshold = dataM1[dataM1['# PSMs'] >= m1_psm_threshold].shape[0]\n",
    "print(f\"%Proteins (# PSMs >= {m1_psm_threshold}) (M1):  {n_proteins_above_threshold/n_proteins*100:.2f}%\")\n",
    "\n",
    "n_proteins = dataM2.shape[0]\n",
    "n_proteins_above_threshold = dataM2[dataM2['# PSMs'] >= m2_psm_threshold].shape[0]\n",
    "print(f\"%Proteins (# PSMs >= {m2_psm_threshold}) (M2):  {n_proteins_above_threshold/n_proteins*100:.2f}%\")\n",
    "\n",
    "\n"
   ]
  },
  {
   "cell_type": "code",
   "execution_count": null,
   "metadata": {},
   "outputs": [],
   "source": [
    "\n",
    "# Example dataset (replace with your data)\n",
    "data = dataM1.drop(columns=['Description'])\n",
    "\n",
    "# Compute pairwise correlations\n",
    "correlations = data.corr().abs()  # Absolute correlation to avoid negative values\n",
    "\n",
    "# Create a custom gradient from red to green\n",
    "cmap = LinearSegmentedColormap.from_list(\"red_green\", [\"red\", \"green\"])\n",
    "\n",
    "# Function to get color based on correlation value\n",
    "def get_color(value, cmap):\n",
    "    norm_value = (value - correlations.min().min()) / (correlations.max().max() - correlations.min().min())\n",
    "    return cmap(norm_value)\n",
    "\n",
    "# do the same, but now using grey color for the diagonal\n",
    "g = sns.pairplot(data, diag_kind='kde', plot_kws={'s': 10, 'alpha':0.1, 'edgecolor': None}, diag_kws={'color':'grey'})  # 's' controls dot size\n",
    "\n",
    "# Loop through the axes to color each scatter plot\n",
    "for i, j in zip(*np.triu_indices_from(correlations, 1)):\n",
    "    ax = g.axes[i, j]\n",
    "    corr_value = correlations.iloc[i, j]\n",
    "    color = get_color(corr_value, cmap)\n",
    "    \n",
    "    # Apply the color gradient to all scatter plot\n",
    "    ax.collections[0].set_facecolor(color)\n",
    "    ax = g.axes[j, i]\n",
    "    ax.collections[0].set_facecolor(color)\n",
    "\n",
    "\n",
    "plt.show()\n",
    "\n",
    "\n"
   ]
  },
  {
   "cell_type": "code",
   "execution_count": null,
   "metadata": {},
   "outputs": [],
   "source": [
    "\n",
    "\n",
    "# Define pairs of features to plot\n",
    "features_to_plot = [\n",
    "    ('# PSMs', '# Peptides'),\n",
    "    ('# PSMs', '# Unique Peptides'),\n",
    "    ('# Peptides', '# Unique Peptides'),\n",
    "    ('Coverage', 'Score'),\n",
    "    ('Score', '# PSMs'), \n",
    "    ('# Proteins', '# Unique Peptides')\n",
    "]\n",
    "\n",
    "# Set grid dimensions (adjust as needed)\n",
    "rows, cols = 2, 2  # Create a 2x2 grid\n",
    "rows, cols = features_to_plot.__len__() // 2, 2\n",
    "\n",
    "# Configure plot size and style outside the loop (efficiency)\n",
    "fig, axes = plt.subplots(rows, cols, figsize=(10, 8))  # Set figure size and create axes grid\n",
    "point_size = 20\n",
    "alpha = 0.2\n",
    "marker = 'o'\n",
    "color = 'blue'\n",
    "grid_params = {'linestyle': '--', 'linewidth': 0.5, 'color': 'gray', 'which': 'both', 'alpha': 0.5}\n",
    "\n",
    "\n",
    "\n",
    "# Loop through features and create plots\n",
    "for i in range(rows):\n",
    "    for j in range(cols):\n",
    "        x_feature, y_feature = features_to_plot[i * cols + j]  # Access feature pair\n",
    "\n",
    "        # Create the scatter plot on the current axis\n",
    "        axes[i, j].scatter(dataM1[x_feature], dataM1[y_feature], s=point_size, alpha=alpha, marker=marker, c=color)\n",
    "\n",
    "        # Set axis labels and title\n",
    "        axes[i, j].set_xlabel(x_feature, fontsize=10)\n",
    "        axes[i, j].set_ylabel(y_feature, fontsize=10)\n",
    "        axes[i, j].set_title(f'{x_feature} vs. {y_feature}', fontsize=12)\n",
    "\n",
    "        # Add grid lines\n",
    "        axes[i, j].grid(**grid_params)\n",
    "\n",
    "# Adjust spacing and display the plot\n",
    "plt.tight_layout()\n",
    "plt.subplots_adjust(hspace=0.8, wspace=0.3)\n",
    "plt.show()"
   ]
  },
  {
   "cell_type": "markdown",
   "metadata": {},
   "source": [
    "### Consider only those proteins with **Score** above the Threshold "
   ]
  },
  {
   "cell_type": "code",
   "execution_count": null,
   "metadata": {},
   "outputs": [],
   "source": [
    "dataM1 = dataM1[dataM1['Score'] >= m1_score_threshold]\n",
    "dataM2 = dataM2[dataM2['Score'] >= m2_score_threshold]"
   ]
  },
  {
   "cell_type": "markdown",
   "metadata": {},
   "source": [
    "### List the 100 most present proteins in both M1 and M2  *(do not work for identyfing the cell type)*\n",
    "As \"present\" I consider those that appear more frequent in the spectra (based on PSMs)"
   ]
  },
  {
   "cell_type": "code",
   "execution_count": null,
   "metadata": {},
   "outputs": [],
   "source": [
    "TOP_NUMBER = 100\n",
    "\n",
    "# Take the top proteins based on the PSMs value (sorted in descending order)\n",
    "topM1 = dataM1.sort_values(by='# PSMs', ascending=False).head(TOP_NUMBER)\n",
    "topM2 = dataM2.sort_values(by='# PSMs', ascending=False).head(TOP_NUMBER)\n"
   ]
  },
  {
   "cell_type": "code",
   "execution_count": null,
   "metadata": {},
   "outputs": [],
   "source": [
    "plt.figure(figsize=(9, 9))\n",
    "\n",
    "# Filter the proteins present in both topM1 and topM2\n",
    "common_top_proteins = topM1.index.intersection(topM2.index)\n",
    "print(f\"Number of common proteins: {len(common_top_proteins)}\")\n",
    "\n",
    "# Create a mask to filter the common proteins\n",
    "mask_common = dataM1.index.isin(common_top_proteins)\n",
    "\n",
    "# plot\n",
    "plt.scatter(topM1.loc[common_top_proteins]['Score'], topM2.loc[common_top_proteins]['Score'])\n",
    "plt.xlabel('Score (M1)')\n",
    "plt.ylabel('Score (M2)')\n",
    "plt.title('Score (M1) vs Score (M2) for common proteins')\n",
    "# Add the names of the proteins in small font\n",
    "for protein in common_top_proteins:\n",
    "    # add a separation between the dot and the text\n",
    "    separation = 0.1\n",
    "    plt.text(topM1.loc[protein]['Score']+separation, topM2.loc[protein]['Score'], protein, fontsize=6)\n",
    "\n",
    "# Diagonal line\n",
    "max_value = max(topM1['Score'].max(), topM2['Score'].max())\n",
    "plt.plot([0, max_value], [0, max_value], color='red')\n",
    "\n",
    "plt.show()\n",
    "\n",
    "\n"
   ]
  },
  {
   "cell_type": "code",
   "execution_count": null,
   "metadata": {},
   "outputs": [],
   "source": [
    "# Print a table with the first 10 proteins of common_top_proteins. The table must contain the Accession, Description, ScoreM1, ScoreM2, #PSMs M1, #PSMs M2, #Peptides M1, #Peptides M2, #Unique Peptides M1, #Unique Peptides M2, Coverage M1, Coverage M2\n",
    "print(\"Table with the first 10 proteins of common_top_proteins\")\n",
    "\n",
    "# Create a table with the first 10 proteins of common_top_proteins\n",
    "table = pd.DataFrame(index=common_top_proteins[:10])\n",
    "table['Description'] = dataM1.loc[common_top_proteins[:10]]['Description']\n",
    "table['Score M1'] = dataM1.loc[common_top_proteins[:10]]['Score']\n",
    "table['Score M2'] = dataM2.loc[common_top_proteins[:10]]['Score']\n",
    "table['# PSMs M1'] = dataM1.loc[common_top_proteins[:10]]['# PSMs']\n",
    "table['# PSMs M2'] = dataM2.loc[common_top_proteins[:10]]['# PSMs']\n",
    "table['# Peptides M1'] = dataM1.loc[common_top_proteins[:10]]['# Peptides']\n",
    "table['# Peptides M2'] = dataM2.loc[common_top_proteins[:10]]['# Peptides']\n",
    "table['# Unique Peptides M1'] = dataM1.loc[common_top_proteins[:10]]['# Unique Peptides']\n",
    "table['# Unique Peptides M2'] = dataM2.loc[common_top_proteins[:10]]['# Unique Peptides']\n",
    "table['Coverage M1'] = dataM1.loc[common_top_proteins[:10]]['Coverage']\n",
    "table['Coverage M2'] = dataM2.loc[common_top_proteins[:10]]['Coverage']\n",
    "\n",
    "print(table)\n",
    "\n"
   ]
  },
  {
   "cell_type": "markdown",
   "metadata": {},
   "source": [
    "### Differential Expression Analysis"
   ]
  },
  {
   "cell_type": "code",
   "execution_count": null,
   "metadata": {},
   "outputs": [],
   "source": [
    "# Get the number of proteins in each dataset\n",
    "n_proteins_M1 = len(dataM1)\n",
    "n_proteins_M2 = len(dataM2)\n",
    "\n",
    "# Get the number of proteins in common\n",
    "common_proteins = dataM1.index.intersection(dataM2.index)\n",
    "n_common_proteins = len(common_proteins)\n",
    "\n",
    "# Create the Venn diagram plot\n",
    "c = venn2(subsets=(n_proteins_M1 - n_common_proteins, n_proteins_M2 - n_common_proteins, n_common_proteins),\n",
    "    set_labels=('M1', 'M2'), set_colors=('mediumaquamarine', 'slategrey'), alpha=0.75)\n",
    "\n",
    "# Add a title to the plot\n",
    "plt.title('Proteins found in M1 and M2')\n",
    "\n",
    "# Display the plot\n",
    "plt.show()\n",
    "\n",
    "\n"
   ]
  },
  {
   "cell_type": "code",
   "execution_count": null,
   "metadata": {},
   "outputs": [],
   "source": [
    "\n",
    "# Check the number of NaN values in dataM1 and dataM2\n",
    "print(\"Number of NaN values in dataM1\")\n",
    "print(dataM1.isnull().sum())\n",
    "print(\"Number of NaN values in dataM2\")\n",
    "print(dataM2.isnull().sum())\n",
    "\n",
    "# Create a copy by mergin dataM1 and dataM2 keeping the proteins present in only one of the datasets\n",
    "merged_data = pd.merge(dataM1, dataM2, how='outer', on='Accession', suffixes=('_M1', '_M2'))\n",
    "merged_data_original = merged_data.copy()\n",
    "print(merged_data.isnull().sum())\n",
    "\n",
    "merged_data['Description_M2'] = merged_data['Description_M2'].fillna('N/A')\n",
    "merged_data['Description_M1'] = merged_data['Description_M1'].fillna('N/A')\n",
    "\n",
    "# Replace missing values (NaN) with a very small value\n",
    "merged_data.fillna(1e-1000, inplace=True)\n",
    "print(merged_data.isnull().sum())\n",
    "\n",
    "# Log fold change with the adjusted value\n",
    "merged_data['Log2FC'] = np.log2(merged_data['# PSMs_M2'] + 1) - np.log2(merged_data['# PSMs_M1'] + 1)\n",
    "\n"
   ]
  },
  {
   "cell_type": "markdown",
   "metadata": {},
   "source": [
    "As we can observe, there is no missing value in the original dataset."
   ]
  },
  {
   "cell_type": "code",
   "execution_count": null,
   "metadata": {},
   "outputs": [],
   "source": [
    "print(f\"Number of 'N/A' in Description_M1: {merged_data[merged_data['Description_M1'] == 'N/A'].shape[0]}\")\n",
    "print(f\"Number of 'N/A' in Description_M2: {merged_data[merged_data['Description_M2'] == 'N/A'].shape[0]}\")\n",
    "\n",
    "print(f\"Number of proteins that are present in both datasets: {merged_data_original[merged_data_original['Description_M1'].notnull() & merged_data_original['Description_M2'].notnull()].shape[0]}\")\n"
   ]
  },
  {
   "cell_type": "code",
   "execution_count": null,
   "metadata": {},
   "outputs": [],
   "source": [
    "# Add a 'class' column to the merged_data. \n",
    "merged_data['class'] = \"Both\"\n",
    "merged_data.loc[(merged_data['Description_M1'] != 'N/A') & (merged_data['Description_M2'] == 'N/A'), 'class'] = \"M1\"\n",
    "merged_data.loc[(merged_data['Description_M1'] == 'N/A') & (merged_data['Description_M2'] != 'N/A'), 'class'] = \"M2\"\n",
    "print(merged_data['class'].value_counts())           \n",
    "\n"
   ]
  },
  {
   "cell_type": "code",
   "execution_count": null,
   "metadata": {},
   "outputs": [],
   "source": [
    "# Distribution of the log fold change for the class \"Booth\"\n",
    "plt.figure(figsize=(10, 6))\n",
    "sns.histplot(merged_data[merged_data['class'] == 'Both']['Log2FC'], bins=50, kde=True)\n",
    "plt.title(\"Log2FC distribution for proteins present in both conditions\")\n",
    "plt.xlabel(\"Log2FC\")\n",
    "plt.ylabel(\"Frequency\")\n",
    "plt.show()   \n",
    "\n"
   ]
  },
  {
   "cell_type": "markdown",
   "metadata": {},
   "source": [
    "Positive values in the 'Log2FC' column represent proteins that are more abundant in condition M2 compared to M1.<br>\n",
    "Negative Log2FC values indicate proteins that are more abundant in condition M1 compared to M2.<br><br>\n",
    "*Note that it was computed using #PSMs.*"
   ]
  },
  {
   "cell_type": "code",
   "execution_count": null,
   "metadata": {},
   "outputs": [],
   "source": [
    "# Top 10 proteins with the highest log fold change\n",
    "top10 = merged_data.sort_values(by='Log2FC', ascending=False).head(10)\n",
    "print(top10[['Description_M1', 'Description_M2', 'Log2FC']])\n"
   ]
  },
  {
   "cell_type": "code",
   "execution_count": null,
   "metadata": {},
   "outputs": [],
   "source": [
    "# describe merged_data\n",
    "print(merged_data.describe())"
   ]
  },
  {
   "cell_type": "code",
   "execution_count": null,
   "metadata": {},
   "outputs": [],
   "source": [
    "# Create the PCA object\n",
    "pca = PCA(n_components=2)\n",
    "\n",
    "# Create the StandardScaler object\n",
    "scaler = StandardScaler()\n",
    "\n",
    "# Fit the scaler\n",
    "scaler.fit(merged_data.drop(columns=['Description_M1', 'Description_M2', 'Log2FC', 'class']))\n",
    "\n",
    "# Transform the data\n",
    "X = scaler.transform(merged_data.drop(columns=['Description_M1', 'Description_M2', 'Log2FC', 'class']))\n",
    "\n",
    "# Fit the PCA\n",
    "pca.fit(X)\n",
    "\n",
    "# Transform the data\n",
    "X_pca = pca.transform(X)\n",
    "\n",
    "# Create a dataframe with the PCA values\n",
    "pca_df = pd.DataFrame(X_pca, columns=['PC1', 'PC2'])\n",
    "\n",
    "# Add the class column\n",
    "pca_df['class'] = merged_data['class'].values\n",
    "\n",
    "# Plot the PCA\n",
    "sns.scatterplot(data=pca_df, x='PC1', y='PC2', hue='class')\n",
    "plt.title('PCA of the merged data')\n",
    "plt.show()\n"
   ]
  },
  {
   "cell_type": "code",
   "execution_count": null,
   "metadata": {},
   "outputs": [],
   "source": [
    "# Create the UMAP object\n",
    "umap_obj = umap.UMAP()\n",
    "\n",
    "# Fit the UMAP\n",
    "umap_obj.fit(X)\n",
    "\n",
    "# Transform the data\n",
    "X_umap = umap_obj.transform(X)\n",
    "\n",
    "# Create a dataframe with the UMAP values\n",
    "umap_df = pd.DataFrame(X_umap, columns=['UMAP1', 'UMAP2'])\n",
    "\n",
    "# Add the class column\n",
    "umap_df['class'] = merged_data['class'].values\n",
    "\n",
    "# Plot the UMAP\n",
    "sns.scatterplot(data=umap_df, x='UMAP1', y='UMAP2', hue='class')\n",
    "plt.title('UMAP of the merged data')\n",
    "plt.show()\n"
   ]
  },
  {
   "cell_type": "code",
   "execution_count": null,
   "metadata": {},
   "outputs": [],
   "source": [
    "# Initialize a list to store p-values\n",
    "p_values = []\n",
    "\n",
    "# Loop through each protein to calculate the p-value using Fisher's exact test\n",
    "for index, row in merged_data.iterrows():\n",
    "    # Create a 2x2 contingency table based on presence/absence in M1 and M2\n",
    "    # Assumes 1 for present, 0 for absent\n",
    "    if row['class'] == 'M1' or row['class'] == 'M2':\n",
    "        present_m1 = 1 if row['class'] == 'M1' else 0\n",
    "        present_m2 = 1 if row['class'] == 'M2' else 0\n",
    "\n",
    "        # Contingency table format: [[present in M1, absent in M1], [present in M2, absent in M2]]\n",
    "        contingency_table = [[present_m1, 1 - present_m1], [present_m2, 1 - present_m2]]\n",
    "        \n",
    "        # Perform Fisher's Exact Test\n",
    "        _, p_val = fisher_exact(contingency_table)\n",
    "        p_values.append(p_val)\n",
    "    else:\n",
    "        # If the protein is present in both or absent in both, assign a default p-value (e.g., 1)\n",
    "        p_values.append(1.0)\n",
    "\n",
    "# Add p-values to the dataframe\n",
    "merged_data['p_value_class'] = p_values\n",
    "\n",
    "# print unique p-values\n",
    "print(f\"Unique p-values (class): {len(set(p_values))}\")\n",
    "\n"
   ]
  },
  {
   "cell_type": "markdown",
   "metadata": {},
   "source": [
    "As **all p-values are 1**, it means that there is no significant difference between the two groups for any protein.\n",
    "This make sense considering the chart with the PSM's (M1) vs PSM's (M2) "
   ]
  },
  {
   "cell_type": "markdown",
   "metadata": {},
   "source": [
    "---\n",
    "# DEA\n",
    "Identify proteins that are significantly upregulated or downregulated between different conditions (M1 vs M2)."
   ]
  },
  {
   "cell_type": "code",
   "execution_count": null,
   "metadata": {},
   "outputs": [],
   "source": [
    "data = merged_data.copy()\n",
    "# drop p_value_class\n",
    "data = data.drop(columns=['p_value_class'])\n",
    "print(data.describe())"
   ]
  },
  {
   "cell_type": "code",
   "execution_count": null,
   "metadata": {},
   "outputs": [],
   "source": [
    "# Create a \"data\" dataframe with the columns 'Accession', '# PSMs_M1' and '# PSMs_M2'\n",
    "data = merged_data[merged_data['class'] == 'Both'][['# PSMs_M1', '# PSMs_M2']]\n",
    "\n",
    "# Melt the DataFrame into long format\n",
    "df_long = data.stack().reset_index()\n",
    "df_long.columns = ['Protein', 'Condition', 'PSM']\n",
    "\n",
    "# Extract the condition from the column name\n",
    "df_long['Condition'] = df_long['Condition'].str.extract(r'# PSMs_(M\\d+)')\n",
    "\n",
    "print(df_long)"
   ]
  },
  {
   "cell_type": "code",
   "execution_count": null,
   "metadata": {},
   "outputs": [],
   "source": [
    "# Convert it to wide format\n",
    "df_wide = df_long.pivot(index='Protein', columns='Condition', values='PSM')\n",
    "print(df_wide)"
   ]
  },
  {
   "cell_type": "code",
   "execution_count": null,
   "metadata": {},
   "outputs": [],
   "source": [
    "# Assuming your DataFrame is named 'df'\n",
    "data_matrix = data.values.T  # Transpose to get a matrix-like structure\n",
    "\n",
    "# Create an AnnData object\n",
    "adata = ad.AnnData(\n",
    "    X=data_matrix,\n",
    "    obs=pd.DataFrame({'Condition': ['M1', 'M2']}),\n",
    "    var=pd.DataFrame(index=data.index)\n",
    ")"
   ]
  },
  {
   "cell_type": "code",
   "execution_count": null,
   "metadata": {},
   "outputs": [],
   "source": [
    "adata.obs['Condition'] = adata.obs['Condition'].astype('category')\n",
    "print(adata.obs['Condition'].dtype)\n",
    "print(adata.obs['Condition'])\n",
    "\n",
    "# DEA with scanpy\n",
    "sc.tl.rank_genes_groups(adata, groupby='Condition', method='wilcoxon')\n",
    "\n",
    "# Draw a Volcano plot\n",
    "sc.pl.rank_genes_groups(adata, n_genes=20, sharey=False)\n",
    "\n",
    "# Display the plot\n",
    "plt.show()\n",
    "\n",
    "\n",
    "\n",
    "\n"
   ]
  },
  {
   "cell_type": "code",
   "execution_count": null,
   "metadata": {},
   "outputs": [],
   "source": [
    "# Compute the log fold change and p-value for each protein in a new DataFrame\n",
    "df_lfc = pd.DataFrame()\n",
    "df_lfc['Protein'] = df_long['Protein'].unique()\n",
    "df_lfc['Log2FC'] = np.log2(df_long[df_long['Condition'] == 'M2']['PSM'].values + 1) - np.log2(df_long[df_long['Condition'] == 'M1']['PSM'].values + 1)\n",
    "print(df_lfc.head(20))\n"
   ]
  },
  {
   "cell_type": "code",
   "execution_count": null,
   "metadata": {},
   "outputs": [],
   "source": [
    "# Convert the dataframe into a wide format\n",
    "df_wide = df_long.pivot(index='Protein', columns='Condition', values='PSM')\n",
    "df_wide.columns = ['M1', 'M2']\n",
    "print(df_wide)\n"
   ]
  },
  {
   "cell_type": "code",
   "execution_count": null,
   "metadata": {},
   "outputs": [],
   "source": [
    "data = merged_data[merged_data['class'] == 'Both'].copy()\n",
    "# move the indexes to rows\n",
    "data = data.reset_index()\n",
    "# move the indexes to columns\n",
    "\n",
    "\n",
    "print(data.head())\n",
    "print(\"---\")\n",
    "data= data.reset_index()\n",
    "print(data.head())\n",
    "print(\"---\")\n",
    "# Filter out the p-value column\n",
    "data = data.drop(columns=['p_value_class'])\n",
    "#data = data.drop(columns=['class'])\n",
    "data = data.drop(columns=['Description_M1'])\n",
    "data = data.drop(columns=['Description_M2'])\n",
    "\n",
    "\n",
    "# If Log2FC is < 0, the protein is downregulated in M2 and set class to \"M2\"\n",
    "data.loc[data['Log2FC'] < 0, 'class'] = 2\n",
    "# If Log2FC is > 0, the protein is upregulated in M2 and set class to \"M1\"\n",
    "data.loc[data['Log2FC'] > 0, 'class'] = 1\n",
    "# Delete rows with Log2FC = 0\n",
    "data = data[data['Log2FC'] != 0]\n",
    "\n",
    "\n",
    "\n",
    "\n",
    "# Perform a differential expression analysis with the proteins of data that contantains proteins found under M1 & M2, with the Log2FC already computed\n",
    "# Create an AnnData object with all the values to the object except the class column. Exclude also the index that contains the Accession\n",
    "adata = ad.AnnData(data.drop(columns=['Log2FC']).T)\n",
    "print(adata)\n",
    "print(adata.obs)\n",
    "\n",
    "\n",
    "# Reset the index if necessary\n",
    "if adata.obs.index.name == 'class':\n",
    "    adata=adata.obs.reset_index(inplace=True)\n",
    "\n",
    "print(adata)\n",
    "print(adata.obs)\n",
    "\n",
    "\n",
    "# Assuming 'adata' is your AnnData object\n",
    "adata.obs['class'] = adata.obs['class'].astype('category')  # Convert to categorical\n",
    "\n",
    "sc.pp.normalize_total(adata, target_sum=1e6)\n",
    "sc.pp.log1p(adata)\n",
    "\n",
    "sc.tl.pca(adata)\n",
    "sc.pp.neighbors(adata)\n",
    "sc.tl.umap(adata)\n",
    "\n",
    "sc.tl.rank_genes_groups(adata, 'class', method='wilcoxon')\n",
    "\n",
    "sc.pl.umap(adata, color='class')\n",
    "sc.pl.violin(adata, 'gene_name', group='class')"
   ]
  },
  {
   "cell_type": "code",
   "execution_count": null,
   "metadata": {},
   "outputs": [],
   "source": [
    "data = merged_data[merged_data['class'] == 'Both'].copy()\n",
    "\n",
    "# Filter out the p-value column\n",
    "data = data.drop(columns=['p_value_class'])\n",
    "#data = data.drop(columns=['class'])\n",
    "data = data.drop(columns=['Description_M1'])\n",
    "data = data.drop(columns=['Description_M2'])\n",
    "\n",
    "\n",
    "# If Log2FC is < 0, the protein is downregulated in M2 and set class to \"M2\"\n",
    "data.loc[data['Log2FC'] < 0, 'class'] = 2\n",
    "# If Log2FC is > 0, the protein is upregulated in M2 and set class to \"M1\"\n",
    "data.loc[data['Log2FC'] > 0, 'class'] = 1\n",
    "# Delete rows with Log2FC = 0\n",
    "data = data[data['Log2FC'] != 0]\n",
    "\n",
    "print(data['class'].value_counts())\n",
    "\n",
    "# Perform a differential expression analysis with the proteins of data that contantains proteins found under M1 & M2, with the Log2FC already computed\n",
    "# Create an AnnData object with all the values to the object except the class column. Exclude also the index that contains the Accession\n",
    "adata = ad.AnnData(data.drop(columns=['class', 'Log2FC']))\n",
    "# Add the class column to the object\n",
    "#adata.obs['Accession'] = data.index\n",
    "# Create an obs called 'class' with the values of the class column with 'M' as prefix\n",
    "#adata.obs['class'] = 'M' + data['class'].astype(str)\n",
    "adata.obs['class'] = data['class'].astype(str)\n",
    "\n",
    "\n",
    "print(adata)\n",
    "# print the name of the n_vars\n",
    "print(adata.var_names)\n",
    "\n",
    "\n",
    "\n",
    "# Perform PCA\n",
    "#sc.tl.pca(adata)\n",
    "# Plot the PCA\n",
    "#sc.pl.pca(adata, color='class')\n",
    "\n",
    "# Perform UMAP\n",
    "#sc.pp.neighbors(adata)\n",
    "#sc.tl.umap(adata)\n",
    "\n",
    "# Plot the UMAP\n",
    "#sc.pl.umap(adata, color='class')\n",
    "\n",
    "\n",
    "\n",
    "\n",
    "# Perform a differential expression analysis\n",
    "sc.tl.rank_genes_groups(adata, groupby='class', method='wilcoxon')\n",
    "\n",
    "# Create a dataframe with the results\n",
    "results = pd.DataFrame(adata.uns['rank_genes_groups']['names'])\n",
    "results['logfoldchanges'] = pd.DataFrame(adata.uns['rank_genes_groups']['logfoldchanges'])\n",
    "results['pvals'] = pd.DataFrame(adata.uns['rank_genes_groups']['pvals'])\n",
    "results['pvals_adj'] = pd.DataFrame(adata.uns['rank_genes_groups']['pvals_adj'])\n",
    "\n",
    "# Print the results\n",
    "print(results.head())\n",
    "\n",
    "\n",
    "# Create a volcano plot\n",
    "plt.figure(figsize=(10, 6))\n",
    "sns.scatterplot(data=results, x='logfoldchanges', y='pvals_adj')\n",
    "plt.title('Volcano plot')\n",
    "plt.xlabel('Log2FC')\n",
    "plt.ylabel('Adjusted p-value')\n",
    "plt.show()\n",
    "\n",
    "\n"
   ]
  },
  {
   "cell_type": "markdown",
   "metadata": {},
   "source": [
    "---\n",
    "# Functional Enrichement Analysis\n",
    "Determine the biological functions and pathways that are overrepresented among differentially expressed proteins.<br>\n",
    "This can provide insights into the broader biological context of the observed changes and identify potential drug targets or biomarkers."
   ]
  },
  {
   "cell_type": "code",
   "execution_count": null,
   "metadata": {},
   "outputs": [],
   "source": [
    "# Take the 10 most abundant proteins in M1 and M2 and create a Venn diagram\n",
    "# Get the top 10 proteins in M1 and M2\n",
    "top10_M1 = dataM1.sort_values(by='# PSMs', ascending=False).head(10).index\n",
    "top10_M2 = dataM2.sort_values(by='# PSMs', ascending=False).head(10).index\n",
    "\n",
    "# Create the Venn diagram\n",
    "plt.figure(figsize=(6, 6))\n",
    "c = venn2(subsets=(set(top10_M1), set(top10_M2)), set_labels=('M1', 'M2'), set_colors=('mediumaquamarine', 'slategrey'), alpha=0.75)\n",
    "plt.title('Top 10 proteins in M1 and M2')\n",
    "plt.show()\n"
   ]
  },
  {
   "cell_type": "code",
   "execution_count": null,
   "metadata": {},
   "outputs": [],
   "source": [
    "# Get gene names\n",
    "unipcl = UniprotClient()\n",
    "\n",
    "gene_names = unipcl.batch_translate_protein_ids(top10_M1.tolist())\n",
    "top10_M1.index = [gene_names.get(i, i) for i in top10_M1.tolist()]"
   ]
  },
  {
   "cell_type": "code",
   "execution_count": null,
   "metadata": {},
   "outputs": [],
   "source": [
    "sdb = StringDBClient(server_url=\"https://string-db.org/api\", species=9606, score_threshold=400)"
   ]
  },
  {
   "cell_type": "code",
   "execution_count": null,
   "metadata": {},
   "outputs": [],
   "source": [
    "# Get the network of the top 10 proteins in M1\n",
    "for protein in top10_M1.index:\n",
    "    print(\"-\" * 150)\n",
    "\n",
    "    gene = protein.split(\" (\")[0]\n",
    "    print(\"Gene: \", gene)\n",
    "    print(\"Protein: \", protein.split(\"(\")[1].split(\")\")[0])\n",
    "    \n",
    "    if (gene != \"None\"):\n",
    "        image_data = sdb.get_network_image(gene, \"image\")\n",
    "        page = sdb.get_protein_page(gene, \"tsv-no-header\")\n",
    "        print(page)\n",
    "        display(Image(image_data))\n",
    "    else:\n",
    "        print(\"No gene found in Uniprot for protein \", protein, \". It might be an obsolete protein.\")\n",
    "        print(\" \")"
   ]
  },
  {
   "cell_type": "code",
   "execution_count": null,
   "metadata": {},
   "outputs": [],
   "source": [
    "# Functional Enrinchment analysis with GO terms\n",
    "top10_M1 = dataM1.sort_values(by='# PSMs', ascending=False).head(20).index\n",
    "top10_M2 = dataM2.sort_values(by='# PSMs', ascending=False).head(20).index\n",
    "\n",
    "\n",
    "\n",
    "# Get the gene names\n",
    "gene_names_M1 = unipcl.batch_translate_protein_ids(top10_M1.tolist())\n",
    "#gene_names_M2 = unipcl.batch_translate_protein_ids(top10_M2.tolist())\n",
    "print(gene_names_M1)\n",
    "# prepare a list of gene names. The gene name corresponds to the value before the first parenthesis\n",
    "gene_names_M1 = [gene.split(\" (\")[0] for gene in gene_names_M1.values()]\n",
    "#gene_names_M2 = [gene.split(\" (\")[0] for gene in gene_names_M2]\n",
    "\n",
    "print(gene_names_M1)\n",
    "\n",
    "\n",
    "\n",
    "\n",
    "# Remove the None values\n",
    "gene_names_M1 = [gene for gene in gene_names_M1 if gene != \"None\"]\n",
    "\n"
   ]
  },
  {
   "cell_type": "code",
   "execution_count": null,
   "metadata": {},
   "outputs": [],
   "source": [
    "print(gene_names_M1)\n",
    "\n",
    "# Get the GO terms for the top 10 proteins in M1 and M2\n",
    "# Perform enrichment analysis\n",
    "enr_res = gp.enrichr(gene_names_M1, gene_sets='KEGG_Pathway', organism='human')\n",
    "\n",
    "# Visualize the results\n",
    "gp.dotplot(enr_res)"
   ]
  },
  {
   "cell_type": "code",
   "execution_count": null,
   "metadata": {},
   "outputs": [],
   "source": [
    "\n",
    "# Define thresholds\n",
    "logFC_threshold = 1  # Threshold for log fold change (absolute value)\n",
    "pval_threshold = 0.05  # Threshold for p-value\n",
    "\n",
    "# Create a new column to categorize proteins based on thresholds\n",
    "merged_data['significant'] = (merged_data['adjusted_p_value'] < pval_threshold) & (abs(merged_data['logFC_Proteins']) > logFC_threshold)\n",
    "\n",
    "# Create volcano plot\n",
    "plt.figure(figsize=(10, 7))\n",
    "\n",
    "# Scatter plot for non-significant points (grey)\n",
    "plt.scatter(merged_data['logFC_Proteins'], -np.log10(merged_data['adjusted_p_value']), c='grey', label='Non-significant')\n",
    "\n",
    "# Highlight significant points (red for upregulated, blue for downregulated)\n",
    "plt.scatter(merged_data.loc[(merged_data['logFC_Proteins'] > logFC_threshold) & (merged_data['adjusted_p_value'] < pval_threshold), 'logFC_Proteins'],\n",
    "            -np.log10(merged_data.loc[(merged_data['logFC_Proteins'] > logFC_threshold) & (merged_data['adjusted_p_value'] < pval_threshold), 'adjusted_p_value']),\n",
    "            c='red', label='Upregulated')\n",
    "\n",
    "plt.scatter(merged_data.loc[(merged_data['logFC_Proteins'] < -logFC_threshold) & (merged_data['adjusted_p_value'] < pval_threshold), 'logFC_Proteins'],\n",
    "            -np.log10(merged_data.loc[(merged_data['logFC_Proteins'] < -logFC_threshold) & (merged_data['adjusted_p_value'] < pval_threshold), 'adjusted_p_value']),\n",
    "            c='blue', label='Downregulated')\n",
    "\n",
    "# Add labels\n",
    "plt.xlabel('Log2 Fold Change')\n",
    "plt.ylabel('-Log10 Adjusted P-value')\n",
    "plt.title('Volcano Plot')\n",
    "\n",
    "# Show legend\n",
    "plt.legend()\n",
    "\n",
    "# Show plot\n",
    "plt.show()\n"
   ]
  },
  {
   "cell_type": "markdown",
   "metadata": {},
   "source": [
    "---"
   ]
  },
  {
   "cell_type": "markdown",
   "metadata": {},
   "source": [
    "# Protein-Protein Interaction Network Analysis\n",
    "Construct networks to visualize the interactions between proteins and identify protein modules or hubs.<br>\n",
    "This can help understand how proteins work together to carry out cellular functions and identify key regulatory proteins"
   ]
  },
  {
   "cell_type": "markdown",
   "metadata": {},
   "source": [
    "---\n"
   ]
  },
  {
   "cell_type": "code",
   "execution_count": null,
   "metadata": {},
   "outputs": [],
   "source": [
    "# Join the dataM1 and dataM2 dataframes adding a column to identify the source of the data\n",
    "dataM1['Source'] = 'M1'\n",
    "dataM2['Source'] = 'M2'\n",
    "\n",
    "# Concatenate the dataframes\n",
    "data = pd.concat([dataM1, dataM2])\n",
    "\n",
    "# Number of proteins in the concatenated dataframe\n",
    "print(f\"Number of proteins in the concatenated dataframe: {data.shape[0]}\")"
   ]
  },
  {
   "cell_type": "code",
   "execution_count": null,
   "metadata": {},
   "outputs": [],
   "source": [
    "# Perform a differential expression analysis without using scanpy\n",
    "\n",
    "# Filter the proteins with a score higher than the threshold\n",
    "data_filtered = data\n",
    "\n",
    "# Number of proteins after filtering\n",
    "print(f\"Number of proteins after filtering: {data_filtered.shape[0]}\")\n",
    "\n",
    "# Perform a differential expression analysis\n",
    "# Create a new column with the log2 fold change\n",
    "data_filtered['log2FC'] = np.log2(data_filtered['# PSMs']/data_filtered['# PSMs'].mean())\n",
    "\n",
    "# Create a new column with the p-value\n",
    "data_filtered['p-value'] = 1 - data_filtered['Score']/data_filtered['Score'].max()\n",
    "\n",
    "# Create a new column with the adjusted p-value\n",
    "data_filtered['adj-p-value'] = data_filtered['p-value']\n",
    "\n",
    "# Filter the proteins with an adjusted p-value lower than 0.05\n",
    "data_filtered = data_filtered[data_filtered['adj-p-value'] < 0.05]\n",
    "\n",
    "# Number of proteins after filtering\n",
    "print(f\"Number of proteins after filtering: {data_filtered.shape[0]}\")\n",
    "\n",
    "# Print the first 10 proteins\n",
    "print(data_filtered.head(10))\n",
    "\n",
    "# Perform a differential expression analysis using scanpy\n",
    "\n",
    "# Create an AnnData object\n",
    "adata = ad.AnnData(data_filtered)\n",
    "\n",
    "# Perform a differential expression analysis\n",
    "sc.tl.rank_genes_groups(adata, groupby='Source', method='wilcoxon')\n",
    "\n",
    "# Print the results\n",
    "print(adata.uns['rank_genes_groups'])\n",
    "\n",
    "# Perform a differential expression analysis using scanpy\n",
    "\n"
   ]
  },
  {
   "cell_type": "code",
   "execution_count": null,
   "metadata": {},
   "outputs": [],
   "source": [
    "# Considering the TOP_NUMBER proteins in both M1 and M2, perform a differential expression analysis using the #PSMs as the feature to compare. Use the Wilcoxon test to compare the #PSMs of the proteins in M1 and M2. Plot the results in a volcano plot.\n",
    "from scipy.stats import wilcoxon\n",
    "\n",
    "# Perform the Wilcoxon test for each protein\n",
    "p_values = []\n",
    "for protein in common_proteins:\n",
    "    p_values.append(wilcoxon(dataM1.loc[protein]['# PSMs'], dataM2.loc[protein]['# PSMs']).pvalue)\n",
    "\n",
    "# Create a volcano plot\n",
    "plt.figure(figsize=(12, 6))\n",
    "plt.scatter(p_values, [0]*len(p_values), alpha=0.5)\n",
    "plt.xlabel('p-value')\n",
    "plt.ylabel('log2(fold-change)')\n",
    "plt.title('Volcano plot')\n",
    "plt.show()\n",
    "\n",
    "\n",
    "\n",
    "\n",
    "\n",
    "              \n",
    "\n"
   ]
  },
  {
   "cell_type": "code",
   "execution_count": null,
   "metadata": {},
   "outputs": [],
   "source": []
  },
  {
   "cell_type": "code",
   "execution_count": null,
   "metadata": {},
   "outputs": [],
   "source": [
    "# Load the data\n",
    "data_src = \"./data/raw/sasha_SI_THP/SI_THP_RAW_proteomics_data_ss.xlsx\"\n",
    "dataM1 = pd.read_excel(data_src, sheet_name=\"THP_M1\", index_col=0)\n",
    "dataM2 = pd.read_excel(data_src, sheet_name=\"THP_M2\", index_col=0)\n",
    "\n",
    "# Concatenate the dataM1 and dataM2 vertically\n",
    "data = pd.concat([dataM1, dataM2])\n",
    "\n",
    "# Transpose the data\n",
    "data = data.T\n",
    "\n",
    "# Create an AnnData object with the data\n",
    "adata = ad.AnnData(data.astype(np.float32))\n",
    "\n",
    "# Add the cell type information to the adata object\n",
    "cell_types = ['M1'] * dataM1.shape[0] + ['M2'] * dataM2.shape[0]\n",
    "adata.obs['celltype'] = cell_types\n",
    "\n",
    "# Perform PCA analysis\n",
    "sc.tl.pca(adata)\n",
    "\n",
    "# Plot PCA\n",
    "sc.pl.pca(adata, color='celltype', size=60, title='PCA by cell type')\n"
   ]
  },
  {
   "cell_type": "markdown",
   "metadata": {},
   "source": [
    "---"
   ]
  },
  {
   "cell_type": "markdown",
   "metadata": {},
   "source": [
    "---"
   ]
  },
  {
   "cell_type": "code",
   "execution_count": null,
   "metadata": {},
   "outputs": [],
   "source": [
    "# Load the data (Scanpy assumes that your columns are genes and your rows are cells)\n",
    "data_src = \"./data/spetch/proteins-processed.csv\"\n",
    "data = pd.read_csv(data_src, delimiter=\",\")\n",
    "\n",
    "# Remove the last column\n",
    "data = data.iloc[:, :-1]\n",
    "\n",
    "# Transpose the data\n",
    "data = data.T\n",
    "\n",
    "# Keep the first row as the column names\n",
    "proteins = data.iloc[0]\n",
    "\n",
    "# Remove the first column\n",
    "data = data.iloc[1:]\n",
    "\n",
    "print(data)\n",
    "\n",
    "# Create an AnnData object with the data\n",
    "adata = ad.AnnData(data.astype(np.float32))\n",
    "\n",
    "proteins = proteins.to_numpy()\n",
    "adata.var['proteins'] = proteins\n",
    "\n",
    "print(adata)\n"
   ]
  },
  {
   "cell_type": "code",
   "execution_count": null,
   "metadata": {},
   "outputs": [],
   "source": [
    "# Load the anno.csv file with the cell type annotations\n",
    "anno_src = \"./data/spetch/cells.csv\"\n",
    "anno = pd.read_csv(anno_src, delimiter=\",\")\n",
    "\n",
    "# Get the column names as cell IDs\n",
    "cellID = anno.columns[1:]\n",
    "\n",
    "# Transpose the data\n",
    "anno = anno.T\n",
    "\n",
    "celltypes = anno.loc[:, 0].values\n",
    "\n",
    "# Remove the first element\n",
    "celltypes = celltypes[1:]\n",
    "\n",
    "# Create a new obs in the AnnData object with the cell type annotations \n",
    "adata.obs['cellID'] = cellID\n",
    "adata.obs['celltype'] = celltypes\n",
    "\n"
   ]
  },
  {
   "cell_type": "code",
   "execution_count": null,
   "metadata": {},
   "outputs": [],
   "source": [
    "print(adata)\n",
    "print(\"---\")\n",
    "print(adata.X)"
   ]
  },
  {
   "cell_type": "markdown",
   "metadata": {},
   "source": [
    "---\n",
    "### Convert Protein ID to Gene names"
   ]
  },
  {
   "cell_type": "code",
   "execution_count": null,
   "metadata": {},
   "outputs": [],
   "source": [
    "if TRANSLATE_PROTEIN_ID:\n",
    "    # Convert proteins to gene names\n",
    "    unipcl = UniprotClient()\n",
    "\n",
    "    gene_names = unipcl.batch_translate_protein_ids(adata.var['proteins'])\n",
    "    adata.var['gene_protein'] = [gene_names.get(i, i) for i in adata.var['proteins']]\n",
    "    adata.var['gene'] = [i.split(' ')[0] for i in adata.var['gene_protein']]\n",
    "    print(adata.var['proteins'])\n",
    "    print(adata.var['gene_protein'])\n",
    "    print(adata.var['gene'])\n"
   ]
  },
  {
   "cell_type": "code",
   "execution_count": null,
   "metadata": {},
   "outputs": [],
   "source": [
    "adata_back = adata.copy()"
   ]
  },
  {
   "cell_type": "markdown",
   "metadata": {},
   "source": [
    "---\n",
    "### PCA & UMAP\n",
    "\n"
   ]
  },
  {
   "cell_type": "code",
   "execution_count": null,
   "metadata": {},
   "outputs": [],
   "source": [
    "# PCA by cell type\n",
    "sc.tl.pca(adata)\n",
    "sc.pl.pca(adata, color='celltype', size=60, title='PCA by cell type')\n"
   ]
  },
  {
   "cell_type": "code",
   "execution_count": null,
   "metadata": {},
   "outputs": [],
   "source": [
    "# UMAP by cell type\n",
    "sc.pp.neighbors(adata)\n",
    "sc.tl.umap(adata)\n",
    "sc.pl.umap(adata, color='celltype', size=60, title='UMAP by cell type')\n"
   ]
  },
  {
   "cell_type": "markdown",
   "metadata": {},
   "source": [
    "---"
   ]
  },
  {
   "cell_type": "code",
   "execution_count": null,
   "metadata": {},
   "outputs": [],
   "source": [
    "num_bins = 20\n",
    "\n",
    "for celltype in adata.obs['celltype'].unique():\n",
    "    plt.hist(adata[adata.obs['celltype'] == celltype].X.flatten(), bins=num_bins, alpha=0.5, label=celltype)\n",
    "\n",
    "plt.xlabel('Intensity')\n",
    "plt.ylabel('Count')\n",
    "plt.title('Protein Intensity distribution by Cell Type')\n",
    "\n",
    "plt.legend()\n",
    "plt.show()\n"
   ]
  },
  {
   "cell_type": "code",
   "execution_count": null,
   "metadata": {},
   "outputs": [],
   "source": [
    "\n",
    "# Shift the matrix values so that all are positive\n",
    "min_value = adata.X.min()\n",
    "if min_value < 0:\n",
    "    adata.X += np.abs(min_value) + 1  # Shift values to ensure they're all positive\n",
    "\n",
    "# Filter to keep only the two groups you're interested in\n",
    "group_1 = 'sc_m0'\n",
    "group_2 = 'sc_u'\n",
    "\n",
    "# Create a mask to filter the two groups\n",
    "mask = adata.obs['celltype'].isin([group_1, group_2])\n",
    "adata_filtered = adata[mask, :]\n",
    "\n",
    "# Perform rank_genes_groups to find differentially expressed proteins between the two groups\n",
    "sc.tl.rank_genes_groups(adata_filtered, 'celltype', groups=[group_1], reference=group_2, method='wilcoxon')\n",
    "\n",
    "# Get log fold change and p-values\n",
    "log2_fc = adata_filtered.uns['rank_genes_groups']['logfoldchanges'][group_1]  # Log2 fold changes\n",
    "p_values = adata_filtered.uns['rank_genes_groups']['pvals'][group_1]          # p-values\n",
    "\n",
    "\n",
    "# Convert p-values to -log10 for the volcano plot\n",
    "log_p_values = -np.log10(p_values)\n",
    "\n",
    "# Step 4: Create the volcano plot\n",
    "volcano_data = pd.DataFrame({\n",
    "    'log2_FC': log2_fc,\n",
    "    '-log10_p_value': log_p_values\n",
    "})\n",
    "\n",
    "# Plotting the volcano plot\n",
    "plt.figure(figsize=(10, 8))\n",
    "plt.scatter(volcano_data['log2_FC'], volcano_data['-log10_p_value'], s=5)\n",
    "\n",
    "# Add vertical lines to mark fold change threshold\n",
    "plt.axvline(x=1, color='black', linestyle='--')  # Fold change threshold\n",
    "plt.axvline(x=-1, color='black', linestyle='--')  # Fold change threshold\n",
    "\n",
    "# Add horizontal lines to mark significance (e.g., p-value threshold)\n",
    "plt.axhline(y=-np.log10(0.05), color='red', linestyle='--')  # p-value threshold\n",
    "\n",
    "plt.xlabel('log2 Fold Change')\n",
    "plt.ylabel('-log10 p-value')\n",
    "plt.title(f'Volcano Plot: {group_1} vs {group_2}')\n",
    "\n",
    "plt.show()\n"
   ]
  },
  {
   "cell_type": "markdown",
   "metadata": {},
   "source": [
    "### Experiments\n"
   ]
  },
  {
   "cell_type": "code",
   "execution_count": null,
   "metadata": {},
   "outputs": [],
   "source": [
    "# Assuming adata is your AnnData object containing the intensity matrix\n",
    "adata.X += 10  # Add a constant to ensure non-negativity\n",
    "adata.X = adata.X / adata.X.max() * 1000  # Scale to a maximum count of 1000\n",
    "\n",
    "# Sample from Poisson distribution to simulate count data\n",
    "adata.X = np.random.poisson(adata.X)\n",
    "\n",
    "adata.X = np.log2(adata.X + 1)  # Add 1 to avoid log of zero"
   ]
  },
  {
   "cell_type": "code",
   "execution_count": null,
   "metadata": {},
   "outputs": [],
   "source": [
    "# Differential expression analysis\n",
    "sc.tl.rank_genes_groups(adata, groupby='celltype', method='t-test')\n",
    "sc.pl.rank_genes_groups(adata)"
   ]
  },
  {
   "cell_type": "code",
   "execution_count": null,
   "metadata": {},
   "outputs": [],
   "source": [
    "print(result)"
   ]
  },
  {
   "cell_type": "code",
   "execution_count": null,
   "metadata": {},
   "outputs": [],
   "source": [
    "\n",
    "# Extract results\n",
    "result = adata.uns['rank_genes_groups']\n",
    "groups = result['names'].dtype.names\n",
    "group1 = groups[0]\n",
    "group2 = groups[1]\n",
    "\n",
    "# Create DataFrame for easier handling\n",
    "df = pd.DataFrame({\n",
    "    'protein': result['names'][group1],\n",
    "    f'logFC_{group1}': result['logfoldchanges'][group1],\n",
    "    f'logFC_{group2}': result['logfoldchanges'][group2],\n",
    "    f'pval_{group1}': result['pvals'][group1],\n",
    "    f'pval_{group2}': result['pvals'][group2],\n",
    "    f'pval_adj_{group1}': result['pvals_adj'][group1],\n",
    "    f'pval_adj_{group2}': result['pvals_adj'][group2],\n",
    "    f'score_{group1}': result['scores'][group1],\n",
    "    f'score_{group2}': result['scores'][group2]\n",
    "})\n",
    "\n",
    "# Filter out entries with NaN log fold changes\n",
    "df_filtered = df.dropna(subset=[f'logFC_{group1}', f'logFC_{group2}'])\n",
    "\n",
    "# Print the filtered DataFrame\n",
    "print(df_filtered.head())\n"
   ]
  },
  {
   "cell_type": "code",
   "execution_count": null,
   "metadata": {},
   "outputs": [],
   "source": [
    "\n",
    "# Extract results for volcano plot\n",
    "result = adata.uns['rank_genes_groups']\n",
    "groups = result['names'].dtype.names\n",
    "pvals_adj = result['pvals_adj'][groups[0]]\n",
    "logfoldchanges = result['logfoldchanges'][groups[0]]\n",
    "gene_names = result['names'][groups[0]]\n",
    "\n",
    "# Create DataFrame for plotting\n",
    "volcano_df = pd.DataFrame({\n",
    "    'protein': gene_names,\n",
    "    'logFC': logfoldchanges,\n",
    "    'p-adj': pvals_adj\n",
    "})\n",
    "\n",
    "# Volcano plot\n",
    "plt.figure(figsize=(10, 8))\n",
    "sns.scatterplot(data=volcano_df, x='logFC', y=-np.log10(volcano_df['p-adj']),\n",
    "                hue=np.log10(volcano_df['p-adj']) < -np.log10(0.05), palette={True: 'red', False: 'grey'}, legend=None)\n",
    "plt.axhline(-np.log10(0.05), linestyle='--', color='black')\n",
    "plt.xlabel('Log2 Fold Change')\n",
    "plt.ylabel('-Log10 Adjusted P-Value')\n",
    "plt.title('Volcano Plot')\n",
    "\n",
    "\n",
    "plt.show()\n",
    "\n",
    "# Clustering and dendrogram\n",
    "sc.tl.dendrogram(adata, groupby='celltype')\n",
    "sc.pl.dendrogram(adata, groupby='celltype')"
   ]
  },
  {
   "cell_type": "code",
   "execution_count": null,
   "metadata": {},
   "outputs": [],
   "source": [
    "\n",
    "# Extract results\n",
    "result = adata.uns['rank_genes_groups']\n",
    "groups = result['names'].dtype.names\n",
    "pvals_adj = result['pvals_adj'][groups[0]]\n",
    "logfoldchanges = result['logfoldchanges'][groups[0]]\n",
    "gene_names = result['names'][groups[0]]\n",
    "\n",
    "# Create DataFrame for plotting\n",
    "volcano_df = pd.DataFrame({\n",
    "    'protein': gene_names,\n",
    "    'logFC': logfoldchanges,\n",
    "    'p-adj': pvals_adj\n",
    "})\n",
    "\n",
    "# Volcano plot\n",
    "plt.figure(figsize=(10, 8))\n",
    "sns.scatterplot(data=volcano_df, x='logFC', y=-np.log10(volcano_df['p-adj']),\n",
    "                hue=np.log10(volcano_df['p-adj']) < -np.log10(0.05), palette={True: 'red', False: 'grey'}, legend=None)\n",
    "plt.axhline(-np.log10(0.05), linestyle='--', color='black')\n",
    "plt.xlabel('Log2 Fold Change')\n",
    "plt.ylabel('-Log10 Adjusted P-Value')\n",
    "plt.title('Volcano Plot')\n",
    "plt.show()"
   ]
  },
  {
   "cell_type": "code",
   "execution_count": null,
   "metadata": {},
   "outputs": [],
   "source": [
    "# Differential expression analysis with optional sparse matrix conversion\n",
    "#sc.tl.rank_genes_groups(adata, groupby='celltype', method='t-test')\n",
    "sc.tl.rank_genes_groups(adata, 'celltype', method='wilcoxon')\n",
    "# to visualize the results\n",
    "sc.pl.rank_genes_groups(adata)"
   ]
  },
  {
   "cell_type": "code",
   "execution_count": null,
   "metadata": {},
   "outputs": [],
   "source": [
    "# Perform differential expression analysis\n",
    "sc.tl.rank_genes_groups(adata, groupby='celltype', method='t-test')"
   ]
  },
  {
   "cell_type": "code",
   "execution_count": null,
   "metadata": {},
   "outputs": [],
   "source": [
    "# Extract results\n",
    "result = adata.uns['rank_genes_groups']\n",
    "groups = result['names'].dtype.names\n",
    "pvals_adj = result['pvals_adj'][groups[0]]\n",
    "logfoldchanges = result['logfoldchanges'][groups[0]]\n",
    "gene_names = result['names'][groups[0]]\n",
    "\n",
    "# Create DataFrame for plotting\n",
    "volcano_df = pd.DataFrame({\n",
    "    'protein': gene_names,\n",
    "    'logFC': logfoldchanges,\n",
    "    'p-adj': pvals_adj\n",
    "})\n",
    "\n",
    "# Volcano plot\n",
    "plt.figure(figsize=(10, 8))\n",
    "sns.scatterplot(data=volcano_df, x='logFC', y=-np.log10(volcano_df['p-adj']),\n",
    "                hue=np.log10(volcano_df['p-adj']) < -np.log10(0.05), palette={True: 'red', False: 'grey'}, legend=None)\n",
    "plt.axhline(-np.log10(0.05), linestyle='--', color='black')\n",
    "plt.xlabel('Log2 Fold Change')\n",
    "plt.ylabel('-Log10 Adjusted P-Value')\n",
    "plt.title('Volcano Plot')\n",
    "plt.show()\n"
   ]
  },
  {
   "cell_type": "code",
   "execution_count": null,
   "metadata": {},
   "outputs": [],
   "source": [
    "# Clustering\n",
    "sc.tl.dendrogram(adata, groupby='celltype')\n",
    "\n",
    "# Plot dendrogram\n",
    "sc.pl.dendrogram(adata, groupby='celltype')\n"
   ]
  }
 ],
 "metadata": {
  "kernelspec": {
   "display_name": "venv",
   "language": "python",
   "name": "python3"
  },
  "language_info": {
   "codemirror_mode": {
    "name": "ipython",
    "version": 3
   },
   "file_extension": ".py",
   "mimetype": "text/x-python",
   "name": "python",
   "nbconvert_exporter": "python",
   "pygments_lexer": "ipython3",
   "version": "3.9.6"
  }
 },
 "nbformat": 4,
 "nbformat_minor": 2
}
